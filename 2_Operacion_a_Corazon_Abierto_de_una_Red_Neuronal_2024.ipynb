{
  "nbformat": 4,
  "nbformat_minor": 0,
  "metadata": {
    "colab": {
      "provenance": [],
      "include_colab_link": true
    },
    "kernelspec": {
      "name": "python3",
      "display_name": "Python 3"
    },
    "language_info": {
      "name": "python"
    }
  },
  "cells": [
    {
      "cell_type": "markdown",
      "metadata": {
        "id": "view-in-github",
        "colab_type": "text"
      },
      "source": [
        "<a href=\"https://colab.research.google.com/github/DiploDatos/AprendizajeProfundo/blob/add_2024_content/2_Operacion_a_Corazon_Abierto_de_una_Red_Neuronal_2024.ipynb\" target=\"_parent\"><img src=\"https://colab.research.google.com/assets/colab-badge.svg\" alt=\"Open In Colab\"/></a>"
      ]
    },
    {
      "cell_type": "markdown",
      "source": [
        "# 🐍🔥 Operación a Corazón Abierto de una Red Neuronal  👩‍⚕️💖🕵️‍♂️"
      ],
      "metadata": {
        "id": "07cCuXLi3zkr"
      }
    },
    {
      "cell_type": "markdown",
      "source": [
        "En este tutorial de código, veremos:\n",
        "* FeedForward\n",
        "* Funciones de Activación\n",
        "  * Función sigmoide\n",
        "  * Función softmax\n",
        "  * Función ReLu\n",
        "* Descenso de Gradiente\n",
        "\n",
        "Al finalizar habrás logrado una comprensión de los cálculos que se realizan internarmente entre las capas y sus neuronas, cuando se lleva a cabo el feed forward en una red neuronal completamente conectada (neural network fully connected). Tanto de manera matemática, empleando operaciones de matrices, como\n",
        "de manera automática, empleando operaciones con nn.Sequential.\n",
        "\n",
        "Además, habrás aprendido a aplicar diferentes tipos de funciones de activación, como la sigmoide, la softmax, la ReLu."
      ],
      "metadata": {
        "id": "GiJwMPUO32hs"
      }
    },
    {
      "cell_type": "markdown",
      "source": [
        "## Importar librerías"
      ],
      "metadata": {
        "id": "EMNbAQVkzlXk"
      }
    },
    {
      "cell_type": "code",
      "source": [
        "import numpy as np\n",
        "import matplotlib.pyplot as plt\n",
        "import torch\n",
        "import torch.nn as nn"
      ],
      "metadata": {
        "id": "zWz8L2yh6vCJ"
      },
      "execution_count": null,
      "outputs": []
    },
    {
      "cell_type": "markdown",
      "source": [
        "## Feedforward"
      ],
      "metadata": {
        "id": "LtuO1fMMfqTg"
      }
    },
    {
      "cell_type": "code",
      "source": [
        "input_tensor = torch.Tensor([[2, 3]])       # datos de entrada de la red\n",
        "wi1 = torch.Tensor([[1, 1]])                # pesos a neurona 1 de capa oculta (lineas amarillas)\n",
        "wi2 = torch.Tensor([[-1, 1]])               # pesos a neurona 2 de capa oculta (lineas rojas)\n",
        "wi3 = torch.Tensor([[1, -1]])               # pesos a neurona 3 de capa oculta (lineas naranjas)\n",
        "bias = torch.Tensor([0])                    # bias"
      ],
      "metadata": {
        "id": "w0Imc0k5zNmz"
      },
      "execution_count": null,
      "outputs": []
    },
    {
      "cell_type": "code",
      "source": [
        "# Dimensiones vectores y pesos\n",
        "input_tensor.shape, wi1.shape"
      ],
      "metadata": {
        "colab": {
          "base_uri": "https://localhost:8080/"
        },
        "id": "g77pgqw2gRk0",
        "outputId": "dae91aef-dd7f-4769-f459-6e9a9a4660aa"
      },
      "execution_count": null,
      "outputs": [
        {
          "output_type": "execute_result",
          "data": {
            "text/plain": [
              "(torch.Size([1, 2]), torch.Size([1, 2]))"
            ]
          },
          "metadata": {},
          "execution_count": 3
        }
      ]
    },
    {
      "cell_type": "code",
      "source": [
        "# Operación Capa Oculta Neurona 1\n",
        "n1 = torch.matmul(input_tensor, wi1.T) + bias\n",
        "n1"
      ],
      "metadata": {
        "colab": {
          "base_uri": "https://localhost:8080/"
        },
        "id": "rcUnj410gsXY",
        "outputId": "fb7f2970-0d4a-4990-d78a-4779e9aa8e4d"
      },
      "execution_count": null,
      "outputs": [
        {
          "output_type": "execute_result",
          "data": {
            "text/plain": [
              "tensor([[5.]])"
            ]
          },
          "metadata": {},
          "execution_count": 4
        }
      ]
    },
    {
      "cell_type": "code",
      "source": [
        "# Operación Capa Oculta Neurona 2\n",
        "n2 = torch.matmul(input_tensor, wi2.T) + bias\n",
        "n2"
      ],
      "metadata": {
        "colab": {
          "base_uri": "https://localhost:8080/"
        },
        "id": "H6zTytUPjNWs",
        "outputId": "a4ad5d93-c659-4ff2-db69-f16420445524"
      },
      "execution_count": null,
      "outputs": [
        {
          "output_type": "execute_result",
          "data": {
            "text/plain": [
              "tensor([[1.]])"
            ]
          },
          "metadata": {},
          "execution_count": 5
        }
      ]
    },
    {
      "cell_type": "code",
      "source": [
        "# Operación Capa Oculta Neurona 3\n",
        "n3 = torch.matmul(input_tensor, wi3.T) + bias\n",
        "n3"
      ],
      "metadata": {
        "colab": {
          "base_uri": "https://localhost:8080/"
        },
        "id": "kWK2f-gYjRk0",
        "outputId": "62adafb4-66c1-42e9-a321-5b4089e077aa"
      },
      "execution_count": null,
      "outputs": [
        {
          "output_type": "execute_result",
          "data": {
            "text/plain": [
              "tensor([[-1.]])"
            ]
          },
          "metadata": {},
          "execution_count": 6
        }
      ]
    },
    {
      "cell_type": "code",
      "source": [
        "# Output de la Capa Oculta\n",
        "hidden_layer_output = torch.hstack((n1, n2, n3))\n",
        "hidden_layer_output"
      ],
      "metadata": {
        "colab": {
          "base_uri": "https://localhost:8080/"
        },
        "id": "JlHDaT3_kDfU",
        "outputId": "1f50fb01-9be7-41bc-c6f6-e11c9373a7f6"
      },
      "execution_count": null,
      "outputs": [
        {
          "output_type": "execute_result",
          "data": {
            "text/plain": [
              "tensor([[ 5.,  1., -1.]])"
            ]
          },
          "metadata": {},
          "execution_count": 7
        }
      ]
    },
    {
      "cell_type": "code",
      "source": [
        "# Output Capa de salida\n",
        "wi_h_s = torch.Tensor([[2, -1, 1]])\n",
        "output = torch.matmul(hidden_layer_output, wi_h_s.T) + bias\n",
        "output"
      ],
      "metadata": {
        "colab": {
          "base_uri": "https://localhost:8080/"
        },
        "id": "5LAp4Invk8JI",
        "outputId": "9bf69543-41ec-40c2-c4de-ea8f33c91883"
      },
      "execution_count": null,
      "outputs": [
        {
          "output_type": "execute_result",
          "data": {
            "text/plain": [
              "tensor([[8.]])"
            ]
          },
          "metadata": {},
          "execution_count": 8
        }
      ]
    },
    {
      "cell_type": "code",
      "source": [
        "# Apalancarse con tensores\n",
        "X = input_tensor.repeat(1, 1)\n",
        "W1 = torch.vstack((wi1, wi2, wi3))\n",
        "X, W1, X.shape, W1.shape"
      ],
      "metadata": {
        "colab": {
          "base_uri": "https://localhost:8080/"
        },
        "id": "Pbw9uSgonn-t",
        "outputId": "9146e4ae-d853-4f40-e12e-7cb84652493a"
      },
      "execution_count": null,
      "outputs": [
        {
          "output_type": "execute_result",
          "data": {
            "text/plain": [
              "(tensor([[2., 3.]]),\n",
              " tensor([[ 1.,  1.],\n",
              "         [-1.,  1.],\n",
              "         [ 1., -1.]]),\n",
              " torch.Size([1, 2]),\n",
              " torch.Size([3, 2]))"
            ]
          },
          "metadata": {},
          "execution_count": 9
        }
      ]
    },
    {
      "cell_type": "code",
      "source": [
        "# Output de la Capa Oculta\n",
        "hidden_layer_output = torch.matmul(X, W1.T)\n",
        "hidden_layer_output"
      ],
      "metadata": {
        "colab": {
          "base_uri": "https://localhost:8080/"
        },
        "id": "_BI4HgcaW6zI",
        "outputId": "eb4c5867-b95f-4c4d-a5dd-969f6a9f0007"
      },
      "execution_count": null,
      "outputs": [
        {
          "output_type": "execute_result",
          "data": {
            "text/plain": [
              "tensor([[ 5.,  1., -1.]])"
            ]
          },
          "metadata": {},
          "execution_count": 10
        }
      ]
    },
    {
      "cell_type": "code",
      "source": [
        "# Operación de la Capa de Salida\n",
        "torch.matmul(hidden_layer_output, wi_h_s.T)  # outputs / pesos capa salida"
      ],
      "metadata": {
        "colab": {
          "base_uri": "https://localhost:8080/"
        },
        "id": "cVhsiMUYmJ0e",
        "outputId": "035435d2-a9e7-423e-af5e-0017ae812548"
      },
      "execution_count": null,
      "outputs": [
        {
          "output_type": "execute_result",
          "data": {
            "text/plain": [
              "tensor([[8.]])"
            ]
          },
          "metadata": {},
          "execution_count": 11
        }
      ]
    },
    {
      "cell_type": "markdown",
      "source": [
        "### Entradas y salidas\n"
      ],
      "metadata": {
        "id": "-CIKOBawZoWk"
      }
    },
    {
      "cell_type": "code",
      "source": [
        "# Veamos cómo serían las entradas y salidas\n",
        "seed = 28\n",
        "torch.manual_seed(seed)\n",
        "\n",
        "input_tensor = torch.Tensor([[4, 5]])\n",
        "n = 3\n",
        "# Capa Lineal\n",
        "linear_layer = nn.Linear(in_features=input_tensor.shape[1], out_features=n)  # Instanciar modelo\n",
        "output_linear_layer = linear_layer(input_tensor)\n",
        "print(f'Salida de la capa oculta:\\n{output_linear_layer}\\n')\n",
        "\n",
        "# Capa oculta a capa de salida\n",
        "output_layer = nn.Linear(in_features=output_linear_layer.shape[1], out_features=1)\n",
        "output = output_layer(output_linear_layer)\n",
        "print(f'Salida de la capa de salida:\\n{output}')"
      ],
      "metadata": {
        "colab": {
          "base_uri": "https://localhost:8080/"
        },
        "id": "sVjgfteJVvEc",
        "outputId": "541df731-7c87-4ce1-8efb-2a8f916a3856"
      },
      "execution_count": null,
      "outputs": [
        {
          "output_type": "stream",
          "name": "stdout",
          "text": [
            "Salida de la capa oculta:\n",
            "tensor([[ 2.7539,  2.8982, -1.1063]], grad_fn=<AddmmBackward0>)\n",
            "\n",
            "Salida de la capa de salida:\n",
            "tensor([[0.8347]], grad_fn=<AddmmBackward0>)\n"
          ]
        }
      ]
    },
    {
      "cell_type": "markdown",
      "source": [
        "### Pesos y Bias"
      ],
      "metadata": {
        "id": "Oqx5EZbW_Bnr"
      }
    },
    {
      "cell_type": "code",
      "source": [
        "# CAPA OCULTA: Pesos y bias (aleatorios)\n",
        "# Veamos pesos y bias de una capa\n",
        "for name, param in linear_layer.named_parameters():\n",
        "  print(f'{name}: \\n\\t{param.data}\\n\\tDimensiones: {param.data.shape}')"
      ],
      "metadata": {
        "colab": {
          "base_uri": "https://localhost:8080/"
        },
        "id": "CJGJGAdeWP0N",
        "outputId": "984edaa3-c5fd-4714-c737-6c541ddde681"
      },
      "execution_count": null,
      "outputs": [
        {
          "output_type": "stream",
          "name": "stdout",
          "text": [
            "weight: \n",
            "\ttensor([[ 0.1803,  0.3263],\n",
            "        [ 0.2508,  0.3367],\n",
            "        [ 0.6952, -0.6402]])\n",
            "\tDimensiones: torch.Size([3, 2])\n",
            "bias: \n",
            "\ttensor([ 0.4011,  0.2113, -0.6860])\n",
            "\tDimensiones: torch.Size([3])\n"
          ]
        }
      ]
    },
    {
      "cell_type": "code",
      "source": [
        "# CAPA DE SALIDA: Pesos y bias (aleatorios)\n",
        "for name, param in output_layer.named_parameters():\n",
        "  print(f'{name}: \\n\\t{param.data}\\n\\tDimensiones: {param.data.shape}')"
      ],
      "metadata": {
        "colab": {
          "base_uri": "https://localhost:8080/"
        },
        "id": "aboNk6q3-CLF",
        "outputId": "2b9ea5ee-5ed9-4d7e-9300-8a0029c676c2"
      },
      "execution_count": null,
      "outputs": [
        {
          "output_type": "stream",
          "name": "stdout",
          "text": [
            "weight: \n",
            "\ttensor([[-0.1986,  0.3628, -0.0171]])\n",
            "\tDimensiones: torch.Size([1, 3])\n",
            "bias: \n",
            "\ttensor([0.3112])\n",
            "\tDimensiones: torch.Size([1])\n"
          ]
        }
      ]
    },
    {
      "cell_type": "markdown",
      "source": [
        "### Cálculo manual de la red neuronal"
      ],
      "metadata": {
        "id": "_909OIfl-Lwl"
      }
    },
    {
      "cell_type": "code",
      "source": [
        "# Detalle del cálculo de la capa oculta --> salida de capa oculta\n",
        "pesos = linear_layer.weight\n",
        "sesgos = linear_layer.bias\n",
        "torch.matmul(input_tensor, pesos.T) + sesgos"
      ],
      "metadata": {
        "colab": {
          "base_uri": "https://localhost:8080/"
        },
        "id": "zxlpm9-VWmgo",
        "outputId": "91f62aa6-f9c1-48ae-d4b0-bc7b67f8af2a"
      },
      "execution_count": null,
      "outputs": [
        {
          "output_type": "execute_result",
          "data": {
            "text/plain": [
              "tensor([[ 2.7539,  2.8982, -1.1063]], grad_fn=<AddBackward0>)"
            ]
          },
          "metadata": {},
          "execution_count": 15
        }
      ]
    },
    {
      "cell_type": "code",
      "source": [
        "# Detalle del cálculo de la capa de salida\n",
        "pesos = output_layer.weight\n",
        "sesgos = output_layer.bias\n",
        "torch.matmul(output_linear_layer, pesos.T) + sesgos"
      ],
      "metadata": {
        "colab": {
          "base_uri": "https://localhost:8080/"
        },
        "id": "2Y5-La1B-jec",
        "outputId": "da8e021b-37ed-48d2-a807-c8431093e726"
      },
      "execution_count": null,
      "outputs": [
        {
          "output_type": "execute_result",
          "data": {
            "text/plain": [
              "tensor([[0.8347]], grad_fn=<AddBackward0>)"
            ]
          },
          "metadata": {},
          "execution_count": 16
        }
      ]
    },
    {
      "cell_type": "markdown",
      "source": [
        "### Cálculo con nn.Sequential"
      ],
      "metadata": {
        "id": "Ya27aAqY_tHb"
      }
    },
    {
      "cell_type": "code",
      "source": [
        "torch.manual_seed(seed)\n",
        "\n",
        "n = 3\n",
        "# Red neuronal con 2 capas (oculta y salida)\n",
        "model = nn.Sequential(\n",
        "                nn.Linear(in_features=input_tensor.shape[1], out_features=n),\n",
        "                nn.Linear(n, 1)\n",
        "                     )\n",
        "\n",
        "output = model(input_tensor)\n",
        "print(output)"
      ],
      "metadata": {
        "colab": {
          "base_uri": "https://localhost:8080/"
        },
        "id": "LmEB1F7d7ptQ",
        "outputId": "db67e79c-4c61-4b3d-ea93-2cf7fd4fd309"
      },
      "execution_count": null,
      "outputs": [
        {
          "output_type": "stream",
          "name": "stdout",
          "text": [
            "tensor([[0.8347]], grad_fn=<AddmmBackward0>)\n"
          ]
        }
      ]
    },
    {
      "cell_type": "code",
      "source": [
        "for name, param in model.named_parameters():\n",
        "  # if param.requires_grad:\n",
        "    print(f'{name}: \\n\\t{param.data}\\n\\tDimensiones: {param.data.shape}')\n"
      ],
      "metadata": {
        "colab": {
          "base_uri": "https://localhost:8080/"
        },
        "id": "9k0Allaudzuk",
        "outputId": "067d49a4-ea78-46c4-c5d2-0b118cdc3d1a"
      },
      "execution_count": null,
      "outputs": [
        {
          "output_type": "stream",
          "name": "stdout",
          "text": [
            "0.weight: \n",
            "\ttensor([[ 0.1803,  0.3263],\n",
            "        [ 0.2508,  0.3367],\n",
            "        [ 0.6952, -0.6402]])\n",
            "\tDimensiones: torch.Size([3, 2])\n",
            "0.bias: \n",
            "\ttensor([ 0.4011,  0.2113, -0.6860])\n",
            "\tDimensiones: torch.Size([3])\n",
            "1.weight: \n",
            "\ttensor([[-0.1986,  0.3628, -0.0171]])\n",
            "\tDimensiones: torch.Size([1, 3])\n",
            "1.bias: \n",
            "\ttensor([0.3112])\n",
            "\tDimensiones: torch.Size([1])\n"
          ]
        }
      ]
    },
    {
      "cell_type": "code",
      "source": [
        "# Pesos y sesgos de la capa de entrada (capa 0)\n",
        "l1_weights = model[0].weight\n",
        "l1_bias = model[0].bias\n",
        "l1_output = torch.matmul(input_tensor, l1_weights.T) + l1_bias\n",
        "l1_output"
      ],
      "metadata": {
        "colab": {
          "base_uri": "https://localhost:8080/"
        },
        "id": "N9o5JomPmOzA",
        "outputId": "13511411-3b80-4bfc-c74b-d4e5d604c8db"
      },
      "execution_count": null,
      "outputs": [
        {
          "output_type": "execute_result",
          "data": {
            "text/plain": [
              "tensor([[ 2.7539,  2.8982, -1.1063]], grad_fn=<AddBackward0>)"
            ]
          },
          "metadata": {},
          "execution_count": 19
        }
      ]
    },
    {
      "cell_type": "code",
      "source": [
        "# Función para obtener los pesos y sesgos de una capa\n",
        "def get_weights_and_bias(layer_number, model):\n",
        "  weights = model[layer_number].weight\n",
        "  bias = model[layer_number].bias\n",
        "  return weights, bias\n",
        "\n",
        "# Pesos y sesgos de la capa de salida (capa 1)\n",
        "layer_number = 1\n",
        "l2_weights, l2_bias = get_weights_and_bias(layer_number, model)\n",
        "\n",
        "# Salida de la capa 1\n",
        "l2_output = torch.matmul(l1_output, l2_weights.T) + l2_bias\n",
        "l2_output"
      ],
      "metadata": {
        "colab": {
          "base_uri": "https://localhost:8080/"
        },
        "id": "YYMalBPfSV2v",
        "outputId": "73a5c84a-62eb-4bcc-925d-f0a58d355e4b"
      },
      "execution_count": null,
      "outputs": [
        {
          "output_type": "execute_result",
          "data": {
            "text/plain": [
              "tensor([[0.8347]], grad_fn=<AddBackward0>)"
            ]
          },
          "metadata": {},
          "execution_count": 20
        }
      ]
    },
    {
      "cell_type": "markdown",
      "source": [
        "## Red Neuronal con varias muestras"
      ],
      "metadata": {
        "id": "Lk4tLttmG7_9"
      }
    },
    {
      "cell_type": "code",
      "source": [
        "# Veamos cómo serían las entradas y salidas, pesos y bias, de una capa\n",
        "torch.manual_seed(seed)\n",
        "                            # x1, x2,....,     xn\n",
        "input_tensor = torch.Tensor([[8, 5, 6, 2, 4, 5, 7],\n",
        "                            [1, 2, 3, 4, 5, 6, 7],\n",
        "                             [9, 8, 7, 6, 5, 4, 3]])\n",
        "n = 4\n",
        "# Capa Lineal\n",
        "linear_layer = nn.Linear(in_features=input_tensor.shape[1], out_features=n)\n",
        "output_linear_layer = linear_layer(input_tensor)\n",
        "print(f'Salida de la capa oculta:\\n{output_linear_layer}\\n')\n",
        "\n",
        "# Capa oculta a capa de salida\n",
        "output_layer = nn.Linear(in_features=output_linear_layer.shape[1], out_features=1)\n",
        "output = output_layer(output_linear_layer)\n",
        "print(f'Salida de la capa de salida:\\n{output}')"
      ],
      "metadata": {
        "colab": {
          "base_uri": "https://localhost:8080/"
        },
        "id": "ybxfQGHFHQRN",
        "outputId": "628feb9c-7286-4338-b9b4-99ba8a914d91"
      },
      "execution_count": null,
      "outputs": [
        {
          "output_type": "stream",
          "name": "stdout",
          "text": [
            "Salida de la capa oculta:\n",
            "tensor([[ 3.8505,  0.7403, -0.7386,  3.4482],\n",
            "        [ 2.6398,  2.1073, -0.7635,  1.7878],\n",
            "        [ 5.1803, -0.3644, -1.5576,  1.4235]], grad_fn=<AddmmBackward0>)\n",
            "\n",
            "Salida de la capa de salida:\n",
            "tensor([[-2.8107],\n",
            "        [-1.6803],\n",
            "        [-2.3069]], grad_fn=<AddmmBackward0>)\n"
          ]
        }
      ]
    },
    {
      "cell_type": "markdown",
      "source": [
        "### Cálculo manual"
      ],
      "metadata": {
        "id": "wmf-h6PaCF0Z"
      }
    },
    {
      "cell_type": "code",
      "source": [
        "# Detalle del cálculo de la capa oculta --> salida de capa oculta\n",
        "pesos = linear_layer.weight\n",
        "sesgos = linear_layer.bias\n",
        "\n",
        "salida_capa_oculta = torch.matmul(input_tensor, pesos.T) + sesgos\n",
        "\n",
        "print(f'- Pesos: \\n{pesos}\\n')\n",
        "print(f'- Sesgos: \\n{sesgos}\\n')\n",
        "print(f'- Salida de Capa oculta: \\n{salida_capa_oculta}')"
      ],
      "metadata": {
        "colab": {
          "base_uri": "https://localhost:8080/"
        },
        "id": "-v1ssfHqHQDh",
        "outputId": "5bc33bf4-beb9-4fbd-9837-e8a202fddfd7"
      },
      "execution_count": null,
      "outputs": [
        {
          "output_type": "stream",
          "name": "stdout",
          "text": [
            "- Pesos: \n",
            "Parameter containing:\n",
            "tensor([[ 0.0964,  0.1744,  0.1341,  0.1800,  0.3716, -0.3422,  0.2144],\n",
            "        [ 0.1130, -0.3667, -0.1300,  0.2375, -0.0112,  0.2037,  0.1807],\n",
            "        [-0.0005, -0.1739,  0.0568, -0.3228,  0.3467, -0.0809, -0.1274],\n",
            "        [ 0.3532,  0.0178, -0.3653, -0.2941,  0.1710,  0.1864,  0.2185]],\n",
            "       requires_grad=True)\n",
            "\n",
            "- Sesgos: \n",
            "Parameter containing:\n",
            "tensor([-0.2332, -0.2633,  0.3489,  0.1688], requires_grad=True)\n",
            "\n",
            "- Salida de Capa oculta: \n",
            "tensor([[ 3.8505,  0.7403, -0.7386,  3.4482],\n",
            "        [ 2.6398,  2.1073, -0.7635,  1.7878],\n",
            "        [ 5.1803, -0.3644, -1.5576,  1.4235]], grad_fn=<AddBackward0>)\n"
          ]
        }
      ]
    },
    {
      "cell_type": "code",
      "source": [
        "# Detalle del cálculo de la capa de salida\n",
        "pesos = output_layer.weight\n",
        "sesgos = output_layer.bias\n",
        "\n",
        "salida_capa_salida = torch.matmul(output_linear_layer, pesos.T) + sesgos\n",
        "\n",
        "print(f'- Pesos: \\n{pesos}\\n')\n",
        "print(f'- Sesgos: \\n{sesgos}\\n')\n",
        "print(f'- Salida de Capa oculta: \\n{salida_capa_salida}')"
      ],
      "metadata": {
        "colab": {
          "base_uri": "https://localhost:8080/"
        },
        "id": "3v1XIHW0HP0X",
        "outputId": "c8104379-bcc8-4586-9503-5ca27c44c2a6"
      },
      "execution_count": null,
      "outputs": [
        {
          "output_type": "stream",
          "name": "stdout",
          "text": [
            "- Pesos: \n",
            "Parameter containing:\n",
            "tensor([[-0.2422,  0.0516,  0.0661, -0.4628]], requires_grad=True)\n",
            "\n",
            "- Sesgos: \n",
            "Parameter containing:\n",
            "tensor([-0.2718], requires_grad=True)\n",
            "\n",
            "- Salida de Capa oculta: \n",
            "tensor([[-2.8107],\n",
            "        [-1.6803],\n",
            "        [-2.3069]], grad_fn=<AddBackward0>)\n"
          ]
        }
      ]
    },
    {
      "cell_type": "markdown",
      "source": [
        "### Cálculo con nn.Sequential\n"
      ],
      "metadata": {
        "id": "qDgLrrw6qAD0"
      }
    },
    {
      "cell_type": "code",
      "source": [
        "torch.manual_seed(seed)\n",
        "\n",
        "# Red neuronal con 2 capas (oculta y salida)\n",
        "model = nn.Sequential(nn.Linear(in_features=input_tensor.shape[1], out_features=n),\n",
        "                      nn.Linear(n, 1)\n",
        "                     )\n",
        "\n",
        "output = model(input_tensor)\n",
        "print(output)"
      ],
      "metadata": {
        "id": "ijlFqqaIqDMw",
        "colab": {
          "base_uri": "https://localhost:8080/"
        },
        "outputId": "05c1e591-ad3b-4541-b893-1fb35b2a29d9"
      },
      "execution_count": null,
      "outputs": [
        {
          "output_type": "stream",
          "name": "stdout",
          "text": [
            "tensor([[-2.8107],\n",
            "        [-1.6803],\n",
            "        [-2.3069]], grad_fn=<AddmmBackward0>)\n"
          ]
        }
      ]
    },
    {
      "cell_type": "markdown",
      "source": [
        "## Funciones de Activación\n",
        "\n",
        "<img src=\"https://dustinstansbury.github.io/theclevermachine/assets/images/a-gentle-introduction-to-neural-networks/common_activation_functions.png\" width=800>\n",
        "\n",
        "<img src=\"https://www.researchgate.net/publication/335845675/figure/fig3/AS:804124836765699@1568729709680/Commonly-used-activation-functions-a-Sigmoid-b-Tanh-c-ReLU-and-d-LReLU.ppm\" width=800>\n",
        "\n",
        "https://medium.com/soldai/introducci%C3%B3n-al-deep-learning-i-funciones-de-activaci%C3%B3n-b3eed1411b20"
      ],
      "metadata": {
        "id": "8mpqMKUvZjje"
      }
    },
    {
      "cell_type": "markdown",
      "source": [
        "### Función Sigmoide  📈\n",
        "\n",
        "\\begin{align}\n",
        "σ(x) = \\frac{1}{(1 + e^{-x})}\n",
        "\\end{align}"
      ],
      "metadata": {
        "id": "1x6Itc8EgV-x"
      }
    },
    {
      "cell_type": "code",
      "source": [
        "# Tomando los outputs de la red anterior\n",
        "output_1 = -2.8107\n",
        "output_2 = -1.6803\n",
        "output_3 = -2.3069\n",
        "\n",
        "# Calcular la probabilidad según función sigmoide\n",
        "probability_1 = 1 / (1 + np.exp(-output_1))\n",
        "probability_2 = 1 / (1 + np.exp(-output_2))\n",
        "probability_3 = 1 / (1 + np.exp(-output_3))\n",
        "\n",
        "print(f'Probabilidad de la clase 1: {round(probability_1, 4)}')\n",
        "print(f'Probabilidad de la clase 2: {round(probability_2, 4)}')\n",
        "print(f'Probabilidad de la clase 3: {round(probability_3, 4)}')"
      ],
      "metadata": {
        "colab": {
          "base_uri": "https://localhost:8080/"
        },
        "id": "Q9WWSjsR-oQl",
        "outputId": "2f437d34-dfe1-44cb-e9d7-095639a3943c"
      },
      "execution_count": null,
      "outputs": [
        {
          "output_type": "stream",
          "name": "stdout",
          "text": [
            "Probabilidad de la clase 1: 0.0567\n",
            "Probabilidad de la clase 2: 0.1571\n",
            "Probabilidad de la clase 3: 0.0906\n"
          ]
        }
      ]
    },
    {
      "cell_type": "code",
      "source": [
        "# Instanciar función sigmoide y aplicar a la salida de la red\n",
        "sigmoid = nn.Sigmoid()\n",
        "probability = sigmoid(salida_capa_salida)\n",
        "print(probability)"
      ],
      "metadata": {
        "colab": {
          "base_uri": "https://localhost:8080/"
        },
        "id": "SJUwiIzyBRdj",
        "outputId": "df8359f4-5864-4095-a0b7-100bae9bb05e"
      },
      "execution_count": null,
      "outputs": [
        {
          "output_type": "stream",
          "name": "stdout",
          "text": [
            "tensor([[0.0567],\n",
            "        [0.1571],\n",
            "        [0.0906]], grad_fn=<SigmoidBackward0>)\n"
          ]
        }
      ]
    },
    {
      "cell_type": "code",
      "source": [
        "# La red neuronal con función sigmoide como salida\n",
        "torch.manual_seed(seed)\n",
        "\n",
        "model = nn.Sequential(\n",
        "  nn.Linear(input_tensor.shape[1], 4),\n",
        "  nn.Linear(4, 1),\n",
        "  nn.Sigmoid()\n",
        ")\n",
        "\n",
        "output = model(input_tensor)\n",
        "print(output)"
      ],
      "metadata": {
        "colab": {
          "base_uri": "https://localhost:8080/"
        },
        "outputId": "9ba3e8d7-860c-4a89-f1ab-9283fc85d97e",
        "id": "9KTNmjgA-OLq"
      },
      "execution_count": null,
      "outputs": [
        {
          "output_type": "stream",
          "name": "stdout",
          "text": [
            "tensor([[0.0567],\n",
            "        [0.1571],\n",
            "        [0.0906]], grad_fn=<SigmoidBackward0>)\n"
          ]
        }
      ]
    },
    {
      "cell_type": "markdown",
      "source": [
        "### Función Softmax 📈\n",
        "\n",
        "\\begin{align}\n",
        "S(z_i) = \\frac{e^{z_i}}{Σe^{z_i}}\n",
        "\\end{align}"
      ],
      "metadata": {
        "id": "FAjCZuf7o4WB"
      }
    },
    {
      "cell_type": "code",
      "source": [
        "# Simulando salidas múlti-clases de una entrada (clasificación múltiple)\n",
        "outputs = torch.tensor([[-3.7, -2.5, -0.2,  0.8, 1.8, 3.2]])\n",
        "\n",
        "# Calculo de probabilidades para las salidas con función softmax\n",
        "prob_1 = outputs[0][0].exp() / (outputs[0].exp().sum())\n",
        "prob_2 = outputs[0][1].exp() / (outputs[0].exp().sum())\n",
        "prob_3 = outputs[0][2].exp() / (outputs[0].exp().sum())\n",
        "prob_4 = outputs[0][3].exp() / (outputs[0].exp().sum())\n",
        "prob_5 = outputs[0][4].exp() / (outputs[0].exp().sum())\n",
        "prob_6 = outputs[0][5].exp() / (outputs[0].exp().sum())\n",
        "\n",
        "# Mostrar resultados\n",
        "print(f'Probabilidad de la:')\n",
        "for i in range(outputs.shape[1]):\n",
        "  print(f'\\tclase {i + 1}: {round(eval(f\"prob_{i + 1}\").item(), 4)}')\n",
        "total_prob = prob_1 + prob_2 + prob_3 + prob_4 + prob_5 + prob_6\n",
        "print(f'Suma de las probabilidades: {round(total_prob.item(), 4)}')"
      ],
      "metadata": {
        "colab": {
          "base_uri": "https://localhost:8080/"
        },
        "id": "UaynSmH1dU4l",
        "outputId": "57e92dae-03eb-42ba-82fe-83a298a651bb"
      },
      "execution_count": null,
      "outputs": [
        {
          "output_type": "stream",
          "name": "stdout",
          "text": [
            "Probabilidad de la:\n",
            "\tclase 1: 0.0007\n",
            "\tclase 2: 0.0024\n",
            "\tclase 3: 0.0243\n",
            "\tclase 4: 0.066\n",
            "\tclase 5: 0.1793\n",
            "\tclase 6: 0.7273\n",
            "Suma de las probabilidades: 1.0\n"
          ]
        }
      ]
    },
    {
      "cell_type": "code",
      "source": [
        "# Tomando los mismos outputs anteriores\n",
        "# Instanciar función sigmoide y aplicarla a las salidas simuladas\n",
        "softmax = nn.Softmax(dim=-1)\n",
        "probabilities = softmax(outputs)\n",
        "print(probabilities)"
      ],
      "metadata": {
        "colab": {
          "base_uri": "https://localhost:8080/"
        },
        "outputId": "8aa074d1-530b-40ce-bf5e-32fcea93abf4",
        "id": "CKuH4get_vBB"
      },
      "execution_count": null,
      "outputs": [
        {
          "output_type": "stream",
          "name": "stdout",
          "text": [
            "tensor([[0.0007, 0.0024, 0.0243, 0.0660, 0.1793, 0.7273]])\n"
          ]
        }
      ]
    },
    {
      "cell_type": "code",
      "source": [
        "# La red neuronal con función sigmoide como salida\n",
        "model = nn.Sequential(\n",
        "  nn.Linear(input_tensor.shape[1], 3),\n",
        "  nn.Softmax(dim=-1)\n",
        "  )\n",
        "\n",
        "output = model(input_tensor)\n",
        "print(output)"
      ],
      "metadata": {
        "id": "78tBlbnlTPK1",
        "colab": {
          "base_uri": "https://localhost:8080/"
        },
        "outputId": "48cc0d25-cc0f-4dbe-d07a-8b2ffbf84611"
      },
      "execution_count": null,
      "outputs": [
        {
          "output_type": "stream",
          "name": "stdout",
          "text": [
            "tensor([[2.4240e-01, 7.5760e-01, 6.4910e-07],\n",
            "        [4.6144e-01, 5.3855e-01, 9.9658e-06],\n",
            "        [3.7214e-01, 6.2786e-01, 7.5278e-08]], grad_fn=<SoftmaxBackward0>)\n"
          ]
        }
      ]
    },
    {
      "cell_type": "markdown",
      "source": [
        "### Función ReLU 📈\n",
        "\n",
        "\\begin{align}\n",
        "ReLU(x) = \\max(0, x)\n",
        "\\end{align}\n",
        "\n",
        "Demostración del contraste de resultados aplicando sólo función Lineal a la red VS aplicando la función ReLU a la salida de las capas ocultas."
      ],
      "metadata": {
        "id": "Rpcg52KVhob0"
      }
    },
    {
      "cell_type": "code",
      "source": [
        "# SIMULANDO PESOS EN LA RED NEURONAL\n",
        "# Calcular la primera y segunda capa oculta\n",
        "input_layer = input_tensor\n",
        "# Simular pesos en la capa oculta 1 y 2, con números aleatorios\n",
        "n = 3\n",
        "weight_1 = torch.randn(input_layer.shape[1], n)\n",
        "weight_2 = torch.randn(n, 1)\n",
        "weight_3 = torch.randn(1, 1)\n",
        "print(f'- Datos de entrada: \\n{input_layer}\\n')\n",
        "print(f'- Pesos capa oculta 1: \\n{weight_1}\\n')\n",
        "print(f'- Pesos capa oculta 2: \\n{weight_2}\\n')\n",
        "print(f'- Pesos capa de salida: \\n{weight_3}\\n')\n",
        "# Calcular la salida de la capa oculta 1 y 2\n",
        "hidden_1 = torch.matmul(input_layer, weight_1)\n",
        "hidden_2 = torch.matmul(hidden_1, weight_2)\n",
        "# Calcular la salida\n",
        "print(f'Datos de salida: \\n{torch.matmul(hidden_2, weight_3)}\\n')\n",
        "\n",
        "# Calcular los pesos compuestos\n",
        "weight_composed_1 = torch.matmul(weight_1, weight_2)\n",
        "weight_composed_2 = torch.matmul(weight_composed_1, weight_3)\n",
        "print(f'- Pesos compuestos: \\n{weight_composed_2}\\n')\n",
        "# Calcular la salida con los pesos compuestos resultantes\n",
        "print(f'Datos de salida: \\n{torch.matmul(input_layer, weight_composed_2)}\\n')"
      ],
      "metadata": {
        "colab": {
          "base_uri": "https://localhost:8080/"
        },
        "id": "LEJMrvyJZ6Ol",
        "outputId": "7b35e195-2514-48c3-df76-1c23de9163ac"
      },
      "execution_count": null,
      "outputs": [
        {
          "output_type": "stream",
          "name": "stdout",
          "text": [
            "- Datos de entrada: \n",
            "tensor([[8., 5., 6., 2., 4., 5., 7.],\n",
            "        [1., 2., 3., 4., 5., 6., 7.],\n",
            "        [9., 8., 7., 6., 5., 4., 3.]])\n",
            "\n",
            "- Pesos capa oculta 1: \n",
            "tensor([[-0.9298, -0.0618, -0.2064],\n",
            "        [ 1.3306,  1.6108,  1.4160],\n",
            "        [ 0.5211,  0.6240,  0.3232],\n",
            "        [-0.2505,  1.0879, -0.5302],\n",
            "        [ 0.0153,  1.9200,  1.6137],\n",
            "        [-0.5760,  0.2355, -0.0933],\n",
            "        [ 0.0672,  1.1395,  0.8006]])\n",
            "\n",
            "- Pesos capa oculta 2: \n",
            "tensor([[-0.2570],\n",
            "        [-0.2466],\n",
            "        [ 0.2393]])\n",
            "\n",
            "- Pesos capa de salida: \n",
            "tensor([[0.5575]])\n",
            "\n",
            "Datos de salida: \n",
            "tensor([[-1.7072],\n",
            "        [-1.8669],\n",
            "        [-2.9683]])\n",
            "\n",
            "- Pesos compuestos: \n",
            "tensor([[ 0.1142],\n",
            "        [-0.2232],\n",
            "        [-0.1174],\n",
            "        [-0.1844],\n",
            "        [-0.0509],\n",
            "        [ 0.0377],\n",
            "        [-0.0595]])\n",
            "\n",
            "Datos de salida: \n",
            "tensor([[-1.7072],\n",
            "        [-1.8669],\n",
            "        [-2.9683]])\n",
            "\n"
          ]
        }
      ]
    },
    {
      "cell_type": "code",
      "source": [
        "# APLICAR NO LINEALIDAD A LOS RESULTADOS DE LA RED\n",
        "# Crear instancias de no linealidad - Función ReLU\n",
        "relu = nn.ReLU()\n",
        "\n",
        "# Aplicar no linealidad en las capas ocultas\n",
        "hidden_1_activated = relu(torch.matmul(input_layer, weight_1))\n",
        "hidden_2_activated = relu(torch.matmul(hidden_1_activated, weight_2))\n",
        "# Calcular la salida\n",
        "print(f'Datos de salida: \\n{torch.matmul(hidden_2_activated, weight_3)}\\n')\n",
        "\n",
        "# Aplicar no linealidad en el producto de los dos primeros pesos\n",
        "weight_composed_1_activated = relu(torch.matmul(weight_1, weight_2))\n",
        "# Multiplicar \"weight_composed_1_activated\" con \"weight_3\"\n",
        "weight = torch.matmul(weight_composed_1_activated, weight_3)\n",
        "# Calcular la salida\n",
        "print(f'Datos de salida: \\n{torch.matmul(input_layer, weight)}\\n')"
      ],
      "metadata": {
        "colab": {
          "base_uri": "https://localhost:8080/"
        },
        "id": "j3KvJppvfI9d",
        "outputId": "b925ffd4-dd96-47f9-9bb4-e96ffb67b3c3"
      },
      "execution_count": null,
      "outputs": [
        {
          "output_type": "stream",
          "name": "stdout",
          "text": [
            "Datos de salida: \n",
            "tensor([[0.],\n",
            "        [0.],\n",
            "        [0.]])\n",
            "\n",
            "Datos de salida: \n",
            "tensor([[1.1022],\n",
            "        [0.3405],\n",
            "        [1.1786]])\n",
            "\n"
          ]
        }
      ]
    },
    {
      "cell_type": "markdown",
      "source": [
        "## [Descenso de Gradiente](https://colab.research.google.com/drive/1rTHvHlddvZr2b3r409vUyiJp7yKM-xo8#scrollTo=-qgJUDqk1K11)"
      ],
      "metadata": {
        "id": "IKl-KTt6piBD"
      }
    }
  ]
}