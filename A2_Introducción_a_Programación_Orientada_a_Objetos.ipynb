{
  "nbformat": 4,
  "nbformat_minor": 0,
  "metadata": {
    "colab": {
      "provenance": [],
      "toc_visible": true,
      "include_colab_link": true
    },
    "kernelspec": {
      "name": "python3",
      "display_name": "Python 3"
    },
    "language_info": {
      "name": "python"
    }
  },
  "cells": [
    {
      "cell_type": "markdown",
      "metadata": {
        "id": "view-in-github",
        "colab_type": "text"
      },
      "source": [
        "<a href=\"https://colab.research.google.com/github/DiploDatos/AprendizajeProfundo/blob/add_2024_content/A_1_Introducci%C3%B3n_a_Programaci%C3%B3n_Orientada_a_Objetos.ipynb\" target=\"_parent\"><img src=\"https://colab.research.google.com/assets/colab-badge.svg\" alt=\"Open In Colab\"/></a>"
      ]
    },
    {
      "cell_type": "markdown",
      "source": [
        "# Introducción a Programación orientada a Objetos"
      ],
      "metadata": {
        "id": "cJcFfBNW2Yxt"
      }
    },
    {
      "cell_type": "markdown",
      "source": [
        "En esta notebook  veremos **Introducción a Programación Orientada a Objetos**:\n",
        "  - Cómo definir una clase.\n",
        "  - Cómo inicializarla e usar los métodos y atributos.\n",
        "  - Qué es la herencia de Clases"
      ],
      "metadata": {
        "id": "0s0hSWOwKzM5"
      }
    },
    {
      "cell_type": "markdown",
      "source": [
        "## Ejemplo práctico\n",
        "\n",
        "> Consideremos la clase `Inmueble` con los **atributos** `ventanas`, `puertas`, `habitaciones`,  y `metros_cuadrados`. Además agreguemos el **método** `hacer_refacciones` que tiene por objetivo definir si un objeto de la clase necesita refacciones o no."
      ],
      "metadata": {
        "id": "ja5aJHP-WxBJ"
      }
    },
    {
      "cell_type": "code",
      "source": [
        "class Inmueble:\n",
        "  # Definimos los atributos o propiedades\n",
        "    ventanas = 5\n",
        "    puertas = None\n",
        "    habitaciones = None\n",
        "    metros_cuadrados = 100\n",
        "\n",
        "  # Instanciar el método\n",
        "    def hacer_refacciones():\n",
        "        refaccionar = True\n"
      ],
      "metadata": {
        "id": "LNdaDjusNrng"
      },
      "execution_count": 1,
      "outputs": []
    },
    {
      "cell_type": "markdown",
      "source": [
        "Notar que los atributos o propiedades son compartidos por todos los objetos de tipo `Inmueble`. Definamos ahora un objeto particular `Casa` que es una **instancia de la clase Inmueble**."
      ],
      "metadata": {
        "id": "8Ab836jZ3pPh"
      }
    },
    {
      "cell_type": "code",
      "execution_count": 2,
      "metadata": {
        "id": "5F19-7f8d0SL",
        "colab": {
          "base_uri": "https://localhost:8080/"
        },
        "outputId": "78e8ac71-35ff-4e29-9ec8-b4b110531947"
      },
      "outputs": [
        {
          "output_type": "stream",
          "name": "stdout",
          "text": [
            "Valor del atributo metros_cuadrados: 100\n",
            "Valor del atributo habitaciones: None\n"
          ]
        }
      ],
      "source": [
        "casa = Inmueble()\n",
        "print(f'Valor del atributo metros_cuadrados: {casa.metros_cuadrados}')\n",
        "print(f'Valor del atributo habitaciones: {casa.habitaciones}')"
      ]
    },
    {
      "cell_type": "markdown",
      "source": [
        "\n",
        "\n",
        "*   **¿Qué sucede si quiero tener \"parametros de entrada\" que varien (es decir, que no estén fijos)?**\n",
        "*   **¿Cómo puedo usar o llamar al método hacer refacciones?**\n",
        "\n"
      ],
      "metadata": {
        "id": "O7umOzIc52Br"
      }
    },
    {
      "cell_type": "markdown",
      "source": [
        "### El método de inicialización\n",
        "\n",
        "Si queremos definir un objeto a partir de la clase anterior inicializarla:\n",
        "\n",
        "- El método de inicialización es único porque tiene un nombre predefinido, `__init__`, y no tiene un valor de retorno.\n",
        "- El programa llama automáticamente al método de inicialización cuando se crea un nuevo objeto a partir de la clase y permite acceder tanto a métodos como atributos.\n",
        "- La inicialización debe aceptar el parámetro especial `self` y luego todos las atributos de clase como parámetros.\n",
        "- El parámetro `self` permite que el método de inicialización seleccione la instancia de objeto recién creada.\n",
        "\n",
        "Inicialización de atributos***\n",
        "\n",
        "Cuando se inicializa un atributo se establece un valor por defecto.\n",
        "\n",
        "Por ejemplo, el primer atributo `self.ventanas = ventanas` establece la propiedad de `ventanas` del objeto creado para que sea igual al parámetro de `ventana` que se pasó en la creación del objeto."
      ],
      "metadata": {
        "id": "03zNYn2OcXhY"
      }
    },
    {
      "cell_type": "code",
      "source": [
        "class Inmueble:\n",
        "    # Define el método de inicialización\n",
        "    def __init__(self, ventanas, puertas, habitaciones, metros_cuadrados):\n",
        "        self.ventanas = ventanas\n",
        "        self.puertas = puertas\n",
        "        self.habitaciones = habitaciones\n",
        "        self.metros_cuadrados = metros_cuadrados\n",
        "\n",
        "# Crea un objeto de la clase Inmueble y establece\n",
        "# cada atributo con un valor particular\n",
        "mi_casa =Inmueble(8, 3, 5, 100)\n",
        "# Si muestro mi_casa simplemente me muestra \"el tipo de objeto\" que es\n",
        "mi_casa"
      ],
      "metadata": {
        "colab": {
          "base_uri": "https://localhost:8080/"
        },
        "id": "Gkrm868dbLN0",
        "outputId": "3981e9d6-4820-4acb-c89c-014153343819"
      },
      "execution_count": 3,
      "outputs": [
        {
          "output_type": "execute_result",
          "data": {
            "text/plain": [
              "<__main__.Inmueble at 0x7d1264cd5ea0>"
            ]
          },
          "metadata": {},
          "execution_count": 3
        }
      ]
    },
    {
      "cell_type": "code",
      "source": [
        "# En cambio si llamo a algún método en particular ahi puedo ver el valor\n",
        "mi_casa.puertas"
      ],
      "metadata": {
        "colab": {
          "base_uri": "https://localhost:8080/"
        },
        "id": "IoLhFK5hcCdL",
        "outputId": "0e23cf7d-c6b2-4007-acc4-9bab6867b90e"
      },
      "execution_count": 4,
      "outputs": [
        {
          "output_type": "execute_result",
          "data": {
            "text/plain": [
              "3"
            ]
          },
          "metadata": {},
          "execution_count": 4
        }
      ]
    },
    {
      "cell_type": "markdown",
      "source": [
        "Agreguemos ahora el método `hacer_refacciones` y otro método adicional que `precio_usd` que multiplica por 100 usd los metros cuadrados para obtener el precio."
      ],
      "metadata": {
        "id": "73vXYkHjw1yC"
      }
    },
    {
      "cell_type": "code",
      "source": [
        "class Inmueble:\n",
        "    # Define el método de inicialización\n",
        "    def __init__(self, ventanas, puertas, habitaciones, metros_cuadrados):\n",
        "        self.ventanas = ventanas\n",
        "        self.puertas = puertas\n",
        "        self.habitaciones = habitaciones\n",
        "        self.metros_cuadrados = metros_cuadrados\n",
        "\n",
        "    # Definir el método hacer_refacciones\n",
        "    def hacer_refacciones(self):\n",
        "        return True\n",
        "\n",
        "   # Definir el método precio_usd\n",
        "    def calcular_precio_usd(self):\n",
        "        precio_usd = 100*self.metros_cuadrados\n",
        "        return precio_usd\n",
        "\n",
        "# Crea un objeto de la clase Inmueble y setea cada atributo con un valor particular\n",
        "mi_casa = Inmueble(8, 3, 5, 20)\n",
        "#mi_casa = Inmueble(ventanas = 8, puertas =3, habitaciones =5, metros_cuadrados = 100,precio_usd =40) #Otra forma de hacer la linea anterior\n",
        "\n",
        "# Llamamos al método hacer_refacciones\n",
        "print(mi_casa.hacer_refacciones())"
      ],
      "metadata": {
        "colab": {
          "base_uri": "https://localhost:8080/"
        },
        "id": "s6Hz6qadwFba",
        "outputId": "566b27ee-c14f-468c-d558-06f98258d653"
      },
      "execution_count": 5,
      "outputs": [
        {
          "output_type": "stream",
          "name": "stdout",
          "text": [
            "True\n"
          ]
        }
      ]
    },
    {
      "cell_type": "code",
      "source": [
        "# Llamamos al método calcular_precio_usd\n",
        "print(mi_casa.calcular_precio_usd())"
      ],
      "metadata": {
        "colab": {
          "base_uri": "https://localhost:8080/"
        },
        "id": "ZYDB3ixy0Ug3",
        "outputId": "40b502cb-5ca8-470f-ced5-f47763da61e5"
      },
      "execution_count": 6,
      "outputs": [
        {
          "output_type": "stream",
          "name": "stdout",
          "text": [
            "2000\n"
          ]
        }
      ]
    },
    {
      "cell_type": "markdown",
      "source": [
        "**Ejercicio:** Prueben cambiar el valor de atributo `metros_cuadrados` y correr nuevamente `mi_casa.calcular_precio_usd()`"
      ],
      "metadata": {
        "id": "ymcN_aXK3xZK"
      }
    },
    {
      "cell_type": "markdown",
      "source": [
        "### Herencia\n",
        "\n",
        "- La herencia permite que una nueva clase asuma las propiedades y comportamientos de otra clase. La clase de la que se hereda se denomina **clase padre**. Cualquier clase que hereda de una clase principal se denomina **clase hija**. Por ejemplo podriamos crear la clase `Departamento` (clase hija) a partir de la clase `Inmueble` (clase padre).\n",
        "\n",
        "- Las clases secundarias o hijas no solo heredan todas las propiedades y métodos, sino que también pueden expandirlos o sobrescribirlos. Expandir se refiere a la adición de propiedades o métodos a la clase hija que no están presentes en la clase padre. Sobrescribir es la capacidad de redefinir un método en una clase secundaria que ya se ha definido en la clase principal."
      ],
      "metadata": {
        "id": "Xc37MoLH4PBP"
      }
    },
    {
      "cell_type": "code",
      "source": [
        "#Departamento es la clase hija de la clase Inmueble\n",
        "class Departamento(Inmueble):\n",
        "    def __init__(self, ventanas, puertas, habitaciones, metros_cuadrados, numero_piso, en_venta):\n",
        "       #Hereda los atributos self, ventanas, puertas, habitaciones, metros_cuadrados\n",
        "       Inmueble.__init__(self, ventanas, puertas, habitaciones, metros_cuadrados)\n",
        "\n",
        "        #Expande Departamento para añadir el atributo adicional numero de piso y en_venta\n",
        "       self.numero_piso = numero_piso\n",
        "       self.en_venta = False\n",
        "\n",
        "    #Sobreescribe la función calcular_precio_usd agregando un parametro más en la multiplicación\n",
        "    def calcular_precio_usd(self):\n",
        "        precio_usd = 100*self.metros_cuadrados*self.numero_piso\n",
        "        return precio_usd\n",
        "\n",
        "    #Define el estado venta\n",
        "    def definir_el_estado_venta(self):\n",
        "      self.en_venta= True\n",
        "\n",
        "mi_departamento = Departamento(8, 3, 5, 10,2, False)\n",
        "\n",
        "print(mi_departamento.calcular_precio_usd())"
      ],
      "metadata": {
        "colab": {
          "base_uri": "https://localhost:8080/"
        },
        "id": "iSZNIbrm2Tw9",
        "outputId": "f669ffee-5658-4527-b83e-3d78f3629993"
      },
      "execution_count": 7,
      "outputs": [
        {
          "output_type": "stream",
          "name": "stdout",
          "text": [
            "2000\n"
          ]
        }
      ]
    },
    {
      "cell_type": "code",
      "source": [
        "mi_departamento.en_venta"
      ],
      "metadata": {
        "id": "VxVLesb83mFb",
        "colab": {
          "base_uri": "https://localhost:8080/"
        },
        "outputId": "53dd53c8-19b2-4c43-9426-c92bbe20a1d2"
      },
      "execution_count": 8,
      "outputs": [
        {
          "output_type": "execute_result",
          "data": {
            "text/plain": [
              "False"
            ]
          },
          "metadata": {},
          "execution_count": 8
        }
      ]
    },
    {
      "cell_type": "code",
      "source": [
        "mi_departamento.definir_el_estado_venta()\n",
        "print(mi_departamento.en_venta)"
      ],
      "metadata": {
        "colab": {
          "base_uri": "https://localhost:8080/"
        },
        "id": "C1P5h83Ibjv6",
        "outputId": "41dae055-6d37-4a0a-a017-4adf0f99bd30"
      },
      "execution_count": 9,
      "outputs": [
        {
          "output_type": "stream",
          "name": "stdout",
          "text": [
            "True\n"
          ]
        }
      ]
    },
    {
      "cell_type": "markdown",
      "source": [
        "### Bonus Track\n",
        "\n",
        "Una clase hija puede tener más de una clase Padre, esto implica que hereda atributos y métodos de amabas clases. Por ejemplo definamos la clase `LocacionGeografica` de manera que sea otra clase padre de Departamento."
      ],
      "metadata": {
        "id": "Umv-yW8wdTgf"
      }
    },
    {
      "cell_type": "code",
      "source": [
        "class LocacionGeografica:\n",
        "    # Define el método de inicialización\n",
        "    def __init__(self, ciudad, salida_al_mar, pais):\n",
        "        self.ciudad = ciudad\n",
        "        self.salida_al_mar = salida_al_mar\n",
        "        self.pais = pais\n"
      ],
      "metadata": {
        "id": "GwKrO_Q8ceXQ"
      },
      "execution_count": 10,
      "outputs": []
    },
    {
      "cell_type": "code",
      "source": [
        "#Departamento es la clase hija de la clase Inmueble y de la clase LocacionGeografica\n",
        "class Departamento(Inmueble, LocacionGeografica):\n",
        "    def __init__(self, ventanas, puertas, habitaciones, metros_cuadrados,\n",
        "                 numero_piso, en_venta, ciudad, salida_al_mar, pais):\n",
        "       #Hereda los atributos self, ventanas, puertas, habitaciones, metros_cuadrados de Inmueble\n",
        "       Inmueble.__init__(self, ventanas, puertas, habitaciones, metros_cuadrados)\n",
        "\n",
        "       #Hereda los atributos self, ciudad, salida_al_mar, pais de Locacion Goegrafica\n",
        "       LocacionGeografica.__init__(self, ciudad, salida_al_mar, pais)\n",
        "\n",
        "      #Expande Departamento para añadir el atributo adicional numero de piso\n",
        "       self.numero_piso = numero_piso\n",
        "       self.en_venta = False\n",
        "\n",
        "    #Sobreescribe la función calcular_precio_usd agregando un parametro más en la multiplicación\n",
        "    def calcular_precio_usd(self):\n",
        "        precio_usd = 100*self.metros_cuadrados*self.numero_piso\n",
        "        return precio_usd\n",
        "\n",
        "    def definir_el_estado_venta(self):\n",
        "      self.en_venta= True\n",
        "\n",
        "ventanas = 8\n",
        "puertas = 4\n",
        "habitaciones = 4\n",
        "metros_cuadrados = 100\n",
        "numero_piso = 10\n",
        "en_venta = True\n",
        "ciudad= \"Mar del Plata\"\n",
        "salida_al_mar= True\n",
        "pais ='Argentina'\n",
        "\n",
        "mi_departamento = Departamento(ventanas, puertas, habitaciones, metros_cuadrados,\n",
        "                               numero_piso,en_venta, ciudad, salida_al_mar, pais)\n",
        "\n",
        "print(mi_departamento.salida_al_mar)\n",
        "print(mi_departamento.ciudad)\n"
      ],
      "metadata": {
        "colab": {
          "base_uri": "https://localhost:8080/"
        },
        "id": "f-LOmKQmd-aH",
        "outputId": "6ac51249-da2e-48b3-dfcc-ba4b788d87e2"
      },
      "execution_count": 11,
      "outputs": [
        {
          "output_type": "stream",
          "name": "stdout",
          "text": [
            "True\n",
            "Mar del Plata\n"
          ]
        }
      ]
    },
    {
      "cell_type": "markdown",
      "source": [
        "**Ejercicio 1**\n",
        "\n",
        "Agreguen un método a la clase `LocacionGeografica`y vuelvan a probar `Departamento`.\n",
        "\n",
        "**Ejercicio 2:**\n",
        "\n",
        "Hacer en un papel o un gráfico en la compu cómo queda el diagrama final de clases y sus conexiones. Hoy en día hay extensiones de los principales editores de texto que lo hacen (por ejemplo vscode lo tiene) por si quieren investigar más."
      ],
      "metadata": {
        "id": "hxcYX1LQgoGH"
      }
    },
    {
      "cell_type": "markdown",
      "source": [
        "## Clases y objetos en librerías de aprendizaje automático\n",
        "\n",
        "Las librerías que venimos usando en la diplomatura ya usaban clases y objetos! Algunos ejemplos:"
      ],
      "metadata": {
        "id": "Q5itSGIq4U-J"
      }
    },
    {
      "cell_type": "code",
      "source": [
        "import numpy as np\n",
        "import pandas as pd\n",
        "\n",
        "from sklearn.base import BaseEstimator, ClassifierMixin\n",
        "from sklearn.utils.validation import check_X_y, check_array, check_is_fitted\n",
        "\n",
        "\n",
        "df = pd.DataFrame({'A': [1, 2, 3], 'B': [4, 5, 6]})\n",
        "print(\"Tipo de df:\", type(df))\n",
        "print(\"Contenido de df:\\n\", df)"
      ],
      "metadata": {
        "id": "hhsV-Xk5UZ4J",
        "colab": {
          "base_uri": "https://localhost:8080/"
        },
        "outputId": "469a4e5c-cb07-4f30-a8ac-f1572900d56f"
      },
      "execution_count": 12,
      "outputs": [
        {
          "output_type": "stream",
          "name": "stdout",
          "text": [
            "Tipo de df: <class 'pandas.core.frame.DataFrame'>\n",
            "Contenido de df:\n",
            "    A  B\n",
            "0  1  4\n",
            "1  2  5\n",
            "2  3  6\n"
          ]
        }
      ]
    },
    {
      "cell_type": "code",
      "source": [
        "df2 = pd.DataFrame({'Col1': [4, 5, 6, 'a']})\n"
      ],
      "metadata": {
        "id": "LZT7Dt5dFHOk"
      },
      "execution_count": 13,
      "outputs": []
    },
    {
      "cell_type": "code",
      "source": [
        "df.shape  # atributo"
      ],
      "metadata": {
        "colab": {
          "base_uri": "https://localhost:8080/"
        },
        "id": "SfQ4z1bjgXtG",
        "outputId": "dc2b6b96-aac6-40e2-a54a-74f1fa26bb4f"
      },
      "execution_count": 14,
      "outputs": [
        {
          "output_type": "execute_result",
          "data": {
            "text/plain": [
              "(3, 2)"
            ]
          },
          "metadata": {},
          "execution_count": 14
        }
      ]
    },
    {
      "cell_type": "code",
      "source": [
        "df.columns  # otro atributo"
      ],
      "metadata": {
        "colab": {
          "base_uri": "https://localhost:8080/"
        },
        "id": "fOoIsriKgc-P",
        "outputId": "4407e3df-cbfb-476a-a939-0e1d2b5c1136"
      },
      "execution_count": 15,
      "outputs": [
        {
          "output_type": "execute_result",
          "data": {
            "text/plain": [
              "Index(['A', 'B'], dtype='object')"
            ]
          },
          "metadata": {},
          "execution_count": 15
        }
      ]
    },
    {
      "cell_type": "code",
      "source": [
        "df.index"
      ],
      "metadata": {
        "colab": {
          "base_uri": "https://localhost:8080/"
        },
        "id": "yjoC1Elzgfoy",
        "outputId": "58627719-d168-4634-a935-711e968b9aff"
      },
      "execution_count": 16,
      "outputs": [
        {
          "output_type": "execute_result",
          "data": {
            "text/plain": [
              "RangeIndex(start=0, stop=3, step=1)"
            ]
          },
          "metadata": {},
          "execution_count": 16
        }
      ]
    },
    {
      "cell_type": "code",
      "source": [
        "sum([1,2,3])  # función \"sin objeto\" (no es método)"
      ],
      "metadata": {
        "colab": {
          "base_uri": "https://localhost:8080/"
        },
        "id": "Z1LtEKfpSt9i",
        "outputId": "8d976d27-f87b-4244-fed4-23cda1ae4336"
      },
      "execution_count": 17,
      "outputs": [
        {
          "output_type": "execute_result",
          "data": {
            "text/plain": [
              "6"
            ]
          },
          "metadata": {},
          "execution_count": 17
        }
      ]
    },
    {
      "cell_type": "code",
      "source": [
        "df.max(axis=0)  # método 1 - se llama sobre la instancia df"
      ],
      "metadata": {
        "colab": {
          "base_uri": "https://localhost:8080/",
          "height": 147
        },
        "id": "nlK3sC_BhqKj",
        "outputId": "1a2a6e85-37b1-4d8b-bdac-238685b1000c"
      },
      "execution_count": 18,
      "outputs": [
        {
          "output_type": "execute_result",
          "data": {
            "text/plain": [
              "A    3\n",
              "B    6\n",
              "dtype: int64"
            ],
            "text/html": [
              "<div>\n",
              "<style scoped>\n",
              "    .dataframe tbody tr th:only-of-type {\n",
              "        vertical-align: middle;\n",
              "    }\n",
              "\n",
              "    .dataframe tbody tr th {\n",
              "        vertical-align: top;\n",
              "    }\n",
              "\n",
              "    .dataframe thead th {\n",
              "        text-align: right;\n",
              "    }\n",
              "</style>\n",
              "<table border=\"1\" class=\"dataframe\">\n",
              "  <thead>\n",
              "    <tr style=\"text-align: right;\">\n",
              "      <th></th>\n",
              "      <th>0</th>\n",
              "    </tr>\n",
              "  </thead>\n",
              "  <tbody>\n",
              "    <tr>\n",
              "      <th>A</th>\n",
              "      <td>3</td>\n",
              "    </tr>\n",
              "    <tr>\n",
              "      <th>B</th>\n",
              "      <td>6</td>\n",
              "    </tr>\n",
              "  </tbody>\n",
              "</table>\n",
              "</div><br><label><b>dtype:</b> int64</label>"
            ]
          },
          "metadata": {},
          "execution_count": 18
        }
      ]
    },
    {
      "cell_type": "code",
      "source": [
        "df.sort_values(by='A')  # método 2"
      ],
      "metadata": {
        "colab": {
          "base_uri": "https://localhost:8080/",
          "height": 143
        },
        "id": "NEI94-uwixwi",
        "outputId": "93e8f523-5961-4407-b146-5bba82b79158"
      },
      "execution_count": 19,
      "outputs": [
        {
          "output_type": "execute_result",
          "data": {
            "text/plain": [
              "   A  B\n",
              "0  1  4\n",
              "1  2  5\n",
              "2  3  6"
            ],
            "text/html": [
              "\n",
              "  <div id=\"df-5d93ffc7-45c3-44e7-aa9f-62dc9edb5db4\" class=\"colab-df-container\">\n",
              "    <div>\n",
              "<style scoped>\n",
              "    .dataframe tbody tr th:only-of-type {\n",
              "        vertical-align: middle;\n",
              "    }\n",
              "\n",
              "    .dataframe tbody tr th {\n",
              "        vertical-align: top;\n",
              "    }\n",
              "\n",
              "    .dataframe thead th {\n",
              "        text-align: right;\n",
              "    }\n",
              "</style>\n",
              "<table border=\"1\" class=\"dataframe\">\n",
              "  <thead>\n",
              "    <tr style=\"text-align: right;\">\n",
              "      <th></th>\n",
              "      <th>A</th>\n",
              "      <th>B</th>\n",
              "    </tr>\n",
              "  </thead>\n",
              "  <tbody>\n",
              "    <tr>\n",
              "      <th>0</th>\n",
              "      <td>1</td>\n",
              "      <td>4</td>\n",
              "    </tr>\n",
              "    <tr>\n",
              "      <th>1</th>\n",
              "      <td>2</td>\n",
              "      <td>5</td>\n",
              "    </tr>\n",
              "    <tr>\n",
              "      <th>2</th>\n",
              "      <td>3</td>\n",
              "      <td>6</td>\n",
              "    </tr>\n",
              "  </tbody>\n",
              "</table>\n",
              "</div>\n",
              "    <div class=\"colab-df-buttons\">\n",
              "\n",
              "  <div class=\"colab-df-container\">\n",
              "    <button class=\"colab-df-convert\" onclick=\"convertToInteractive('df-5d93ffc7-45c3-44e7-aa9f-62dc9edb5db4')\"\n",
              "            title=\"Convert this dataframe to an interactive table.\"\n",
              "            style=\"display:none;\">\n",
              "\n",
              "  <svg xmlns=\"http://www.w3.org/2000/svg\" height=\"24px\" viewBox=\"0 -960 960 960\">\n",
              "    <path d=\"M120-120v-720h720v720H120Zm60-500h600v-160H180v160Zm220 220h160v-160H400v160Zm0 220h160v-160H400v160ZM180-400h160v-160H180v160Zm440 0h160v-160H620v160ZM180-180h160v-160H180v160Zm440 0h160v-160H620v160Z\"/>\n",
              "  </svg>\n",
              "    </button>\n",
              "\n",
              "  <style>\n",
              "    .colab-df-container {\n",
              "      display:flex;\n",
              "      gap: 12px;\n",
              "    }\n",
              "\n",
              "    .colab-df-convert {\n",
              "      background-color: #E8F0FE;\n",
              "      border: none;\n",
              "      border-radius: 50%;\n",
              "      cursor: pointer;\n",
              "      display: none;\n",
              "      fill: #1967D2;\n",
              "      height: 32px;\n",
              "      padding: 0 0 0 0;\n",
              "      width: 32px;\n",
              "    }\n",
              "\n",
              "    .colab-df-convert:hover {\n",
              "      background-color: #E2EBFA;\n",
              "      box-shadow: 0px 1px 2px rgba(60, 64, 67, 0.3), 0px 1px 3px 1px rgba(60, 64, 67, 0.15);\n",
              "      fill: #174EA6;\n",
              "    }\n",
              "\n",
              "    .colab-df-buttons div {\n",
              "      margin-bottom: 4px;\n",
              "    }\n",
              "\n",
              "    [theme=dark] .colab-df-convert {\n",
              "      background-color: #3B4455;\n",
              "      fill: #D2E3FC;\n",
              "    }\n",
              "\n",
              "    [theme=dark] .colab-df-convert:hover {\n",
              "      background-color: #434B5C;\n",
              "      box-shadow: 0px 1px 3px 1px rgba(0, 0, 0, 0.15);\n",
              "      filter: drop-shadow(0px 1px 2px rgba(0, 0, 0, 0.3));\n",
              "      fill: #FFFFFF;\n",
              "    }\n",
              "  </style>\n",
              "\n",
              "    <script>\n",
              "      const buttonEl =\n",
              "        document.querySelector('#df-5d93ffc7-45c3-44e7-aa9f-62dc9edb5db4 button.colab-df-convert');\n",
              "      buttonEl.style.display =\n",
              "        google.colab.kernel.accessAllowed ? 'block' : 'none';\n",
              "\n",
              "      async function convertToInteractive(key) {\n",
              "        const element = document.querySelector('#df-5d93ffc7-45c3-44e7-aa9f-62dc9edb5db4');\n",
              "        const dataTable =\n",
              "          await google.colab.kernel.invokeFunction('convertToInteractive',\n",
              "                                                    [key], {});\n",
              "        if (!dataTable) return;\n",
              "\n",
              "        const docLinkHtml = 'Like what you see? Visit the ' +\n",
              "          '<a target=\"_blank\" href=https://colab.research.google.com/notebooks/data_table.ipynb>data table notebook</a>'\n",
              "          + ' to learn more about interactive tables.';\n",
              "        element.innerHTML = '';\n",
              "        dataTable['output_type'] = 'display_data';\n",
              "        await google.colab.output.renderOutput(dataTable, element);\n",
              "        const docLink = document.createElement('div');\n",
              "        docLink.innerHTML = docLinkHtml;\n",
              "        element.appendChild(docLink);\n",
              "      }\n",
              "    </script>\n",
              "  </div>\n",
              "\n",
              "\n",
              "<div id=\"df-ca0669a4-0622-4dfd-8a45-8fa1ec56259d\">\n",
              "  <button class=\"colab-df-quickchart\" onclick=\"quickchart('df-ca0669a4-0622-4dfd-8a45-8fa1ec56259d')\"\n",
              "            title=\"Suggest charts\"\n",
              "            style=\"display:none;\">\n",
              "\n",
              "<svg xmlns=\"http://www.w3.org/2000/svg\" height=\"24px\"viewBox=\"0 0 24 24\"\n",
              "     width=\"24px\">\n",
              "    <g>\n",
              "        <path d=\"M19 3H5c-1.1 0-2 .9-2 2v14c0 1.1.9 2 2 2h14c1.1 0 2-.9 2-2V5c0-1.1-.9-2-2-2zM9 17H7v-7h2v7zm4 0h-2V7h2v10zm4 0h-2v-4h2v4z\"/>\n",
              "    </g>\n",
              "</svg>\n",
              "  </button>\n",
              "\n",
              "<style>\n",
              "  .colab-df-quickchart {\n",
              "      --bg-color: #E8F0FE;\n",
              "      --fill-color: #1967D2;\n",
              "      --hover-bg-color: #E2EBFA;\n",
              "      --hover-fill-color: #174EA6;\n",
              "      --disabled-fill-color: #AAA;\n",
              "      --disabled-bg-color: #DDD;\n",
              "  }\n",
              "\n",
              "  [theme=dark] .colab-df-quickchart {\n",
              "      --bg-color: #3B4455;\n",
              "      --fill-color: #D2E3FC;\n",
              "      --hover-bg-color: #434B5C;\n",
              "      --hover-fill-color: #FFFFFF;\n",
              "      --disabled-bg-color: #3B4455;\n",
              "      --disabled-fill-color: #666;\n",
              "  }\n",
              "\n",
              "  .colab-df-quickchart {\n",
              "    background-color: var(--bg-color);\n",
              "    border: none;\n",
              "    border-radius: 50%;\n",
              "    cursor: pointer;\n",
              "    display: none;\n",
              "    fill: var(--fill-color);\n",
              "    height: 32px;\n",
              "    padding: 0;\n",
              "    width: 32px;\n",
              "  }\n",
              "\n",
              "  .colab-df-quickchart:hover {\n",
              "    background-color: var(--hover-bg-color);\n",
              "    box-shadow: 0 1px 2px rgba(60, 64, 67, 0.3), 0 1px 3px 1px rgba(60, 64, 67, 0.15);\n",
              "    fill: var(--button-hover-fill-color);\n",
              "  }\n",
              "\n",
              "  .colab-df-quickchart-complete:disabled,\n",
              "  .colab-df-quickchart-complete:disabled:hover {\n",
              "    background-color: var(--disabled-bg-color);\n",
              "    fill: var(--disabled-fill-color);\n",
              "    box-shadow: none;\n",
              "  }\n",
              "\n",
              "  .colab-df-spinner {\n",
              "    border: 2px solid var(--fill-color);\n",
              "    border-color: transparent;\n",
              "    border-bottom-color: var(--fill-color);\n",
              "    animation:\n",
              "      spin 1s steps(1) infinite;\n",
              "  }\n",
              "\n",
              "  @keyframes spin {\n",
              "    0% {\n",
              "      border-color: transparent;\n",
              "      border-bottom-color: var(--fill-color);\n",
              "      border-left-color: var(--fill-color);\n",
              "    }\n",
              "    20% {\n",
              "      border-color: transparent;\n",
              "      border-left-color: var(--fill-color);\n",
              "      border-top-color: var(--fill-color);\n",
              "    }\n",
              "    30% {\n",
              "      border-color: transparent;\n",
              "      border-left-color: var(--fill-color);\n",
              "      border-top-color: var(--fill-color);\n",
              "      border-right-color: var(--fill-color);\n",
              "    }\n",
              "    40% {\n",
              "      border-color: transparent;\n",
              "      border-right-color: var(--fill-color);\n",
              "      border-top-color: var(--fill-color);\n",
              "    }\n",
              "    60% {\n",
              "      border-color: transparent;\n",
              "      border-right-color: var(--fill-color);\n",
              "    }\n",
              "    80% {\n",
              "      border-color: transparent;\n",
              "      border-right-color: var(--fill-color);\n",
              "      border-bottom-color: var(--fill-color);\n",
              "    }\n",
              "    90% {\n",
              "      border-color: transparent;\n",
              "      border-bottom-color: var(--fill-color);\n",
              "    }\n",
              "  }\n",
              "</style>\n",
              "\n",
              "  <script>\n",
              "    async function quickchart(key) {\n",
              "      const quickchartButtonEl =\n",
              "        document.querySelector('#' + key + ' button');\n",
              "      quickchartButtonEl.disabled = true;  // To prevent multiple clicks.\n",
              "      quickchartButtonEl.classList.add('colab-df-spinner');\n",
              "      try {\n",
              "        const charts = await google.colab.kernel.invokeFunction(\n",
              "            'suggestCharts', [key], {});\n",
              "      } catch (error) {\n",
              "        console.error('Error during call to suggestCharts:', error);\n",
              "      }\n",
              "      quickchartButtonEl.classList.remove('colab-df-spinner');\n",
              "      quickchartButtonEl.classList.add('colab-df-quickchart-complete');\n",
              "    }\n",
              "    (() => {\n",
              "      let quickchartButtonEl =\n",
              "        document.querySelector('#df-ca0669a4-0622-4dfd-8a45-8fa1ec56259d button');\n",
              "      quickchartButtonEl.style.display =\n",
              "        google.colab.kernel.accessAllowed ? 'block' : 'none';\n",
              "    })();\n",
              "  </script>\n",
              "</div>\n",
              "\n",
              "    </div>\n",
              "  </div>\n"
            ],
            "application/vnd.google.colaboratory.intrinsic+json": {
              "type": "dataframe",
              "summary": "{\n  \"name\": \"df\",\n  \"rows\": 3,\n  \"fields\": [\n    {\n      \"column\": \"A\",\n      \"properties\": {\n        \"dtype\": \"number\",\n        \"std\": 1,\n        \"min\": 1,\n        \"max\": 3,\n        \"num_unique_values\": 3,\n        \"samples\": [\n          1,\n          2,\n          3\n        ],\n        \"semantic_type\": \"\",\n        \"description\": \"\"\n      }\n    },\n    {\n      \"column\": \"B\",\n      \"properties\": {\n        \"dtype\": \"number\",\n        \"std\": 1,\n        \"min\": 4,\n        \"max\": 6,\n        \"num_unique_values\": 3,\n        \"samples\": [\n          4,\n          5,\n          6\n        ],\n        \"semantic_type\": \"\",\n        \"description\": \"\"\n      }\n    }\n  ]\n}"
            }
          },
          "metadata": {},
          "execution_count": 19
        }
      ]
    },
    {
      "cell_type": "code",
      "source": [
        "type(1)  # no todos es una clase. En este caso, 1 es de tipo primitivo (int)"
      ],
      "metadata": {
        "colab": {
          "base_uri": "https://localhost:8080/"
        },
        "id": "0VG0WsPP6KWD",
        "outputId": "42dbb205-12b7-48ae-e14d-5855b3a196f6"
      },
      "execution_count": 20,
      "outputs": [
        {
          "output_type": "execute_result",
          "data": {
            "text/plain": [
              "int"
            ]
          },
          "metadata": {},
          "execution_count": 20
        }
      ]
    },
    {
      "cell_type": "markdown",
      "source": [
        "### Creamos un KNN simple"
      ],
      "metadata": {
        "id": "pV-qxdmzd0Gs"
      }
    },
    {
      "cell_type": "markdown",
      "source": [
        "Comenzamos inicialmente con init"
      ],
      "metadata": {
        "id": "32hFwT7PeBsy"
      }
    },
    {
      "cell_type": "code",
      "source": [
        "class ModeloKNN:\n",
        "    def __init__(self, k=3):\n",
        "      self.k = k\n",
        "\n",
        "    def fit(self, X, y): # fit es un método\n",
        "      self._X_train = X  # \"entrenamiento\"\n",
        "      self._y_train = y\n",
        "      return self\n",
        "\n",
        "    def predict_knn(self, X):\n",
        "      # WIP\n",
        "      pass"
      ],
      "metadata": {
        "id": "dWLlOf7udtuf"
      },
      "execution_count": 21,
      "outputs": []
    },
    {
      "cell_type": "code",
      "source": [
        "knn1 = ModeloKNN()\n",
        "knn1.fit([[1, 2], [1.5, 1.8]], [0, 0])\n",
        "knn1.k"
      ],
      "metadata": {
        "colab": {
          "base_uri": "https://localhost:8080/"
        },
        "id": "HuLpe6X1gx8m",
        "outputId": "079bd3b2-3a2f-40d2-92ef-d8602abc6841"
      },
      "execution_count": 22,
      "outputs": [
        {
          "output_type": "execute_result",
          "data": {
            "text/plain": [
              "3"
            ]
          },
          "metadata": {},
          "execution_count": 22
        }
      ]
    },
    {
      "cell_type": "code",
      "source": [
        "knn2 = ModeloKNN(k=4)\n",
        "knn2.fit([[2, 2.5], [2.5, 3]], [0, 0])\n",
        "knn2.k"
      ],
      "metadata": {
        "colab": {
          "base_uri": "https://localhost:8080/"
        },
        "id": "FlzlFYwngoKQ",
        "outputId": "12f3c2a7-ba48-4fce-e8d8-3316611c0854"
      },
      "execution_count": 23,
      "outputs": [
        {
          "output_type": "execute_result",
          "data": {
            "text/plain": [
              "4"
            ]
          },
          "metadata": {},
          "execution_count": 23
        }
      ]
    },
    {
      "cell_type": "markdown",
      "source": [
        "Creados ambos sin utilizar POO, deberíamos crear su variable para cada uno junto con la función de predicción, ej.:"
      ],
      "metadata": {
        "id": "Wg6Ipov43Zpa"
      }
    },
    {
      "cell_type": "code",
      "source": [
        "knn1_k = 3\n",
        "knn2_k = 4\n",
        "\n",
        "# Definiríamos los valores de \"entrenamiento\"\n",
        "# para cada modelo\n",
        "X_knn_1 = np.array([[1, 2], [1.5, 1.8]])\n",
        "y_knn_1 = np.array([0, 0])\n",
        "\n",
        "X_knn_2 = np.array([[2, 2.5], [2.5, 3]])\n",
        "y_knn_2 = np.array([0, 0])\n",
        "\n",
        "def predict_knn(k, X_knn, y_knn):\n",
        "  # WIP\n",
        "  pass"
      ],
      "metadata": {
        "id": "TCsk3tWc574K"
      },
      "execution_count": 24,
      "outputs": []
    },
    {
      "cell_type": "markdown",
      "source": [
        "Volvamos a nuestro ejemplo original, y definimos ahora el método predict"
      ],
      "metadata": {
        "id": "3BNTZ7Qe7jhV"
      }
    },
    {
      "cell_type": "code",
      "source": [
        "class ModeloKNN:\n",
        "    def __init__(self, k=3):\n",
        "        self._k = k\n",
        "        self._X_train = None\n",
        "        self._y_train = None\n",
        "\n",
        "    def fit(self, X, y):\n",
        "        self._X_train = X\n",
        "        self._y_train = y\n",
        "        return self\n",
        "\n",
        "    def predict(self, X):\n",
        "        predicciones = []\n",
        "        for x in X:\n",
        "            distancias = [np.sqrt(np.sum((x - x_train)**2)) for x_train in self._X_train]  # distancia euclidiana\n",
        "            k_indices = np.argsort(distancias)[:self._k]  # argsort devuelve los índices ordenados\n",
        "            k_vecinos = [self._y_train[i] for i in k_indices]  # usamos los índices para obtener los valores de y_train\n",
        "            prediccion = max(set(k_vecinos), key=k_vecinos.count)  # obtenemos la moda\n",
        "            predicciones.append(prediccion)  # agregamos la predicción a la lista\n",
        "        return np.array(predicciones)"
      ],
      "metadata": {
        "id": "vvECfwSbb1dS"
      },
      "execution_count": 25,
      "outputs": []
    },
    {
      "cell_type": "code",
      "source": [
        "# Crear datos de ejemplo\n",
        "X = np.array([\n",
        "    [1, 2],\n",
        "    [1.5, 1.8],\n",
        "    [2, 2.5],\n",
        "    [2.5, 3],\n",
        "    [5, 6],\n",
        "    [5.5, 6.5],\n",
        "    [6, 7],\n",
        "    [7, 8]\n",
        "])\n",
        "y = np.array([0, 0, 0, 0, 1, 1, 1, 1])"
      ],
      "metadata": {
        "id": "vjlukR6hb1D9"
      },
      "execution_count": 26,
      "outputs": []
    },
    {
      "cell_type": "code",
      "source": [
        "import matplotlib.pyplot as plt\n",
        "\n",
        "plt.figure(figsize=(10, 6))\n",
        "scatter = plt.scatter(X[:, 0], X[:, 1], c=y, cmap='viridis', s=100)\n",
        "plt.colorbar(scatter)\n",
        "plt.xlabel('Característica 1')\n",
        "plt.ylabel('Característica 2')\n",
        "plt.title('Visualización de los Datos de Ejemplo para k-NN')\n",
        "for i, (x, y_val) in enumerate(zip(X, y)):\n",
        "    plt.annotate(f'p{i+1}', (x[0], x[1]), xytext=(5, 5), textcoords='offset points')\n",
        "plt.show()"
      ],
      "metadata": {
        "colab": {
          "base_uri": "https://localhost:8080/",
          "height": 565
        },
        "id": "F-8DPl4Z2REW",
        "outputId": "4a187bb5-c7b3-469e-9329-9da4d05512af"
      },
      "execution_count": 27,
      "outputs": [
        {
          "output_type": "display_data",
          "data": {
            "text/plain": [
              "<Figure size 1000x600 with 2 Axes>"
            ],
            "image/png": "[encoded data removed]"
          },
          "metadata": {}
        }
      ]
    },
    {
      "cell_type": "code",
      "source": [
        "# Se instancia y entrena el modelo\n",
        "modelo_knn = ModeloKNN(k=3)\n",
        "modelo_knn.fit(X, y)"
      ],
      "metadata": {
        "colab": {
          "base_uri": "https://localhost:8080/"
        },
        "id": "sVs-4LnwcYTc",
        "outputId": "a8981065-dc06-4f0f-eb87-86112909eb44"
      },
      "execution_count": 28,
      "outputs": [
        {
          "output_type": "execute_result",
          "data": {
            "text/plain": [
              "<__main__.ModeloKNN at 0x7d1264cd7d00>"
            ]
          },
          "metadata": {},
          "execution_count": 28
        }
      ]
    },
    {
      "cell_type": "code",
      "source": [
        "# Realizamos predicciones\n",
        "X_nuevo = np.array([[2, 3], [6, 7], [0.5, 7]])\n",
        "predicciones = modelo_knn.predict(X_nuevo)\n",
        "predicciones"
      ],
      "metadata": {
        "colab": {
          "base_uri": "https://localhost:8080/"
        },
        "id": "MAhacAqccWM8",
        "outputId": "97c58748-3fac-406b-f0cd-e4cd88f82c5a"
      },
      "execution_count": 29,
      "outputs": [
        {
          "output_type": "execute_result",
          "data": {
            "text/plain": [
              "array([0, 1, 0])"
            ]
          },
          "metadata": {},
          "execution_count": 29
        }
      ]
    },
    {
      "cell_type": "markdown",
      "source": [
        "### Creamos un clasificador KNN que hereda del anterior"
      ],
      "metadata": {
        "id": "-0OnYt6Uc8MU"
      }
    },
    {
      "cell_type": "code",
      "source": [
        "class ModeloKNNMinkowski(ModeloKNN):\n",
        "    def __init__(self, k=3, p=2):  # se agrega p, parámetro de la distancia de Minkowski\n",
        "        super().__init__(k)  # Llamada al constructor de la clase padre\n",
        "        self._p = p  # Parámetro para la distancia de Minkowski\n",
        "\n",
        "    def predict(self, X):  # Sobreescritura del método predict padre\n",
        "        predicciones = []\n",
        "        for x in X:\n",
        "            # Cálculo de la distancia de Minkowski\n",
        "            distancias = [np.sum(np.abs(x - x_train)**self._p)**(1/self._p) for x_train in self._X_train]\n",
        "            k_indices = np.argsort(distancias)[:self._k]\n",
        "            k_vecinos = [self._y_train[i] for i in k_indices]\n",
        "            prediccion = max(set(k_vecinos), key=k_vecinos.count)\n",
        "            predicciones.append(prediccion)\n",
        "        return np.array(predicciones)"
      ],
      "metadata": {
        "id": "mlgxQ1JFbPOs"
      },
      "execution_count": 30,
      "outputs": []
    },
    {
      "cell_type": "code",
      "source": [
        "# Usar los mismos datos de ejemplo\n",
        "modelo_knn_minkowski = ModeloKNNMinkowski(k=3, p=1)\n",
        "modelo_knn_minkowski.fit(X, y)  # se usa el fit definido en ModeloKNN\n",
        "\n",
        "predicciones_minkowski = modelo_knn_minkowski.predict(X_nuevo)\n",
        "predicciones_minkowski"
      ],
      "metadata": {
        "colab": {
          "base_uri": "https://localhost:8080/"
        },
        "id": "lK63rC8adIi6",
        "outputId": "60416639-e3fb-4771-8c52-9f68556ed1fc"
      },
      "execution_count": 31,
      "outputs": [
        {
          "output_type": "execute_result",
          "data": {
            "text/plain": [
              "array([0, 1, 1])"
            ]
          },
          "metadata": {},
          "execution_count": 31
        }
      ]
    },
    {
      "cell_type": "markdown",
      "source": [
        "Vemos gráficamente los resultados"
      ],
      "metadata": {
        "id": "InixnrjmhcDm"
      }
    },
    {
      "cell_type": "code",
      "source": [
        "def plot_decision_boundary(model, X, y, title):\n",
        "    h = .02  # Tamaño del paso en la malla\n",
        "    x_min, x_max = X[:, 0].min() - 1, X[:, 0].max() + 1\n",
        "    y_min, y_max = X[:, 1].min() - 1, X[:, 1].max() + 1\n",
        "    xx, yy = np.meshgrid(np.arange(x_min, x_max, h),\n",
        "                         np.arange(y_min, y_max, h))\n",
        "    Z = model.predict(np.c_[xx.ravel(), yy.ravel()])\n",
        "    Z = Z.reshape(xx.shape)\n",
        "\n",
        "    plt.figure(figsize=(10, 8))\n",
        "    plt.contourf(xx, yy, Z, cmap=plt.cm.RdYlBu, alpha=0.8)\n",
        "    plt.scatter(X[:, 0], X[:, 1], c=y, cmap=plt.cm.RdYlBu, edgecolors='black')\n",
        "    plt.scatter(X_nuevo[:, 0], X_nuevo[:, 1], c='green', s=200, marker='*', label='Nuevos puntos')\n",
        "    plt.xlabel('Característica 1')\n",
        "    plt.ylabel('Característica 2')\n",
        "    plt.title(title)\n",
        "    plt.legend()\n",
        "    plt.show()\n",
        "\n",
        "# Visualizar resultados para ModeloKNN\n",
        "plot_decision_boundary(modelo_knn, X, y, 'Área de Decisión - ModeloKNN')\n",
        "\n",
        "# Visualizar resultados para ModeloKNNMinkowski\n",
        "plot_decision_boundary(modelo_knn_minkowski, X, y, 'Área de Decisión - ModeloKNNMinkowski')"
      ],
      "metadata": {
        "colab": {
          "base_uri": "https://localhost:8080/",
          "height": 1000
        },
        "id": "LxadJKvpfh8V",
        "outputId": "8b99eb93-0686-45e8-f63e-e5347509445b"
      },
      "execution_count": 32,
      "outputs": [
        {
          "output_type": "display_data",
          "data": {
            "text/plain": [
              "<Figure size 1000x800 with 1 Axes>"
            ],
            "image/png": "[encoded data removed]"
          },
          "metadata": {}
        },
        {
          "output_type": "display_data",
          "data": {
            "text/plain": [
              "<Figure size 1000x800 with 1 Axes>"
            ],
            "image/png": "[encoded data removed]"
          },
          "metadata": {}
        }
      ]
    },
    {
      "cell_type": "markdown",
      "source": [
        "### Propiedades fundamentales de POO a partir de los modelos"
      ],
      "metadata": {
        "id": "jLtPPFxf7Dwu"
      }
    },
    {
      "cell_type": "markdown",
      "source": [
        "_Abstracción_: usamos ModeloKNN estando abstraídos de sus detalles internos\n",
        "\n",
        "\n"
      ],
      "metadata": {
        "id": "NFZkkuwGCSrL"
      }
    },
    {
      "cell_type": "code",
      "source": [
        "# imaginemos por ejemplo que lo importamos desde otra librería...\n",
        "# import ModeloKNN\n",
        "\n",
        "modelo = ModeloKNN(k=3)\n",
        "modelo.fit(X, y)\n",
        "prediccion = modelo.predict([[3, 4]])\n",
        "prediccion"
      ],
      "metadata": {
        "colab": {
          "base_uri": "https://localhost:8080/"
        },
        "id": "3l961TV8BUnf",
        "outputId": "4f94465a-810e-478e-8a16-0f5743f77e93"
      },
      "execution_count": 33,
      "outputs": [
        {
          "output_type": "execute_result",
          "data": {
            "text/plain": [
              "array([0])"
            ]
          },
          "metadata": {},
          "execution_count": 33
        }
      ]
    },
    {
      "cell_type": "markdown",
      "source": [
        "_Encapsulamiento_: los detalles internos se encuentran \"protegidos\""
      ],
      "metadata": {
        "id": "-S3rlx_2CpKE"
      }
    },
    {
      "cell_type": "code",
      "source": [
        "# el _ de _X_train marca que es de uso dentro\n",
        "# de la clase. El atributo (o método)\n",
        "# no fue pensado para accederse así\n",
        "modelo._X_train"
      ],
      "metadata": {
        "colab": {
          "base_uri": "https://localhost:8080/"
        },
        "id": "bTQFVXPFCOCN",
        "outputId": "bccc2b57-9d90-4720-d354-61f2ca550090"
      },
      "execution_count": 34,
      "outputs": [
        {
          "output_type": "execute_result",
          "data": {
            "text/plain": [
              "array([[1. , 2. ],\n",
              "       [1.5, 1.8],\n",
              "       [2. , 2.5],\n",
              "       [2.5, 3. ],\n",
              "       [5. , 6. ],\n",
              "       [5.5, 6.5],\n",
              "       [6. , 7. ],\n",
              "       [7. , 8. ]])"
            ]
          },
          "metadata": {},
          "execution_count": 34
        }
      ]
    },
    {
      "cell_type": "markdown",
      "source": [
        "_Polimorfismo_: tenemos los siguientes modelos, podemos realizar predicciones independientemente de cuál es su clase"
      ],
      "metadata": {
        "id": "Akz9PUzYCW9r"
      }
    },
    {
      "cell_type": "code",
      "source": [
        "modelos = [modelo_knn_minkowski, modelo_knn]"
      ],
      "metadata": {
        "id": "LKmWpkYlAHcd"
      },
      "execution_count": 35,
      "outputs": []
    },
    {
      "cell_type": "markdown",
      "source": [
        "Imaginemos que los recibimos en una función en otra parte, que hace predicciones a partir de los mismos..."
      ],
      "metadata": {
        "id": "kf9C2ubiCbou"
      }
    },
    {
      "cell_type": "code",
      "source": [
        "for i, modelo in enumerate(modelos, 1):\n",
        "    modelo.fit(X, y)\n",
        "    prediccion = modelo.predict([[0.3, 7.1]])\n",
        "    print(f\"Predicción del Modelo {i}\\\n",
        "            para [0.3, 7.1]: {prediccion}\")"
      ],
      "metadata": {
        "colab": {
          "base_uri": "https://localhost:8080/"
        },
        "id": "-Z_UdhVV-4Qc",
        "outputId": "b51f9ac7-bbb4-45cc-f55e-64006f7acfd5"
      },
      "execution_count": 36,
      "outputs": [
        {
          "output_type": "stream",
          "name": "stdout",
          "text": [
            "Predicción del Modelo 1            para [0.3, 7.1]: [1]\n",
            "Predicción del Modelo 2            para [0.3, 7.1]: [0]\n"
          ]
        }
      ]
    },
    {
      "cell_type": "code",
      "source": [],
      "metadata": {
        "id": "1u9_yCY9_upz"
      },
      "execution_count": 36,
      "outputs": []
    }
  ]
}
