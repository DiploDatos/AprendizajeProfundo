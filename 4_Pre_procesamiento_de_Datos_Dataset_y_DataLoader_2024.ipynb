{
  "nbformat": 4,
  "nbformat_minor": 0,
  "metadata": {
    "colab": {
      "provenance": [],
      "include_colab_link": true
    },
    "kernelspec": {
      "name": "python3",
      "display_name": "Python 3"
    },
    "language_info": {
      "name": "python"
    }
  },
  "cells": [
    {
      "cell_type": "markdown",
      "metadata": {
        "id": "view-in-github",
        "colab_type": "text"
      },
      "source": [
        "<a href=\"https://colab.research.google.com/github/DiploDatos/AprendizajeProfundo/blob/add_2024_content/4_Pre_procesamiento_de_Datos_Dataset_y_DataLoader_2024.ipynb\" target=\"_parent\"><img src=\"https://colab.research.google.com/assets/colab-badge.svg\" alt=\"Open In Colab\"/></a>"
      ]
    },
    {
      "cell_type": "markdown",
      "source": [
        "# Pre-procesamiento de Datos\n"
      ],
      "metadata": {
        "id": "GErP_xoZOrJI"
      }
    },
    {
      "cell_type": "code",
      "source": [
        "# Importando líbrerias\n",
        "import numpy as np\n",
        "import pandas as pd\n",
        "import matplotlib.pyplot as plt\n",
        "\n",
        "from sklearn.preprocessing import MinMaxScaler\n",
        "\n",
        "import torch\n",
        "from torch.utils.data import TensorDataset, DataLoader, random_split\n",
        "\n",
        "from torchvision import datasets\n",
        "from torchvision.transforms import ToTensor, transforms"
      ],
      "metadata": {
        "id": "Z0tNDyGKRv2z"
      },
      "execution_count": null,
      "outputs": []
    },
    {
      "cell_type": "code",
      "source": [
        "# Configuración del dispositivo\n",
        "device = torch.device('cuda' if torch.cuda.is_available() else 'cpu')\n",
        "device"
      ],
      "metadata": {
        "colab": {
          "base_uri": "https://localhost:8080/"
        },
        "id": "XOt0i3WMcJyH",
        "outputId": "8a8c9918-58f1-402c-dc6e-57ad446923b9"
      },
      "execution_count": null,
      "outputs": [
        {
          "output_type": "execute_result",
          "data": {
            "text/plain": [
              "device(type='cpu')"
            ]
          },
          "metadata": {},
          "execution_count": 2
        }
      ]
    },
    {
      "cell_type": "markdown",
      "source": [
        "## Datos Estructurados"
      ],
      "metadata": {
        "id": "iUGS-XEdFWEf"
      }
    },
    {
      "cell_type": "markdown",
      "source": [
        "### Clase TensorDataset"
      ],
      "metadata": {
        "id": "dX7KFvfVpTbN"
      }
    },
    {
      "cell_type": "markdown",
      "source": [
        "#### Arreglos"
      ],
      "metadata": {
        "id": "F4IbI16tFfM7"
      }
    },
    {
      "cell_type": "code",
      "source": [
        "# Supongamos arreglos de una pequeña muestra de datos\n",
        "np.random.seed(42)\n",
        "n_muestras = 7\n",
        "n_features = 5\n",
        "features_array = np.array(np.random.rand(n_muestras, n_features))\n",
        "target_array = np.array(np.random.rand(n_muestras, 1))\n",
        "\n",
        "# Convertir arrays a tensores PyTorch\n",
        "features_torch = torch.tensor(features_array)\n",
        "target_torch = torch.tensor(target_array)\n",
        "\n",
        "# Crear un TensorDataset a partir de los dos tensores (features, target)\n",
        "dataset = TensorDataset(features_torch, target_torch)\n",
        "\n",
        "# Tamaño del TensorDataset\n",
        "print(f'Tamaño del TensorDataset: {len(dataset)}')\n",
        "\n",
        "# Retornar el último elemento del TensorDataset\n",
        "print(f'Datos del último elemnto del TensorDataset:\\n\\t{dataset[-1]}')"
      ],
      "metadata": {
        "colab": {
          "base_uri": "https://localhost:8080/"
        },
        "id": "3m5WKZA1OmjS",
        "outputId": "dfc2bf45-3b6e-4746-d9d4-2cce15b8115f"
      },
      "execution_count": null,
      "outputs": [
        {
          "output_type": "stream",
          "name": "stdout",
          "text": [
            "Tamaño del TensorDataset: 7\n",
            "Datos del último elemnto del TensorDataset:\n",
            "\t(tensor([0.6075, 0.1705, 0.0651, 0.9489, 0.9656], dtype=torch.float64), tensor([0.4952], dtype=torch.float64))\n"
          ]
        }
      ]
    },
    {
      "cell_type": "code",
      "source": [
        "# Iterar a través del TensorDataset\n",
        "print(f'Valores de:')\n",
        "for i, data in enumerate(dataset):\n",
        "      print(f'\\t * features - muestra {i + 1}: {data[0]}')\n",
        "      print(f'\\t * target - muestra {i + 1}: {data[1]}', end='\\n\\n')"
      ],
      "metadata": {
        "colab": {
          "base_uri": "https://localhost:8080/"
        },
        "id": "41FBywuVEQeV",
        "outputId": "cb2b89d4-7209-4d45-85bd-324530a1bf8a"
      },
      "execution_count": null,
      "outputs": [
        {
          "output_type": "stream",
          "name": "stdout",
          "text": [
            "Valores de:\n",
            "\t * features - muestra 1: tensor([0.3745, 0.9507, 0.7320, 0.5987, 0.1560], dtype=torch.float64)\n",
            "\t * target - muestra 1: tensor([0.8084], dtype=torch.float64)\n",
            "\n",
            "\t * features - muestra 2: tensor([0.1560, 0.0581, 0.8662, 0.6011, 0.7081], dtype=torch.float64)\n",
            "\t * target - muestra 2: tensor([0.3046], dtype=torch.float64)\n",
            "\n",
            "\t * features - muestra 3: tensor([0.0206, 0.9699, 0.8324, 0.2123, 0.1818], dtype=torch.float64)\n",
            "\t * target - muestra 3: tensor([0.0977], dtype=torch.float64)\n",
            "\n",
            "\t * features - muestra 4: tensor([0.1834, 0.3042, 0.5248, 0.4319, 0.2912], dtype=torch.float64)\n",
            "\t * target - muestra 4: tensor([0.6842], dtype=torch.float64)\n",
            "\n",
            "\t * features - muestra 5: tensor([0.6119, 0.1395, 0.2921, 0.3664, 0.4561], dtype=torch.float64)\n",
            "\t * target - muestra 5: tensor([0.4402], dtype=torch.float64)\n",
            "\n",
            "\t * features - muestra 6: tensor([0.7852, 0.1997, 0.5142, 0.5924, 0.0465], dtype=torch.float64)\n",
            "\t * target - muestra 6: tensor([0.1220], dtype=torch.float64)\n",
            "\n",
            "\t * features - muestra 7: tensor([0.6075, 0.1705, 0.0651, 0.9489, 0.9656], dtype=torch.float64)\n",
            "\t * target - muestra 7: tensor([0.4952], dtype=torch.float64)\n",
            "\n"
          ]
        }
      ]
    },
    {
      "cell_type": "markdown",
      "source": [
        "#### Dataframe"
      ],
      "metadata": {
        "id": "gdVDT-XMRZXu"
      }
    },
    {
      "cell_type": "code",
      "source": [
        "url_dataset = 'https://opendatanepal.com/dataset/a3832b84-fadf-4bdd-b7d8-cc6953cc5625/resource/ca6bca1d-4089-4c24-a12b-312d8d7341e1/download/analysis-of-water-samples-from-three-points-of-manohara-at-kathmandu.csv'\n",
        "dataframe = pd.read_csv(url_dataset, skiprows=[1, 2], encoding='unicode_escape')\n",
        "dataframe.info()\n",
        "dataframe"
      ],
      "metadata": {
        "colab": {
          "base_uri": "https://localhost:8080/",
          "height": 574
        },
        "id": "dQC_P0g0RfIw",
        "outputId": "b43a25b9-ff15-4332-ae1c-46b6e1e3929a"
      },
      "execution_count": null,
      "outputs": [
        {
          "output_type": "stream",
          "name": "stdout",
          "text": [
            "<class 'pandas.core.frame.DataFrame'>\n",
            "RangeIndex: 4 entries, 0 to 3\n",
            "Data columns (total 16 columns):\n",
            " #   Column      Non-Null Count  Dtype  \n",
            "---  ------      --------------  -----  \n",
            " 0   Parameters  4 non-null      object \n",
            " 1   pH          4 non-null      float64\n",
            " 2   DO          4 non-null      float64\n",
            " 3   BOD         4 non-null      float64\n",
            " 4   COD         4 non-null      float64\n",
            " 5   TDS         4 non-null      int64  \n",
            " 6   EC          4 non-null      int64  \n",
            " 7   NH3-N       4 non-null      int64  \n",
            " 8   NO3-N       4 non-null      float64\n",
            " 9   NO2-N       4 non-null      float64\n",
            " 10  TOC         4 non-null      float64\n",
            " 11  TH          4 non-null      int64  \n",
            " 12  Mg          4 non-null      float64\n",
            " 13  Fe          4 non-null      float64\n",
            " 14  TC          4 non-null      int64  \n",
            " 15  E.coli      4 non-null      int64  \n",
            "dtypes: float64(9), int64(6), object(1)\n",
            "memory usage: 640.0+ bytes\n"
          ]
        },
        {
          "output_type": "execute_result",
          "data": {
            "text/plain": [
              "                Parameters   pH    DO   BOD   COD  TDS    EC  NH3-N  NO3-N  \\\n",
              "0       Manohara-pepsikola  7.4   7.0  14.5  23.7  620   870     60    2.3   \n",
              "1  Manohara-Mulpani bridge  7.2   8.9  11.1  12.3  100   160     20    1.4   \n",
              "2          Manohara-Sankhu  7.0  15.7   5.4  12.4   60    78     20    1.6   \n",
              "3       Manahara-Balkumari  7.6   3.9  23.8  40.5  980  1450     60    2.0   \n",
              "\n",
              "   NO2-N   TOC   TH    Mg   Fe    TC  E.coli  \n",
              "0    0.2   4.5   60   7.8  4.9  1600     140  \n",
              "1    0.1   2.0  120  23.7  0.3   900      80  \n",
              "2    0.1   6.7  130  12.5  0.4  1600     120  \n",
              "3    0.2  12.8   80  11.8  6.1   500      40  "
            ],
            "text/html": [
              "\n",
              "  <div id=\"df-ba1bbe9b-0a8b-4d3d-8118-68f5d049e240\" class=\"colab-df-container\">\n",
              "    <div>\n",
              "<style scoped>\n",
              "    .dataframe tbody tr th:only-of-type {\n",
              "        vertical-align: middle;\n",
              "    }\n",
              "\n",
              "    .dataframe tbody tr th {\n",
              "        vertical-align: top;\n",
              "    }\n",
              "\n",
              "    .dataframe thead th {\n",
              "        text-align: right;\n",
              "    }\n",
              "</style>\n",
              "<table border=\"1\" class=\"dataframe\">\n",
              "  <thead>\n",
              "    <tr style=\"text-align: right;\">\n",
              "      <th></th>\n",
              "      <th>Parameters</th>\n",
              "      <th>pH</th>\n",
              "      <th>DO</th>\n",
              "      <th>BOD</th>\n",
              "      <th>COD</th>\n",
              "      <th>TDS</th>\n",
              "      <th>EC</th>\n",
              "      <th>NH3-N</th>\n",
              "      <th>NO3-N</th>\n",
              "      <th>NO2-N</th>\n",
              "      <th>TOC</th>\n",
              "      <th>TH</th>\n",
              "      <th>Mg</th>\n",
              "      <th>Fe</th>\n",
              "      <th>TC</th>\n",
              "      <th>E.coli</th>\n",
              "    </tr>\n",
              "  </thead>\n",
              "  <tbody>\n",
              "    <tr>\n",
              "      <th>0</th>\n",
              "      <td>Manohara-pepsikola</td>\n",
              "      <td>7.4</td>\n",
              "      <td>7.0</td>\n",
              "      <td>14.5</td>\n",
              "      <td>23.7</td>\n",
              "      <td>620</td>\n",
              "      <td>870</td>\n",
              "      <td>60</td>\n",
              "      <td>2.3</td>\n",
              "      <td>0.2</td>\n",
              "      <td>4.5</td>\n",
              "      <td>60</td>\n",
              "      <td>7.8</td>\n",
              "      <td>4.9</td>\n",
              "      <td>1600</td>\n",
              "      <td>140</td>\n",
              "    </tr>\n",
              "    <tr>\n",
              "      <th>1</th>\n",
              "      <td>Manohara-Mulpani bridge</td>\n",
              "      <td>7.2</td>\n",
              "      <td>8.9</td>\n",
              "      <td>11.1</td>\n",
              "      <td>12.3</td>\n",
              "      <td>100</td>\n",
              "      <td>160</td>\n",
              "      <td>20</td>\n",
              "      <td>1.4</td>\n",
              "      <td>0.1</td>\n",
              "      <td>2.0</td>\n",
              "      <td>120</td>\n",
              "      <td>23.7</td>\n",
              "      <td>0.3</td>\n",
              "      <td>900</td>\n",
              "      <td>80</td>\n",
              "    </tr>\n",
              "    <tr>\n",
              "      <th>2</th>\n",
              "      <td>Manohara-Sankhu</td>\n",
              "      <td>7.0</td>\n",
              "      <td>15.7</td>\n",
              "      <td>5.4</td>\n",
              "      <td>12.4</td>\n",
              "      <td>60</td>\n",
              "      <td>78</td>\n",
              "      <td>20</td>\n",
              "      <td>1.6</td>\n",
              "      <td>0.1</td>\n",
              "      <td>6.7</td>\n",
              "      <td>130</td>\n",
              "      <td>12.5</td>\n",
              "      <td>0.4</td>\n",
              "      <td>1600</td>\n",
              "      <td>120</td>\n",
              "    </tr>\n",
              "    <tr>\n",
              "      <th>3</th>\n",
              "      <td>Manahara-Balkumari</td>\n",
              "      <td>7.6</td>\n",
              "      <td>3.9</td>\n",
              "      <td>23.8</td>\n",
              "      <td>40.5</td>\n",
              "      <td>980</td>\n",
              "      <td>1450</td>\n",
              "      <td>60</td>\n",
              "      <td>2.0</td>\n",
              "      <td>0.2</td>\n",
              "      <td>12.8</td>\n",
              "      <td>80</td>\n",
              "      <td>11.8</td>\n",
              "      <td>6.1</td>\n",
              "      <td>500</td>\n",
              "      <td>40</td>\n",
              "    </tr>\n",
              "  </tbody>\n",
              "</table>\n",
              "</div>\n",
              "    <div class=\"colab-df-buttons\">\n",
              "\n",
              "  <div class=\"colab-df-container\">\n",
              "    <button class=\"colab-df-convert\" onclick=\"convertToInteractive('df-ba1bbe9b-0a8b-4d3d-8118-68f5d049e240')\"\n",
              "            title=\"Convert this dataframe to an interactive table.\"\n",
              "            style=\"display:none;\">\n",
              "\n",
              "  <svg xmlns=\"http://www.w3.org/2000/svg\" height=\"24px\" viewBox=\"0 -960 960 960\">\n",
              "    <path d=\"M120-120v-720h720v720H120Zm60-500h600v-160H180v160Zm220 220h160v-160H400v160Zm0 220h160v-160H400v160ZM180-400h160v-160H180v160Zm440 0h160v-160H620v160ZM180-180h160v-160H180v160Zm440 0h160v-160H620v160Z\"/>\n",
              "  </svg>\n",
              "    </button>\n",
              "\n",
              "  <style>\n",
              "    .colab-df-container {\n",
              "      display:flex;\n",
              "      gap: 12px;\n",
              "    }\n",
              "\n",
              "    .colab-df-convert {\n",
              "      background-color: #E8F0FE;\n",
              "      border: none;\n",
              "      border-radius: 50%;\n",
              "      cursor: pointer;\n",
              "      display: none;\n",
              "      fill: #1967D2;\n",
              "      height: 32px;\n",
              "      padding: 0 0 0 0;\n",
              "      width: 32px;\n",
              "    }\n",
              "\n",
              "    .colab-df-convert:hover {\n",
              "      background-color: #E2EBFA;\n",
              "      box-shadow: 0px 1px 2px rgba(60, 64, 67, 0.3), 0px 1px 3px 1px rgba(60, 64, 67, 0.15);\n",
              "      fill: #174EA6;\n",
              "    }\n",
              "\n",
              "    .colab-df-buttons div {\n",
              "      margin-bottom: 4px;\n",
              "    }\n",
              "\n",
              "    [theme=dark] .colab-df-convert {\n",
              "      background-color: #3B4455;\n",
              "      fill: #D2E3FC;\n",
              "    }\n",
              "\n",
              "    [theme=dark] .colab-df-convert:hover {\n",
              "      background-color: #434B5C;\n",
              "      box-shadow: 0px 1px 3px 1px rgba(0, 0, 0, 0.15);\n",
              "      filter: drop-shadow(0px 1px 2px rgba(0, 0, 0, 0.3));\n",
              "      fill: #FFFFFF;\n",
              "    }\n",
              "  </style>\n",
              "\n",
              "    <script>\n",
              "      const buttonEl =\n",
              "        document.querySelector('#df-ba1bbe9b-0a8b-4d3d-8118-68f5d049e240 button.colab-df-convert');\n",
              "      buttonEl.style.display =\n",
              "        google.colab.kernel.accessAllowed ? 'block' : 'none';\n",
              "\n",
              "      async function convertToInteractive(key) {\n",
              "        const element = document.querySelector('#df-ba1bbe9b-0a8b-4d3d-8118-68f5d049e240');\n",
              "        const dataTable =\n",
              "          await google.colab.kernel.invokeFunction('convertToInteractive',\n",
              "                                                    [key], {});\n",
              "        if (!dataTable) return;\n",
              "\n",
              "        const docLinkHtml = 'Like what you see? Visit the ' +\n",
              "          '<a target=\"_blank\" href=https://colab.research.google.com/notebooks/data_table.ipynb>data table notebook</a>'\n",
              "          + ' to learn more about interactive tables.';\n",
              "        element.innerHTML = '';\n",
              "        dataTable['output_type'] = 'display_data';\n",
              "        await google.colab.output.renderOutput(dataTable, element);\n",
              "        const docLink = document.createElement('div');\n",
              "        docLink.innerHTML = docLinkHtml;\n",
              "        element.appendChild(docLink);\n",
              "      }\n",
              "    </script>\n",
              "  </div>\n",
              "\n",
              "\n",
              "<div id=\"df-aa74a1ef-0dcc-4ebd-aec2-cbeddae0abf6\">\n",
              "  <button class=\"colab-df-quickchart\" onclick=\"quickchart('df-aa74a1ef-0dcc-4ebd-aec2-cbeddae0abf6')\"\n",
              "            title=\"Suggest charts.\"\n",
              "            style=\"display:none;\">\n",
              "\n",
              "<svg xmlns=\"http://www.w3.org/2000/svg\" height=\"24px\"viewBox=\"0 0 24 24\"\n",
              "     width=\"24px\">\n",
              "    <g>\n",
              "        <path d=\"M19 3H5c-1.1 0-2 .9-2 2v14c0 1.1.9 2 2 2h14c1.1 0 2-.9 2-2V5c0-1.1-.9-2-2-2zM9 17H7v-7h2v7zm4 0h-2V7h2v10zm4 0h-2v-4h2v4z\"/>\n",
              "    </g>\n",
              "</svg>\n",
              "  </button>\n",
              "\n",
              "<style>\n",
              "  .colab-df-quickchart {\n",
              "      --bg-color: #E8F0FE;\n",
              "      --fill-color: #1967D2;\n",
              "      --hover-bg-color: #E2EBFA;\n",
              "      --hover-fill-color: #174EA6;\n",
              "      --disabled-fill-color: #AAA;\n",
              "      --disabled-bg-color: #DDD;\n",
              "  }\n",
              "\n",
              "  [theme=dark] .colab-df-quickchart {\n",
              "      --bg-color: #3B4455;\n",
              "      --fill-color: #D2E3FC;\n",
              "      --hover-bg-color: #434B5C;\n",
              "      --hover-fill-color: #FFFFFF;\n",
              "      --disabled-bg-color: #3B4455;\n",
              "      --disabled-fill-color: #666;\n",
              "  }\n",
              "\n",
              "  .colab-df-quickchart {\n",
              "    background-color: var(--bg-color);\n",
              "    border: none;\n",
              "    border-radius: 50%;\n",
              "    cursor: pointer;\n",
              "    display: none;\n",
              "    fill: var(--fill-color);\n",
              "    height: 32px;\n",
              "    padding: 0;\n",
              "    width: 32px;\n",
              "  }\n",
              "\n",
              "  .colab-df-quickchart:hover {\n",
              "    background-color: var(--hover-bg-color);\n",
              "    box-shadow: 0 1px 2px rgba(60, 64, 67, 0.3), 0 1px 3px 1px rgba(60, 64, 67, 0.15);\n",
              "    fill: var(--button-hover-fill-color);\n",
              "  }\n",
              "\n",
              "  .colab-df-quickchart-complete:disabled,\n",
              "  .colab-df-quickchart-complete:disabled:hover {\n",
              "    background-color: var(--disabled-bg-color);\n",
              "    fill: var(--disabled-fill-color);\n",
              "    box-shadow: none;\n",
              "  }\n",
              "\n",
              "  .colab-df-spinner {\n",
              "    border: 2px solid var(--fill-color);\n",
              "    border-color: transparent;\n",
              "    border-bottom-color: var(--fill-color);\n",
              "    animation:\n",
              "      spin 1s steps(1) infinite;\n",
              "  }\n",
              "\n",
              "  @keyframes spin {\n",
              "    0% {\n",
              "      border-color: transparent;\n",
              "      border-bottom-color: var(--fill-color);\n",
              "      border-left-color: var(--fill-color);\n",
              "    }\n",
              "    20% {\n",
              "      border-color: transparent;\n",
              "      border-left-color: var(--fill-color);\n",
              "      border-top-color: var(--fill-color);\n",
              "    }\n",
              "    30% {\n",
              "      border-color: transparent;\n",
              "      border-left-color: var(--fill-color);\n",
              "      border-top-color: var(--fill-color);\n",
              "      border-right-color: var(--fill-color);\n",
              "    }\n",
              "    40% {\n",
              "      border-color: transparent;\n",
              "      border-right-color: var(--fill-color);\n",
              "      border-top-color: var(--fill-color);\n",
              "    }\n",
              "    60% {\n",
              "      border-color: transparent;\n",
              "      border-right-color: var(--fill-color);\n",
              "    }\n",
              "    80% {\n",
              "      border-color: transparent;\n",
              "      border-right-color: var(--fill-color);\n",
              "      border-bottom-color: var(--fill-color);\n",
              "    }\n",
              "    90% {\n",
              "      border-color: transparent;\n",
              "      border-bottom-color: var(--fill-color);\n",
              "    }\n",
              "  }\n",
              "</style>\n",
              "\n",
              "  <script>\n",
              "    async function quickchart(key) {\n",
              "      const quickchartButtonEl =\n",
              "        document.querySelector('#' + key + ' button');\n",
              "      quickchartButtonEl.disabled = true;  // To prevent multiple clicks.\n",
              "      quickchartButtonEl.classList.add('colab-df-spinner');\n",
              "      try {\n",
              "        const charts = await google.colab.kernel.invokeFunction(\n",
              "            'suggestCharts', [key], {});\n",
              "      } catch (error) {\n",
              "        console.error('Error during call to suggestCharts:', error);\n",
              "      }\n",
              "      quickchartButtonEl.classList.remove('colab-df-spinner');\n",
              "      quickchartButtonEl.classList.add('colab-df-quickchart-complete');\n",
              "    }\n",
              "    (() => {\n",
              "      let quickchartButtonEl =\n",
              "        document.querySelector('#df-aa74a1ef-0dcc-4ebd-aec2-cbeddae0abf6 button');\n",
              "      quickchartButtonEl.style.display =\n",
              "        google.colab.kernel.accessAllowed ? 'block' : 'none';\n",
              "    })();\n",
              "  </script>\n",
              "</div>\n",
              "    </div>\n",
              "  </div>\n"
            ]
          },
          "metadata": {},
          "execution_count": 5
        }
      ]
    },
    {
      "cell_type": "code",
      "source": [
        "# Mostrar los datos de features que se van a utilizar\n",
        "dataframe[['Mg', 'Fe', 'pH']]"
      ],
      "metadata": {
        "colab": {
          "base_uri": "https://localhost:8080/",
          "height": 175
        },
        "id": "FmN1A__UXzo0",
        "outputId": "b496c343-7977-42d5-981c-96611a42b31b"
      },
      "execution_count": null,
      "outputs": [
        {
          "output_type": "execute_result",
          "data": {
            "text/plain": [
              "     Mg   Fe   pH\n",
              "0   7.8  4.9  7.4\n",
              "1  23.7  0.3  7.2\n",
              "2  12.5  0.4  7.0\n",
              "3  11.8  6.1  7.6"
            ],
            "text/html": [
              "\n",
              "  <div id=\"df-1659e052-3ac5-4363-ae70-ec89693ce31d\" class=\"colab-df-container\">\n",
              "    <div>\n",
              "<style scoped>\n",
              "    .dataframe tbody tr th:only-of-type {\n",
              "        vertical-align: middle;\n",
              "    }\n",
              "\n",
              "    .dataframe tbody tr th {\n",
              "        vertical-align: top;\n",
              "    }\n",
              "\n",
              "    .dataframe thead th {\n",
              "        text-align: right;\n",
              "    }\n",
              "</style>\n",
              "<table border=\"1\" class=\"dataframe\">\n",
              "  <thead>\n",
              "    <tr style=\"text-align: right;\">\n",
              "      <th></th>\n",
              "      <th>Mg</th>\n",
              "      <th>Fe</th>\n",
              "      <th>pH</th>\n",
              "    </tr>\n",
              "  </thead>\n",
              "  <tbody>\n",
              "    <tr>\n",
              "      <th>0</th>\n",
              "      <td>7.8</td>\n",
              "      <td>4.9</td>\n",
              "      <td>7.4</td>\n",
              "    </tr>\n",
              "    <tr>\n",
              "      <th>1</th>\n",
              "      <td>23.7</td>\n",
              "      <td>0.3</td>\n",
              "      <td>7.2</td>\n",
              "    </tr>\n",
              "    <tr>\n",
              "      <th>2</th>\n",
              "      <td>12.5</td>\n",
              "      <td>0.4</td>\n",
              "      <td>7.0</td>\n",
              "    </tr>\n",
              "    <tr>\n",
              "      <th>3</th>\n",
              "      <td>11.8</td>\n",
              "      <td>6.1</td>\n",
              "      <td>7.6</td>\n",
              "    </tr>\n",
              "  </tbody>\n",
              "</table>\n",
              "</div>\n",
              "    <div class=\"colab-df-buttons\">\n",
              "\n",
              "  <div class=\"colab-df-container\">\n",
              "    <button class=\"colab-df-convert\" onclick=\"convertToInteractive('df-1659e052-3ac5-4363-ae70-ec89693ce31d')\"\n",
              "            title=\"Convert this dataframe to an interactive table.\"\n",
              "            style=\"display:none;\">\n",
              "\n",
              "  <svg xmlns=\"http://www.w3.org/2000/svg\" height=\"24px\" viewBox=\"0 -960 960 960\">\n",
              "    <path d=\"M120-120v-720h720v720H120Zm60-500h600v-160H180v160Zm220 220h160v-160H400v160Zm0 220h160v-160H400v160ZM180-400h160v-160H180v160Zm440 0h160v-160H620v160ZM180-180h160v-160H180v160Zm440 0h160v-160H620v160Z\"/>\n",
              "  </svg>\n",
              "    </button>\n",
              "\n",
              "  <style>\n",
              "    .colab-df-container {\n",
              "      display:flex;\n",
              "      gap: 12px;\n",
              "    }\n",
              "\n",
              "    .colab-df-convert {\n",
              "      background-color: #E8F0FE;\n",
              "      border: none;\n",
              "      border-radius: 50%;\n",
              "      cursor: pointer;\n",
              "      display: none;\n",
              "      fill: #1967D2;\n",
              "      height: 32px;\n",
              "      padding: 0 0 0 0;\n",
              "      width: 32px;\n",
              "    }\n",
              "\n",
              "    .colab-df-convert:hover {\n",
              "      background-color: #E2EBFA;\n",
              "      box-shadow: 0px 1px 2px rgba(60, 64, 67, 0.3), 0px 1px 3px 1px rgba(60, 64, 67, 0.15);\n",
              "      fill: #174EA6;\n",
              "    }\n",
              "\n",
              "    .colab-df-buttons div {\n",
              "      margin-bottom: 4px;\n",
              "    }\n",
              "\n",
              "    [theme=dark] .colab-df-convert {\n",
              "      background-color: #3B4455;\n",
              "      fill: #D2E3FC;\n",
              "    }\n",
              "\n",
              "    [theme=dark] .colab-df-convert:hover {\n",
              "      background-color: #434B5C;\n",
              "      box-shadow: 0px 1px 3px 1px rgba(0, 0, 0, 0.15);\n",
              "      filter: drop-shadow(0px 1px 2px rgba(0, 0, 0, 0.3));\n",
              "      fill: #FFFFFF;\n",
              "    }\n",
              "  </style>\n",
              "\n",
              "    <script>\n",
              "      const buttonEl =\n",
              "        document.querySelector('#df-1659e052-3ac5-4363-ae70-ec89693ce31d button.colab-df-convert');\n",
              "      buttonEl.style.display =\n",
              "        google.colab.kernel.accessAllowed ? 'block' : 'none';\n",
              "\n",
              "      async function convertToInteractive(key) {\n",
              "        const element = document.querySelector('#df-1659e052-3ac5-4363-ae70-ec89693ce31d');\n",
              "        const dataTable =\n",
              "          await google.colab.kernel.invokeFunction('convertToInteractive',\n",
              "                                                    [key], {});\n",
              "        if (!dataTable) return;\n",
              "\n",
              "        const docLinkHtml = 'Like what you see? Visit the ' +\n",
              "          '<a target=\"_blank\" href=https://colab.research.google.com/notebooks/data_table.ipynb>data table notebook</a>'\n",
              "          + ' to learn more about interactive tables.';\n",
              "        element.innerHTML = '';\n",
              "        dataTable['output_type'] = 'display_data';\n",
              "        await google.colab.output.renderOutput(dataTable, element);\n",
              "        const docLink = document.createElement('div');\n",
              "        docLink.innerHTML = docLinkHtml;\n",
              "        element.appendChild(docLink);\n",
              "      }\n",
              "    </script>\n",
              "  </div>\n",
              "\n",
              "\n",
              "<div id=\"df-163d0f6e-baa1-4842-a177-9f10087b1911\">\n",
              "  <button class=\"colab-df-quickchart\" onclick=\"quickchart('df-163d0f6e-baa1-4842-a177-9f10087b1911')\"\n",
              "            title=\"Suggest charts.\"\n",
              "            style=\"display:none;\">\n",
              "\n",
              "<svg xmlns=\"http://www.w3.org/2000/svg\" height=\"24px\"viewBox=\"0 0 24 24\"\n",
              "     width=\"24px\">\n",
              "    <g>\n",
              "        <path d=\"M19 3H5c-1.1 0-2 .9-2 2v14c0 1.1.9 2 2 2h14c1.1 0 2-.9 2-2V5c0-1.1-.9-2-2-2zM9 17H7v-7h2v7zm4 0h-2V7h2v10zm4 0h-2v-4h2v4z\"/>\n",
              "    </g>\n",
              "</svg>\n",
              "  </button>\n",
              "\n",
              "<style>\n",
              "  .colab-df-quickchart {\n",
              "      --bg-color: #E8F0FE;\n",
              "      --fill-color: #1967D2;\n",
              "      --hover-bg-color: #E2EBFA;\n",
              "      --hover-fill-color: #174EA6;\n",
              "      --disabled-fill-color: #AAA;\n",
              "      --disabled-bg-color: #DDD;\n",
              "  }\n",
              "\n",
              "  [theme=dark] .colab-df-quickchart {\n",
              "      --bg-color: #3B4455;\n",
              "      --fill-color: #D2E3FC;\n",
              "      --hover-bg-color: #434B5C;\n",
              "      --hover-fill-color: #FFFFFF;\n",
              "      --disabled-bg-color: #3B4455;\n",
              "      --disabled-fill-color: #666;\n",
              "  }\n",
              "\n",
              "  .colab-df-quickchart {\n",
              "    background-color: var(--bg-color);\n",
              "    border: none;\n",
              "    border-radius: 50%;\n",
              "    cursor: pointer;\n",
              "    display: none;\n",
              "    fill: var(--fill-color);\n",
              "    height: 32px;\n",
              "    padding: 0;\n",
              "    width: 32px;\n",
              "  }\n",
              "\n",
              "  .colab-df-quickchart:hover {\n",
              "    background-color: var(--hover-bg-color);\n",
              "    box-shadow: 0 1px 2px rgba(60, 64, 67, 0.3), 0 1px 3px 1px rgba(60, 64, 67, 0.15);\n",
              "    fill: var(--button-hover-fill-color);\n",
              "  }\n",
              "\n",
              "  .colab-df-quickchart-complete:disabled,\n",
              "  .colab-df-quickchart-complete:disabled:hover {\n",
              "    background-color: var(--disabled-bg-color);\n",
              "    fill: var(--disabled-fill-color);\n",
              "    box-shadow: none;\n",
              "  }\n",
              "\n",
              "  .colab-df-spinner {\n",
              "    border: 2px solid var(--fill-color);\n",
              "    border-color: transparent;\n",
              "    border-bottom-color: var(--fill-color);\n",
              "    animation:\n",
              "      spin 1s steps(1) infinite;\n",
              "  }\n",
              "\n",
              "  @keyframes spin {\n",
              "    0% {\n",
              "      border-color: transparent;\n",
              "      border-bottom-color: var(--fill-color);\n",
              "      border-left-color: var(--fill-color);\n",
              "    }\n",
              "    20% {\n",
              "      border-color: transparent;\n",
              "      border-left-color: var(--fill-color);\n",
              "      border-top-color: var(--fill-color);\n",
              "    }\n",
              "    30% {\n",
              "      border-color: transparent;\n",
              "      border-left-color: var(--fill-color);\n",
              "      border-top-color: var(--fill-color);\n",
              "      border-right-color: var(--fill-color);\n",
              "    }\n",
              "    40% {\n",
              "      border-color: transparent;\n",
              "      border-right-color: var(--fill-color);\n",
              "      border-top-color: var(--fill-color);\n",
              "    }\n",
              "    60% {\n",
              "      border-color: transparent;\n",
              "      border-right-color: var(--fill-color);\n",
              "    }\n",
              "    80% {\n",
              "      border-color: transparent;\n",
              "      border-right-color: var(--fill-color);\n",
              "      border-bottom-color: var(--fill-color);\n",
              "    }\n",
              "    90% {\n",
              "      border-color: transparent;\n",
              "      border-bottom-color: var(--fill-color);\n",
              "    }\n",
              "  }\n",
              "</style>\n",
              "\n",
              "  <script>\n",
              "    async function quickchart(key) {\n",
              "      const quickchartButtonEl =\n",
              "        document.querySelector('#' + key + ' button');\n",
              "      quickchartButtonEl.disabled = true;  // To prevent multiple clicks.\n",
              "      quickchartButtonEl.classList.add('colab-df-spinner');\n",
              "      try {\n",
              "        const charts = await google.colab.kernel.invokeFunction(\n",
              "            'suggestCharts', [key], {});\n",
              "      } catch (error) {\n",
              "        console.error('Error during call to suggestCharts:', error);\n",
              "      }\n",
              "      quickchartButtonEl.classList.remove('colab-df-spinner');\n",
              "      quickchartButtonEl.classList.add('colab-df-quickchart-complete');\n",
              "    }\n",
              "    (() => {\n",
              "      let quickchartButtonEl =\n",
              "        document.querySelector('#df-163d0f6e-baa1-4842-a177-9f10087b1911 button');\n",
              "      quickchartButtonEl.style.display =\n",
              "        google.colab.kernel.accessAllowed ? 'block' : 'none';\n",
              "    })();\n",
              "  </script>\n",
              "</div>\n",
              "    </div>\n",
              "  </div>\n"
            ]
          },
          "metadata": {},
          "execution_count": 7
        }
      ]
    },
    {
      "cell_type": "code",
      "source": [
        "# Crear los tensores de features y target, escalando los datos\n",
        "scaler = MinMaxScaler()\n",
        "\n",
        "features = torch.tensor(scaler.fit_transform(np.array(dataframe[['Mg', 'Fe', 'pH']]))).float()\n",
        "target = torch.tensor(np.array(dataframe['E.coli'])).float()\n",
        "\n",
        "# Crear un TensorDataset a partir de los tensores de features y target\n",
        "dataset = TensorDataset(features, target)\n",
        "dataset\n",
        "features, target, dataset"
      ],
      "metadata": {
        "colab": {
          "base_uri": "https://localhost:8080/"
        },
        "id": "XtLre2vSRGgV",
        "outputId": "17b7c90d-2c48-4b3d-fad8-5553da7e8a02"
      },
      "execution_count": null,
      "outputs": [
        {
          "output_type": "execute_result",
          "data": {
            "text/plain": [
              "(tensor([[0.0000, 0.7931, 0.6667],\n",
              "         [1.0000, 0.0000, 0.3333],\n",
              "         [0.2956, 0.0172, 0.0000],\n",
              "         [0.2516, 1.0000, 1.0000]]),\n",
              " tensor([140.,  80., 120.,  40.]),\n",
              " <torch.utils.data.dataset.TensorDataset at 0x7a03c7db5630>)"
            ]
          },
          "metadata": {},
          "execution_count": 36
        }
      ]
    },
    {
      "cell_type": "code",
      "source": [
        "# Iterar el TensorDataset\n",
        "print(f'Valores de:')\n",
        "for i, data in enumerate(dataset):\n",
        "      print(f'\\t * features - muestra {i + 1}: {data[0]}')\n",
        "      print(f'\\t * target - muestra {i + 1}: {data[1]}', end='\\n\\n')"
      ],
      "metadata": {
        "colab": {
          "base_uri": "https://localhost:8080/"
        },
        "id": "sp830khGXClU",
        "outputId": "b93e01cc-aa4c-431c-df24-cc153faa2eb7"
      },
      "execution_count": null,
      "outputs": [
        {
          "output_type": "stream",
          "name": "stdout",
          "text": [
            "Valores de:\n",
            "\t * features - muestra 1: tensor([0.0000, 0.7931, 0.6667])\n",
            "\t * target - muestra 1: 140.0\n",
            "\n",
            "\t * features - muestra 2: tensor([1.0000, 0.0000, 0.3333])\n",
            "\t * target - muestra 2: 80.0\n",
            "\n",
            "\t * features - muestra 3: tensor([0.2956, 0.0172, 0.0000])\n",
            "\t * target - muestra 3: 120.0\n",
            "\n",
            "\t * features - muestra 4: tensor([0.2516, 1.0000, 1.0000])\n",
            "\t * target - muestra 4: 40.0\n",
            "\n"
          ]
        }
      ]
    },
    {
      "cell_type": "code",
      "source": [
        "# Tamaño del mini-batch\n",
        "train_mini_batch_size = 2\n",
        "# Número de observaciones\n",
        "number_rows = len(features)\n",
        "# Tamaño del conjunto de train, test y validación\n",
        "test_split = int(number_rows*0.25)\n",
        "validate_split = int(number_rows*0.25)\n",
        "train_split = number_rows - test_split - validate_split\n",
        "print(f'N° de observaciones: train: {train_split}, validate: {validate_split}, test: {test_split}')\n",
        "\n",
        "# random_split: Dividir los datos para entrenar, validar y testear\n",
        "train_set, validate_set, test_set = random_split(dataset, [train_split, validate_split, test_split])\n",
        "\n",
        "# Crear un cargador de datos para leer los datos por mini-batch y manejarlos en memoria\n",
        "train_loader = DataLoader(train_set, batch_size=train_mini_batch_size, shuffle=True)\n",
        "validate_loader = DataLoader(validate_set, batch_size=1)\n",
        "test_loader = DataLoader(test_set, batch_size=1)"
      ],
      "metadata": {
        "colab": {
          "base_uri": "https://localhost:8080/"
        },
        "id": "WkE9eKADWzoT",
        "outputId": "27b3872f-3d6b-4a16-86ee-2b4afa295da9"
      },
      "execution_count": null,
      "outputs": [
        {
          "output_type": "stream",
          "name": "stdout",
          "text": [
            "N° de observaciones: train: 2, validate: 1, test: 1\n"
          ]
        }
      ]
    },
    {
      "cell_type": "code",
      "source": [
        "# Iterador sobre el cargador de batch de datos de entrenamiento\n",
        "mini_batchs = enumerate(train_loader)"
      ],
      "metadata": {
        "id": "WyY4FiU9o944"
      },
      "execution_count": null,
      "outputs": []
    },
    {
      "cell_type": "code",
      "source": [
        "# 1ra iteración sobre el cargador de batch de datos de entrenamiento\n",
        "mini_batch_idx, (mini_batch_inputs, mini_batch_targets) = next(mini_batchs)\n",
        "print(f'N° de mini-batch: {mini_batch_idx}')\n",
        "print(f'Dimensiones de mini-batch de entradas: {mini_batch_inputs.shape}')\n",
        "print(f'Dimensiones de mini-batch de targets: {mini_batch_targets.shape}')\n",
        "print(f'Datos de entrada del mini-batch:\\n\\t {mini_batch_inputs}')\n",
        "print(f'Datos de targets del mini-batch:\\n\\t {mini_batch_targets}')"
      ],
      "metadata": {
        "colab": {
          "base_uri": "https://localhost:8080/"
        },
        "id": "Pp3VIKYJdhGy",
        "outputId": "76609794-1ed6-403f-a131-60996696de49"
      },
      "execution_count": null,
      "outputs": [
        {
          "output_type": "stream",
          "name": "stdout",
          "text": [
            "N° de mini-batch: 0\n",
            "Dimensiones de mini-batch de entradas: torch.Size([2, 3])\n",
            "Dimensiones de mini-batch de targets: torch.Size([2])\n",
            "Datos de entrada del mini-batch:\n",
            "\t tensor([[0.0000, 0.7931, 0.6667],\n",
            "        [0.2956, 0.0172, 0.0000]])\n",
            "Datos de targets del mini-batch:\n",
            "\t tensor([140., 120.])\n"
          ]
        }
      ]
    },
    {
      "cell_type": "code",
      "source": [
        "# 2da iteración sobre el cargador de batch de datos de entrenamiento\n",
        "mini_batch_idx, (mini_batch_inputs, mini_batch_targets) = next(mini_batchs)\n",
        "print(f'N° de mini-batch: {mini_batch_idx}')\n",
        "print(f'Dimensiones de mini-batch de entradas: {mini_batch_inputs.shape}')\n",
        "print(f'Dimensiones de mini-batch de targets: {mini_batch_targets.shape}')\n",
        "print(f'Datos de entrada del mini-batch:\\n\\t {mini_batch_inputs}')\n",
        "print(f'Datos de targets del mini-batch:\\n\\t {mini_batch_targets}')"
      ],
      "metadata": {
        "colab": {
          "base_uri": "https://localhost:8080/"
        },
        "outputId": "76609794-1ed6-403f-a131-60996696de49",
        "id": "xliktdIWU8ok"
      },
      "execution_count": null,
      "outputs": [
        {
          "output_type": "stream",
          "name": "stdout",
          "text": [
            "N° de mini-batch: 0\n",
            "Dimensiones de mini-batch de entradas: torch.Size([2, 3])\n",
            "Dimensiones de mini-batch de targets: torch.Size([2])\n",
            "Datos de entrada del mini-batch:\n",
            "\t tensor([[0.0000, 0.7931, 0.6667],\n",
            "        [0.2956, 0.0172, 0.0000]])\n",
            "Datos de targets del mini-batch:\n",
            "\t tensor([140., 120.])\n"
          ]
        }
      ]
    },
    {
      "cell_type": "code",
      "source": [
        "print(f'Número de mini-batches en el cargador de datos de entrenamiento: {train_loader.__len__()}')"
      ],
      "metadata": {
        "colab": {
          "base_uri": "https://localhost:8080/"
        },
        "id": "L4MV4sE6_Wx2",
        "outputId": "e3150ad4-500e-46a0-a225-ca6377a0af7a"
      },
      "execution_count": null,
      "outputs": [
        {
          "output_type": "stream",
          "name": "stdout",
          "text": [
            "Número de mini-batches en el cargador de datos de entrenamiento: 1\n"
          ]
        }
      ]
    },
    {
      "cell_type": "markdown",
      "source": [
        "## Datos No Estructurados - Imágenes\n",
        "---\n",
        "\n",
        "**¿Cómo normalizar datos de imagen usando PyTorch?**\n",
        "\n",
        "PyTorch proporciona una amplia gama de herramientas para trabajar con conjuntos de datos de imágenes. Una de las formas más comunes de normalizar datos de imágenes en PyTorch es mediante la función `transforms.Normalize`. Esta función toma dos argumentos: la media y la desviación estándar del conjunto de datos.\n",
        "\n",
        "- Paso 1: cargue el conjunto de datos de imágenes: usando la función `torchvision.datasets.ImageFolder`, que carga automáticamente todas las imágenes en una carpeta y las asigna a sus respectivas clases según los nombres de sus carpetas.\n",
        "- Paso 2: Calcule la media y la desviación estándar del conjunto de datos:  usando la función `torch.utils.data.DataLoader` y una función personalizada para calcular la media y la desviación estándar del conjunto de datos.\n",
        "- Paso 3: Normalizar el conjunto de datos: usando la función `transforms.Normalize`.\n",
        "\n",
        "\n"
      ],
      "metadata": {
        "id": "7jlr8KfPZlBC"
      }
    },
    {
      "cell_type": "markdown",
      "source": [
        "### MNIST\n",
        "\n",
        "Pytorch viene con un módulo integrado que proporciona conjuntos de datos listos para usar en muchas aplicaciones de aprendizaje profundo, como *visión por computadoras*, *reconocimiento de voz* y *procesamiento del lenguaje natural*. Así que, puedes introducirte fácilmente en el mundo de las redes neuronales sin necesidad de recopilar previamente un dataset.\n",
        "\n",
        "Trabajaremos con el conjunto de datos MNIST para mostrar cómo sería su pre-procesamiento, aprovechando que el módulo de torchvision nos provee fácilmente este dataset.\n",
        "\n",
        "El [dataset de MNIST (Modified National Institute of Standards and Technology)](https://en.wikipedia.org/wiki/MNIST_database) consiste en un conjunto de imágenes de dígitos escritos a mano que contiene 60 mil ejemplos y un conjunto de prueba de 10 mil imágenes. Cada imagen se compone de 28x28 píxeles, sus valores han sido previamente suavizados resultando en imágenes de tonalidades grises.\n",
        "\n",
        "Para descargar estos datos, vamos a usar el modulo [`datasets`](https://pytorch.org/vision/stable/datasets.html) de `torchvision`.\n",
        "\n",
        "Documentación:\n",
        "- https://pytorch.org/vision/stable/index.html\n",
        "\n",
        "La función [`datasets`](https://pytorch.org/vision/stable/datasets.html) usa los siguientes paramétros:\n",
        "- `root`: El directorio donde queremos descargar los datos. `\".\"` significa que guardará los datos en el mismo directorio donde se encuentra la notebook. También es posible pasarle un string con el path del directorio deseado.\n",
        "- `train`: Es una variable booleana que permite identificar si estamos descargando el conjunto de train o de test.\n",
        "- `transform`: Permite transformar los datos al descargarlos, en nuestro caso los transformarmos a tensores."
      ],
      "metadata": {
        "id": "TD-RLTYyLDkT"
      }
    },
    {
      "cell_type": "code",
      "source": [
        "# Cargar imágenes de MNIST\n",
        "base_dir = '/content'\n",
        "mnist_train_images = datasets.MNIST(root=base_dir, train=True, download=True)"
      ],
      "metadata": {
        "colab": {
          "base_uri": "https://localhost:8080/"
        },
        "id": "ItkwFZh1aUBa",
        "outputId": "c1028d6e-5b01-4725-c01f-15339a02edb1"
      },
      "execution_count": null,
      "outputs": [
        {
          "output_type": "stream",
          "name": "stdout",
          "text": [
            "Downloading http://yann.lecun.com/exdb/mnist/train-images-idx3-ubyte.gz\n",
            "Downloading http://yann.lecun.com/exdb/mnist/train-images-idx3-ubyte.gz to /content/MNIST/raw/train-images-idx3-ubyte.gz\n"
          ]
        },
        {
          "output_type": "stream",
          "name": "stderr",
          "text": [
            "100%|██████████| 9912422/9912422 [00:00<00:00, 88438638.02it/s]\n"
          ]
        },
        {
          "output_type": "stream",
          "name": "stdout",
          "text": [
            "Extracting /content/MNIST/raw/train-images-idx3-ubyte.gz to /content/MNIST/raw\n",
            "\n",
            "Downloading http://yann.lecun.com/exdb/mnist/train-labels-idx1-ubyte.gz\n",
            "Downloading http://yann.lecun.com/exdb/mnist/train-labels-idx1-ubyte.gz to /content/MNIST/raw/train-labels-idx1-ubyte.gz\n"
          ]
        },
        {
          "output_type": "stream",
          "name": "stderr",
          "text": [
            "100%|██████████| 28881/28881 [00:00<00:00, 74134451.54it/s]\n"
          ]
        },
        {
          "output_type": "stream",
          "name": "stdout",
          "text": [
            "Extracting /content/MNIST/raw/train-labels-idx1-ubyte.gz to /content/MNIST/raw\n",
            "\n",
            "Downloading http://yann.lecun.com/exdb/mnist/t10k-images-idx3-ubyte.gz\n",
            "Downloading http://yann.lecun.com/exdb/mnist/t10k-images-idx3-ubyte.gz to /content/MNIST/raw/t10k-images-idx3-ubyte.gz\n"
          ]
        },
        {
          "output_type": "stream",
          "name": "stderr",
          "text": [
            "100%|██████████| 1648877/1648877 [00:00<00:00, 21407186.80it/s]\n"
          ]
        },
        {
          "output_type": "stream",
          "name": "stdout",
          "text": [
            "Extracting /content/MNIST/raw/t10k-images-idx3-ubyte.gz to /content/MNIST/raw\n",
            "\n",
            "Downloading http://yann.lecun.com/exdb/mnist/t10k-labels-idx1-ubyte.gz\n",
            "Downloading http://yann.lecun.com/exdb/mnist/t10k-labels-idx1-ubyte.gz to /content/MNIST/raw/t10k-labels-idx1-ubyte.gz\n"
          ]
        },
        {
          "output_type": "stream",
          "name": "stderr",
          "text": [
            "100%|██████████| 4542/4542 [00:00<00:00, 3802500.75it/s]\n"
          ]
        },
        {
          "output_type": "stream",
          "name": "stdout",
          "text": [
            "Extracting /content/MNIST/raw/t10k-labels-idx1-ubyte.gz to /content/MNIST/raw\n",
            "\n"
          ]
        }
      ]
    },
    {
      "cell_type": "code",
      "source": [
        "mnist_train_images"
      ],
      "metadata": {
        "colab": {
          "base_uri": "https://localhost:8080/"
        },
        "id": "YbvwrDbQuEgz",
        "outputId": "2fefb650-ea6a-4968-f4cd-39c2cd8a8e04"
      },
      "execution_count": null,
      "outputs": [
        {
          "output_type": "execute_result",
          "data": {
            "text/plain": [
              "Dataset MNIST\n",
              "    Number of datapoints: 60000\n",
              "    Root location: /content\n",
              "    Split: Train"
            ]
          },
          "metadata": {},
          "execution_count": 5
        }
      ]
    },
    {
      "cell_type": "code",
      "source": [
        "type(mnist_train_images)"
      ],
      "metadata": {
        "colab": {
          "base_uri": "https://localhost:8080/"
        },
        "id": "Du-ZixT5uMxe",
        "outputId": "092fc627-ac16-48a4-9b60-cc90fbe07756"
      },
      "execution_count": null,
      "outputs": [
        {
          "output_type": "execute_result",
          "data": {
            "text/plain": [
              "torchvision.datasets.mnist.MNIST"
            ]
          },
          "metadata": {},
          "execution_count": 6
        }
      ]
    },
    {
      "cell_type": "code",
      "source": [
        "type(mnist_train_images[0])"
      ],
      "metadata": {
        "colab": {
          "base_uri": "https://localhost:8080/"
        },
        "id": "thUrlMIt9nta",
        "outputId": "56373ab7-b8a3-4f42-b48f-226c70686224"
      },
      "execution_count": null,
      "outputs": [
        {
          "output_type": "execute_result",
          "data": {
            "text/plain": [
              "tuple"
            ]
          },
          "metadata": {},
          "execution_count": 7
        }
      ]
    },
    {
      "cell_type": "code",
      "source": [
        "# Imagen de MNIST\n",
        "mnist_train_images[0][0]"
      ],
      "metadata": {
        "colab": {
          "base_uri": "https://localhost:8080/",
          "height": 45
        },
        "id": "DjgjCfHgxK0e",
        "outputId": "69e28606-6c70-41cb-c089-b087ca281bae"
      },
      "execution_count": null,
      "outputs": [
        {
          "output_type": "execute_result",
          "data": {
            "text/plain": [
              "<PIL.Image.Image image mode=L size=28x28>"
            ],
            "image/png": "[encoded data removed]"
          },
          "metadata": {},
          "execution_count": 8
        }
      ]
    },
    {
      "cell_type": "code",
      "source": [
        "# Etiqueta de la imagen\n",
        "mnist_train_images[0][1]"
      ],
      "metadata": {
        "colab": {
          "base_uri": "https://localhost:8080/"
        },
        "id": "C4btpKE3af03",
        "outputId": "ca624991-6ca1-4ecf-8766-58b348720b91"
      },
      "execution_count": null,
      "outputs": [
        {
          "output_type": "execute_result",
          "data": {
            "text/plain": [
              "5"
            ]
          },
          "metadata": {},
          "execution_count": 9
        }
      ]
    },
    {
      "cell_type": "code",
      "source": [
        "# Clases del dataset\n",
        "clases = mnist_train_images.classes\n",
        "clases"
      ],
      "metadata": {
        "id": "Y21CAp80Kiue",
        "colab": {
          "base_uri": "https://localhost:8080/"
        },
        "outputId": "30d3934b-1270-45c3-c0b9-1f9db8a054ba"
      },
      "execution_count": null,
      "outputs": [
        {
          "output_type": "execute_result",
          "data": {
            "text/plain": [
              "['0 - zero',\n",
              " '1 - one',\n",
              " '2 - two',\n",
              " '3 - three',\n",
              " '4 - four',\n",
              " '5 - five',\n",
              " '6 - six',\n",
              " '7 - seven',\n",
              " '8 - eight',\n",
              " '9 - nine']"
            ]
          },
          "metadata": {},
          "execution_count": 10
        }
      ]
    },
    {
      "cell_type": "code",
      "source": [
        "'''Escalar el conjunto de entrenamiento y el conjunto de pruebas\n",
        "ToTensor() convierte una imagen PIL o numpy.ndarray (H x W x C) en el rango [0, 255]\n",
        "a un torch.FloatTensor de forma (C x H x W) en el rango [0.0, 1.0]\n",
        "Instanciar la clase de transformación para convertir la imagen a tensor'''\n",
        "transform = ToTensor()\n",
        "mnist_train_scaled_data = datasets.MNIST(root=\".\", train=True, download=False, transform=transform)\n",
        "\n",
        "mnist_test_scaled_data = datasets.MNIST(root=\".\", train=False, download=False, transform=transform)"
      ],
      "metadata": {
        "id": "9V2UFF6SP3mz"
      },
      "execution_count": null,
      "outputs": []
    },
    {
      "cell_type": "code",
      "source": [
        "mnist_train_scaled_data"
      ],
      "metadata": {
        "colab": {
          "base_uri": "https://localhost:8080/"
        },
        "id": "FYOvWzi5Q2Bo",
        "outputId": "9693b5c2-3f5d-435d-f94c-b7ea24a672cd"
      },
      "execution_count": null,
      "outputs": [
        {
          "output_type": "execute_result",
          "data": {
            "text/plain": [
              "Dataset MNIST\n",
              "    Number of datapoints: 60000\n",
              "    Root location: .\n",
              "    Split: Train\n",
              "    StandardTransform\n",
              "Transform: ToTensor()"
            ]
          },
          "metadata": {},
          "execution_count": 12
        }
      ]
    },
    {
      "cell_type": "code",
      "source": [
        "# Primera observación (input y clase) - Dimensiones de la imagen: 1 canal - 28x28 pixeles\n",
        "print(f'Dimensiones de la entrada: {mnist_train_scaled_data[0][0].shape}')\n",
        "print(f'Clase: {mnist_train_scaled_data[0][1]}')"
      ],
      "metadata": {
        "colab": {
          "base_uri": "https://localhost:8080/"
        },
        "id": "rRCgtpR5-3PT",
        "outputId": "2e5a01ce-ce97-40fd-dc6c-107f5f22082d"
      },
      "execution_count": null,
      "outputs": [
        {
          "output_type": "stream",
          "name": "stdout",
          "text": [
            "Dimensiones de la entrada: torch.Size([1, 28, 28])\n",
            "Clase: 5\n"
          ]
        }
      ]
    },
    {
      "cell_type": "code",
      "source": [
        "# Observación n° 60000 (input y clase) - Dimensiones de la imagen: 1 canal - 28x28 pixeles\n",
        "print(f'Dimensiones de la entrada: {mnist_train_scaled_data[59999][0].shape}')\n",
        "print(f'Clase: {mnist_train_scaled_data[59999][1]}')\n",
        "print(f'Valores:\\n\\t {mnist_train_scaled_data[0][0][0][:8]}')"
      ],
      "metadata": {
        "colab": {
          "base_uri": "https://localhost:8080/"
        },
        "id": "L5-mWg8XwcPN",
        "outputId": "612055b1-f3c9-45c0-e645-4b6e8ba4f2fe"
      },
      "execution_count": null,
      "outputs": [
        {
          "output_type": "stream",
          "name": "stdout",
          "text": [
            "Dimensiones de la entrada: torch.Size([1, 28, 28])\n",
            "Clase: 8\n",
            "Valores:\n",
            "\t tensor([[0.0000, 0.0000, 0.0000, 0.0000, 0.0000, 0.0000, 0.0000, 0.0000, 0.0000,\n",
            "         0.0000, 0.0000, 0.0000, 0.0000, 0.0000, 0.0000, 0.0000, 0.0000, 0.0000,\n",
            "         0.0000, 0.0000, 0.0000, 0.0000, 0.0000, 0.0000, 0.0000, 0.0000, 0.0000,\n",
            "         0.0000],\n",
            "        [0.0000, 0.0000, 0.0000, 0.0000, 0.0000, 0.0000, 0.0000, 0.0000, 0.0000,\n",
            "         0.0000, 0.0000, 0.0000, 0.0000, 0.0000, 0.0000, 0.0000, 0.0000, 0.0000,\n",
            "         0.0000, 0.0000, 0.0000, 0.0000, 0.0000, 0.0000, 0.0000, 0.0000, 0.0000,\n",
            "         0.0000],\n",
            "        [0.0000, 0.0000, 0.0000, 0.0000, 0.0000, 0.0000, 0.0000, 0.0000, 0.0000,\n",
            "         0.0000, 0.0000, 0.0000, 0.0000, 0.0000, 0.0000, 0.0000, 0.0000, 0.0000,\n",
            "         0.0000, 0.0000, 0.0000, 0.0000, 0.0000, 0.0000, 0.0000, 0.0000, 0.0000,\n",
            "         0.0000],\n",
            "        [0.0000, 0.0000, 0.0000, 0.0000, 0.0000, 0.0000, 0.0000, 0.0000, 0.0000,\n",
            "         0.0000, 0.0000, 0.0000, 0.0000, 0.0000, 0.0000, 0.0000, 0.0000, 0.0000,\n",
            "         0.0000, 0.0000, 0.0000, 0.0000, 0.0000, 0.0000, 0.0000, 0.0000, 0.0000,\n",
            "         0.0000],\n",
            "        [0.0000, 0.0000, 0.0000, 0.0000, 0.0000, 0.0000, 0.0000, 0.0000, 0.0000,\n",
            "         0.0000, 0.0000, 0.0000, 0.0000, 0.0000, 0.0000, 0.0000, 0.0000, 0.0000,\n",
            "         0.0000, 0.0000, 0.0000, 0.0000, 0.0000, 0.0000, 0.0000, 0.0000, 0.0000,\n",
            "         0.0000],\n",
            "        [0.0000, 0.0000, 0.0000, 0.0000, 0.0000, 0.0000, 0.0000, 0.0000, 0.0000,\n",
            "         0.0000, 0.0000, 0.0000, 0.0118, 0.0706, 0.0706, 0.0706, 0.4941, 0.5333,\n",
            "         0.6863, 0.1020, 0.6510, 1.0000, 0.9686, 0.4980, 0.0000, 0.0000, 0.0000,\n",
            "         0.0000],\n",
            "        [0.0000, 0.0000, 0.0000, 0.0000, 0.0000, 0.0000, 0.0000, 0.0000, 0.1176,\n",
            "         0.1412, 0.3686, 0.6039, 0.6667, 0.9922, 0.9922, 0.9922, 0.9922, 0.9922,\n",
            "         0.8824, 0.6745, 0.9922, 0.9490, 0.7647, 0.2510, 0.0000, 0.0000, 0.0000,\n",
            "         0.0000],\n",
            "        [0.0000, 0.0000, 0.0000, 0.0000, 0.0000, 0.0000, 0.0000, 0.1922, 0.9333,\n",
            "         0.9922, 0.9922, 0.9922, 0.9922, 0.9922, 0.9922, 0.9922, 0.9922, 0.9843,\n",
            "         0.3647, 0.3216, 0.3216, 0.2196, 0.1529, 0.0000, 0.0000, 0.0000, 0.0000,\n",
            "         0.0000]])\n"
          ]
        }
      ]
    },
    {
      "cell_type": "code",
      "source": [
        "fig, ax = plt.subplots(figsize=(3, 3))\n",
        "ax.imshow(mnist_train_scaled_data[0][0][0], cmap=\"gray\")\n",
        "plt.show()"
      ],
      "metadata": {
        "colab": {
          "base_uri": "https://localhost:8080/",
          "height": 293
        },
        "id": "saFWooeEizOZ",
        "outputId": "084ed0ae-84ad-4d13-e6b6-d331fe52ac28"
      },
      "execution_count": null,
      "outputs": [
        {
          "output_type": "display_data",
          "data": {
            "text/plain": [
              "<Figure size 300x300 with 1 Axes>"
            ],
            "image/png": "[encoded data removed]"
          },
          "metadata": {}
        }
      ]
    },
    {
      "cell_type": "code",
      "source": [
        "# Calular la media y la desviación para todo el conjunto de datos\n",
        "mini_batch_size = 10000\n",
        "trainloader = torch.utils.data.DataLoader(mnist_train_scaled_data, batch_size=mini_batch_size, shuffle=False)\n",
        "testloader = torch.utils.data.DataLoader(mnist_test_scaled_data, batch_size=mini_batch_size, shuffle=False)\n",
        "\n",
        "# Inicialización de variables\n",
        "suma_de_inputs = torch.tensor([0.0])\n",
        "suma_cuadrada_de_inputs = torch.tensor([0.0])\n",
        "contador_de_inputs = torch.tensor([0.0])\n",
        "\n",
        "# TrainLoader: Cálculo de la suma de los inputs y la suma de los cuadrados de los inputs\n",
        "print('TrainLoader:')\n",
        "for idx, (inputs, target) in enumerate(trainloader):\n",
        "  print(f'\\tIteración {idx + 1}')\n",
        "  n_observ, n_channels, image_size_weight, image_size_height = inputs.shape\n",
        "  suma_de_inputs += inputs.sum(axis=[0, 2, 3])\n",
        "  suma_cuadrada_de_inputs += (inputs ** 2).sum(axis=[0, 2, 3])\n",
        "  contador_de_inputs += n_observ\n",
        "\n",
        "# TestLoader: Cálculo de la suma de los inputs y la suma de los cuadrados de los inputs\n",
        "print('TestLoader')\n",
        "for idx, (inputs, target) in enumerate(testloader):\n",
        "  n_observ, n_channels, image_size_weight, image_size_height = inputs.shape\n",
        "  print(f'\\tIteración {idx + 1}')\n",
        "  suma_de_inputs += inputs.sum(axis=[0, 2, 3])\n",
        "  suma_cuadrada_de_inputs += (inputs ** 2).sum(axis=[0, 2, 3])\n",
        "  contador_de_inputs += n_observ\n",
        "\n",
        "  # Total de pixeles\n",
        "total_pixeles = contador_de_inputs * image_size_weight * image_size_height\n",
        "\n",
        "# Media, Varianza y Desviación\n",
        "media_gral = suma_de_inputs / total_pixeles\n",
        "varianza_gral  = (suma_cuadrada_de_inputs / total_pixeles) - (media_gral ** 2)\n",
        "desviacion_std_gral  = torch.sqrt(varianza_gral)\n",
        "print(f'Media: {media_gral} - Desviación: {desviacion_std_gral}')"
      ],
      "metadata": {
        "colab": {
          "base_uri": "https://localhost:8080/"
        },
        "id": "-1WH2m76y6cV",
        "outputId": "3d0a5018-69bf-4984-bfea-7ba13d1617ce"
      },
      "execution_count": null,
      "outputs": [
        {
          "output_type": "stream",
          "name": "stdout",
          "text": [
            "TrainLoader:\n",
            "\tIteración 1\n",
            "\tIteración 2\n",
            "\tIteración 3\n",
            "\tIteración 4\n",
            "\tIteración 5\n",
            "\tIteración 6\n",
            "TestLoader\n",
            "\tIteración 1\n",
            "Media: tensor([0.1309]) - Desviación: tensor([0.3084])\n"
          ]
        }
      ]
    },
    {
      "cell_type": "code",
      "source": [
        "# Seteo para escalar y normalizar los datos y transformar en tensores\n",
        "transform = transforms.Compose([transforms.ToTensor(),\n",
        "                                transforms.Normalize((0.1307), (0.3081))\n",
        "\t\t\t\t\t\t\t\t\t\t\t\t\t\t\t\t])\n",
        "\n",
        "# Escalar y Normalizar el conjunto de entrenamiento y el conjunto de pruebas\n",
        "mnist_training_norm_data = datasets.MNIST('.',\n",
        "                                        train=True,\n",
        "                                        download=False,\n",
        "                                        transform=transform)\n",
        "mnist_test_norm_data = datasets.MNIST('.',\n",
        "                                    train=False,\n",
        "                                    download=False,\n",
        "                                    transform=transform)\n",
        "\n",
        "# Preparar el cargador de entrenamiento y el cargador de pruebas\n",
        "trainloader = torch.utils.data.DataLoader(mnist_training_norm_data,\n",
        "                                        batch_size=32,\n",
        "                                        shuffle=True,\n",
        "                                        num_workers=0)\n",
        "testloader = torch.utils.data.DataLoader(mnist_test_norm_data,\n",
        "                                        batch_size=32,\n",
        "                                        shuffle=False,\n",
        "                                        num_workers=0)\n",
        "\n",
        "# Iterador sobre el cargador de batch de datos de entrenamiento\n",
        "mini_batchs = enumerate(trainloader)"
      ],
      "metadata": {
        "id": "e_C3-6OKZq9F"
      },
      "execution_count": null,
      "outputs": []
    },
    {
      "cell_type": "code",
      "source": [
        "# 1ra iteración sobre el cargador de batch de datos de entrenamiento\n",
        "mini_batch_idx, (mini_batch_inputs, mini_batch_targets) = next(mini_batchs)\n",
        "print(f'N° de mini-batch: {mini_batch_idx}')\n",
        "print(f'Dimensiones de mini-batch de entradas: {mini_batch_inputs.shape}')\n",
        "print(f'Dimensiones de mini-batch de targets: {mini_batch_targets.shape}')\n",
        "print(f'Datos de entrada del mini-batch:\\n\\t {mini_batch_inputs[0][0][:8]}')\n",
        "print(f'Datos de target del mini-batch:\\n\\t {mini_batch_targets[:8]}')"
      ],
      "metadata": {
        "colab": {
          "base_uri": "https://localhost:8080/"
        },
        "outputId": "e91a907d-0dd9-4d7e-8aba-904c67d9fc51",
        "id": "oID2TSCsq7zB"
      },
      "execution_count": null,
      "outputs": [
        {
          "output_type": "stream",
          "name": "stdout",
          "text": [
            "N° de mini-batch: 0\n",
            "Dimensiones de mini-batch de entradas: torch.Size([32, 1, 28, 28])\n",
            "Dimensiones de mini-batch de targets: torch.Size([32])\n",
            "Datos de entrada del mini-batch:\n",
            "\t tensor([[-0.4242, -0.4242, -0.4242, -0.4242, -0.4242, -0.4242, -0.4242, -0.4242,\n",
            "         -0.4242, -0.4242, -0.4242, -0.4242, -0.4242, -0.4242, -0.4242, -0.4242,\n",
            "         -0.4242, -0.4242, -0.4242, -0.4242, -0.4242, -0.4242, -0.4242, -0.4242,\n",
            "         -0.4242, -0.4242, -0.4242, -0.4242],\n",
            "        [-0.4242, -0.4242, -0.4242, -0.4242, -0.4242, -0.4242, -0.4242, -0.4242,\n",
            "         -0.4242, -0.4242, -0.4242, -0.4242, -0.4242, -0.4242, -0.4242, -0.4242,\n",
            "         -0.4242, -0.4242, -0.4242, -0.4242, -0.4242, -0.4242, -0.4242, -0.4242,\n",
            "         -0.4242, -0.4242, -0.4242, -0.4242],\n",
            "        [-0.4242, -0.4242, -0.4242, -0.4242, -0.4242, -0.4242, -0.4242, -0.4242,\n",
            "         -0.4242, -0.4242, -0.4242, -0.4242, -0.4242, -0.4242, -0.4242, -0.4242,\n",
            "         -0.4242, -0.4242, -0.4242, -0.4242, -0.4242, -0.4242, -0.4242, -0.4242,\n",
            "         -0.4242, -0.4242, -0.4242, -0.4242],\n",
            "        [-0.4242, -0.4242, -0.4242, -0.4242, -0.4242, -0.4242, -0.4242, -0.4242,\n",
            "         -0.4242, -0.4242, -0.4242, -0.4242, -0.4242, -0.4242, -0.4242, -0.4242,\n",
            "         -0.4242, -0.4242, -0.4242, -0.4242, -0.4242, -0.4242, -0.4242, -0.4242,\n",
            "         -0.4242, -0.4242, -0.4242, -0.4242],\n",
            "        [-0.4242, -0.4242, -0.4242, -0.4242, -0.4242, -0.4242, -0.4242, -0.4242,\n",
            "         -0.4242, -0.4242, -0.4242, -0.4242, -0.4242, -0.4242, -0.4242, -0.4242,\n",
            "         -0.4242, -0.4242, -0.4242, -0.4242, -0.4242, -0.4242, -0.4242, -0.4242,\n",
            "         -0.4242, -0.4242, -0.4242, -0.4242],\n",
            "        [-0.4242, -0.4242, -0.4242, -0.4242, -0.4242, -0.4242, -0.4242, -0.4242,\n",
            "         -0.4242, -0.4242, -0.4242, -0.4242, -0.4242, -0.4242, -0.4242, -0.4242,\n",
            "         -0.4242, -0.4242, -0.4242, -0.4242, -0.4242, -0.4242, -0.4242, -0.4242,\n",
            "         -0.4242, -0.4242, -0.4242, -0.4242],\n",
            "        [-0.4242, -0.4242, -0.4242, -0.4242, -0.4242, -0.4242, -0.4242, -0.4242,\n",
            "         -0.4242, -0.3478,  0.7977,  1.3450, -0.2842, -0.4242, -0.4242, -0.4242,\n",
            "         -0.4242, -0.4242, -0.3351,  2.4142,  1.1159, -0.4242, -0.4242, -0.4242,\n",
            "         -0.4242, -0.4242, -0.4242, -0.4242],\n",
            "        [-0.4242, -0.4242, -0.4242, -0.4242, -0.4242, -0.4242, -0.4242, -0.4242,\n",
            "         -0.4242,  1.5487,  2.8088,  2.2105,  1.0523, -0.4242, -0.4242, -0.4242,\n",
            "         -0.4242, -0.4242,  0.7722,  2.8088,  0.9632, -0.4242, -0.4242, -0.4242,\n",
            "         -0.4242, -0.4242, -0.4242, -0.4242]])\n",
            "Datos de targets del mini-batch:\n",
            "\t tensor([4, 1, 9, 7, 2, 8, 2, 1])\n"
          ]
        }
      ]
    },
    {
      "cell_type": "code",
      "source": [
        "# 2da iteración sobre el cargador de batch de datos de entrenamiento\n",
        "mini_batch_idx, (mini_batch_inputs, mini_batch_targets) = next(mini_batchs)\n",
        "print(f'N° de mini-batch: {mini_batch_idx}')\n",
        "print(f'Dimensiones de mini-batch de entradas: {mini_batch_inputs.shape}')\n",
        "print(f'Dimensiones de mini-batch de targets: {mini_batch_targets.shape}')\n",
        "print(f'Datos de entrada del mini-batch:\\n\\t {mini_batch_inputs[0][0][:8]}')\n",
        "print(f'Datos de target del mini-batch:\\n\\t {mini_batch_targets[:8]}')"
      ],
      "metadata": {
        "colab": {
          "base_uri": "https://localhost:8080/"
        },
        "id": "1Yj09rLI_7ln",
        "outputId": "352af178-a8a3-45f2-893e-41ba0cd55d5c"
      },
      "execution_count": null,
      "outputs": [
        {
          "output_type": "stream",
          "name": "stdout",
          "text": [
            "N° de mini-batch: 1\n",
            "Dimensiones de mini-batch de entradas: torch.Size([32, 1, 28, 28])\n",
            "Dimensiones de mini-batch de targets: torch.Size([32])\n",
            "Datos de entrada del mini-batch:\n",
            "\t tensor([[-0.4242, -0.4242, -0.4242, -0.4242, -0.4242, -0.4242, -0.4242, -0.4242,\n",
            "         -0.4242, -0.4242, -0.4242, -0.4242, -0.4242, -0.4242, -0.4242, -0.4242,\n",
            "         -0.4242, -0.4242, -0.4242, -0.4242, -0.4242, -0.4242, -0.4242, -0.4242,\n",
            "         -0.4242, -0.4242, -0.4242, -0.4242],\n",
            "        [-0.4242, -0.4242, -0.4242, -0.4242, -0.4242, -0.4242, -0.4242, -0.4242,\n",
            "         -0.4242, -0.4242, -0.4242, -0.4242, -0.4242, -0.4242, -0.4242, -0.4242,\n",
            "         -0.4242, -0.4242, -0.4242, -0.4242, -0.4242, -0.4242, -0.4242, -0.4242,\n",
            "         -0.4242, -0.4242, -0.4242, -0.4242],\n",
            "        [-0.4242, -0.4242, -0.4242, -0.4242, -0.4242, -0.4242, -0.4242, -0.4242,\n",
            "         -0.4242, -0.4242, -0.4242, -0.4242, -0.4242, -0.4242, -0.4242, -0.4242,\n",
            "         -0.4242, -0.4242, -0.4242, -0.4242, -0.4242, -0.4242, -0.4242, -0.4242,\n",
            "         -0.4242, -0.4242, -0.4242, -0.4242],\n",
            "        [-0.4242, -0.4242, -0.4242, -0.4242, -0.4242, -0.4242, -0.4242, -0.4242,\n",
            "         -0.4242, -0.4242, -0.4242, -0.4242, -0.4242, -0.4242, -0.4242, -0.4242,\n",
            "         -0.4242, -0.4242, -0.4242, -0.4242, -0.4242, -0.4242, -0.4242, -0.4242,\n",
            "         -0.4242, -0.4242, -0.4242, -0.4242],\n",
            "        [-0.4242, -0.4242, -0.4242, -0.4242, -0.4242, -0.4242, -0.4242, -0.4242,\n",
            "         -0.4242, -0.4242, -0.4242, -0.4242, -0.4242, -0.4242, -0.4242, -0.4242,\n",
            "         -0.4242, -0.4242, -0.4242, -0.4242, -0.4242, -0.4242, -0.4242, -0.4242,\n",
            "         -0.4242, -0.4242, -0.4242, -0.4242],\n",
            "        [-0.4242, -0.4242, -0.4242, -0.4242, -0.4242, -0.4242, -0.4242, -0.4242,\n",
            "         -0.4242, -0.4242, -0.4242, -0.4242, -0.4242, -0.4242, -0.4242, -0.4242,\n",
            "         -0.4242, -0.4242, -0.4242, -0.4242, -0.4242, -0.4242, -0.4242, -0.4242,\n",
            "         -0.4242, -0.4242, -0.4242, -0.4242],\n",
            "        [-0.4242, -0.4242, -0.4242, -0.4242, -0.4242, -0.4242, -0.4242, -0.4242,\n",
            "         -0.4242, -0.4242, -0.4242, -0.4242, -0.4242, -0.4242, -0.4242, -0.4242,\n",
            "         -0.4242, -0.4242, -0.4242, -0.4242, -0.4242, -0.4242, -0.4242, -0.4242,\n",
            "         -0.4242, -0.4242, -0.4242, -0.4242],\n",
            "        [-0.4242, -0.4242, -0.4242, -0.4242, -0.4242, -0.4242, -0.4242, -0.4242,\n",
            "         -0.4242, -0.4242, -0.4242, -0.4242, -0.4242,  0.4922,  1.5105,  2.8088,\n",
            "          2.7960,  2.8088,  2.7960,  2.8088,  1.7650, -0.1569, -0.4242, -0.4242,\n",
            "         -0.4242, -0.4242, -0.4242, -0.4242]])\n",
            "Datos de target del mini-batch:\n",
            "\t tensor([9, 0, 4, 6, 6, 3, 1, 6])\n"
          ]
        }
      ]
    },
    {
      "cell_type": "markdown",
      "source": [
        "### Clase ImageFolder\n",
        "\n",
        "Esta clase nos ayuda a crear fácilmente conjuntos de datos de validación y entrenamiento de PyTorch sin escribir clases personalizadas. Luego podemos usar estos conjuntos de datos para crear nuestros cargadores de datos iterables.\n",
        "\n",
        "Utilizaremos el conjunto de datos de clasificación de imágenes de [mariposas](https://www.kaggle.com/datasets/gpiosenka/butterfly-images40-species/) de Kaggle contiene 4955 imágenes para entrenamiento, 250 imágenes para validación y 250 imágenes para prueba. Y todas las imágenes son imágenes RGB de 224 × 224 dimensiones (con 3 canales de color).\n",
        "\n",
        "---\n",
        "\n",
        "**Estructura del directorio que contiene las imágenes**\n",
        "\n",
        "La carpeta raíz de los inputs debe contener una carpeta  `train`, `validation` y una `test`, cada una con carpetas para cada clase. En cada carpeta se almacenarán las imágenes correspondientes a cada clase y a cada set train/validation/test .\n",
        "\n",
        "    ├── train\n",
        "    │   ├── class1\n",
        "    |      ├── 1.jpg\n",
        "    │      ├── 2.jpg\n",
        "    │   ├── class2\n",
        "    |      ├── 1.jpg\n",
        "    │      ├── 2.jpg\n",
        "    ├── validation\n",
        "    │   ├── class1\n",
        "    |      ├── 1.jpg\n",
        "    │      ├── 2.jpg\n",
        "    │   ├── class2\n",
        "    |      ├── 1.jpg\n",
        "    │      ├── 2.jpg\n",
        "    ├── test\n",
        "    │   ├── class1\n",
        "    |      ├── 1.jpg\n",
        "    │      ├── 2.jpg\n",
        "    │   ├── class2\n",
        "    |      ├── 1.jpg\n",
        "    │      ├── 2.jpg\n"
      ],
      "metadata": {
        "id": "5n2CkZUFrxQu"
      }
    },
    {
      "cell_type": "code",
      "source": [
        "import os\n",
        "from google.colab import files\n",
        "# Cargar archivos externos desde directorio local\n",
        "base_dir = '/content/butterflies_classifier/'\n",
        "\n",
        "for dataset in ['train', 'validation']:\n",
        "    for clase in ['adonis', 'appollo']:\n",
        "      # Construir path del directorio\n",
        "      directory = os.path.join(base_dir, dataset, clase)\n",
        "      # Crear directorio\n",
        "      os.makedirs(directory, exist_ok=True)\n",
        "      # Cambiar de directorio\n",
        "      os.chdir(directory)\n",
        "      print(f'Cargar imágenes de {dataset.upper()} clase {clase.upper()} en {directory}')\n",
        "      uploaded = files.upload()"
      ],
      "metadata": {
        "id": "x7D5fRjdKgRO",
        "colab": {
          "base_uri": "https://localhost:8080/",
          "height": 598
        },
        "outputId": "1a7255f0-6a15-45cb-a6b0-b481f48b00ee"
      },
      "execution_count": null,
      "outputs": [
        {
          "output_type": "stream",
          "name": "stdout",
          "text": [
            "Cargar imágenes de TRAIN clase ADONIS en /content/butterflies_classifier/train/adonis\n"
          ]
        },
        {
          "output_type": "display_data",
          "data": {
            "text/plain": [
              "<IPython.core.display.HTML object>"
            ],
            "text/html": [
              "\n",
              "     <input type=\"file\" id=\"files-2cc32ea9-6879-40d0-a420-4bcac34f5c06\" name=\"files[]\" multiple disabled\n",
              "        style=\"border:none\" />\n",
              "     <output id=\"result-2cc32ea9-6879-40d0-a420-4bcac34f5c06\">\n",
              "      Upload widget is only available when the cell has been executed in the\n",
              "      current browser session. Please rerun this cell to enable.\n",
              "      </output>\n",
              "      <script>// Copyright 2017 Google LLC\n",
              "//\n",
              "// Licensed under the Apache License, Version 2.0 (the \"License\");\n",
              "// you may not use this file except in compliance with the License.\n",
              "// You may obtain a copy of the License at\n",
              "//\n",
              "//      http://www.apache.org/licenses/LICENSE-2.0\n",
              "//\n",
              "// Unless required by applicable law or agreed to in writing, software\n",
              "// distributed under the License is distributed on an \"AS IS\" BASIS,\n",
              "// WITHOUT WARRANTIES OR CONDITIONS OF ANY KIND, either express or implied.\n",
              "// See the License for the specific language governing permissions and\n",
              "// limitations under the License.\n",
              "\n",
              "/**\n",
              " * @fileoverview Helpers for google.colab Python module.\n",
              " */\n",
              "(function(scope) {\n",
              "function span(text, styleAttributes = {}) {\n",
              "  const element = document.createElement('span');\n",
              "  element.textContent = text;\n",
              "  for (const key of Object.keys(styleAttributes)) {\n",
              "    element.style[key] = styleAttributes[key];\n",
              "  }\n",
              "  return element;\n",
              "}\n",
              "\n",
              "// Max number of bytes which will be uploaded at a time.\n",
              "const MAX_PAYLOAD_SIZE = 100 * 1024;\n",
              "\n",
              "function _uploadFiles(inputId, outputId) {\n",
              "  const steps = uploadFilesStep(inputId, outputId);\n",
              "  const outputElement = document.getElementById(outputId);\n",
              "  // Cache steps on the outputElement to make it available for the next call\n",
              "  // to uploadFilesContinue from Python.\n",
              "  outputElement.steps = steps;\n",
              "\n",
              "  return _uploadFilesContinue(outputId);\n",
              "}\n",
              "\n",
              "// This is roughly an async generator (not supported in the browser yet),\n",
              "// where there are multiple asynchronous steps and the Python side is going\n",
              "// to poll for completion of each step.\n",
              "// This uses a Promise to block the python side on completion of each step,\n",
              "// then passes the result of the previous step as the input to the next step.\n",
              "function _uploadFilesContinue(outputId) {\n",
              "  const outputElement = document.getElementById(outputId);\n",
              "  const steps = outputElement.steps;\n",
              "\n",
              "  const next = steps.next(outputElement.lastPromiseValue);\n",
              "  return Promise.resolve(next.value.promise).then((value) => {\n",
              "    // Cache the last promise value to make it available to the next\n",
              "    // step of the generator.\n",
              "    outputElement.lastPromiseValue = value;\n",
              "    return next.value.response;\n",
              "  });\n",
              "}\n",
              "\n",
              "/**\n",
              " * Generator function which is called between each async step of the upload\n",
              " * process.\n",
              " * @param {string} inputId Element ID of the input file picker element.\n",
              " * @param {string} outputId Element ID of the output display.\n",
              " * @return {!Iterable<!Object>} Iterable of next steps.\n",
              " */\n",
              "function* uploadFilesStep(inputId, outputId) {\n",
              "  const inputElement = document.getElementById(inputId);\n",
              "  inputElement.disabled = false;\n",
              "\n",
              "  const outputElement = document.getElementById(outputId);\n",
              "  outputElement.innerHTML = '';\n",
              "\n",
              "  const pickedPromise = new Promise((resolve) => {\n",
              "    inputElement.addEventListener('change', (e) => {\n",
              "      resolve(e.target.files);\n",
              "    });\n",
              "  });\n",
              "\n",
              "  const cancel = document.createElement('button');\n",
              "  inputElement.parentElement.appendChild(cancel);\n",
              "  cancel.textContent = 'Cancel upload';\n",
              "  const cancelPromise = new Promise((resolve) => {\n",
              "    cancel.onclick = () => {\n",
              "      resolve(null);\n",
              "    };\n",
              "  });\n",
              "\n",
              "  // Wait for the user to pick the files.\n",
              "  const files = yield {\n",
              "    promise: Promise.race([pickedPromise, cancelPromise]),\n",
              "    response: {\n",
              "      action: 'starting',\n",
              "    }\n",
              "  };\n",
              "\n",
              "  cancel.remove();\n",
              "\n",
              "  // Disable the input element since further picks are not allowed.\n",
              "  inputElement.disabled = true;\n",
              "\n",
              "  if (!files) {\n",
              "    return {\n",
              "      response: {\n",
              "        action: 'complete',\n",
              "      }\n",
              "    };\n",
              "  }\n",
              "\n",
              "  for (const file of files) {\n",
              "    const li = document.createElement('li');\n",
              "    li.append(span(file.name, {fontWeight: 'bold'}));\n",
              "    li.append(span(\n",
              "        `(${file.type || 'n/a'}) - ${file.size} bytes, ` +\n",
              "        `last modified: ${\n",
              "            file.lastModifiedDate ? file.lastModifiedDate.toLocaleDateString() :\n",
              "                                    'n/a'} - `));\n",
              "    const percent = span('0% done');\n",
              "    li.appendChild(percent);\n",
              "\n",
              "    outputElement.appendChild(li);\n",
              "\n",
              "    const fileDataPromise = new Promise((resolve) => {\n",
              "      const reader = new FileReader();\n",
              "      reader.onload = (e) => {\n",
              "        resolve(e.target.result);\n",
              "      };\n",
              "      reader.readAsArrayBuffer(file);\n",
              "    });\n",
              "    // Wait for the data to be ready.\n",
              "    let fileData = yield {\n",
              "      promise: fileDataPromise,\n",
              "      response: {\n",
              "        action: 'continue',\n",
              "      }\n",
              "    };\n",
              "\n",
              "    // Use a chunked sending to avoid message size limits. See b/62115660.\n",
              "    let position = 0;\n",
              "    do {\n",
              "      const length = Math.min(fileData.byteLength - position, MAX_PAYLOAD_SIZE);\n",
              "      const chunk = new Uint8Array(fileData, position, length);\n",
              "      position += length;\n",
              "\n",
              "      const base64 = btoa(String.fromCharCode.apply(null, chunk));\n",
              "      yield {\n",
              "        response: {\n",
              "          action: 'append',\n",
              "          file: file.name,\n",
              "          data: base64,\n",
              "        },\n",
              "      };\n",
              "\n",
              "      let percentDone = fileData.byteLength === 0 ?\n",
              "          100 :\n",
              "          Math.round((position / fileData.byteLength) * 100);\n",
              "      percent.textContent = `${percentDone}% done`;\n",
              "\n",
              "    } while (position < fileData.byteLength);\n",
              "  }\n",
              "\n",
              "  // All done.\n",
              "  yield {\n",
              "    response: {\n",
              "      action: 'complete',\n",
              "    }\n",
              "  };\n",
              "}\n",
              "\n",
              "scope.google = scope.google || {};\n",
              "scope.google.colab = scope.google.colab || {};\n",
              "scope.google.colab._files = {\n",
              "  _uploadFiles,\n",
              "  _uploadFilesContinue,\n",
              "};\n",
              "})(self);\n",
              "</script> "
            ]
          },
          "metadata": {}
        },
        {
          "output_type": "stream",
          "name": "stdout",
          "text": [
            "Saving 001.jpg to 001.jpg\n",
            "Saving 002.jpg to 002.jpg\n",
            "Saving 003.jpg to 003.jpg\n",
            "Saving 004.jpg to 004.jpg\n",
            "Cargar imágenes de TRAIN clase APPOLLO en /content/butterflies_classifier/train/appollo\n"
          ]
        },
        {
          "output_type": "display_data",
          "data": {
            "text/plain": [
              "<IPython.core.display.HTML object>"
            ],
            "text/html": [
              "\n",
              "     <input type=\"file\" id=\"files-0f1fba9c-4662-42b9-957d-c59488cc9fd5\" name=\"files[]\" multiple disabled\n",
              "        style=\"border:none\" />\n",
              "     <output id=\"result-0f1fba9c-4662-42b9-957d-c59488cc9fd5\">\n",
              "      Upload widget is only available when the cell has been executed in the\n",
              "      current browser session. Please rerun this cell to enable.\n",
              "      </output>\n",
              "      <script>// Copyright 2017 Google LLC\n",
              "//\n",
              "// Licensed under the Apache License, Version 2.0 (the \"License\");\n",
              "// you may not use this file except in compliance with the License.\n",
              "// You may obtain a copy of the License at\n",
              "//\n",
              "//      http://www.apache.org/licenses/LICENSE-2.0\n",
              "//\n",
              "// Unless required by applicable law or agreed to in writing, software\n",
              "// distributed under the License is distributed on an \"AS IS\" BASIS,\n",
              "// WITHOUT WARRANTIES OR CONDITIONS OF ANY KIND, either express or implied.\n",
              "// See the License for the specific language governing permissions and\n",
              "// limitations under the License.\n",
              "\n",
              "/**\n",
              " * @fileoverview Helpers for google.colab Python module.\n",
              " */\n",
              "(function(scope) {\n",
              "function span(text, styleAttributes = {}) {\n",
              "  const element = document.createElement('span');\n",
              "  element.textContent = text;\n",
              "  for (const key of Object.keys(styleAttributes)) {\n",
              "    element.style[key] = styleAttributes[key];\n",
              "  }\n",
              "  return element;\n",
              "}\n",
              "\n",
              "// Max number of bytes which will be uploaded at a time.\n",
              "const MAX_PAYLOAD_SIZE = 100 * 1024;\n",
              "\n",
              "function _uploadFiles(inputId, outputId) {\n",
              "  const steps = uploadFilesStep(inputId, outputId);\n",
              "  const outputElement = document.getElementById(outputId);\n",
              "  // Cache steps on the outputElement to make it available for the next call\n",
              "  // to uploadFilesContinue from Python.\n",
              "  outputElement.steps = steps;\n",
              "\n",
              "  return _uploadFilesContinue(outputId);\n",
              "}\n",
              "\n",
              "// This is roughly an async generator (not supported in the browser yet),\n",
              "// where there are multiple asynchronous steps and the Python side is going\n",
              "// to poll for completion of each step.\n",
              "// This uses a Promise to block the python side on completion of each step,\n",
              "// then passes the result of the previous step as the input to the next step.\n",
              "function _uploadFilesContinue(outputId) {\n",
              "  const outputElement = document.getElementById(outputId);\n",
              "  const steps = outputElement.steps;\n",
              "\n",
              "  const next = steps.next(outputElement.lastPromiseValue);\n",
              "  return Promise.resolve(next.value.promise).then((value) => {\n",
              "    // Cache the last promise value to make it available to the next\n",
              "    // step of the generator.\n",
              "    outputElement.lastPromiseValue = value;\n",
              "    return next.value.response;\n",
              "  });\n",
              "}\n",
              "\n",
              "/**\n",
              " * Generator function which is called between each async step of the upload\n",
              " * process.\n",
              " * @param {string} inputId Element ID of the input file picker element.\n",
              " * @param {string} outputId Element ID of the output display.\n",
              " * @return {!Iterable<!Object>} Iterable of next steps.\n",
              " */\n",
              "function* uploadFilesStep(inputId, outputId) {\n",
              "  const inputElement = document.getElementById(inputId);\n",
              "  inputElement.disabled = false;\n",
              "\n",
              "  const outputElement = document.getElementById(outputId);\n",
              "  outputElement.innerHTML = '';\n",
              "\n",
              "  const pickedPromise = new Promise((resolve) => {\n",
              "    inputElement.addEventListener('change', (e) => {\n",
              "      resolve(e.target.files);\n",
              "    });\n",
              "  });\n",
              "\n",
              "  const cancel = document.createElement('button');\n",
              "  inputElement.parentElement.appendChild(cancel);\n",
              "  cancel.textContent = 'Cancel upload';\n",
              "  const cancelPromise = new Promise((resolve) => {\n",
              "    cancel.onclick = () => {\n",
              "      resolve(null);\n",
              "    };\n",
              "  });\n",
              "\n",
              "  // Wait for the user to pick the files.\n",
              "  const files = yield {\n",
              "    promise: Promise.race([pickedPromise, cancelPromise]),\n",
              "    response: {\n",
              "      action: 'starting',\n",
              "    }\n",
              "  };\n",
              "\n",
              "  cancel.remove();\n",
              "\n",
              "  // Disable the input element since further picks are not allowed.\n",
              "  inputElement.disabled = true;\n",
              "\n",
              "  if (!files) {\n",
              "    return {\n",
              "      response: {\n",
              "        action: 'complete',\n",
              "      }\n",
              "    };\n",
              "  }\n",
              "\n",
              "  for (const file of files) {\n",
              "    const li = document.createElement('li');\n",
              "    li.append(span(file.name, {fontWeight: 'bold'}));\n",
              "    li.append(span(\n",
              "        `(${file.type || 'n/a'}) - ${file.size} bytes, ` +\n",
              "        `last modified: ${\n",
              "            file.lastModifiedDate ? file.lastModifiedDate.toLocaleDateString() :\n",
              "                                    'n/a'} - `));\n",
              "    const percent = span('0% done');\n",
              "    li.appendChild(percent);\n",
              "\n",
              "    outputElement.appendChild(li);\n",
              "\n",
              "    const fileDataPromise = new Promise((resolve) => {\n",
              "      const reader = new FileReader();\n",
              "      reader.onload = (e) => {\n",
              "        resolve(e.target.result);\n",
              "      };\n",
              "      reader.readAsArrayBuffer(file);\n",
              "    });\n",
              "    // Wait for the data to be ready.\n",
              "    let fileData = yield {\n",
              "      promise: fileDataPromise,\n",
              "      response: {\n",
              "        action: 'continue',\n",
              "      }\n",
              "    };\n",
              "\n",
              "    // Use a chunked sending to avoid message size limits. See b/62115660.\n",
              "    let position = 0;\n",
              "    do {\n",
              "      const length = Math.min(fileData.byteLength - position, MAX_PAYLOAD_SIZE);\n",
              "      const chunk = new Uint8Array(fileData, position, length);\n",
              "      position += length;\n",
              "\n",
              "      const base64 = btoa(String.fromCharCode.apply(null, chunk));\n",
              "      yield {\n",
              "        response: {\n",
              "          action: 'append',\n",
              "          file: file.name,\n",
              "          data: base64,\n",
              "        },\n",
              "      };\n",
              "\n",
              "      let percentDone = fileData.byteLength === 0 ?\n",
              "          100 :\n",
              "          Math.round((position / fileData.byteLength) * 100);\n",
              "      percent.textContent = `${percentDone}% done`;\n",
              "\n",
              "    } while (position < fileData.byteLength);\n",
              "  }\n",
              "\n",
              "  // All done.\n",
              "  yield {\n",
              "    response: {\n",
              "      action: 'complete',\n",
              "    }\n",
              "  };\n",
              "}\n",
              "\n",
              "scope.google = scope.google || {};\n",
              "scope.google.colab = scope.google.colab || {};\n",
              "scope.google.colab._files = {\n",
              "  _uploadFiles,\n",
              "  _uploadFilesContinue,\n",
              "};\n",
              "})(self);\n",
              "</script> "
            ]
          },
          "metadata": {}
        },
        {
          "output_type": "stream",
          "name": "stdout",
          "text": [
            "Saving 001.jpg to 001.jpg\n",
            "Saving 002.jpg to 002.jpg\n",
            "Saving 003.jpg to 003.jpg\n",
            "Saving 004.jpg to 004.jpg\n",
            "Cargar imágenes de VALIDATION clase ADONIS en /content/butterflies_classifier/validation/adonis\n"
          ]
        },
        {
          "output_type": "display_data",
          "data": {
            "text/plain": [
              "<IPython.core.display.HTML object>"
            ],
            "text/html": [
              "\n",
              "     <input type=\"file\" id=\"files-a03fe48b-74c5-4cb2-8ce9-b84a88a39b19\" name=\"files[]\" multiple disabled\n",
              "        style=\"border:none\" />\n",
              "     <output id=\"result-a03fe48b-74c5-4cb2-8ce9-b84a88a39b19\">\n",
              "      Upload widget is only available when the cell has been executed in the\n",
              "      current browser session. Please rerun this cell to enable.\n",
              "      </output>\n",
              "      <script>// Copyright 2017 Google LLC\n",
              "//\n",
              "// Licensed under the Apache License, Version 2.0 (the \"License\");\n",
              "// you may not use this file except in compliance with the License.\n",
              "// You may obtain a copy of the License at\n",
              "//\n",
              "//      http://www.apache.org/licenses/LICENSE-2.0\n",
              "//\n",
              "// Unless required by applicable law or agreed to in writing, software\n",
              "// distributed under the License is distributed on an \"AS IS\" BASIS,\n",
              "// WITHOUT WARRANTIES OR CONDITIONS OF ANY KIND, either express or implied.\n",
              "// See the License for the specific language governing permissions and\n",
              "// limitations under the License.\n",
              "\n",
              "/**\n",
              " * @fileoverview Helpers for google.colab Python module.\n",
              " */\n",
              "(function(scope) {\n",
              "function span(text, styleAttributes = {}) {\n",
              "  const element = document.createElement('span');\n",
              "  element.textContent = text;\n",
              "  for (const key of Object.keys(styleAttributes)) {\n",
              "    element.style[key] = styleAttributes[key];\n",
              "  }\n",
              "  return element;\n",
              "}\n",
              "\n",
              "// Max number of bytes which will be uploaded at a time.\n",
              "const MAX_PAYLOAD_SIZE = 100 * 1024;\n",
              "\n",
              "function _uploadFiles(inputId, outputId) {\n",
              "  const steps = uploadFilesStep(inputId, outputId);\n",
              "  const outputElement = document.getElementById(outputId);\n",
              "  // Cache steps on the outputElement to make it available for the next call\n",
              "  // to uploadFilesContinue from Python.\n",
              "  outputElement.steps = steps;\n",
              "\n",
              "  return _uploadFilesContinue(outputId);\n",
              "}\n",
              "\n",
              "// This is roughly an async generator (not supported in the browser yet),\n",
              "// where there are multiple asynchronous steps and the Python side is going\n",
              "// to poll for completion of each step.\n",
              "// This uses a Promise to block the python side on completion of each step,\n",
              "// then passes the result of the previous step as the input to the next step.\n",
              "function _uploadFilesContinue(outputId) {\n",
              "  const outputElement = document.getElementById(outputId);\n",
              "  const steps = outputElement.steps;\n",
              "\n",
              "  const next = steps.next(outputElement.lastPromiseValue);\n",
              "  return Promise.resolve(next.value.promise).then((value) => {\n",
              "    // Cache the last promise value to make it available to the next\n",
              "    // step of the generator.\n",
              "    outputElement.lastPromiseValue = value;\n",
              "    return next.value.response;\n",
              "  });\n",
              "}\n",
              "\n",
              "/**\n",
              " * Generator function which is called between each async step of the upload\n",
              " * process.\n",
              " * @param {string} inputId Element ID of the input file picker element.\n",
              " * @param {string} outputId Element ID of the output display.\n",
              " * @return {!Iterable<!Object>} Iterable of next steps.\n",
              " */\n",
              "function* uploadFilesStep(inputId, outputId) {\n",
              "  const inputElement = document.getElementById(inputId);\n",
              "  inputElement.disabled = false;\n",
              "\n",
              "  const outputElement = document.getElementById(outputId);\n",
              "  outputElement.innerHTML = '';\n",
              "\n",
              "  const pickedPromise = new Promise((resolve) => {\n",
              "    inputElement.addEventListener('change', (e) => {\n",
              "      resolve(e.target.files);\n",
              "    });\n",
              "  });\n",
              "\n",
              "  const cancel = document.createElement('button');\n",
              "  inputElement.parentElement.appendChild(cancel);\n",
              "  cancel.textContent = 'Cancel upload';\n",
              "  const cancelPromise = new Promise((resolve) => {\n",
              "    cancel.onclick = () => {\n",
              "      resolve(null);\n",
              "    };\n",
              "  });\n",
              "\n",
              "  // Wait for the user to pick the files.\n",
              "  const files = yield {\n",
              "    promise: Promise.race([pickedPromise, cancelPromise]),\n",
              "    response: {\n",
              "      action: 'starting',\n",
              "    }\n",
              "  };\n",
              "\n",
              "  cancel.remove();\n",
              "\n",
              "  // Disable the input element since further picks are not allowed.\n",
              "  inputElement.disabled = true;\n",
              "\n",
              "  if (!files) {\n",
              "    return {\n",
              "      response: {\n",
              "        action: 'complete',\n",
              "      }\n",
              "    };\n",
              "  }\n",
              "\n",
              "  for (const file of files) {\n",
              "    const li = document.createElement('li');\n",
              "    li.append(span(file.name, {fontWeight: 'bold'}));\n",
              "    li.append(span(\n",
              "        `(${file.type || 'n/a'}) - ${file.size} bytes, ` +\n",
              "        `last modified: ${\n",
              "            file.lastModifiedDate ? file.lastModifiedDate.toLocaleDateString() :\n",
              "                                    'n/a'} - `));\n",
              "    const percent = span('0% done');\n",
              "    li.appendChild(percent);\n",
              "\n",
              "    outputElement.appendChild(li);\n",
              "\n",
              "    const fileDataPromise = new Promise((resolve) => {\n",
              "      const reader = new FileReader();\n",
              "      reader.onload = (e) => {\n",
              "        resolve(e.target.result);\n",
              "      };\n",
              "      reader.readAsArrayBuffer(file);\n",
              "    });\n",
              "    // Wait for the data to be ready.\n",
              "    let fileData = yield {\n",
              "      promise: fileDataPromise,\n",
              "      response: {\n",
              "        action: 'continue',\n",
              "      }\n",
              "    };\n",
              "\n",
              "    // Use a chunked sending to avoid message size limits. See b/62115660.\n",
              "    let position = 0;\n",
              "    do {\n",
              "      const length = Math.min(fileData.byteLength - position, MAX_PAYLOAD_SIZE);\n",
              "      const chunk = new Uint8Array(fileData, position, length);\n",
              "      position += length;\n",
              "\n",
              "      const base64 = btoa(String.fromCharCode.apply(null, chunk));\n",
              "      yield {\n",
              "        response: {\n",
              "          action: 'append',\n",
              "          file: file.name,\n",
              "          data: base64,\n",
              "        },\n",
              "      };\n",
              "\n",
              "      let percentDone = fileData.byteLength === 0 ?\n",
              "          100 :\n",
              "          Math.round((position / fileData.byteLength) * 100);\n",
              "      percent.textContent = `${percentDone}% done`;\n",
              "\n",
              "    } while (position < fileData.byteLength);\n",
              "  }\n",
              "\n",
              "  // All done.\n",
              "  yield {\n",
              "    response: {\n",
              "      action: 'complete',\n",
              "    }\n",
              "  };\n",
              "}\n",
              "\n",
              "scope.google = scope.google || {};\n",
              "scope.google.colab = scope.google.colab || {};\n",
              "scope.google.colab._files = {\n",
              "  _uploadFiles,\n",
              "  _uploadFilesContinue,\n",
              "};\n",
              "})(self);\n",
              "</script> "
            ]
          },
          "metadata": {}
        },
        {
          "output_type": "stream",
          "name": "stdout",
          "text": [
            "Saving 1.jpg to 1.jpg\n",
            "Saving 2.jpg to 2.jpg\n",
            "Cargar imágenes de VALIDATION clase APPOLLO en /content/butterflies_classifier/validation/appollo\n"
          ]
        },
        {
          "output_type": "display_data",
          "data": {
            "text/plain": [
              "<IPython.core.display.HTML object>"
            ],
            "text/html": [
              "\n",
              "     <input type=\"file\" id=\"files-1c85bfc6-7e81-4bab-87b3-06ac9ddd3027\" name=\"files[]\" multiple disabled\n",
              "        style=\"border:none\" />\n",
              "     <output id=\"result-1c85bfc6-7e81-4bab-87b3-06ac9ddd3027\">\n",
              "      Upload widget is only available when the cell has been executed in the\n",
              "      current browser session. Please rerun this cell to enable.\n",
              "      </output>\n",
              "      <script>// Copyright 2017 Google LLC\n",
              "//\n",
              "// Licensed under the Apache License, Version 2.0 (the \"License\");\n",
              "// you may not use this file except in compliance with the License.\n",
              "// You may obtain a copy of the License at\n",
              "//\n",
              "//      http://www.apache.org/licenses/LICENSE-2.0\n",
              "//\n",
              "// Unless required by applicable law or agreed to in writing, software\n",
              "// distributed under the License is distributed on an \"AS IS\" BASIS,\n",
              "// WITHOUT WARRANTIES OR CONDITIONS OF ANY KIND, either express or implied.\n",
              "// See the License for the specific language governing permissions and\n",
              "// limitations under the License.\n",
              "\n",
              "/**\n",
              " * @fileoverview Helpers for google.colab Python module.\n",
              " */\n",
              "(function(scope) {\n",
              "function span(text, styleAttributes = {}) {\n",
              "  const element = document.createElement('span');\n",
              "  element.textContent = text;\n",
              "  for (const key of Object.keys(styleAttributes)) {\n",
              "    element.style[key] = styleAttributes[key];\n",
              "  }\n",
              "  return element;\n",
              "}\n",
              "\n",
              "// Max number of bytes which will be uploaded at a time.\n",
              "const MAX_PAYLOAD_SIZE = 100 * 1024;\n",
              "\n",
              "function _uploadFiles(inputId, outputId) {\n",
              "  const steps = uploadFilesStep(inputId, outputId);\n",
              "  const outputElement = document.getElementById(outputId);\n",
              "  // Cache steps on the outputElement to make it available for the next call\n",
              "  // to uploadFilesContinue from Python.\n",
              "  outputElement.steps = steps;\n",
              "\n",
              "  return _uploadFilesContinue(outputId);\n",
              "}\n",
              "\n",
              "// This is roughly an async generator (not supported in the browser yet),\n",
              "// where there are multiple asynchronous steps and the Python side is going\n",
              "// to poll for completion of each step.\n",
              "// This uses a Promise to block the python side on completion of each step,\n",
              "// then passes the result of the previous step as the input to the next step.\n",
              "function _uploadFilesContinue(outputId) {\n",
              "  const outputElement = document.getElementById(outputId);\n",
              "  const steps = outputElement.steps;\n",
              "\n",
              "  const next = steps.next(outputElement.lastPromiseValue);\n",
              "  return Promise.resolve(next.value.promise).then((value) => {\n",
              "    // Cache the last promise value to make it available to the next\n",
              "    // step of the generator.\n",
              "    outputElement.lastPromiseValue = value;\n",
              "    return next.value.response;\n",
              "  });\n",
              "}\n",
              "\n",
              "/**\n",
              " * Generator function which is called between each async step of the upload\n",
              " * process.\n",
              " * @param {string} inputId Element ID of the input file picker element.\n",
              " * @param {string} outputId Element ID of the output display.\n",
              " * @return {!Iterable<!Object>} Iterable of next steps.\n",
              " */\n",
              "function* uploadFilesStep(inputId, outputId) {\n",
              "  const inputElement = document.getElementById(inputId);\n",
              "  inputElement.disabled = false;\n",
              "\n",
              "  const outputElement = document.getElementById(outputId);\n",
              "  outputElement.innerHTML = '';\n",
              "\n",
              "  const pickedPromise = new Promise((resolve) => {\n",
              "    inputElement.addEventListener('change', (e) => {\n",
              "      resolve(e.target.files);\n",
              "    });\n",
              "  });\n",
              "\n",
              "  const cancel = document.createElement('button');\n",
              "  inputElement.parentElement.appendChild(cancel);\n",
              "  cancel.textContent = 'Cancel upload';\n",
              "  const cancelPromise = new Promise((resolve) => {\n",
              "    cancel.onclick = () => {\n",
              "      resolve(null);\n",
              "    };\n",
              "  });\n",
              "\n",
              "  // Wait for the user to pick the files.\n",
              "  const files = yield {\n",
              "    promise: Promise.race([pickedPromise, cancelPromise]),\n",
              "    response: {\n",
              "      action: 'starting',\n",
              "    }\n",
              "  };\n",
              "\n",
              "  cancel.remove();\n",
              "\n",
              "  // Disable the input element since further picks are not allowed.\n",
              "  inputElement.disabled = true;\n",
              "\n",
              "  if (!files) {\n",
              "    return {\n",
              "      response: {\n",
              "        action: 'complete',\n",
              "      }\n",
              "    };\n",
              "  }\n",
              "\n",
              "  for (const file of files) {\n",
              "    const li = document.createElement('li');\n",
              "    li.append(span(file.name, {fontWeight: 'bold'}));\n",
              "    li.append(span(\n",
              "        `(${file.type || 'n/a'}) - ${file.size} bytes, ` +\n",
              "        `last modified: ${\n",
              "            file.lastModifiedDate ? file.lastModifiedDate.toLocaleDateString() :\n",
              "                                    'n/a'} - `));\n",
              "    const percent = span('0% done');\n",
              "    li.appendChild(percent);\n",
              "\n",
              "    outputElement.appendChild(li);\n",
              "\n",
              "    const fileDataPromise = new Promise((resolve) => {\n",
              "      const reader = new FileReader();\n",
              "      reader.onload = (e) => {\n",
              "        resolve(e.target.result);\n",
              "      };\n",
              "      reader.readAsArrayBuffer(file);\n",
              "    });\n",
              "    // Wait for the data to be ready.\n",
              "    let fileData = yield {\n",
              "      promise: fileDataPromise,\n",
              "      response: {\n",
              "        action: 'continue',\n",
              "      }\n",
              "    };\n",
              "\n",
              "    // Use a chunked sending to avoid message size limits. See b/62115660.\n",
              "    let position = 0;\n",
              "    do {\n",
              "      const length = Math.min(fileData.byteLength - position, MAX_PAYLOAD_SIZE);\n",
              "      const chunk = new Uint8Array(fileData, position, length);\n",
              "      position += length;\n",
              "\n",
              "      const base64 = btoa(String.fromCharCode.apply(null, chunk));\n",
              "      yield {\n",
              "        response: {\n",
              "          action: 'append',\n",
              "          file: file.name,\n",
              "          data: base64,\n",
              "        },\n",
              "      };\n",
              "\n",
              "      let percentDone = fileData.byteLength === 0 ?\n",
              "          100 :\n",
              "          Math.round((position / fileData.byteLength) * 100);\n",
              "      percent.textContent = `${percentDone}% done`;\n",
              "\n",
              "    } while (position < fileData.byteLength);\n",
              "  }\n",
              "\n",
              "  // All done.\n",
              "  yield {\n",
              "    response: {\n",
              "      action: 'complete',\n",
              "    }\n",
              "  };\n",
              "}\n",
              "\n",
              "scope.google = scope.google || {};\n",
              "scope.google.colab = scope.google.colab || {};\n",
              "scope.google.colab._files = {\n",
              "  _uploadFiles,\n",
              "  _uploadFilesContinue,\n",
              "};\n",
              "})(self);\n",
              "</script> "
            ]
          },
          "metadata": {}
        },
        {
          "output_type": "stream",
          "name": "stdout",
          "text": [
            "Saving 1.jpg to 1.jpg\n",
            "Saving 2.jpg to 2.jpg\n"
          ]
        }
      ]
    },
    {
      "cell_type": "markdown",
      "source": [
        "**Transformaciones de Imágenes**\n",
        "\n",
        "- `transforms.Resize((255, 255))`: redimensiona la imagen a un tamaño de píxel de 255x255. Esto se hace para asegurarse de que todas las imágenes tengan el mismo tamaño antes de aplicar las transformaciones adicionales.\n",
        "\n",
        "- `transforms.RandomCrop((224, 224))`: corta aleatoriamente la imagen en un rango de 224x224. Esto ayuda a introducir variabilidad en la ubicación de las imágenes.\n",
        "\n",
        "La transformación RandomCrop se utiliza comúnmente como una técnica de aumento de datos para introducir variabilidad en las imágenes de entrenamiento. Al recortar aleatoriamente una región de la imagen, se pueden capturar diferentes partes o características de la imagen, lo que ayuda a mejorar la capacidad de generalización del modelo y lo hace más robusto a la variación en la ubicación de los objetos en las imágenes.\n",
        "\n",
        "Es importante tener en cuenta que al aplicar esta transformación, la imagen se recorta de forma aleatoria y se pierde información fuera de la región recortada. Por lo tanto, es recomendable tener suficiente margen de espacio en las imágenes de entrada para asegurar que las regiones de interés no se corten por completo.\n",
        "\n",
        "- `transforms.RandomRotation(30)`: Esta transformación aplica una rotación aleatoria a la imagen de entrada en un rango de ±30 grados. Esto significa que la imagen puede rotarse en cualquier dirección dentro de ese rango.\n",
        "\n",
        "- `transforms.RandomHorizontalFlip(p=0.5)`: voltea aleatoriamente horizontalmente la imagen con una probabilidad de 0.5. Esto ayuda a introducir variabilidad en la orientación horizontal de las imágenes.\n",
        "\n",
        "- `transforms.RandomVerticalFlip(p=0.5)`: voltea aleatoriamente verticalmente la imagen con una probabilidad de 0.5. Esto ayuda a introducir variabilidad en la orientación vertical de las imágenes.\n",
        "\n",
        "Cuando se establece p=0.5, la transformación de volteo vertical se aplicará con una probabilidad del 50%. Esto significa que para cada imagen, hay un 50% de probabilidad de que se aplique la transformación y un 50% de probabilidad de que no se aplique.\n",
        "Si se desea aplicar la transformación de volteo vertical a todas las imágenes, se puede establecer p=1.0. Por otro lado, si se desea evitar completamente la transformación, se puede establecer p=0.0.\n",
        "\n",
        "- `transforms.GaussianBlur(kernel_size=(3, 7), sigma=(0.2, 3))`: aplica un desenfoque gaussiano aleatorio a la imagen. Con parámetros tamaño del kernel y desviación estándar, que se eligen aleatoriamente dentro de los rangos especificados. Esto puede ayudar a suavizar y difuminar la imagen.\n",
        "\n",
        "- `transforms.RandomRotation(degrees=(30, 70))`: rota aleatoriamente la imagen en un rango de grados especificado. Esto ayuda a introducir variabilidad en la orientación y la posición de las imágenes.\n",
        "\n",
        "- `transforms.Normalize(mean=[0.5, 0.5, 0.5], std=[0.5, 0.5, 0.5])`: normaliza los valores de los píxeles de la imagen. Resta la media especificada y divide por la desviación estándar especificada en cada canal de color. La normalización ayuda a que los datos tengan una escala adecuada para el procesamiento del modelo. Esta normalización escala los valores de píxeles para que queden dentro del rango [-1, 1].\n"
      ],
      "metadata": {
        "id": "AAzTF-gkOGOv"
      }
    },
    {
      "cell_type": "code",
      "source": [
        "BATCH_SIZE = 2\n",
        "\n",
        "# Configuración para la transformación de los datos\n",
        "train_transform = transforms.Compose([\n",
        "    transforms.Resize((255, 255)),\n",
        "    # Ejemplos de data augmentation\n",
        "    # transforms.RandomHorizontalFlip(p=0.5),\n",
        "    # transforms.RandomVerticalFlip(p=0.5),\n",
        "    # transforms.GaussianBlur(kernel_size=(5, 9), sigma=(0.1, 5)),\n",
        "    # transforms.RandomRotation(degrees=(30, 70)),\n",
        "    transforms.ToTensor(),\n",
        "    transforms.Normalize(\n",
        "        mean=[0.5, 0.5, 0.5],\n",
        "        std=[0.5, 0.5, 0.5]\n",
        "    )\n",
        "])\n",
        "\n",
        "# Cargar dataset de entrenamiento\n",
        "train_dataset = datasets.ImageFolder(\n",
        "                          root='/content/butterflies_classifier/train',\n",
        "                          transform=train_transform\n",
        ")\n",
        "\n",
        "# Data loaders de entramiento\n",
        "train_loader = DataLoader(\n",
        "                    train_dataset, batch_size=BATCH_SIZE,\n",
        "                    shuffle=False,\n",
        "                    num_workers=2,\n",
        "                    # Indicar si los datos se deben fijar en la memoria.\n",
        "                    # Esto puede acelerar la transferencia de datos entre la CPU y la GPU,\n",
        "                    # si estás utilizando una GPU para el entrenamiento\n",
        "                    pin_memory=False\n",
        ")\n",
        "\n",
        "# Tranformar dataset de validación\n",
        "valid_transform = transforms.Compose([\n",
        "  # TODO\n",
        "])\n",
        "\n",
        "# Cargar dataset de validación\n",
        "# valid_dataset = datasets.ImageFolder(\n",
        "#                           root='/content/butterflies_classifier/valid',\n",
        "#                           transform=valid_transform\n",
        "# )\n",
        "\n",
        "# Data loaders de validación\n",
        "# valid_loader = DataLoader(\n",
        "#                     valid_dataset, batch_size=BATCH_SIZE, shuffle=False,\n",
        "#                     num_workers=2, pin_memory=False\n",
        "# )"
      ],
      "metadata": {
        "id": "xRzXFoCTvw7Y"
      },
      "execution_count": null,
      "outputs": []
    },
    {
      "cell_type": "code",
      "source": [
        "# Clases del dataset\n",
        "train_dataset.classes"
      ],
      "metadata": {
        "colab": {
          "base_uri": "https://localhost:8080/"
        },
        "id": "c-gUpumIgSm9",
        "outputId": "d666a0c0-58ba-43f8-a59e-dd07b0fbef21"
      },
      "execution_count": null,
      "outputs": [
        {
          "output_type": "execute_result",
          "data": {
            "text/plain": [
              "['adonis', 'appollo']"
            ]
          },
          "metadata": {},
          "execution_count": 20
        }
      ]
    },
    {
      "cell_type": "code",
      "source": [
        "# Iterar sobre el cargador de batch de datos de entrenamiento\n",
        "mini_batchs = enumerate(train_loader)"
      ],
      "metadata": {
        "id": "A2QQnt2mX44p"
      },
      "execution_count": null,
      "outputs": []
    },
    {
      "cell_type": "code",
      "source": [
        "# 1ra iteración sobre el cargador de batch de datos de entrenamiento\n",
        "mini_batch_idx, (mini_batch_inputs, mini_batch_targets) = next(mini_batchs)\n",
        "print(f'N° de mini-batch: {mini_batch_idx}')\n",
        "print(f'Dimensiones de mini-batch de entradas: {mini_batch_inputs.shape}')\n",
        "print(f'Dimensiones de mini-batch de targets: {mini_batch_targets.shape}')\n",
        "print(f'Datos de entrada del mini-batch:\\n\\t {mini_batch_inputs[:2]}')\n",
        "print(f'Datos de target del mini-batch:\\n\\t {mini_batch_targets}')"
      ],
      "metadata": {
        "colab": {
          "base_uri": "https://localhost:8080/"
        },
        "id": "cGA8xS00XwNJ",
        "outputId": "24bee9df-b9f5-4a5c-909d-38db5caa76ec"
      },
      "execution_count": null,
      "outputs": [
        {
          "output_type": "stream",
          "name": "stdout",
          "text": [
            "N° de mini-batch: 0\n",
            "Dimensiones de mini-batch de entradas: torch.Size([2, 3, 255, 255])\n",
            "Dimensiones de mini-batch de targets: torch.Size([2])\n",
            "Datos de entrada del mini-batch:\n",
            "\t tensor([[[[-1.0000, -1.0000, -0.9686,  ..., -1.0000, -1.0000, -1.0000],\n",
            "          [-1.0000, -0.9843, -0.9451,  ..., -1.0000, -1.0000, -1.0000],\n",
            "          [-1.0000, -0.9765, -0.9216,  ..., -1.0000, -1.0000, -1.0000],\n",
            "          ...,\n",
            "          [-0.3176, -0.3490, -0.4353,  ..., -0.9922, -0.9922, -0.9843],\n",
            "          [-0.3098, -0.3569, -0.4431,  ..., -1.0000, -1.0000, -0.9922],\n",
            "          [-0.3176, -0.3725, -0.4510,  ..., -0.9922, -1.0000, -1.0000]],\n",
            "\n",
            "         [[-0.9451, -0.8980, -0.8353,  ..., -0.9686, -0.9686, -0.9608],\n",
            "          [-0.9294, -0.8824, -0.8118,  ..., -0.9765, -0.9686, -0.9608],\n",
            "          [-0.9137, -0.8510, -0.7804,  ..., -0.9765, -0.9686, -0.9608],\n",
            "          ...,\n",
            "          [-0.1216, -0.1529, -0.2471,  ..., -0.9529, -0.9451, -0.9373],\n",
            "          [-0.1294, -0.1765, -0.2706,  ..., -0.9608, -0.9529, -0.9451],\n",
            "          [-0.1373, -0.1922, -0.2863,  ..., -0.9608, -0.9529, -0.9529]],\n",
            "\n",
            "         [[-0.9922, -0.9922, -1.0000,  ..., -1.0000, -1.0000, -0.9922],\n",
            "          [-0.9922, -0.9765, -0.9843,  ..., -1.0000, -1.0000, -0.9922],\n",
            "          [-0.9843, -0.9686, -0.9686,  ..., -1.0000, -1.0000, -0.9922],\n",
            "          ...,\n",
            "          [-0.4902, -0.5059, -0.5686,  ..., -1.0000, -0.9922, -0.9843],\n",
            "          [-0.4902, -0.5294, -0.5843,  ..., -0.9922, -0.9843, -0.9765],\n",
            "          [-0.4980, -0.5451, -0.6000,  ..., -0.9765, -0.9843, -0.9843]]],\n",
            "\n",
            "\n",
            "        [[[-0.3333, -0.3647, -0.3412,  ..., -0.2784, -0.2627, -0.2706],\n",
            "          [-0.3176, -0.2784, -0.2784,  ..., -0.2627, -0.2706, -0.2784],\n",
            "          [-0.2000, -0.2392, -0.2784,  ..., -0.2706, -0.2706, -0.2706],\n",
            "          ...,\n",
            "          [-0.0745, -0.0902, -0.0745,  ..., -0.2314, -0.2471, -0.1529],\n",
            "          [-0.1137, -0.1216, -0.0745,  ..., -0.2549, -0.2549, -0.2000],\n",
            "          [-0.0980, -0.1137, -0.0980,  ..., -0.2392, -0.2392, -0.2000]],\n",
            "\n",
            "         [[-0.4039, -0.4353, -0.4196,  ...,  0.0275,  0.0353,  0.0275],\n",
            "          [-0.3882, -0.3490, -0.3490,  ...,  0.0353,  0.0275,  0.0196],\n",
            "          [-0.2784, -0.3176, -0.3647,  ...,  0.0196,  0.0196,  0.0118],\n",
            "          ...,\n",
            "          [ 0.1373,  0.1216,  0.1373,  ..., -0.0118, -0.0431,  0.0431],\n",
            "          [ 0.0980,  0.0902,  0.1373,  ..., -0.0353, -0.0510, -0.0039],\n",
            "          [ 0.1137,  0.0980,  0.1137,  ..., -0.0196, -0.0353, -0.0039]],\n",
            "\n",
            "         [[-0.7412, -0.7569, -0.7098,  ..., -0.8667, -0.8353, -0.8431],\n",
            "          [-0.7255, -0.6784, -0.6627,  ..., -0.8588, -0.8510, -0.8510],\n",
            "          [-0.6235, -0.6706, -0.6941,  ..., -0.8667, -0.8667, -0.8510],\n",
            "          ...,\n",
            "          [-0.9686, -0.9765, -0.9686,  ..., -0.5843, -0.5922, -0.4902],\n",
            "          [-1.0000, -1.0000, -0.9765,  ..., -0.6078, -0.6000, -0.5373],\n",
            "          [-1.0000, -1.0000, -1.0000,  ..., -0.5922, -0.5922, -0.5373]]]])\n",
            "Datos de target del mini-batch:\n",
            "\t tensor([0, 0])\n"
          ]
        }
      ]
    },
    {
      "cell_type": "code",
      "source": [
        "# Visualicemos la imágenes del batch 0: 1ra y 2da imagen\n",
        "fig = plt.figure(2, figsize=(6, 2))\n",
        "fig.add_subplot(1, 2, 1)\n",
        "plt.imshow(mini_batch_inputs[0].T)  # .T transpone los vectores [C x H x W] a [H x W x C]\n",
        "fig.add_subplot(1, 2, 2)\n",
        "plt.imshow(mini_batch_inputs[1].T)\n",
        "plt.show()"
      ],
      "metadata": {
        "id": "YRMkRxJaytj4",
        "colab": {
          "base_uri": "https://localhost:8080/",
          "height": 254
        },
        "outputId": "ea330d0f-e2b3-48e5-b29e-320125a114b6"
      },
      "execution_count": null,
      "outputs": [
        {
          "output_type": "stream",
          "name": "stderr",
          "text": [
            "WARNING:matplotlib.image:Clipping input data to the valid range for imshow with RGB data ([0..1] for floats or [0..255] for integers).\n",
            "WARNING:matplotlib.image:Clipping input data to the valid range for imshow with RGB data ([0..1] for floats or [0..255] for integers).\n"
          ]
        },
        {
          "output_type": "display_data",
          "data": {
            "text/plain": [
              "<Figure size 600x200 with 2 Axes>"
            ],
            "image/png": "[encoded data removed]"
          },
          "metadata": {}
        }
      ]
    },
    {
      "cell_type": "code",
      "source": [
        "# 2da iteración sobre el cargador de batch de datos de entrenamiento\n",
        "mini_batch_idx, (mini_batch_inputs, mini_batch_targets) = next(mini_batchs)\n",
        "print(f'N° de mini-batch: {mini_batch_idx}')\n",
        "print(f'Dimensiones de mini-batch de entradas: {mini_batch_inputs.shape}')\n",
        "print(f'Dimensiones de mini-batch de targets: {mini_batch_targets.shape}')\n",
        "print(f'Datos de entrada del mini-batch:\\n\\t {mini_batch_inputs[:2]}')\n",
        "print(f'Datos de target del mini-batch:\\n\\t {mini_batch_targets}')"
      ],
      "metadata": {
        "colab": {
          "base_uri": "https://localhost:8080/"
        },
        "id": "E5WZAnIFZ_G4",
        "outputId": "19b1bbbb-9e0b-42fd-f9e5-af1526a53813"
      },
      "execution_count": null,
      "outputs": [
        {
          "output_type": "stream",
          "name": "stdout",
          "text": [
            "N° de mini-batch: 1\n",
            "Dimensiones de mini-batch de entradas: torch.Size([2, 3, 255, 255])\n",
            "Dimensiones de mini-batch de targets: torch.Size([2])\n",
            "Datos de entrada del mini-batch:\n",
            "\t tensor([[[[ 0.0196,  0.0196,  0.0353,  ...,  0.7020,  0.7020,  0.6863],\n",
            "          [ 0.0431,  0.0353,  0.0275,  ...,  0.6078,  0.5765,  0.5608],\n",
            "          [ 0.0588,  0.0275,  0.0196,  ...,  0.4667,  0.4353,  0.4039],\n",
            "          ...,\n",
            "          [-0.4353, -0.3961, -0.3255,  ..., -0.2784, -0.2627, -0.2706],\n",
            "          [-0.4196, -0.3647, -0.2863,  ..., -0.1608, -0.1294, -0.1294],\n",
            "          [-0.3882, -0.3333, -0.2549,  ..., -0.0353, -0.0039, -0.0039]],\n",
            "\n",
            "         [[-0.0353, -0.0353, -0.0118,  ...,  0.6314,  0.6314,  0.6157],\n",
            "          [-0.0118, -0.0196, -0.0196,  ...,  0.5451,  0.5294,  0.5137],\n",
            "          [ 0.0039, -0.0196, -0.0275,  ...,  0.4275,  0.3961,  0.3725],\n",
            "          ...,\n",
            "          [-0.3176, -0.2706, -0.2157,  ..., -0.1137, -0.1137, -0.1216],\n",
            "          [-0.2863, -0.2392, -0.1686,  ..., -0.0118,  0.0039,  0.0039],\n",
            "          [-0.2549, -0.2000, -0.1294,  ...,  0.0980,  0.1216,  0.1216]],\n",
            "\n",
            "         [[-0.3961, -0.3961, -0.3882,  ..., -0.0902, -0.1059, -0.1294],\n",
            "          [-0.3725, -0.3882, -0.3961,  ..., -0.1686, -0.1922, -0.2235],\n",
            "          [-0.3647, -0.3961, -0.4039,  ..., -0.2627, -0.2941, -0.3412],\n",
            "          ...,\n",
            "          [-1.0000, -0.9922, -0.9765,  ..., -0.9843, -0.9843, -0.9843],\n",
            "          [-1.0000, -0.9843, -0.9608,  ..., -0.9216, -0.9216, -0.9373],\n",
            "          [-0.9922, -0.9686, -0.9373,  ..., -0.8353, -0.8353, -0.8510]]],\n",
            "\n",
            "\n",
            "        [[[-1.0000, -0.9765, -0.9922,  ..., -0.9686, -0.9608, -0.9529],\n",
            "          [-0.9922, -0.9686, -0.9765,  ..., -0.9765, -0.9765, -0.9686],\n",
            "          [-1.0000, -0.9922, -0.9922,  ..., -0.9686, -0.9686, -0.9686],\n",
            "          ...,\n",
            "          [-1.0000, -1.0000, -1.0000,  ..., -0.9922, -0.9922, -0.9922],\n",
            "          [-1.0000, -1.0000, -1.0000,  ..., -0.9922, -0.9922, -0.9922],\n",
            "          [-1.0000, -1.0000, -1.0000,  ..., -0.9922, -0.9843, -0.9843]],\n",
            "\n",
            "         [[-1.0000, -0.9765, -0.9922,  ..., -0.9686, -0.9608, -0.9529],\n",
            "          [-0.9922, -0.9686, -0.9765,  ..., -0.9843, -0.9765, -0.9686],\n",
            "          [-1.0000, -0.9922, -0.9922,  ..., -0.9765, -0.9686, -0.9686],\n",
            "          ...,\n",
            "          [-1.0000, -1.0000, -1.0000,  ..., -0.9922, -0.9922, -0.9922],\n",
            "          [-1.0000, -1.0000, -1.0000,  ..., -0.9922, -0.9922, -0.9922],\n",
            "          [-1.0000, -1.0000, -1.0000,  ..., -0.9922, -0.9843, -0.9843]],\n",
            "\n",
            "         [[-1.0000, -0.9765, -0.9922,  ..., -0.9373, -0.9608, -0.9686],\n",
            "          [-0.9922, -0.9686, -0.9765,  ..., -0.9529, -0.9765, -0.9843],\n",
            "          [-1.0000, -0.9922, -0.9922,  ..., -0.9451, -0.9686, -0.9843],\n",
            "          ...,\n",
            "          [-1.0000, -1.0000, -1.0000,  ..., -0.9765, -0.9765, -0.9765],\n",
            "          [-1.0000, -1.0000, -1.0000,  ..., -0.9765, -0.9765, -0.9765],\n",
            "          [-1.0000, -1.0000, -1.0000,  ..., -0.9765, -0.9686, -0.9686]]]])\n",
            "Datos de target del mini-batch:\n",
            "\t tensor([0, 1])\n"
          ]
        }
      ]
    },
    {
      "cell_type": "code",
      "source": [
        "# Visualicemos la imágenes del 2do batch: 3ra y 4ta imagen\n",
        "fig = plt.figure(2, figsize=(6, 2))\n",
        "fig.add_subplot(1, 2, 1)\n",
        "plt.imshow(mini_batch_inputs[0].T)  # .T transpone los vectores [C x H x W] a [H x W x C]\n",
        "fig.add_subplot(1, 2, 2)\n",
        "plt.imshow(mini_batch_inputs[1].T)\n",
        "plt.show()"
      ],
      "metadata": {
        "colab": {
          "base_uri": "https://localhost:8080/",
          "height": 254
        },
        "id": "tybOtcnmABo3",
        "outputId": "ab5a9f23-804c-45e3-a363-8111d65daa10"
      },
      "execution_count": null,
      "outputs": [
        {
          "output_type": "stream",
          "name": "stderr",
          "text": [
            "WARNING:matplotlib.image:Clipping input data to the valid range for imshow with RGB data ([0..1] for floats or [0..255] for integers).\n",
            "WARNING:matplotlib.image:Clipping input data to the valid range for imshow with RGB data ([0..1] for floats or [0..255] for integers).\n"
          ]
        },
        {
          "output_type": "display_data",
          "data": {
            "text/plain": [
              "<Figure size 600x200 with 2 Axes>"
            ],
            "image/png": "[encoded data removed]"
          },
          "metadata": {}
        }
      ]
    },
    {
      "cell_type": "code",
      "source": [
        "# 3ra iteración sobre el cargador de batch de datos de entrenamiento\n",
        "mini_batch_idx, (mini_batch_inputs, mini_batch_targets) = next(mini_batchs)\n",
        "print(f'N° de mini-batch: {mini_batch_idx}')\n",
        "print(f'Dimensiones de mini-batch de entradas: {mini_batch_inputs.shape}')\n",
        "print(f'Dimensiones de mini-batch de targets: {mini_batch_targets.shape}')\n",
        "print(f'Datos de entrada del mini-batch:\\n\\t {mini_batch_inputs[:2]}')\n",
        "print(f'Datos de target del mini-batch:\\n\\t {mini_batch_targets}')"
      ],
      "metadata": {
        "colab": {
          "base_uri": "https://localhost:8080/"
        },
        "id": "osKWbHS-_LPQ",
        "outputId": "7dc59943-2f5d-446f-f3d3-9219934aaf92"
      },
      "execution_count": null,
      "outputs": [
        {
          "output_type": "stream",
          "name": "stdout",
          "text": [
            "N° de mini-batch: 2\n",
            "Dimensiones de mini-batch de entradas: torch.Size([2, 3, 255, 255])\n",
            "Dimensiones de mini-batch de targets: torch.Size([2])\n",
            "Datos de entrada del mini-batch:\n",
            "\t tensor([[[[ 0.8353,  0.7882,  0.7490,  ..., -0.0353, -0.0353, -0.0980],\n",
            "          [ 0.8039,  0.7569,  0.7176,  ..., -0.1059, -0.1137, -0.1137],\n",
            "          [ 0.7725,  0.7333,  0.7020,  ..., -0.0745, -0.1059, -0.0902],\n",
            "          ...,\n",
            "          [ 0.1686,  0.0588, -0.0745,  ..., -0.8039, -0.7725, -0.7020],\n",
            "          [ 0.1765,  0.0902, -0.0353,  ..., -0.7725, -0.7412, -0.7020],\n",
            "          [ 0.1765,  0.1059,  0.0039,  ..., -0.7412, -0.7098, -0.6863]],\n",
            "\n",
            "         [[ 0.8431,  0.7961,  0.7569,  ...,  0.0353,  0.0667,  0.0275],\n",
            "          [ 0.8118,  0.7647,  0.7255,  ..., -0.0431, -0.0118,  0.0118],\n",
            "          [ 0.7804,  0.7412,  0.7098,  ..., -0.0196, -0.0196,  0.0118],\n",
            "          ...,\n",
            "          [ 0.1608,  0.0431, -0.0902,  ..., -0.8431, -0.8353, -0.7725],\n",
            "          [ 0.1686,  0.0824, -0.0353,  ..., -0.8196, -0.8039, -0.7647],\n",
            "          [ 0.1686,  0.0980, -0.0039,  ..., -0.7804, -0.7647, -0.7490]],\n",
            "\n",
            "         [[ 0.8588,  0.8118,  0.7725,  ..., -0.6314, -0.6078, -0.6627],\n",
            "          [ 0.8275,  0.7804,  0.7412,  ..., -0.7020, -0.6706, -0.6627],\n",
            "          [ 0.7961,  0.7569,  0.7255,  ..., -0.6706, -0.6627, -0.6235],\n",
            "          ...,\n",
            "          [ 0.2000,  0.0667, -0.0667,  ..., -0.9451, -0.9373, -0.8824],\n",
            "          [ 0.2157,  0.1216, -0.0118,  ..., -0.9137, -0.9059, -0.8667],\n",
            "          [ 0.2157,  0.1373,  0.0353,  ..., -0.8745, -0.8588, -0.8510]]],\n",
            "\n",
            "\n",
            "        [[[-0.7882, -0.7961, -0.7961,  ..., -0.8039, -0.8039, -0.8039],\n",
            "          [-0.7882, -0.7961, -0.8039,  ..., -0.8039, -0.8039, -0.8039],\n",
            "          [-0.7804, -0.7882, -0.7961,  ..., -0.8039, -0.8039, -0.8039],\n",
            "          ...,\n",
            "          [-0.7020, -0.8667, -0.9137,  ..., -0.6784, -0.6863, -0.6863],\n",
            "          [-0.7725, -0.8745, -0.9216,  ..., -0.6706, -0.6784, -0.6863],\n",
            "          [-0.8039, -0.8588, -0.9216,  ..., -0.6706, -0.6784, -0.6863]],\n",
            "\n",
            "         [[-0.6157, -0.6235, -0.6235,  ..., -0.7804, -0.7804, -0.7804],\n",
            "          [-0.6157, -0.6235, -0.6314,  ..., -0.7804, -0.7804, -0.7804],\n",
            "          [-0.6078, -0.6157, -0.6235,  ..., -0.7804, -0.7804, -0.7804],\n",
            "          ...,\n",
            "          [-0.7020, -0.8667, -0.9137,  ..., -0.6314, -0.6392, -0.6392],\n",
            "          [-0.7725, -0.8824, -0.9294,  ..., -0.6235, -0.6314, -0.6392],\n",
            "          [-0.8039, -0.8667, -0.9294,  ..., -0.6235, -0.6314, -0.6392]],\n",
            "\n",
            "         [[-0.8980, -0.9059, -0.9059,  ..., -0.9137, -0.9137, -0.9137],\n",
            "          [-0.8980, -0.9059, -0.9137,  ..., -0.9137, -0.9137, -0.9137],\n",
            "          [-0.9059, -0.9137, -0.9216,  ..., -0.9137, -0.9137, -0.9137],\n",
            "          ...,\n",
            "          [-0.7647, -0.9137, -0.9529,  ..., -0.9294, -0.9373, -0.9373],\n",
            "          [-0.8353, -0.9216, -0.9608,  ..., -0.9216, -0.9294, -0.9373],\n",
            "          [-0.8667, -0.9137, -0.9686,  ..., -0.9216, -0.9294, -0.9373]]]])\n",
            "Datos de target del mini-batch:\n",
            "\t tensor([1, 1])\n"
          ]
        }
      ]
    },
    {
      "cell_type": "code",
      "source": [
        "# Visualicemos la imágenes del 3er batch: 5ta y 6ta imagen\n",
        "fig = plt.figure(2, figsize=(6, 2))\n",
        "fig.add_subplot(1, 2, 1)\n",
        "plt.imshow(mini_batch_inputs[0].T)  # .T transpone los vectores [C x H x W] a [H x W x C]\n",
        "fig.add_subplot(1, 2, 2)\n",
        "plt.imshow(mini_batch_inputs[1].T)\n",
        "plt.show()"
      ],
      "metadata": {
        "colab": {
          "base_uri": "https://localhost:8080/",
          "height": 254
        },
        "id": "E9Zb2JZUabLG",
        "outputId": "7426054b-3c2b-46f8-d467-4a68aeb8a122"
      },
      "execution_count": null,
      "outputs": [
        {
          "output_type": "stream",
          "name": "stderr",
          "text": [
            "WARNING:matplotlib.image:Clipping input data to the valid range for imshow with RGB data ([0..1] for floats or [0..255] for integers).\n",
            "WARNING:matplotlib.image:Clipping input data to the valid range for imshow with RGB data ([0..1] for floats or [0..255] for integers).\n"
          ]
        },
        {
          "output_type": "display_data",
          "data": {
            "text/plain": [
              "<Figure size 600x200 with 2 Axes>"
            ],
            "image/png": "[encoded data removed]"
          },
          "metadata": {}
        }
      ]
    },
    {
      "cell_type": "code",
      "source": [
        "# Valores minimo y máximo de los datos normalizados\n",
        "mini_batch_inputs.min(), mini_batch_inputs.max()"
      ],
      "metadata": {
        "colab": {
          "base_uri": "https://localhost:8080/"
        },
        "id": "i7lRPnXzawqC",
        "outputId": "4e886c77-8391-4aaf-bbe4-16857d234d03"
      },
      "execution_count": null,
      "outputs": [
        {
          "output_type": "execute_result",
          "data": {
            "text/plain": [
              "(tensor(-1.), tensor(1.))"
            ]
          },
          "metadata": {},
          "execution_count": 19
        }
      ]
    },
    {
      "cell_type": "markdown",
      "source": [
        "_Nota_: La normalización empleando valores de media y desviación estandard de 0.5 es una forma sencilla y estandarizada de preprocesar datos de imágenes, pero puede que no sea óptima para todos los conjuntos de datos.\n"
      ],
      "metadata": {
        "id": "TVx_hFNRbYPH"
      }
    },
    {
      "cell_type": "markdown",
      "source": [
        "## Datos No Estructurados - Texto\n",
        "---\n",
        "\n",
        "PPT: [P. III - Procesamiento de Lenguaje Natural (NLP)](https://docs.google.com/presentation/d/1hrN4z4DD-gto_nmlBHdZIaJkv7frOrTMiC_smj3Fdrg/edit#slide=id.g27cd7976a91_0_79)\n",
        "\n",
        "Notebook: [6. Procesamiento de Lenguaje Natural](https://colab.research.google.com/drive/1i6LjpdY9KWleJyySqSzr1qYONr3UqM7-?usp=drive_link])\n",
        "\n"
      ],
      "metadata": {
        "id": "Vd0YxwkMweZD"
      }
    }
  ]
}