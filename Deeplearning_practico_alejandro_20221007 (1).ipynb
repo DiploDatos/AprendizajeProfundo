{
 "cells": [
  {
   "cell_type": "markdown",
   "id": "bad6f7ed",
   "metadata": {},
   "source": [
    "## Aprendizaje profundo / Deep Learning\n",
    "\n",
    "\n",
    "#### Integrantes: Franco Amilcar Genolet (francogeno97@gmail.com),Luis Alejandro Guedez Gomez (luis.guedez@dicsys.com)"
   ]
  },
  {
   "cell_type": "markdown",
   "id": "f1d13ea8",
   "metadata": {},
   "source": [
    "# Inicialización del entorno"
   ]
  },
  {
   "cell_type": "code",
   "execution_count": 1,
   "id": "db4c8b61",
   "metadata": {},
   "outputs": [],
   "source": [
    "\n",
    "import csv\n",
    "import functools\n",
    "import gzip\n",
    "import pandas as pd\n",
    "import json\n",
    "import tempfile\n",
    "import gzip\n",
    "import json\n",
    "import tqdm\n",
    "import mlflow\n",
    "import torch.nn.functional as F\n",
    "\n",
    "from gensim import corpora\n",
    "from gensim.parsing import preprocessing\n",
    "from sklearn.model_selection import train_test_split\n",
    "from sklearn.metrics import average_precision_score\n",
    "from tqdm.notebook import tqdm, trange\n",
    "from gensim.models import KeyedVectors\n",
    "from torch.utils.data import Dataset, DataLoader, IterableDataset\n",
    "%matplotlib inline\n",
    "import matplotlib\n",
    "import matplotlib.pyplot as plt\n",
    "import numpy\n",
    "import torch\n",
    "import torch.nn as nn\n",
    "import torch.optim as optim\n",
    "import torchvision\n",
    "import torchvision.transforms as transforms\n",
    "\n",
    "import bz2\n",
    "\n",
    "from sklearn.metrics import classification_report,accuracy_score,f1_score,balanced_accuracy_score\n",
    "\n",
    "import warnings\n",
    "warnings.filterwarnings(\"ignore\") \n"
   ]
  },
  {
   "cell_type": "code",
   "execution_count": null,
   "id": "cfcaa5cc",
   "metadata": {},
   "outputs": [],
   "source": [
    "# #CORRER UNA VEZ\n",
    "# !mkdir ./data\n",
    "# !curl -L https://cs.famaf.unc.edu.ar/\\~ccardellino/resources/diplodatos/glove.6B.50d.txt.gz -o ./data/glove.6B.50d.txt.gz\n",
    "# !curl -L https://cs.famaf.unc.edu.ar/\\~ccardellino/resources/diplodatos/meli-challenge-2019.tar.bz2 -o ./data/meli-challenge-2019.tar.bz2\n",
    "# !tar jxvf ./data/meli-challenge-2019.tar.bz2 -C ./data/\n",
    "# !pip install mlflow"
   ]
  },
  {
   "cell_type": "code",
   "execution_count": 2,
   "id": "c4e9ad6b",
   "metadata": {},
   "outputs": [
    {
     "data": {
      "text/html": [
       "<div>\n",
       "<style scoped>\n",
       "    .dataframe tbody tr th:only-of-type {\n",
       "        vertical-align: middle;\n",
       "    }\n",
       "\n",
       "    .dataframe tbody tr th {\n",
       "        vertical-align: top;\n",
       "    }\n",
       "\n",
       "    .dataframe thead th {\n",
       "        text-align: right;\n",
       "    }\n",
       "</style>\n",
       "<table border=\"1\" class=\"dataframe\">\n",
       "  <thead>\n",
       "    <tr style=\"text-align: right;\">\n",
       "      <th></th>\n",
       "      <th>language</th>\n",
       "      <th>label_quality</th>\n",
       "      <th>title</th>\n",
       "      <th>category</th>\n",
       "      <th>split</th>\n",
       "      <th>tokenized_title</th>\n",
       "      <th>data</th>\n",
       "      <th>target</th>\n",
       "      <th>n_labels</th>\n",
       "      <th>size</th>\n",
       "    </tr>\n",
       "  </thead>\n",
       "  <tbody>\n",
       "    <tr>\n",
       "      <th>0</th>\n",
       "      <td>spanish</td>\n",
       "      <td>reliable</td>\n",
       "      <td>Casita Muñecas Barbies Pintadas</td>\n",
       "      <td>DOLLHOUSES</td>\n",
       "      <td>train</td>\n",
       "      <td>[casita, muñecas, barbies, pintadas]</td>\n",
       "      <td>[50001, 2, 50000, 3]</td>\n",
       "      <td>0</td>\n",
       "      <td>632</td>\n",
       "      <td>4895280</td>\n",
       "    </tr>\n",
       "    <tr>\n",
       "      <th>1</th>\n",
       "      <td>spanish</td>\n",
       "      <td>unreliable</td>\n",
       "      <td>Neceser Cromado Holográfico</td>\n",
       "      <td>TOILETRY_BAGS</td>\n",
       "      <td>train</td>\n",
       "      <td>[neceser, cromado, holográfico]</td>\n",
       "      <td>[6, 4, 5]</td>\n",
       "      <td>1</td>\n",
       "      <td>632</td>\n",
       "      <td>4895280</td>\n",
       "    </tr>\n",
       "    <tr>\n",
       "      <th>2</th>\n",
       "      <td>spanish</td>\n",
       "      <td>unreliable</td>\n",
       "      <td>Funda Asiento A Medida D20 Chevrolet</td>\n",
       "      <td>CAR_SEAT_COVERS</td>\n",
       "      <td>train</td>\n",
       "      <td>[funda, asiento, medida, chevrolet]</td>\n",
       "      <td>[9, 7, 10, 8]</td>\n",
       "      <td>2</td>\n",
       "      <td>632</td>\n",
       "      <td>4895280</td>\n",
       "    </tr>\n",
       "    <tr>\n",
       "      <th>3</th>\n",
       "      <td>spanish</td>\n",
       "      <td>unreliable</td>\n",
       "      <td>Embrague Ford Focus One 1.8 8v Td (90cv) Desde...</td>\n",
       "      <td>AUTOMOTIVE_CLUTCH_KITS</td>\n",
       "      <td>train</td>\n",
       "      <td>[embrague, ford, focus, one]</td>\n",
       "      <td>[11, 13, 12, 14]</td>\n",
       "      <td>3</td>\n",
       "      <td>632</td>\n",
       "      <td>4895280</td>\n",
       "    </tr>\n",
       "    <tr>\n",
       "      <th>4</th>\n",
       "      <td>spanish</td>\n",
       "      <td>unreliable</td>\n",
       "      <td>Bateria Panasonic Dmwbcf10 Lumix Dmc-fx60n Dmc...</td>\n",
       "      <td>CAMERA_BATTERIES</td>\n",
       "      <td>train</td>\n",
       "      <td>[bateria, panasonic, dmwbcf, lumix, dmc, fxn, ...</td>\n",
       "      <td>[15, 19, 17, 18, 16, 1, 1, 1]</td>\n",
       "      <td>4</td>\n",
       "      <td>632</td>\n",
       "      <td>4895280</td>\n",
       "    </tr>\n",
       "  </tbody>\n",
       "</table>\n",
       "</div>"
      ],
      "text/plain": [
       "  language label_quality                                              title  \\\n",
       "0  spanish      reliable                    Casita Muñecas Barbies Pintadas   \n",
       "1  spanish    unreliable                       Neceser Cromado Holográfico    \n",
       "2  spanish    unreliable               Funda Asiento A Medida D20 Chevrolet   \n",
       "3  spanish    unreliable  Embrague Ford Focus One 1.8 8v Td (90cv) Desde...   \n",
       "4  spanish    unreliable  Bateria Panasonic Dmwbcf10 Lumix Dmc-fx60n Dmc...   \n",
       "\n",
       "                 category  split  \\\n",
       "0              DOLLHOUSES  train   \n",
       "1           TOILETRY_BAGS  train   \n",
       "2         CAR_SEAT_COVERS  train   \n",
       "3  AUTOMOTIVE_CLUTCH_KITS  train   \n",
       "4        CAMERA_BATTERIES  train   \n",
       "\n",
       "                                     tokenized_title  \\\n",
       "0               [casita, muñecas, barbies, pintadas]   \n",
       "1                    [neceser, cromado, holográfico]   \n",
       "2                [funda, asiento, medida, chevrolet]   \n",
       "3                       [embrague, ford, focus, one]   \n",
       "4  [bateria, panasonic, dmwbcf, lumix, dmc, fxn, ...   \n",
       "\n",
       "                            data  target  n_labels     size  \n",
       "0           [50001, 2, 50000, 3]       0       632  4895280  \n",
       "1                      [6, 4, 5]       1       632  4895280  \n",
       "2                  [9, 7, 10, 8]       2       632  4895280  \n",
       "3               [11, 13, 12, 14]       3       632  4895280  \n",
       "4  [15, 19, 17, 18, 16, 1, 1, 1]       4       632  4895280  "
      ]
     },
     "execution_count": 2,
     "metadata": {},
     "output_type": "execute_result"
    }
   ],
   "source": [
    "train_df = pd.concat([x for x in pd.read_json('./data/meli-challenge-2019/spanish.train.jsonl.gz', lines=True, chunksize=100000)], ignore_index=True)\n",
    "train_df.head()"
   ]
  },
  {
   "cell_type": "code",
   "execution_count": 3,
   "id": "37c0cab5",
   "metadata": {},
   "outputs": [],
   "source": [
    "train_df_short = train_df[:2000000]"
   ]
  },
  {
   "cell_type": "code",
   "execution_count": 4,
   "id": "a164d196",
   "metadata": {},
   "outputs": [],
   "source": [
    "validation_df = pd.concat([x for x in pd.read_json('./data/meli-challenge-2019/spanish.validation.jsonl.gz', lines=True, chunksize=100000)], ignore_index=True)"
   ]
  },
  {
   "cell_type": "code",
   "execution_count": 5,
   "id": "c1158679",
   "metadata": {},
   "outputs": [],
   "source": [
    "test_df = pd.concat([x for x in pd.read_json('./data/meli-challenge-2019/spanish.test.jsonl.gz', lines=True, chunksize=100000)], ignore_index=True)"
   ]
  },
  {
   "cell_type": "code",
   "execution_count": 7,
   "id": "9a59af6d",
   "metadata": {},
   "outputs": [
    {
     "data": {
      "text/html": [
       "<div>\n",
       "<style scoped>\n",
       "    .dataframe tbody tr th:only-of-type {\n",
       "        vertical-align: middle;\n",
       "    }\n",
       "\n",
       "    .dataframe tbody tr th {\n",
       "        vertical-align: top;\n",
       "    }\n",
       "\n",
       "    .dataframe thead th {\n",
       "        text-align: right;\n",
       "    }\n",
       "</style>\n",
       "<table border=\"1\" class=\"dataframe\">\n",
       "  <thead>\n",
       "    <tr style=\"text-align: right;\">\n",
       "      <th></th>\n",
       "      <th>language</th>\n",
       "      <th>label_quality</th>\n",
       "      <th>title</th>\n",
       "      <th>category</th>\n",
       "      <th>split</th>\n",
       "      <th>tokenized_title</th>\n",
       "      <th>data</th>\n",
       "      <th>target</th>\n",
       "      <th>n_labels</th>\n",
       "      <th>size</th>\n",
       "    </tr>\n",
       "  </thead>\n",
       "  <tbody>\n",
       "    <tr>\n",
       "      <th>0</th>\n",
       "      <td>spanish</td>\n",
       "      <td>reliable</td>\n",
       "      <td>Casita Muñecas Barbies Pintadas</td>\n",
       "      <td>DOLLHOUSES</td>\n",
       "      <td>train</td>\n",
       "      <td>[casita, muñecas, barbies, pintadas]</td>\n",
       "      <td>[50001, 2, 50000, 3]</td>\n",
       "      <td>0</td>\n",
       "      <td>632</td>\n",
       "      <td>4895280</td>\n",
       "    </tr>\n",
       "    <tr>\n",
       "      <th>1</th>\n",
       "      <td>spanish</td>\n",
       "      <td>unreliable</td>\n",
       "      <td>Neceser Cromado Holográfico</td>\n",
       "      <td>TOILETRY_BAGS</td>\n",
       "      <td>train</td>\n",
       "      <td>[neceser, cromado, holográfico]</td>\n",
       "      <td>[6, 4, 5]</td>\n",
       "      <td>1</td>\n",
       "      <td>632</td>\n",
       "      <td>4895280</td>\n",
       "    </tr>\n",
       "    <tr>\n",
       "      <th>2</th>\n",
       "      <td>spanish</td>\n",
       "      <td>unreliable</td>\n",
       "      <td>Funda Asiento A Medida D20 Chevrolet</td>\n",
       "      <td>CAR_SEAT_COVERS</td>\n",
       "      <td>train</td>\n",
       "      <td>[funda, asiento, medida, chevrolet]</td>\n",
       "      <td>[9, 7, 10, 8]</td>\n",
       "      <td>2</td>\n",
       "      <td>632</td>\n",
       "      <td>4895280</td>\n",
       "    </tr>\n",
       "    <tr>\n",
       "      <th>3</th>\n",
       "      <td>spanish</td>\n",
       "      <td>unreliable</td>\n",
       "      <td>Embrague Ford Focus One 1.8 8v Td (90cv) Desde...</td>\n",
       "      <td>AUTOMOTIVE_CLUTCH_KITS</td>\n",
       "      <td>train</td>\n",
       "      <td>[embrague, ford, focus, one]</td>\n",
       "      <td>[11, 13, 12, 14]</td>\n",
       "      <td>3</td>\n",
       "      <td>632</td>\n",
       "      <td>4895280</td>\n",
       "    </tr>\n",
       "    <tr>\n",
       "      <th>4</th>\n",
       "      <td>spanish</td>\n",
       "      <td>unreliable</td>\n",
       "      <td>Bateria Panasonic Dmwbcf10 Lumix Dmc-fx60n Dmc...</td>\n",
       "      <td>CAMERA_BATTERIES</td>\n",
       "      <td>train</td>\n",
       "      <td>[bateria, panasonic, dmwbcf, lumix, dmc, fxn, ...</td>\n",
       "      <td>[15, 19, 17, 18, 16, 1, 1, 1]</td>\n",
       "      <td>4</td>\n",
       "      <td>632</td>\n",
       "      <td>4895280</td>\n",
       "    </tr>\n",
       "    <tr>\n",
       "      <th>...</th>\n",
       "      <td>...</td>\n",
       "      <td>...</td>\n",
       "      <td>...</td>\n",
       "      <td>...</td>\n",
       "      <td>...</td>\n",
       "      <td>...</td>\n",
       "      <td>...</td>\n",
       "      <td>...</td>\n",
       "      <td>...</td>\n",
       "      <td>...</td>\n",
       "    </tr>\n",
       "    <tr>\n",
       "      <th>3287495</th>\n",
       "      <td>spanish</td>\n",
       "      <td>reliable</td>\n",
       "      <td>Gimnasio Gym Manta Bebe Tiny Love Musica Luz M...</td>\n",
       "      <td>BABY_GYMS</td>\n",
       "      <td>test</td>\n",
       "      <td>[gimnasio, gym, manta, bebe, tiny, love, music...</td>\n",
       "      <td>[1305, 1525, 2620, 915, 1308, 49, 5545, 587, 5...</td>\n",
       "      <td>258</td>\n",
       "      <td>632</td>\n",
       "      <td>63680</td>\n",
       "    </tr>\n",
       "    <tr>\n",
       "      <th>3287496</th>\n",
       "      <td>spanish</td>\n",
       "      <td>reliable</td>\n",
       "      <td>Gimnasio Manta Con Actividades Para Bebe 846 Ath</td>\n",
       "      <td>BABY_GYMS</td>\n",
       "      <td>test</td>\n",
       "      <td>[gimnasio, manta, actividades, bebe, ath]</td>\n",
       "      <td>[1305, 2620, 4625, 915, 6484]</td>\n",
       "      <td>258</td>\n",
       "      <td>632</td>\n",
       "      <td>63680</td>\n",
       "    </tr>\n",
       "    <tr>\n",
       "      <th>3287497</th>\n",
       "      <td>spanish</td>\n",
       "      <td>reliable</td>\n",
       "      <td>Gimnasio Bebe Manta Didactica Tiny Love Kick A...</td>\n",
       "      <td>BABY_GYMS</td>\n",
       "      <td>test</td>\n",
       "      <td>[gimnasio, bebe, manta, didactica, tiny, love,...</td>\n",
       "      <td>[1305, 915, 2620, 9537, 1308, 49, 6872, 1512, ...</td>\n",
       "      <td>258</td>\n",
       "      <td>632</td>\n",
       "      <td>63680</td>\n",
       "    </tr>\n",
       "    <tr>\n",
       "      <th>3287498</th>\n",
       "      <td>spanish</td>\n",
       "      <td>reliable</td>\n",
       "      <td>Gimnasio Manta Alfombra Didactica Fitchbaby Ju...</td>\n",
       "      <td>BABY_GYMS</td>\n",
       "      <td>test</td>\n",
       "      <td>[gimnasio, manta, alfombra, didactica, fitchba...</td>\n",
       "      <td>[1305, 2620, 794, 9537, 1, 282, 9424]</td>\n",
       "      <td>258</td>\n",
       "      <td>632</td>\n",
       "      <td>63680</td>\n",
       "    </tr>\n",
       "    <tr>\n",
       "      <th>3287499</th>\n",
       "      <td>spanish</td>\n",
       "      <td>reliable</td>\n",
       "      <td>Gimnasio P/ Bebé Alfombra Zoo Animales Didácti...</td>\n",
       "      <td>BABY_GYMS</td>\n",
       "      <td>test</td>\n",
       "      <td>[gimnasio, bebé, alfombra, zoo, animales, didá...</td>\n",
       "      <td>[1305, 659, 794, 20048, 1091, 14707, 4716]</td>\n",
       "      <td>258</td>\n",
       "      <td>632</td>\n",
       "      <td>63680</td>\n",
       "    </tr>\n",
       "  </tbody>\n",
       "</table>\n",
       "<p>3287500 rows × 10 columns</p>\n",
       "</div>"
      ],
      "text/plain": [
       "        language label_quality  \\\n",
       "0        spanish      reliable   \n",
       "1        spanish    unreliable   \n",
       "2        spanish    unreliable   \n",
       "3        spanish    unreliable   \n",
       "4        spanish    unreliable   \n",
       "...          ...           ...   \n",
       "3287495  spanish      reliable   \n",
       "3287496  spanish      reliable   \n",
       "3287497  spanish      reliable   \n",
       "3287498  spanish      reliable   \n",
       "3287499  spanish      reliable   \n",
       "\n",
       "                                                     title  \\\n",
       "0                          Casita Muñecas Barbies Pintadas   \n",
       "1                             Neceser Cromado Holográfico    \n",
       "2                     Funda Asiento A Medida D20 Chevrolet   \n",
       "3        Embrague Ford Focus One 1.8 8v Td (90cv) Desde...   \n",
       "4        Bateria Panasonic Dmwbcf10 Lumix Dmc-fx60n Dmc...   \n",
       "...                                                    ...   \n",
       "3287495  Gimnasio Gym Manta Bebe Tiny Love Musica Luz M...   \n",
       "3287496   Gimnasio Manta Con Actividades Para Bebe 846 Ath   \n",
       "3287497  Gimnasio Bebe Manta Didactica Tiny Love Kick A...   \n",
       "3287498  Gimnasio Manta Alfombra Didactica Fitchbaby Ju...   \n",
       "3287499  Gimnasio P/ Bebé Alfombra Zoo Animales Didácti...   \n",
       "\n",
       "                       category  split  \\\n",
       "0                    DOLLHOUSES  train   \n",
       "1                 TOILETRY_BAGS  train   \n",
       "2               CAR_SEAT_COVERS  train   \n",
       "3        AUTOMOTIVE_CLUTCH_KITS  train   \n",
       "4              CAMERA_BATTERIES  train   \n",
       "...                         ...    ...   \n",
       "3287495               BABY_GYMS   test   \n",
       "3287496               BABY_GYMS   test   \n",
       "3287497               BABY_GYMS   test   \n",
       "3287498               BABY_GYMS   test   \n",
       "3287499               BABY_GYMS   test   \n",
       "\n",
       "                                           tokenized_title  \\\n",
       "0                     [casita, muñecas, barbies, pintadas]   \n",
       "1                          [neceser, cromado, holográfico]   \n",
       "2                      [funda, asiento, medida, chevrolet]   \n",
       "3                             [embrague, ford, focus, one]   \n",
       "4        [bateria, panasonic, dmwbcf, lumix, dmc, fxn, ...   \n",
       "...                                                    ...   \n",
       "3287495  [gimnasio, gym, manta, bebe, tiny, love, music...   \n",
       "3287496          [gimnasio, manta, actividades, bebe, ath]   \n",
       "3287497  [gimnasio, bebe, manta, didactica, tiny, love,...   \n",
       "3287498  [gimnasio, manta, alfombra, didactica, fitchba...   \n",
       "3287499  [gimnasio, bebé, alfombra, zoo, animales, didá...   \n",
       "\n",
       "                                                      data  target  n_labels  \\\n",
       "0                                     [50001, 2, 50000, 3]       0       632   \n",
       "1                                                [6, 4, 5]       1       632   \n",
       "2                                            [9, 7, 10, 8]       2       632   \n",
       "3                                         [11, 13, 12, 14]       3       632   \n",
       "4                            [15, 19, 17, 18, 16, 1, 1, 1]       4       632   \n",
       "...                                                    ...     ...       ...   \n",
       "3287495  [1305, 1525, 2620, 915, 1308, 49, 5545, 587, 5...     258       632   \n",
       "3287496                      [1305, 2620, 4625, 915, 6484]     258       632   \n",
       "3287497  [1305, 915, 2620, 9537, 1308, 49, 6872, 1512, ...     258       632   \n",
       "3287498              [1305, 2620, 794, 9537, 1, 282, 9424]     258       632   \n",
       "3287499         [1305, 659, 794, 20048, 1091, 14707, 4716]     258       632   \n",
       "\n",
       "            size  \n",
       "0        4895280  \n",
       "1        4895280  \n",
       "2        4895280  \n",
       "3        4895280  \n",
       "4        4895280  \n",
       "...          ...  \n",
       "3287495    63680  \n",
       "3287496    63680  \n",
       "3287497    63680  \n",
       "3287498    63680  \n",
       "3287499    63680  \n",
       "\n",
       "[3287500 rows x 10 columns]"
      ]
     },
     "execution_count": 7,
     "metadata": {},
     "output_type": "execute_result"
    }
   ],
   "source": [
    "data = pd.concat([train_df_short,validation_df,test_df], ignore_index=True)\n",
    "data"
   ]
  },
  {
   "cell_type": "code",
   "execution_count": 8,
   "id": "df6f00a3",
   "metadata": {},
   "outputs": [
    {
     "data": {
      "text/html": [
       "<div>\n",
       "<style scoped>\n",
       "    .dataframe tbody tr th:only-of-type {\n",
       "        vertical-align: middle;\n",
       "    }\n",
       "\n",
       "    .dataframe tbody tr th {\n",
       "        vertical-align: top;\n",
       "    }\n",
       "\n",
       "    .dataframe thead th {\n",
       "        text-align: right;\n",
       "    }\n",
       "</style>\n",
       "<table border=\"1\" class=\"dataframe\">\n",
       "  <thead>\n",
       "    <tr style=\"text-align: right;\">\n",
       "      <th></th>\n",
       "      <th>title</th>\n",
       "      <th>category</th>\n",
       "    </tr>\n",
       "  </thead>\n",
       "  <tbody>\n",
       "    <tr>\n",
       "      <th>0</th>\n",
       "      <td>Casita Muñecas Barbies Pintadas</td>\n",
       "      <td>DOLLHOUSES</td>\n",
       "    </tr>\n",
       "    <tr>\n",
       "      <th>1</th>\n",
       "      <td>Neceser Cromado Holográfico</td>\n",
       "      <td>TOILETRY_BAGS</td>\n",
       "    </tr>\n",
       "    <tr>\n",
       "      <th>2</th>\n",
       "      <td>Funda Asiento A Medida D20 Chevrolet</td>\n",
       "      <td>CAR_SEAT_COVERS</td>\n",
       "    </tr>\n",
       "    <tr>\n",
       "      <th>3</th>\n",
       "      <td>Embrague Ford Focus One 1.8 8v Td (90cv) Desde...</td>\n",
       "      <td>AUTOMOTIVE_CLUTCH_KITS</td>\n",
       "    </tr>\n",
       "    <tr>\n",
       "      <th>4</th>\n",
       "      <td>Bateria Panasonic Dmwbcf10 Lumix Dmc-fx60n Dmc...</td>\n",
       "      <td>CAMERA_BATTERIES</td>\n",
       "    </tr>\n",
       "    <tr>\n",
       "      <th>...</th>\n",
       "      <td>...</td>\n",
       "      <td>...</td>\n",
       "    </tr>\n",
       "    <tr>\n",
       "      <th>999995</th>\n",
       "      <td>Rasti Kit De 400 Piezas Básicas Libre Armado L...</td>\n",
       "      <td>TOY_BUILDING_SETS</td>\n",
       "    </tr>\n",
       "    <tr>\n",
       "      <th>999996</th>\n",
       "      <td>Corralito Bebe Plegable Reforzado Disney Winni...</td>\n",
       "      <td>BABY_PLAYARDS</td>\n",
       "    </tr>\n",
       "    <tr>\n",
       "      <th>999997</th>\n",
       "      <td>Proteina Mixta Pulver 1 Kg(huevo + Suero) *glo...</td>\n",
       "      <td>SUPPLEMENTS</td>\n",
       "    </tr>\n",
       "    <tr>\n",
       "      <th>999998</th>\n",
       "      <td>Camisa Ufo Jean M/l Talle L Muy Buen Estado</td>\n",
       "      <td>SHIRTS</td>\n",
       "    </tr>\n",
       "    <tr>\n",
       "      <th>999999</th>\n",
       "      <td>Impresora Hp Pro X452dw</td>\n",
       "      <td>PRINTERS</td>\n",
       "    </tr>\n",
       "  </tbody>\n",
       "</table>\n",
       "<p>1000000 rows × 2 columns</p>\n",
       "</div>"
      ],
      "text/plain": [
       "                                                    title  \\\n",
       "0                         Casita Muñecas Barbies Pintadas   \n",
       "1                            Neceser Cromado Holográfico    \n",
       "2                    Funda Asiento A Medida D20 Chevrolet   \n",
       "3       Embrague Ford Focus One 1.8 8v Td (90cv) Desde...   \n",
       "4       Bateria Panasonic Dmwbcf10 Lumix Dmc-fx60n Dmc...   \n",
       "...                                                   ...   \n",
       "999995  Rasti Kit De 400 Piezas Básicas Libre Armado L...   \n",
       "999996  Corralito Bebe Plegable Reforzado Disney Winni...   \n",
       "999997  Proteina Mixta Pulver 1 Kg(huevo + Suero) *glo...   \n",
       "999998        Camisa Ufo Jean M/l Talle L Muy Buen Estado   \n",
       "999999                            Impresora Hp Pro X452dw   \n",
       "\n",
       "                      category  \n",
       "0                   DOLLHOUSES  \n",
       "1                TOILETRY_BAGS  \n",
       "2              CAR_SEAT_COVERS  \n",
       "3       AUTOMOTIVE_CLUTCH_KITS  \n",
       "4             CAMERA_BATTERIES  \n",
       "...                        ...  \n",
       "999995       TOY_BUILDING_SETS  \n",
       "999996           BABY_PLAYARDS  \n",
       "999997             SUPPLEMENTS  \n",
       "999998                  SHIRTS  \n",
       "999999                PRINTERS  \n",
       "\n",
       "[1000000 rows x 2 columns]"
      ]
     },
     "execution_count": 8,
     "metadata": {},
     "output_type": "execute_result"
    }
   ],
   "source": [
    "columns_interesting = ['title','category']\n",
    "df_filter = data[columns_interesting]\n",
    "df_filter = df_filter[:1000000]\n",
    "df_filter"
   ]
  },
  {
   "cell_type": "code",
   "execution_count": 9,
   "id": "3ed8d301",
   "metadata": {},
   "outputs": [],
   "source": [
    "df_filter['len'] = df_filter['title'].apply(lambda s : len(s))"
   ]
  },
  {
   "cell_type": "code",
   "execution_count": 10,
   "id": "7433d175",
   "metadata": {},
   "outputs": [
    {
     "data": {
      "text/html": [
       "<div>\n",
       "<style scoped>\n",
       "    .dataframe tbody tr th:only-of-type {\n",
       "        vertical-align: middle;\n",
       "    }\n",
       "\n",
       "    .dataframe tbody tr th {\n",
       "        vertical-align: top;\n",
       "    }\n",
       "\n",
       "    .dataframe thead th {\n",
       "        text-align: right;\n",
       "    }\n",
       "</style>\n",
       "<table border=\"1\" class=\"dataframe\">\n",
       "  <thead>\n",
       "    <tr style=\"text-align: right;\">\n",
       "      <th></th>\n",
       "      <th>title</th>\n",
       "      <th>category</th>\n",
       "      <th>len</th>\n",
       "    </tr>\n",
       "  </thead>\n",
       "  <tbody>\n",
       "    <tr>\n",
       "      <th>0</th>\n",
       "      <td>Casita Muñecas Barbies Pintadas</td>\n",
       "      <td>DOLLHOUSES</td>\n",
       "      <td>31</td>\n",
       "    </tr>\n",
       "    <tr>\n",
       "      <th>1</th>\n",
       "      <td>Neceser Cromado Holográfico</td>\n",
       "      <td>TOILETRY_BAGS</td>\n",
       "      <td>28</td>\n",
       "    </tr>\n",
       "    <tr>\n",
       "      <th>2</th>\n",
       "      <td>Funda Asiento A Medida D20 Chevrolet</td>\n",
       "      <td>CAR_SEAT_COVERS</td>\n",
       "      <td>36</td>\n",
       "    </tr>\n",
       "    <tr>\n",
       "      <th>3</th>\n",
       "      <td>Embrague Ford Focus One 1.8 8v Td (90cv) Desde...</td>\n",
       "      <td>AUTOMOTIVE_CLUTCH_KITS</td>\n",
       "      <td>52</td>\n",
       "    </tr>\n",
       "    <tr>\n",
       "      <th>4</th>\n",
       "      <td>Bateria Panasonic Dmwbcf10 Lumix Dmc-fx60n Dmc...</td>\n",
       "      <td>CAMERA_BATTERIES</td>\n",
       "      <td>57</td>\n",
       "    </tr>\n",
       "    <tr>\n",
       "      <th>...</th>\n",
       "      <td>...</td>\n",
       "      <td>...</td>\n",
       "      <td>...</td>\n",
       "    </tr>\n",
       "    <tr>\n",
       "      <th>999995</th>\n",
       "      <td>Rasti Kit De 400 Piezas Básicas Libre Armado L...</td>\n",
       "      <td>TOY_BUILDING_SETS</td>\n",
       "      <td>54</td>\n",
       "    </tr>\n",
       "    <tr>\n",
       "      <th>999996</th>\n",
       "      <td>Corralito Bebe Plegable Reforzado Disney Winni...</td>\n",
       "      <td>BABY_PLAYARDS</td>\n",
       "      <td>52</td>\n",
       "    </tr>\n",
       "    <tr>\n",
       "      <th>999997</th>\n",
       "      <td>Proteina Mixta Pulver 1 Kg(huevo + Suero) *glo...</td>\n",
       "      <td>SUPPLEMENTS</td>\n",
       "      <td>60</td>\n",
       "    </tr>\n",
       "    <tr>\n",
       "      <th>999998</th>\n",
       "      <td>Camisa Ufo Jean M/l Talle L Muy Buen Estado</td>\n",
       "      <td>SHIRTS</td>\n",
       "      <td>43</td>\n",
       "    </tr>\n",
       "    <tr>\n",
       "      <th>999999</th>\n",
       "      <td>Impresora Hp Pro X452dw</td>\n",
       "      <td>PRINTERS</td>\n",
       "      <td>23</td>\n",
       "    </tr>\n",
       "  </tbody>\n",
       "</table>\n",
       "<p>1000000 rows × 3 columns</p>\n",
       "</div>"
      ],
      "text/plain": [
       "                                                    title  \\\n",
       "0                         Casita Muñecas Barbies Pintadas   \n",
       "1                            Neceser Cromado Holográfico    \n",
       "2                    Funda Asiento A Medida D20 Chevrolet   \n",
       "3       Embrague Ford Focus One 1.8 8v Td (90cv) Desde...   \n",
       "4       Bateria Panasonic Dmwbcf10 Lumix Dmc-fx60n Dmc...   \n",
       "...                                                   ...   \n",
       "999995  Rasti Kit De 400 Piezas Básicas Libre Armado L...   \n",
       "999996  Corralito Bebe Plegable Reforzado Disney Winni...   \n",
       "999997  Proteina Mixta Pulver 1 Kg(huevo + Suero) *glo...   \n",
       "999998        Camisa Ufo Jean M/l Talle L Muy Buen Estado   \n",
       "999999                            Impresora Hp Pro X452dw   \n",
       "\n",
       "                      category  len  \n",
       "0                   DOLLHOUSES   31  \n",
       "1                TOILETRY_BAGS   28  \n",
       "2              CAR_SEAT_COVERS   36  \n",
       "3       AUTOMOTIVE_CLUTCH_KITS   52  \n",
       "4             CAMERA_BATTERIES   57  \n",
       "...                        ...  ...  \n",
       "999995       TOY_BUILDING_SETS   54  \n",
       "999996           BABY_PLAYARDS   52  \n",
       "999997             SUPPLEMENTS   60  \n",
       "999998                  SHIRTS   43  \n",
       "999999                PRINTERS   23  \n",
       "\n",
       "[1000000 rows x 3 columns]"
      ]
     },
     "execution_count": 10,
     "metadata": {},
     "output_type": "execute_result"
    }
   ],
   "source": [
    "df_filter"
   ]
  },
  {
   "cell_type": "code",
   "execution_count": 11,
   "id": "61c72475",
   "metadata": {},
   "outputs": [
    {
     "data": {
      "text/plain": [
       "<AxesSubplot:ylabel='Frequency'>"
      ]
     },
     "execution_count": 11,
     "metadata": {},
     "output_type": "execute_result"
    },
    {
     "data": {
      "image/png": "[encoded data removed]",
      "text/plain": [
       "<Figure size 640x480 with 1 Axes>"
      ]
     },
     "metadata": {},
     "output_type": "display_data"
    }
   ],
   "source": [
    "df_filter['len'].plot.hist(bins=100)"
   ]
  },
  {
   "cell_type": "code",
   "execution_count": 12,
   "id": "5a8119d4",
   "metadata": {},
   "outputs": [
    {
     "data": {
      "text/html": [
       "<div>\n",
       "<style scoped>\n",
       "    .dataframe tbody tr th:only-of-type {\n",
       "        vertical-align: middle;\n",
       "    }\n",
       "\n",
       "    .dataframe tbody tr th {\n",
       "        vertical-align: top;\n",
       "    }\n",
       "\n",
       "    .dataframe thead th {\n",
       "        text-align: right;\n",
       "    }\n",
       "</style>\n",
       "<table border=\"1\" class=\"dataframe\">\n",
       "  <thead>\n",
       "    <tr style=\"text-align: right;\">\n",
       "      <th></th>\n",
       "      <th>category</th>\n",
       "      <th>title</th>\n",
       "    </tr>\n",
       "  </thead>\n",
       "  <tbody>\n",
       "    <tr>\n",
       "      <th>90</th>\n",
       "      <td>BOOKS</td>\n",
       "      <td>3093</td>\n",
       "    </tr>\n",
       "    <tr>\n",
       "      <th>631</th>\n",
       "      <td>WRISTWATCHES</td>\n",
       "      <td>3032</td>\n",
       "    </tr>\n",
       "    <tr>\n",
       "      <th>3</th>\n",
       "      <td>ACTION_FIGURES</td>\n",
       "      <td>3032</td>\n",
       "    </tr>\n",
       "    <tr>\n",
       "      <th>365</th>\n",
       "      <td>MAGAZINES</td>\n",
       "      <td>3020</td>\n",
       "    </tr>\n",
       "    <tr>\n",
       "      <th>411</th>\n",
       "      <td>MUSICAL_KEYBOARDS</td>\n",
       "      <td>2961</td>\n",
       "    </tr>\n",
       "  </tbody>\n",
       "</table>\n",
       "</div>"
      ],
      "text/plain": [
       "              category  title\n",
       "90               BOOKS   3093\n",
       "631       WRISTWATCHES   3032\n",
       "3       ACTION_FIGURES   3032\n",
       "365          MAGAZINES   3020\n",
       "411  MUSICAL_KEYBOARDS   2961"
      ]
     },
     "execution_count": 12,
     "metadata": {},
     "output_type": "execute_result"
    }
   ],
   "source": [
    "count_df = df_filter[['category','title']].groupby('category').aggregate({'title':'count'}).reset_index().sort_values('title',ascending=False)\n",
    "count_df.head()"
   ]
  },
  {
   "cell_type": "code",
   "execution_count": 13,
   "id": "295d34a0",
   "metadata": {},
   "outputs": [],
   "source": [
    "target = count_df[count_df['title']>1]['category'].values\n",
    "target"
   ]
  },
  {
   "cell_type": "code",
   "execution_count": 15,
   "id": "8a63a455",
   "metadata": {},
   "outputs": [
    {
     "data": {
      "text/plain": [
       "array(['BOOKS', 'WRISTWATCHES', 'ACTION_FIGURES', 'MAGAZINES',\n",
       "       'MUSICAL_KEYBOARDS', 'DIECAST_VEHICLES', 'JACKETS_AND_COATS',\n",
       "       'SPARK_PLUGS', 'FOOTBALL_SHIRTS', 'T_SHIRTS', 'RANGES',\n",
       "       'VIDEO_GAMES', 'BABY_CAR_SEATS', 'PANTS', 'COFFEE_MAKERS',\n",
       "       'REFRIGERATORS', 'MINI_COMPONENT_SYSTEMS',\n",
       "       'AUTOMOTIVE_CLUTCH_KITS', 'MOVIES', 'HANDBAGS', 'TELEVISIONS',\n",
       "       'NOTEBOOKS', 'BACKPACKS', 'FANS', 'TRADING_CARD_GAMES',\n",
       "       'CEILING_LIGHTS', 'ELECTRIC_GUITARS', 'WOMEN_SWIMWEAR',\n",
       "       'SOUVENIRS', 'DOLLS', 'AUTOMOTIVE_TIRES', 'CHARMS_AND_MEDALS',\n",
       "       'COMICS', 'PERFUMES', 'LIGHT_BULBS', 'LIPSTICKS',\n",
       "       'SEWING_MACHINES', 'PEDAL_EFFECTS', 'SANDALS_AND_FLIP_FLOPS',\n",
       "       'CARPETS', 'DRINKING_GLASSES', 'SNEAKERS', 'PARTY_PRINTABLE_KITS',\n",
       "       'CELLPHONE_COVERS', 'ALARMS_AND_SENSORS',\n",
       "       'SWEATSHIRTS_AND_HOODIES', 'TOY_BUILDING_SETS', 'CAR_WHEELS',\n",
       "       'SHIRTS', 'SUPPLEMENTS', 'HEADPHONES', 'ELECTRIC_DRILLS',\n",
       "       'DRAWERS', 'HOME_OFFICE_DESKS', 'SHORTS', 'HOME_HEATERS',\n",
       "       'SUNGLASSES', 'HAIR_CLIPPERS', 'DECORATIVE_PAINTINGS', 'OVENS',\n",
       "       'CATS_AND_DOGS_FOODS', 'SPEAKERS', 'BOARD_GAMES', 'NECKLACES',\n",
       "       'RAM_MEMORY_MODULES', 'MOBILE_DEVICE_CHARGERS', 'SMARTWATCHES',\n",
       "       'INSTRUMENT_AMPLIFIERS', 'DESKTOP_COMPUTER_POWER_SUPPLIES',\n",
       "       'HATS_AND_CAPS', 'DESKTOP_COMPUTER_COOLERS_AND_FANS',\n",
       "       'PADDLE_TENNIS_RACKETS', 'KITCHEN_SINKS', 'MATTRESSES',\n",
       "       'SWEATERS_AND_CARDIGANS', 'PORTABLE_GENERATORS',\n",
       "       'MOTORCYCLE_JACKETS', 'NIGHTSTANDS', 'EYESHADOWS',\n",
       "       'BABY_STROLLERS', 'COMMERCIAL_AND_EVENT_BAGS', 'COSTUMES',\n",
       "       'MOTORCYCLE_HELMETS', 'AUTOMOTIVE_WATER_PUMPS', 'FOOTBALL_SHOES',\n",
       "       'FISHING_REELS', 'CELLPHONE_TABLET_AND_GPS_SCREEN_PROTECTORS',\n",
       "       'WRENCHES', 'LAPTOP_BATTERIES', 'MUGS', 'BOOKCASES',\n",
       "       'PIPES_AND_TUBES', 'CELL_BATTERIES', 'CELLPHONES',\n",
       "       'LAPTOP_CHARGERS', 'PRINTERS', 'LEGGINGS', 'EARRINGS',\n",
       "       'MICROPHONES', 'OFFICE_CHAIRS', 'AUTOMOTIVE_HEADLIGHTS',\n",
       "       'COMPUTER_PROCESSORS', 'MATE_SETS', 'CAR_SEAT_COVERS',\n",
       "       'PUREBRED_DOGS', 'AIR_COMPRESSORS', 'AUTOMOBILE_FENDER_LINERS',\n",
       "       'FISHING_LURES', 'TABLETS', 'CELLPHONE_AND_TABLET_CASES',\n",
       "       'POOL_INFLATABLES', 'TV_SMPS', 'AUTOMOTIVE_AIR_FILTERS',\n",
       "       'GLASSES_FRAMES', 'CELLPHONE_BATTERIES', 'STUFFED_TOYS',\n",
       "       'CAR_LIGHT_BULBS', 'SKIRTS', 'BRACELETS_AND_ANKLE_BRACES',\n",
       "       'BICYCLES', 'COMPUTER_MONITORS', 'INK_CARTRIDGES',\n",
       "       'SURVEILLANCE_CAMERAS', 'GAME_CONSOLES',\n",
       "       'SUSPENSION_CONTROL_ARM_BUSHINGS', 'CUSHIONS',\n",
       "       'PLANT_POTS_AND_PLANTERS', 'CAMERA_BATTERIES',\n",
       "       'SCHOOL_AND_OFFICE_PAPERS', 'FACIAL_SKIN_CARE_PRODUCTS',\n",
       "       'HARD_DRIVES_AND_SSDS', 'BABY_DIAPERS', 'DISHES_PLATES',\n",
       "       'ELECTRIC_SAWS', 'CAKE_TOPPERS', 'DESKTOP_COMPUTERS',\n",
       "       'CAR_STEREOS', 'BOX_SPRING_AND_MATTRESS_SETS', 'AUTOMOTIVE_DOORS',\n",
       "       'FOOTBALL_BALLS', 'BODY_SKIN_CARE_PRODUCTS', 'ENGINE_VALVES',\n",
       "       'SUITCASES', 'SHOCK_MOUNT_INSOLATORS',\n",
       "       'AUTOMOTIVE_SIDE_VIEW_MIRRORS', 'KITCHEN_POTS', 'DINING_TABLES',\n",
       "       'BASS_GUITARS', 'GAMEPADS_AND_JOYSTICKS', 'BATHROOM_FAUCETS',\n",
       "       'STARTERS', 'MAKEUP_BRUSHES', 'AUTOMOTIVE_SPRING_SUSPENSIONS',\n",
       "       'MOTORCYCLE_HEADLIGHTS', 'WINDOWS', 'SAFETY_FOOTWEAR', 'PAJAMAS',\n",
       "       'ELECTRIC_PRESSURE_WASHERS', 'PARTY_MASKS', 'FISHING_RODS',\n",
       "       'BLOUSES', 'MEN_SWIMWEAR', 'CAR_AC_CONDENSERS', 'DOORS', 'PANTIES',\n",
       "       'LED_STAGE_LIGHTS', 'HAIR_SHAMPOOS_AND_CONDITIONERS', 'PLANTS',\n",
       "       'DRESSES', 'VEHICLE_SPEAKERS', 'LATEX_ENAMEL_AND_ACRYLIC_PAINTS',\n",
       "       'SWAY_BAR_LINKS', 'VEHICLE_STICKERS', 'ROLLER_SKATES',\n",
       "       'GRAPHICS_CARDS', 'BED_SHEETS', 'TOILETRY_BAGS', 'SOFAS', 'DRUMS',\n",
       "       'DRILL_BITS', 'RINGS', 'KEYBOARD_AND_MOUSE_KITS', 'WALL_LIGHTS',\n",
       "       'BABY_CLOTHING_SETS', 'COOKIES_CUTTERS', 'LINGERIE_SETS',\n",
       "       'ESSENTIAL_OILS', 'ANALOG_CAMERAS', 'PENS', 'CAMERA_LENSES',\n",
       "       'STORAGE_WATER_HEATERS', 'KITCHEN_RANGE_HOODS', 'PENCIL_CASES',\n",
       "       'BLANKETS', 'LOAFERS_AND_OXFORDS', 'FABRICS', 'COMFORTERS',\n",
       "       'MEMORY_CARDS', 'FREEZERS', 'KEYCHAINS', 'WALLETS', 'WHISKEYS',\n",
       "       'REMOTE_CONTROL_TOY_VEHICLES', 'SCULPTURES', 'CAMERAS',\n",
       "       'TABLE_AND_DESK_LAMPS', 'DINING_CHAIRS', 'BATHROOM_VANITIES',\n",
       "       'ENGINE_CONTROL_MODULES', 'AUTOMOTIVE_FRONT_BUMPERS',\n",
       "       'WATER_RADIATORS', 'DATA_CABLES_AND_ADAPTERS', 'UKULELES',\n",
       "       'PACKAGING_BOXES', 'BEDS', 'AUTOMOTIVE_FENDERS', 'HAIR_TREATMENTS',\n",
       "       'MARKERS_AND_HIGHLIGHTERS', 'BABIES_FOOTWEAR', 'PORCELAIN_TILES',\n",
       "       'CLOTHING_PATCHES', 'BUTTON_PINS', 'HEADBOARDS',\n",
       "       'SURFACES_PROTECTIVE_PAINTS', 'ACOUSTIC_GUITARS', 'BATHROOM_SINKS',\n",
       "       'KITCHEN_CABINETS', 'SUSPENSION_BALL_JOINTS', 'THERMOSES',\n",
       "       'CONCERT_TICKETS', 'AIR_CONDITIONERS', 'AUTOMOTIVE_OIL_FILTERS',\n",
       "       'KITCHEN_MOLDS', 'VIDEO_GAME_PREPAID_CARDS', 'FLASHLIGHTS',\n",
       "       'WALL_CLOCKS', 'ENGINE_OILS', 'FACE_MASKS', 'CERAMIC_TILES',\n",
       "       'DRONES', 'SOLDERING_MACHINES', 'AUTOMOTIVE_SHOCK_ABSORBERS',\n",
       "       'AUDIO_AMPLIFIERS', 'VEHICLE_BRAKE_DISCS', 'PICTURE_FRAMES',\n",
       "       'TV_AND_MONITOR_MOUNTS', 'FLOOD_LIGHTS', 'BOOTS', 'WARDROBES',\n",
       "       'AIRSOFT_GUNS', 'FOOTBALL_JACKETS', 'DJ_CONTROLLERS', 'VESTS',\n",
       "       'SOCKS', 'BABY_PLAYARDS', 'ADHESIVE_TAPES', 'BRAS',\n",
       "       'MOTORCYCLE_GLOVES', 'MIRRORS', 'STOOLS', 'RACKS_AND_PINIONS',\n",
       "       'OUTER_TIE_ROD_ENDS', 'CIRCUIT_BREAKERS', 'NETWORK_CABLES',\n",
       "       'BABY_HIGH_CHAIRS', 'NOTEBOOKS_AND_WRITING_PADS',\n",
       "       'WASHING_MACHINES', 'PORTABLE_CELLPHONE_CHARGERS',\n",
       "       'MOTORCYCLE_BATTERIES', 'WINDSHIELD_WIPERS', 'TELEPHONES',\n",
       "       'PUZZLES', 'CLASSIC_CARS', 'TV_STORAGE_UNITS', 'DINING_SETS',\n",
       "       'FOG_LIGHTS', 'GAS_LIFT_SUPPORTS', 'VEHICLE_LED_BULBS',\n",
       "       'BATHROOM_FAUCET_SETS', 'VIDEO_CAMERAS', 'COFFEE_TABLES',\n",
       "       'NETWORK_CARDS', 'CRIBS', 'ENGINE_BEARINGS', 'WALLPAPERS',\n",
       "       'ENGINE_GASKET_SETS', 'MOUSE_PADS', 'PC_KEYBOARDS',\n",
       "       'SPORT_WATCHES', 'ROUTERS', 'CAR_ENGINE_CAMSHAFTS', 'HOME_SHELVES',\n",
       "       'POWER_GRINDERS', 'WATER_PURIFIERS_FILTERS',\n",
       "       'JUMPSUITS_AND_OVERALLS', 'LAPTOP_LCD_SCREENS', 'MIXERS',\n",
       "       'ROOF_RACKS', 'BABIES_FORMULA', 'STATIONARY_BICYCLES', 'PENCILS',\n",
       "       'SPARK_PLUG_WIRESETS', 'BABY_WALKERS',\n",
       "       'TACTICAL_AND_SPORTING_KNIVES_AND_BLADES', 'AUTOMOTIVE_AMPLIFIERS',\n",
       "       'PENDRIVES', 'DIGITAL_PORTABLE_MEDIA_PLAYERS', 'MALE_UNDERWEAR',\n",
       "       'LIVING_ROOM_SETS', 'PILLOWS', 'ENGINE_PISTONS',\n",
       "       'MERCHANDISER_REFRIGERATORS', 'DISTRIBUTION_KITS',\n",
       "       'KEYBOARD_CONTROLLERS', 'OUTDOOR_TABLES', 'WATER_HEATERS',\n",
       "       'SPORT_AND_BAZAAR_BOTTLES', 'LAPTOP_BRIEFCASES', 'CAMERA_TRIPODS',\n",
       "       'FOLDERS_AND_EXPANDING_FILES', 'ALL_IN_ONE', 'ECT_SENSORS',\n",
       "       'COMPLETE_SKATEBOARDS', 'EMERGENCY_LIGHTS', 'IRRIGATION_VALVES',\n",
       "       'CALCULATORS', 'STREAMING_MEDIA_DEVICES', 'BASKETBALL_JERSEYS',\n",
       "       'BLENDERS', 'AM_FM_RADIOS', 'BABY_BLANKETS', 'INFLATABLE_POOLS',\n",
       "       'FLOOR_LAMPS', 'TURNTABLES', 'IRONS',\n",
       "       'ENGINE_OIL_PRESSURE_SENSORS', 'CHAMPAGNES', 'TREADMILLS',\n",
       "       'ENGINE_CRANKSHAFT_PULLEYS', 'ENGINE_INTAKE_HOSES',\n",
       "       'AUTOMOTIVE_STEERING_WHEELS', 'MOTORCYCLE_JERSEYS',\n",
       "       'SANDER_MACHINES', 'SAXOPHONES', 'FIELD_HOCKEY_STICKS',\n",
       "       'LONGBOARDS', 'RUBBER_STAMPS', 'SHAVING_MACHINES', 'MICROWAVES',\n",
       "       'FIDGET_SPINNERS', 'NETBOOKS', 'FOUNDATIONS', 'PUZZLE_CUBES',\n",
       "       'MOTORCYCLE_CASES', 'MARTIAL_ARTS_AND_BOXING_GLOVES',\n",
       "       'KITCHEN_PLAYSETS', 'DOLLHOUSES', 'DIAPER_BAGS',\n",
       "       'PATIO_FURNITURE_SETS', 'FOOTBALL_CAPS',\n",
       "       'HAIR_MOLDING_AND_STYLING', 'SUNBATHING_CHAIRS', 'BODY_SHAPERS',\n",
       "       'TOILETS', 'BINOCULARS', 'CD_AND_DVD_PLAYERS', 'OIL_DIFFUSERS',\n",
       "       'ELECTRIC_SCREWDRIVERS', 'WASTE_BASKETS', 'MOTORCYCLE_HANDLEBARS',\n",
       "       'UMBRELLAS', 'SANDPAPERS', 'BABY_BOUNCERS', 'VR_HEADSETS',\n",
       "       'KIDS_TRICYCLES', 'SHOWER_CURTAINS', 'HAIRDRESSING_SCISSORS',\n",
       "       'CLOTHES_HANGERS', 'CARDS_AND_INVITATIONS', 'WALKIE_TALKIES',\n",
       "       'HAND_BLENDERS', 'ENGINE_CONNECTING_RODS', 'SELF_ADHESIVE_LABELS',\n",
       "       'MASCARAS', 'FUEL_LEVEL_FLOATS', 'AUTOMOTIVE_SEATS', 'MATE_GOURDS',\n",
       "       'IGNITION_CONTROL_MODULES', 'BABY_GYMS', 'SUBMERSIBLE_PUMPS',\n",
       "       'BRUSH_CUTTERS', 'SLEEPING_BAGS', 'COMBUSTION_CHAINSAWS',\n",
       "       'TOY_ROBOTS', 'HOME_APPLIANCE_CONTACTORS_AND_RELAYS',\n",
       "       'CAMERA_CASES', 'FOOD_PROCESSORS', 'PADLOCKS', 'FRAME_POOLS',\n",
       "       'BRAKE_LIGHT_SWITCHES', 'FLEA_AND_TICK_TREATMENTS', 'TOOL_BOXES',\n",
       "       'BICYCLE_WHEELS', 'CAR_POWER_STEERING_PUMPS', 'DEEP_FRYERS',\n",
       "       'FRANKLIN_STOVES', 'ALTERNATOR_PULLEYS', 'GRAPHICS_TABLETS',\n",
       "       'TOILET_SEATS', 'AUDIO_INTERFACES', 'NAIL_DRYERS', 'SOUND_CARDS',\n",
       "       'ENGINE_TAPPET_GUIDE_HOLDS', 'COUNTERTOPS', 'MINI_PCS', 'VIOLINS',\n",
       "       'SWIMMING_GOGGLES', 'GARDEN_HOSES', 'SCREEN_PRINTERS',\n",
       "       'VACUUM_TUBES', 'KIDS_TABLES_AND_CHAIRS_SETS', 'CONCEALERS',\n",
       "       'CATS', 'BABY_BOTTLES', 'TEA', 'EYELINERS',\n",
       "       'SURVEILLANCE_MONITORING_KITS', 'ELECTRONIC_ENTRANCE_INTERCOMS',\n",
       "       'FUTONS', 'DOG_CARRIERS_AND_CARRYING_BAGS', 'ELLIPTICAL_MACHINES',\n",
       "       'EPILATORS', 'HEATER_CORES', 'MODEMS', 'MOTORCYCLE_WHEEL_AXLES',\n",
       "       'ROOF_PANELS', 'RESISTANCE_BANDS',\n",
       "       'INDUSTRIAL_AND_COMMERCIAL_SCALES', 'AIR_MATTRESSES',\n",
       "       'TOBACCO_PIPES', 'AV_RECEIVERS', 'FISH_TANKS', 'SPICES',\n",
       "       'DISHWASHERS', 'TV_ANTENNAS', 'GAZEBOS', 'STRING_TRIMMERS',\n",
       "       'NEBULIZERS', 'WINDSHIELD_WIPER_MOTORS',\n",
       "       'TRAVEL_DOCUMENT_ORGANIZERS', 'GOLF_CLUBS_WOODS_AND_HYBRIDS',\n",
       "       'FANNY_PACKS', 'SHOE_RACKS', 'BLANK_DISCS', 'BAR_CODE_SCANNERS',\n",
       "       'LIFE_JACKETS', 'KITCHEN_APRONS', 'DVD_RECORDERS', 'ESPADRILLES',\n",
       "       'BATTERY_CHARGERS', 'MOTORCYCLE_OIL_PUMPS',\n",
       "       'FOOTBALL_GOALKEEPER_GLOVES', 'PERSONAL_LUBRICANTS_AND_GELS',\n",
       "       'ELECTRONIC_MUSCLE_STIMULATORS', 'GIFT_CARDS', 'BABY_PACIFIERS',\n",
       "       'HAND_TRUCKS', 'ACCORDIONS', 'FIRE_EXTINGUISHERS',\n",
       "       'LIQUID_HAND_AND_BODY_SOAPS', 'GLOW_PLUG_CONTROLLERS',\n",
       "       'OPERATING_SYSTEMS', 'PARKING_SENSORS', 'GATE_MOTORS',\n",
       "       'LAMP_HOLDERS', 'FOOD_SLICERS', 'PLAYING_CARDS',\n",
       "       'UNIVERSAL_HOME_GYMS', 'GAS_BOILERS', 'TOOTHBRUSHES',\n",
       "       'CAMERA_MONOPODS', 'PERMANENT_EPILATORS', 'DEVICE_PROGRAMMERS',\n",
       "       'DRYING_RACKS', 'SAFES', 'DIGITAL_VOICE_RECORDERS',\n",
       "       'BICYCLE_FRAMES', 'NAIL_ART_BRUSHES', 'METAL_WIRES',\n",
       "       'PROJECTOR_SCREENS', 'TELESCOPES', 'ELECTRONIC_DRUMS',\n",
       "       'GARDEN_BENCHES', 'CUTTING_BOARDS', 'COOKING_SCALES',\n",
       "       'HOVERBOARDS', 'ULTRABOOKS', 'ELECTRIC_GRILLS', 'PONCHOS',\n",
       "       'CONSTRUCTION_BEAMS', 'WHEELCHAIRS', 'BODYWEIGHT_SCALES',\n",
       "       'CYCLING_COMPUTERS', 'LATHES', 'KIDS_PLAYHOUSES', 'CHESTS',\n",
       "       'LIP_GLOSSES', 'CAT_SCRATCHERS', 'BABY_MONITORS', 'MANNEQUINS',\n",
       "       'DJ_TURNTABLES', 'DRUM_PEDALS', 'BICYCLE_HANDLEBARS',\n",
       "       '3D_PRINTERS', 'CAMERA_STRAPS', 'BASKET_BALLS', 'CURLING_IRONS',\n",
       "       'WELDING_MASKS', 'TOY_GARAGES_AND_GAS_STATIONS', 'COFFEE_CAPSULES',\n",
       "       'AQUARIUM_FILTERS', 'FLUTES', 'PIANOS', 'BLOOD_PRESSURE_MONITORS',\n",
       "       'TENNIS_BALLS', 'ANIMAL_CLIPPERS', 'MICRO_ROTARY_TOOLS',\n",
       "       'WETSUITS', 'PLAYGROUND_SLIDES', 'HYDRAULIC_VEHICLE_JACKS',\n",
       "       'SWAY_BARS', 'POWER_STRIPS', 'LABEL_MAKERS', 'WORKOUT_BENCHES',\n",
       "       'TOILET_PAPER_HOLDERS', 'KITES', 'STYLUSES',\n",
       "       'HUMIDIFIERS_AND_VAPORIZERS', 'HEAT_GUNS', 'STEAM_CLEANERS',\n",
       "       'UPS_BATTERIES', 'CHRISTMAS_TREES', 'BEER_DISPENSERS',\n",
       "       'ANTIVIRUS_AND_INTERNET_SECURITY', 'IP_TELEPHONES', 'METAL_NAILS',\n",
       "       'WINE_CELLARS', 'BREAD_MAKERS', 'EQUALIZERS',\n",
       "       'ELECTRIC_DEMOLITION_HAMMERS', 'HEARING_AIDS', 'SANDWICH_MAKERS',\n",
       "       'COLD_ROOMS', 'BABY_STERILIZERS', 'MULTIGAME_MACHINES',\n",
       "       'SOLAR_PANELS', 'BREAST_FEEDING_PILLOWS', 'AIRBRUSHES',\n",
       "       'VIDEO_CAPTURE_DEVICES', 'LASER_PRINTER_DRUMS',\n",
       "       'HAIR_STRAIGHTENING_BRUSHES', 'MEDICAL_WALKERS', 'GOLF_CLUBS_SETS',\n",
       "       'POOL_CLEANERS', 'DJ_CASES', 'MANICURE_AND_PEDICURE_DRILLS',\n",
       "       'BLU_RAY_PLAYERS', 'MICROCONTROLLERS', 'PORTABLE_DVD_PLAYERS',\n",
       "       'LASER_MEASURES', 'HOLE_PUNCHES', 'ORTHOTICS',\n",
       "       'DJ_EFFECTS_PROCESSORS', 'BABY_JUMPERS', 'DIVING_MASKS',\n",
       "       'INDUSTRIAL_DOUGH_KNEADERS', 'KITCHEN_GRATERS', 'WATER_DISPENSERS',\n",
       "       'OFFICE_SOFTWARE', 'HAMMOCKS', 'POLYFUSION_DEVICES',\n",
       "       'DENTAL_PLIERS', 'BOMBOS', 'MAGNIFYING_GLASSES',\n",
       "       'AEROBIC_CRUNCH_MACHINES', 'FLASH_TRIGGERS', 'PAINTBALL_MARKERS',\n",
       "       'LASER_POINTERS', 'THERMOMETERS', 'ELECTRONIC_SWITCHES',\n",
       "       'SYRINGES', 'GOLF_BAGS', 'ARCHERY_BOWS',\n",
       "       'NON_CORRECTIVE_CONTACT_LENSES', 'GEL_NAIL_KITS', 'PLUNGE_ROUTERS',\n",
       "       'PORTABLE_EVAPORATIVE_AIR_COOLERS', 'FAX_MACHINES', 'SPICE_RACKS',\n",
       "       'MICRODERMABRASION_MACHINES', 'MILK', 'STETHOSCOPES',\n",
       "       'ULTRASONIC_CAVITATION_MACHINES', 'TORQUE_WRENCHES', 'OXIMETERS',\n",
       "       'INFLATABLE_SOFAS', 'FILING_CABINETS', 'BILLIARD_TABLES',\n",
       "       'GYM_BARS', 'DISPOSABLE_PARTY_KITS', 'POPCORN_BOXES',\n",
       "       'HORSE_SADDLES', 'STEPPERS', 'PREFABRICATED_FIBERGLASS_POOLS',\n",
       "       'BEER_FAUCETS', 'CAR_AC_EXPANSION_VALVES', 'SOFA_AND_FUTON_COVERS',\n",
       "       'AUTOMOTIVE_REAR_BODY_TAIL_LIGHT_PANELS', 'OFFSET_PRINTERS',\n",
       "       'VIBRATION_PLATFORMS', 'REFLECTIVE_VESTS', 'MONOCULARS',\n",
       "       'EMBROIDERY_MACHINES', 'BASKETBALL_BACKBOARDS_AND_HOOPS',\n",
       "       'HOSPITAL_BEDS', 'SPHYGMOMANOMETERS',\n",
       "       'INDUSTRIAL_AND_COMMERCIAL_BAG_SEALERS', 'TANDEM_CHAIRS',\n",
       "       'COIL_BINDING_MACHINES', 'INDUSTRIAL_ICE_CREAM_MACHINES',\n",
       "       'SCREEN_PRINTING_FRAMES', 'MOTORCYCLE_EXHAUSTS'], dtype=object)"
      ]
     },
     "execution_count": 15,
     "metadata": {},
     "output_type": "execute_result"
    }
   ],
   "source": [
    "target.shape"
   ]
  },
  {
   "cell_type": "code",
   "execution_count": 16,
   "id": "770bfe46",
   "metadata": {},
   "outputs": [],
   "source": [
    "import plotly.express as px"
   ]
  },
  {
   "cell_type": "code",
   "execution_count": 21,
   "id": "ee6db731",
   "metadata": {},
   "outputs": [
    {
     "data": {
      "text/plain": [
       "90     3093\n",
       "631    3032\n",
       "3      3032\n",
       "365    3020\n",
       "411    2961\n",
       "       ... \n",
       "561     147\n",
       "142     134\n",
       "318     113\n",
       "502      79\n",
       "398      41\n",
       "Name: title, Length: 632, dtype: int64"
      ]
     },
     "execution_count": 21,
     "metadata": {},
     "output_type": "execute_result"
    }
   ],
   "source": [
    "count_df['title']"
   ]
  },
  {
   "cell_type": "code",
   "execution_count": 25,
   "id": "ef334ceb",
   "metadata": {},
   "outputs": [
    {
     "data": {
      "application/vnd.plotly.v1+json": {
       "config": {
        "plotlyServerURL": "https://plot.ly"
       },
       "data": [
        {
         "alignmentgroup": "True",
         "hovertemplate": "category=%{x}<br>title=%{y}<extra></extra>",
         "legendgroup": "",
         "marker": {
          "color": "#636efa",
          "pattern": {
           "shape": ""
          }
         },
         "name": "",
         "offsetgroup": "",
         "orientation": "v",
         "showlegend": false,
         "textposition": "auto",
         "type": "bar",
         "x": [
          "BOOKS",
          "WRISTWATCHES",
          "ACTION_FIGURES",
          "MAGAZINES",
          "MUSICAL_KEYBOARDS",
          "DIECAST_VEHICLES",
          "JACKETS_AND_COATS",
          "SPARK_PLUGS",
          "FOOTBALL_SHIRTS",
          "T_SHIRTS",
          "RANGES",
          "VIDEO_GAMES",
          "BABY_CAR_SEATS",
          "PANTS",
          "COFFEE_MAKERS",
          "REFRIGERATORS",
          "MINI_COMPONENT_SYSTEMS",
          "AUTOMOTIVE_CLUTCH_KITS",
          "MOVIES",
          "HANDBAGS",
          "TELEVISIONS",
          "NOTEBOOKS",
          "BACKPACKS",
          "FANS",
          "TRADING_CARD_GAMES",
          "CEILING_LIGHTS",
          "ELECTRIC_GUITARS",
          "WOMEN_SWIMWEAR",
          "SOUVENIRS",
          "DOLLS",
          "AUTOMOTIVE_TIRES",
          "CHARMS_AND_MEDALS",
          "COMICS",
          "PERFUMES",
          "LIGHT_BULBS",
          "LIPSTICKS",
          "SEWING_MACHINES",
          "PEDAL_EFFECTS",
          "SANDALS_AND_FLIP_FLOPS",
          "CARPETS",
          "DRINKING_GLASSES",
          "SNEAKERS",
          "PARTY_PRINTABLE_KITS",
          "CELLPHONE_COVERS",
          "ALARMS_AND_SENSORS",
          "SWEATSHIRTS_AND_HOODIES",
          "TOY_BUILDING_SETS",
          "CAR_WHEELS",
          "SHIRTS",
          "SUPPLEMENTS",
          "HEADPHONES",
          "ELECTRIC_DRILLS",
          "DRAWERS",
          "HOME_OFFICE_DESKS",
          "SHORTS",
          "HOME_HEATERS",
          "SUNGLASSES",
          "HAIR_CLIPPERS",
          "DECORATIVE_PAINTINGS",
          "OVENS",
          "CATS_AND_DOGS_FOODS",
          "SPEAKERS",
          "BOARD_GAMES",
          "NECKLACES",
          "RAM_MEMORY_MODULES",
          "MOBILE_DEVICE_CHARGERS",
          "SMARTWATCHES",
          "INSTRUMENT_AMPLIFIERS",
          "DESKTOP_COMPUTER_POWER_SUPPLIES",
          "HATS_AND_CAPS",
          "DESKTOP_COMPUTER_COOLERS_AND_FANS",
          "PADDLE_TENNIS_RACKETS",
          "KITCHEN_SINKS",
          "MATTRESSES",
          "SWEATERS_AND_CARDIGANS",
          "PORTABLE_GENERATORS",
          "MOTORCYCLE_JACKETS",
          "NIGHTSTANDS",
          "EYESHADOWS",
          "BABY_STROLLERS",
          "COMMERCIAL_AND_EVENT_BAGS",
          "COSTUMES",
          "MOTORCYCLE_HELMETS",
          "AUTOMOTIVE_WATER_PUMPS",
          "FOOTBALL_SHOES",
          "FISHING_REELS",
          "CELLPHONE_TABLET_AND_GPS_SCREEN_PROTECTORS",
          "WRENCHES",
          "LAPTOP_BATTERIES",
          "MUGS",
          "BOOKCASES",
          "PIPES_AND_TUBES",
          "CELL_BATTERIES",
          "CELLPHONES",
          "LAPTOP_CHARGERS",
          "PRINTERS",
          "LEGGINGS",
          "EARRINGS",
          "MICROPHONES",
          "OFFICE_CHAIRS",
          "AUTOMOTIVE_HEADLIGHTS",
          "COMPUTER_PROCESSORS",
          "MATE_SETS",
          "CAR_SEAT_COVERS",
          "PUREBRED_DOGS",
          "AIR_COMPRESSORS",
          "AUTOMOBILE_FENDER_LINERS",
          "FISHING_LURES",
          "TABLETS",
          "CELLPHONE_AND_TABLET_CASES",
          "POOL_INFLATABLES",
          "TV_SMPS",
          "AUTOMOTIVE_AIR_FILTERS",
          "GLASSES_FRAMES",
          "CELLPHONE_BATTERIES",
          "STUFFED_TOYS",
          "CAR_LIGHT_BULBS",
          "SKIRTS",
          "BRACELETS_AND_ANKLE_BRACES",
          "BICYCLES",
          "COMPUTER_MONITORS",
          "INK_CARTRIDGES",
          "SURVEILLANCE_CAMERAS",
          "GAME_CONSOLES",
          "SUSPENSION_CONTROL_ARM_BUSHINGS",
          "CUSHIONS",
          "PLANT_POTS_AND_PLANTERS",
          "CAMERA_BATTERIES",
          "SCHOOL_AND_OFFICE_PAPERS",
          "FACIAL_SKIN_CARE_PRODUCTS",
          "HARD_DRIVES_AND_SSDS",
          "BABY_DIAPERS",
          "DISHES_PLATES",
          "ELECTRIC_SAWS",
          "CAKE_TOPPERS",
          "DESKTOP_COMPUTERS",
          "CAR_STEREOS",
          "BOX_SPRING_AND_MATTRESS_SETS",
          "AUTOMOTIVE_DOORS",
          "FOOTBALL_BALLS",
          "BODY_SKIN_CARE_PRODUCTS",
          "ENGINE_VALVES",
          "SUITCASES",
          "SHOCK_MOUNT_INSOLATORS",
          "AUTOMOTIVE_SIDE_VIEW_MIRRORS",
          "KITCHEN_POTS",
          "DINING_TABLES",
          "BASS_GUITARS",
          "GAMEPADS_AND_JOYSTICKS",
          "BATHROOM_FAUCETS",
          "STARTERS",
          "MAKEUP_BRUSHES",
          "AUTOMOTIVE_SPRING_SUSPENSIONS",
          "MOTORCYCLE_HEADLIGHTS",
          "WINDOWS",
          "SAFETY_FOOTWEAR",
          "PAJAMAS",
          "ELECTRIC_PRESSURE_WASHERS",
          "PARTY_MASKS",
          "FISHING_RODS",
          "BLOUSES",
          "MEN_SWIMWEAR",
          "CAR_AC_CONDENSERS",
          "DOORS",
          "PANTIES",
          "LED_STAGE_LIGHTS",
          "HAIR_SHAMPOOS_AND_CONDITIONERS",
          "PLANTS",
          "DRESSES",
          "VEHICLE_SPEAKERS",
          "LATEX_ENAMEL_AND_ACRYLIC_PAINTS",
          "SWAY_BAR_LINKS",
          "VEHICLE_STICKERS",
          "ROLLER_SKATES",
          "GRAPHICS_CARDS",
          "BED_SHEETS",
          "TOILETRY_BAGS",
          "SOFAS",
          "DRUMS",
          "DRILL_BITS",
          "RINGS",
          "KEYBOARD_AND_MOUSE_KITS",
          "WALL_LIGHTS",
          "BABY_CLOTHING_SETS",
          "COOKIES_CUTTERS",
          "LINGERIE_SETS",
          "ESSENTIAL_OILS",
          "ANALOG_CAMERAS",
          "PENS",
          "CAMERA_LENSES",
          "STORAGE_WATER_HEATERS",
          "KITCHEN_RANGE_HOODS",
          "PENCIL_CASES",
          "BLANKETS",
          "LOAFERS_AND_OXFORDS",
          "FABRICS",
          "COMFORTERS",
          "MEMORY_CARDS",
          "FREEZERS",
          "KEYCHAINS",
          "WALLETS",
          "WHISKEYS",
          "REMOTE_CONTROL_TOY_VEHICLES",
          "SCULPTURES",
          "CAMERAS",
          "TABLE_AND_DESK_LAMPS",
          "DINING_CHAIRS",
          "BATHROOM_VANITIES",
          "ENGINE_CONTROL_MODULES",
          "AUTOMOTIVE_FRONT_BUMPERS",
          "WATER_RADIATORS",
          "DATA_CABLES_AND_ADAPTERS",
          "UKULELES",
          "PACKAGING_BOXES",
          "BEDS",
          "AUTOMOTIVE_FENDERS",
          "HAIR_TREATMENTS",
          "MARKERS_AND_HIGHLIGHTERS",
          "BABIES_FOOTWEAR",
          "PORCELAIN_TILES",
          "CLOTHING_PATCHES",
          "BUTTON_PINS",
          "HEADBOARDS",
          "SURFACES_PROTECTIVE_PAINTS",
          "ACOUSTIC_GUITARS",
          "BATHROOM_SINKS",
          "KITCHEN_CABINETS",
          "SUSPENSION_BALL_JOINTS",
          "THERMOSES",
          "CONCERT_TICKETS",
          "AIR_CONDITIONERS",
          "AUTOMOTIVE_OIL_FILTERS",
          "KITCHEN_MOLDS",
          "VIDEO_GAME_PREPAID_CARDS",
          "FLASHLIGHTS",
          "WALL_CLOCKS",
          "ENGINE_OILS",
          "FACE_MASKS",
          "CERAMIC_TILES",
          "DRONES",
          "SOLDERING_MACHINES",
          "AUTOMOTIVE_SHOCK_ABSORBERS",
          "AUDIO_AMPLIFIERS",
          "VEHICLE_BRAKE_DISCS",
          "PICTURE_FRAMES",
          "TV_AND_MONITOR_MOUNTS",
          "FLOOD_LIGHTS",
          "BOOTS",
          "WARDROBES",
          "AIRSOFT_GUNS",
          "FOOTBALL_JACKETS",
          "DJ_CONTROLLERS",
          "VESTS",
          "SOCKS",
          "BABY_PLAYARDS",
          "ADHESIVE_TAPES",
          "BRAS",
          "MOTORCYCLE_GLOVES",
          "MIRRORS",
          "STOOLS",
          "RACKS_AND_PINIONS",
          "OUTER_TIE_ROD_ENDS",
          "CIRCUIT_BREAKERS",
          "NETWORK_CABLES",
          "BABY_HIGH_CHAIRS",
          "NOTEBOOKS_AND_WRITING_PADS",
          "WASHING_MACHINES",
          "PORTABLE_CELLPHONE_CHARGERS",
          "MOTORCYCLE_BATTERIES",
          "WINDSHIELD_WIPERS",
          "TELEPHONES",
          "PUZZLES",
          "CLASSIC_CARS",
          "TV_STORAGE_UNITS",
          "DINING_SETS",
          "FOG_LIGHTS",
          "GAS_LIFT_SUPPORTS",
          "VEHICLE_LED_BULBS",
          "BATHROOM_FAUCET_SETS",
          "VIDEO_CAMERAS",
          "COFFEE_TABLES",
          "NETWORK_CARDS",
          "CRIBS",
          "ENGINE_BEARINGS",
          "WALLPAPERS",
          "ENGINE_GASKET_SETS",
          "MOUSE_PADS",
          "PC_KEYBOARDS",
          "SPORT_WATCHES",
          "ROUTERS",
          "CAR_ENGINE_CAMSHAFTS",
          "HOME_SHELVES",
          "POWER_GRINDERS",
          "WATER_PURIFIERS_FILTERS",
          "JUMPSUITS_AND_OVERALLS",
          "LAPTOP_LCD_SCREENS",
          "MIXERS",
          "ROOF_RACKS",
          "BABIES_FORMULA",
          "STATIONARY_BICYCLES",
          "PENCILS",
          "SPARK_PLUG_WIRESETS",
          "BABY_WALKERS",
          "TACTICAL_AND_SPORTING_KNIVES_AND_BLADES",
          "AUTOMOTIVE_AMPLIFIERS",
          "PENDRIVES",
          "DIGITAL_PORTABLE_MEDIA_PLAYERS",
          "MALE_UNDERWEAR",
          "LIVING_ROOM_SETS",
          "PILLOWS",
          "ENGINE_PISTONS",
          "MERCHANDISER_REFRIGERATORS",
          "DISTRIBUTION_KITS",
          "KEYBOARD_CONTROLLERS",
          "OUTDOOR_TABLES",
          "WATER_HEATERS",
          "SPORT_AND_BAZAAR_BOTTLES",
          "LAPTOP_BRIEFCASES",
          "CAMERA_TRIPODS",
          "FOLDERS_AND_EXPANDING_FILES",
          "ALL_IN_ONE",
          "ECT_SENSORS",
          "COMPLETE_SKATEBOARDS",
          "EMERGENCY_LIGHTS",
          "IRRIGATION_VALVES",
          "CALCULATORS",
          "STREAMING_MEDIA_DEVICES",
          "BASKETBALL_JERSEYS",
          "BLENDERS",
          "AM_FM_RADIOS",
          "BABY_BLANKETS",
          "INFLATABLE_POOLS",
          "FLOOR_LAMPS",
          "TURNTABLES",
          "IRONS",
          "ENGINE_OIL_PRESSURE_SENSORS",
          "CHAMPAGNES",
          "TREADMILLS",
          "ENGINE_CRANKSHAFT_PULLEYS",
          "ENGINE_INTAKE_HOSES",
          "AUTOMOTIVE_STEERING_WHEELS",
          "MOTORCYCLE_JERSEYS",
          "SANDER_MACHINES",
          "SAXOPHONES"
         ],
         "xaxis": "x",
         "y": [
          3093,
          3032,
          3032,
          3020,
          2961,
          2957,
          2928,
          2917,
          2911,
          2877,
          2853,
          2850,
          2846,
          2840,
          2834,
          2833,
          2821,
          2815,
          2810,
          2797,
          2793,
          2789,
          2778,
          2774,
          2765,
          2762,
          2761,
          2752,
          2751,
          2743,
          2742,
          2735,
          2734,
          2729,
          2727,
          2722,
          2717,
          2717,
          2714,
          2713,
          2709,
          2703,
          2693,
          2682,
          2680,
          2680,
          2679,
          2676,
          2673,
          2668,
          2662,
          2647,
          2643,
          2640,
          2638,
          2636,
          2629,
          2626,
          2626,
          2624,
          2622,
          2597,
          2596,
          2594,
          2587,
          2582,
          2577,
          2570,
          2568,
          2562,
          2559,
          2554,
          2547,
          2543,
          2541,
          2540,
          2539,
          2537,
          2536,
          2534,
          2531,
          2530,
          2529,
          2526,
          2523,
          2515,
          2508,
          2502,
          2494,
          2486,
          2486,
          2482,
          2480,
          2474,
          2471,
          2469,
          2466,
          2464,
          2462,
          2462,
          2460,
          2449,
          2447,
          2443,
          2440,
          2437,
          2436,
          2434,
          2433,
          2431,
          2429,
          2425,
          2414,
          2414,
          2409,
          2408,
          2407,
          2401,
          2395,
          2391,
          2390,
          2387,
          2386,
          2386,
          2384,
          2379,
          2377,
          2372,
          2372,
          2371,
          2363,
          2361,
          2360,
          2356,
          2355,
          2354,
          2352,
          2351,
          2351,
          2350,
          2349,
          2346,
          2340,
          2339,
          2332,
          2332,
          2330,
          2330,
          2326,
          2325,
          2324,
          2323,
          2319,
          2319,
          2317,
          2317,
          2313,
          2312,
          2305,
          2304,
          2303,
          2294,
          2294,
          2291,
          2290,
          2282,
          2280,
          2280,
          2278,
          2273,
          2271,
          2270,
          2268,
          2265,
          2264,
          2262,
          2252,
          2251,
          2248,
          2245,
          2240,
          2239,
          2236,
          2233,
          2233,
          2233,
          2228,
          2224,
          2217,
          2217,
          2215,
          2205,
          2204,
          2204,
          2203,
          2198,
          2188,
          2186,
          2184,
          2182,
          2176,
          2176,
          2174,
          2172,
          2164,
          2164,
          2164,
          2160,
          2157,
          2149,
          2147,
          2146,
          2140,
          2128,
          2124,
          2120,
          2118,
          2117,
          2115,
          2112,
          2111,
          2108,
          2102,
          2095,
          2088,
          2087,
          2087,
          2087,
          2086,
          2083,
          2080,
          2078,
          2077,
          2073,
          2072,
          2069,
          2069,
          2064,
          2059,
          2048,
          2046,
          2045,
          2045,
          2045,
          2043,
          2040,
          2039,
          2038,
          2037,
          2031,
          2031,
          2030,
          2030,
          2029,
          2020,
          2012,
          2009,
          2007,
          2007,
          2002,
          2002,
          1995,
          1990,
          1988,
          1985,
          1983,
          1983,
          1982,
          1982,
          1968,
          1962,
          1962,
          1961,
          1960,
          1952,
          1951,
          1948,
          1945,
          1937,
          1933,
          1916,
          1905,
          1904,
          1892,
          1885,
          1883,
          1878,
          1876,
          1873,
          1869,
          1864,
          1863,
          1854,
          1850,
          1848,
          1848,
          1833,
          1831,
          1828,
          1826,
          1823,
          1822,
          1809,
          1808,
          1806,
          1801,
          1796,
          1796,
          1794,
          1793,
          1787,
          1786,
          1774,
          1770,
          1757,
          1747,
          1734,
          1731,
          1731,
          1729,
          1729,
          1725,
          1720,
          1720,
          1713,
          1713,
          1692,
          1678,
          1672,
          1656,
          1637,
          1635,
          1632,
          1616,
          1615,
          1604,
          1599,
          1587,
          1577,
          1569,
          1561,
          1556,
          1555,
          1549
         ],
         "yaxis": "y"
        }
       ],
       "layout": {
        "barmode": "relative",
        "legend": {
         "tracegroupgap": 0
        },
        "margin": {
         "t": 60
        },
        "template": {
         "data": {
          "bar": [
           {
            "error_x": {
             "color": "#2a3f5f"
            },
            "error_y": {
             "color": "#2a3f5f"
            },
            "marker": {
             "line": {
              "color": "#E5ECF6",
              "width": 0.5
             },
             "pattern": {
              "fillmode": "overlay",
              "size": 10,
              "solidity": 0.2
             }
            },
            "type": "bar"
           }
          ],
          "barpolar": [
           {
            "marker": {
             "line": {
              "color": "#E5ECF6",
              "width": 0.5
             },
             "pattern": {
              "fillmode": "overlay",
              "size": 10,
              "solidity": 0.2
             }
            },
            "type": "barpolar"
           }
          ],
          "carpet": [
           {
            "aaxis": {
             "endlinecolor": "#2a3f5f",
             "gridcolor": "white",
             "linecolor": "white",
             "minorgridcolor": "white",
             "startlinecolor": "#2a3f5f"
            },
            "baxis": {
             "endlinecolor": "#2a3f5f",
             "gridcolor": "white",
             "linecolor": "white",
             "minorgridcolor": "white",
             "startlinecolor": "#2a3f5f"
            },
            "type": "carpet"
           }
          ],
          "choropleth": [
           {
            "colorbar": {
             "outlinewidth": 0,
             "ticks": ""
            },
            "type": "choropleth"
           }
          ],
          "contour": [
           {
            "colorbar": {
             "outlinewidth": 0,
             "ticks": ""
            },
            "colorscale": [
             [
              0,
              "#0d0887"
             ],
             [
              0.1111111111111111,
              "#46039f"
             ],
             [
              0.2222222222222222,
              "#7201a8"
             ],
             [
              0.3333333333333333,
              "#9c179e"
             ],
             [
              0.4444444444444444,
              "#bd3786"
             ],
             [
              0.5555555555555556,
              "#d8576b"
             ],
             [
              0.6666666666666666,
              "#ed7953"
             ],
             [
              0.7777777777777778,
              "#fb9f3a"
             ],
             [
              0.8888888888888888,
              "#fdca26"
             ],
             [
              1,
              "#f0f921"
             ]
            ],
            "type": "contour"
           }
          ],
          "contourcarpet": [
           {
            "colorbar": {
             "outlinewidth": 0,
             "ticks": ""
            },
            "type": "contourcarpet"
           }
          ],
          "heatmap": [
           {
            "colorbar": {
             "outlinewidth": 0,
             "ticks": ""
            },
            "colorscale": [
             [
              0,
              "#0d0887"
             ],
             [
              0.1111111111111111,
              "#46039f"
             ],
             [
              0.2222222222222222,
              "#7201a8"
             ],
             [
              0.3333333333333333,
              "#9c179e"
             ],
             [
              0.4444444444444444,
              "#bd3786"
             ],
             [
              0.5555555555555556,
              "#d8576b"
             ],
             [
              0.6666666666666666,
              "#ed7953"
             ],
             [
              0.7777777777777778,
              "#fb9f3a"
             ],
             [
              0.8888888888888888,
              "#fdca26"
             ],
             [
              1,
              "#f0f921"
             ]
            ],
            "type": "heatmap"
           }
          ],
          "heatmapgl": [
           {
            "colorbar": {
             "outlinewidth": 0,
             "ticks": ""
            },
            "colorscale": [
             [
              0,
              "#0d0887"
             ],
             [
              0.1111111111111111,
              "#46039f"
             ],
             [
              0.2222222222222222,
              "#7201a8"
             ],
             [
              0.3333333333333333,
              "#9c179e"
             ],
             [
              0.4444444444444444,
              "#bd3786"
             ],
             [
              0.5555555555555556,
              "#d8576b"
             ],
             [
              0.6666666666666666,
              "#ed7953"
             ],
             [
              0.7777777777777778,
              "#fb9f3a"
             ],
             [
              0.8888888888888888,
              "#fdca26"
             ],
             [
              1,
              "#f0f921"
             ]
            ],
            "type": "heatmapgl"
           }
          ],
          "histogram": [
           {
            "marker": {
             "pattern": {
              "fillmode": "overlay",
              "size": 10,
              "solidity": 0.2
             }
            },
            "type": "histogram"
           }
          ],
          "histogram2d": [
           {
            "colorbar": {
             "outlinewidth": 0,
             "ticks": ""
            },
            "colorscale": [
             [
              0,
              "#0d0887"
             ],
             [
              0.1111111111111111,
              "#46039f"
             ],
             [
              0.2222222222222222,
              "#7201a8"
             ],
             [
              0.3333333333333333,
              "#9c179e"
             ],
             [
              0.4444444444444444,
              "#bd3786"
             ],
             [
              0.5555555555555556,
              "#d8576b"
             ],
             [
              0.6666666666666666,
              "#ed7953"
             ],
             [
              0.7777777777777778,
              "#fb9f3a"
             ],
             [
              0.8888888888888888,
              "#fdca26"
             ],
             [
              1,
              "#f0f921"
             ]
            ],
            "type": "histogram2d"
           }
          ],
          "histogram2dcontour": [
           {
            "colorbar": {
             "outlinewidth": 0,
             "ticks": ""
            },
            "colorscale": [
             [
              0,
              "#0d0887"
             ],
             [
              0.1111111111111111,
              "#46039f"
             ],
             [
              0.2222222222222222,
              "#7201a8"
             ],
             [
              0.3333333333333333,
              "#9c179e"
             ],
             [
              0.4444444444444444,
              "#bd3786"
             ],
             [
              0.5555555555555556,
              "#d8576b"
             ],
             [
              0.6666666666666666,
              "#ed7953"
             ],
             [
              0.7777777777777778,
              "#fb9f3a"
             ],
             [
              0.8888888888888888,
              "#fdca26"
             ],
             [
              1,
              "#f0f921"
             ]
            ],
            "type": "histogram2dcontour"
           }
          ],
          "mesh3d": [
           {
            "colorbar": {
             "outlinewidth": 0,
             "ticks": ""
            },
            "type": "mesh3d"
           }
          ],
          "parcoords": [
           {
            "line": {
             "colorbar": {
              "outlinewidth": 0,
              "ticks": ""
             }
            },
            "type": "parcoords"
           }
          ],
          "pie": [
           {
            "automargin": true,
            "type": "pie"
           }
          ],
          "scatter": [
           {
            "fillpattern": {
             "fillmode": "overlay",
             "size": 10,
             "solidity": 0.2
            },
            "type": "scatter"
           }
          ],
          "scatter3d": [
           {
            "line": {
             "colorbar": {
              "outlinewidth": 0,
              "ticks": ""
             }
            },
            "marker": {
             "colorbar": {
              "outlinewidth": 0,
              "ticks": ""
             }
            },
            "type": "scatter3d"
           }
          ],
          "scattercarpet": [
           {
            "marker": {
             "colorbar": {
              "outlinewidth": 0,
              "ticks": ""
             }
            },
            "type": "scattercarpet"
           }
          ],
          "scattergeo": [
           {
            "marker": {
             "colorbar": {
              "outlinewidth": 0,
              "ticks": ""
             }
            },
            "type": "scattergeo"
           }
          ],
          "scattergl": [
           {
            "marker": {
             "colorbar": {
              "outlinewidth": 0,
              "ticks": ""
             }
            },
            "type": "scattergl"
           }
          ],
          "scattermapbox": [
           {
            "marker": {
             "colorbar": {
              "outlinewidth": 0,
              "ticks": ""
             }
            },
            "type": "scattermapbox"
           }
          ],
          "scatterpolar": [
           {
            "marker": {
             "colorbar": {
              "outlinewidth": 0,
              "ticks": ""
             }
            },
            "type": "scatterpolar"
           }
          ],
          "scatterpolargl": [
           {
            "marker": {
             "colorbar": {
              "outlinewidth": 0,
              "ticks": ""
             }
            },
            "type": "scatterpolargl"
           }
          ],
          "scatterternary": [
           {
            "marker": {
             "colorbar": {
              "outlinewidth": 0,
              "ticks": ""
             }
            },
            "type": "scatterternary"
           }
          ],
          "surface": [
           {
            "colorbar": {
             "outlinewidth": 0,
             "ticks": ""
            },
            "colorscale": [
             [
              0,
              "#0d0887"
             ],
             [
              0.1111111111111111,
              "#46039f"
             ],
             [
              0.2222222222222222,
              "#7201a8"
             ],
             [
              0.3333333333333333,
              "#9c179e"
             ],
             [
              0.4444444444444444,
              "#bd3786"
             ],
             [
              0.5555555555555556,
              "#d8576b"
             ],
             [
              0.6666666666666666,
              "#ed7953"
             ],
             [
              0.7777777777777778,
              "#fb9f3a"
             ],
             [
              0.8888888888888888,
              "#fdca26"
             ],
             [
              1,
              "#f0f921"
             ]
            ],
            "type": "surface"
           }
          ],
          "table": [
           {
            "cells": {
             "fill": {
              "color": "#EBF0F8"
             },
             "line": {
              "color": "white"
             }
            },
            "header": {
             "fill": {
              "color": "#C8D4E3"
             },
             "line": {
              "color": "white"
             }
            },
            "type": "table"
           }
          ]
         },
         "layout": {
          "annotationdefaults": {
           "arrowcolor": "#2a3f5f",
           "arrowhead": 0,
           "arrowwidth": 1
          },
          "autotypenumbers": "strict",
          "coloraxis": {
           "colorbar": {
            "outlinewidth": 0,
            "ticks": ""
           }
          },
          "colorscale": {
           "diverging": [
            [
             0,
             "#8e0152"
            ],
            [
             0.1,
             "#c51b7d"
            ],
            [
             0.2,
             "#de77ae"
            ],
            [
             0.3,
             "#f1b6da"
            ],
            [
             0.4,
             "#fde0ef"
            ],
            [
             0.5,
             "#f7f7f7"
            ],
            [
             0.6,
             "#e6f5d0"
            ],
            [
             0.7,
             "#b8e186"
            ],
            [
             0.8,
             "#7fbc41"
            ],
            [
             0.9,
             "#4d9221"
            ],
            [
             1,
             "#276419"
            ]
           ],
           "sequential": [
            [
             0,
             "#0d0887"
            ],
            [
             0.1111111111111111,
             "#46039f"
            ],
            [
             0.2222222222222222,
             "#7201a8"
            ],
            [
             0.3333333333333333,
             "#9c179e"
            ],
            [
             0.4444444444444444,
             "#bd3786"
            ],
            [
             0.5555555555555556,
             "#d8576b"
            ],
            [
             0.6666666666666666,
             "#ed7953"
            ],
            [
             0.7777777777777778,
             "#fb9f3a"
            ],
            [
             0.8888888888888888,
             "#fdca26"
            ],
            [
             1,
             "#f0f921"
            ]
           ],
           "sequentialminus": [
            [
             0,
             "#0d0887"
            ],
            [
             0.1111111111111111,
             "#46039f"
            ],
            [
             0.2222222222222222,
             "#7201a8"
            ],
            [
             0.3333333333333333,
             "#9c179e"
            ],
            [
             0.4444444444444444,
             "#bd3786"
            ],
            [
             0.5555555555555556,
             "#d8576b"
            ],
            [
             0.6666666666666666,
             "#ed7953"
            ],
            [
             0.7777777777777778,
             "#fb9f3a"
            ],
            [
             0.8888888888888888,
             "#fdca26"
            ],
            [
             1,
             "#f0f921"
            ]
           ]
          },
          "colorway": [
           "#636efa",
           "#EF553B",
           "#00cc96",
           "#ab63fa",
           "#FFA15A",
           "#19d3f3",
           "#FF6692",
           "#B6E880",
           "#FF97FF",
           "#FECB52"
          ],
          "font": {
           "color": "#2a3f5f"
          },
          "geo": {
           "bgcolor": "white",
           "lakecolor": "white",
           "landcolor": "#E5ECF6",
           "showlakes": true,
           "showland": true,
           "subunitcolor": "white"
          },
          "hoverlabel": {
           "align": "left"
          },
          "hovermode": "closest",
          "mapbox": {
           "style": "light"
          },
          "paper_bgcolor": "white",
          "plot_bgcolor": "#E5ECF6",
          "polar": {
           "angularaxis": {
            "gridcolor": "white",
            "linecolor": "white",
            "ticks": ""
           },
           "bgcolor": "#E5ECF6",
           "radialaxis": {
            "gridcolor": "white",
            "linecolor": "white",
            "ticks": ""
           }
          },
          "scene": {
           "xaxis": {
            "backgroundcolor": "#E5ECF6",
            "gridcolor": "white",
            "gridwidth": 2,
            "linecolor": "white",
            "showbackground": true,
            "ticks": "",
            "zerolinecolor": "white"
           },
           "yaxis": {
            "backgroundcolor": "#E5ECF6",
            "gridcolor": "white",
            "gridwidth": 2,
            "linecolor": "white",
            "showbackground": true,
            "ticks": "",
            "zerolinecolor": "white"
           },
           "zaxis": {
            "backgroundcolor": "#E5ECF6",
            "gridcolor": "white",
            "gridwidth": 2,
            "linecolor": "white",
            "showbackground": true,
            "ticks": "",
            "zerolinecolor": "white"
           }
          },
          "shapedefaults": {
           "line": {
            "color": "#2a3f5f"
           }
          },
          "ternary": {
           "aaxis": {
            "gridcolor": "white",
            "linecolor": "white",
            "ticks": ""
           },
           "baxis": {
            "gridcolor": "white",
            "linecolor": "white",
            "ticks": ""
           },
           "bgcolor": "#E5ECF6",
           "caxis": {
            "gridcolor": "white",
            "linecolor": "white",
            "ticks": ""
           }
          },
          "title": {
           "x": 0.05
          },
          "xaxis": {
           "automargin": true,
           "gridcolor": "white",
           "linecolor": "white",
           "ticks": "",
           "title": {
            "standoff": 15
           },
           "zerolinecolor": "white",
           "zerolinewidth": 2
          },
          "yaxis": {
           "automargin": true,
           "gridcolor": "white",
           "linecolor": "white",
           "ticks": "",
           "title": {
            "standoff": 15
           },
           "zerolinecolor": "white",
           "zerolinewidth": 2
          }
         }
        },
        "xaxis": {
         "anchor": "y",
         "domain": [
          0,
          1
         ],
         "title": {
          "text": "category"
         }
        },
        "yaxis": {
         "anchor": "x",
         "domain": [
          0,
          1
         ],
         "title": {
          "text": "title"
         }
        }
       }
      },
      "text/html": [
       "<div>                            <div id=\"df196484-9fb7-462c-9d5e-8601ea614e32\" class=\"plotly-graph-div\" style=\"height:525px; width:100%;\"></div>            <script type=\"text/javascript\">                require([\"plotly\"], function(Plotly) {                    window.PLOTLYENV=window.PLOTLYENV || {};                                    if (document.getElementById(\"df196484-9fb7-462c-9d5e-8601ea614e32\")) {                    Plotly.newPlot(                        \"df196484-9fb7-462c-9d5e-8601ea614e32\",                        [{\"alignmentgroup\":\"True\",\"hovertemplate\":\"category=%{x}<br>title=%{y}<extra></extra>\",\"legendgroup\":\"\",\"marker\":{\"color\":\"#636efa\",\"pattern\":{\"shape\":\"\"}},\"name\":\"\",\"offsetgroup\":\"\",\"orientation\":\"v\",\"showlegend\":false,\"textposition\":\"auto\",\"x\":[\"BOOKS\",\"WRISTWATCHES\",\"ACTION_FIGURES\",\"MAGAZINES\",\"MUSICAL_KEYBOARDS\",\"DIECAST_VEHICLES\",\"JACKETS_AND_COATS\",\"SPARK_PLUGS\",\"FOOTBALL_SHIRTS\",\"T_SHIRTS\",\"RANGES\",\"VIDEO_GAMES\",\"BABY_CAR_SEATS\",\"PANTS\",\"COFFEE_MAKERS\",\"REFRIGERATORS\",\"MINI_COMPONENT_SYSTEMS\",\"AUTOMOTIVE_CLUTCH_KITS\",\"MOVIES\",\"HANDBAGS\",\"TELEVISIONS\",\"NOTEBOOKS\",\"BACKPACKS\",\"FANS\",\"TRADING_CARD_GAMES\",\"CEILING_LIGHTS\",\"ELECTRIC_GUITARS\",\"WOMEN_SWIMWEAR\",\"SOUVENIRS\",\"DOLLS\",\"AUTOMOTIVE_TIRES\",\"CHARMS_AND_MEDALS\",\"COMICS\",\"PERFUMES\",\"LIGHT_BULBS\",\"LIPSTICKS\",\"SEWING_MACHINES\",\"PEDAL_EFFECTS\",\"SANDALS_AND_FLIP_FLOPS\",\"CARPETS\",\"DRINKING_GLASSES\",\"SNEAKERS\",\"PARTY_PRINTABLE_KITS\",\"CELLPHONE_COVERS\",\"ALARMS_AND_SENSORS\",\"SWEATSHIRTS_AND_HOODIES\",\"TOY_BUILDING_SETS\",\"CAR_WHEELS\",\"SHIRTS\",\"SUPPLEMENTS\",\"HEADPHONES\",\"ELECTRIC_DRILLS\",\"DRAWERS\",\"HOME_OFFICE_DESKS\",\"SHORTS\",\"HOME_HEATERS\",\"SUNGLASSES\",\"HAIR_CLIPPERS\",\"DECORATIVE_PAINTINGS\",\"OVENS\",\"CATS_AND_DOGS_FOODS\",\"SPEAKERS\",\"BOARD_GAMES\",\"NECKLACES\",\"RAM_MEMORY_MODULES\",\"MOBILE_DEVICE_CHARGERS\",\"SMARTWATCHES\",\"INSTRUMENT_AMPLIFIERS\",\"DESKTOP_COMPUTER_POWER_SUPPLIES\",\"HATS_AND_CAPS\",\"DESKTOP_COMPUTER_COOLERS_AND_FANS\",\"PADDLE_TENNIS_RACKETS\",\"KITCHEN_SINKS\",\"MATTRESSES\",\"SWEATERS_AND_CARDIGANS\",\"PORTABLE_GENERATORS\",\"MOTORCYCLE_JACKETS\",\"NIGHTSTANDS\",\"EYESHADOWS\",\"BABY_STROLLERS\",\"COMMERCIAL_AND_EVENT_BAGS\",\"COSTUMES\",\"MOTORCYCLE_HELMETS\",\"AUTOMOTIVE_WATER_PUMPS\",\"FOOTBALL_SHOES\",\"FISHING_REELS\",\"CELLPHONE_TABLET_AND_GPS_SCREEN_PROTECTORS\",\"WRENCHES\",\"LAPTOP_BATTERIES\",\"MUGS\",\"BOOKCASES\",\"PIPES_AND_TUBES\",\"CELL_BATTERIES\",\"CELLPHONES\",\"LAPTOP_CHARGERS\",\"PRINTERS\",\"LEGGINGS\",\"EARRINGS\",\"MICROPHONES\",\"OFFICE_CHAIRS\",\"AUTOMOTIVE_HEADLIGHTS\",\"COMPUTER_PROCESSORS\",\"MATE_SETS\",\"CAR_SEAT_COVERS\",\"PUREBRED_DOGS\",\"AIR_COMPRESSORS\",\"AUTOMOBILE_FENDER_LINERS\",\"FISHING_LURES\",\"TABLETS\",\"CELLPHONE_AND_TABLET_CASES\",\"POOL_INFLATABLES\",\"TV_SMPS\",\"AUTOMOTIVE_AIR_FILTERS\",\"GLASSES_FRAMES\",\"CELLPHONE_BATTERIES\",\"STUFFED_TOYS\",\"CAR_LIGHT_BULBS\",\"SKIRTS\",\"BRACELETS_AND_ANKLE_BRACES\",\"BICYCLES\",\"COMPUTER_MONITORS\",\"INK_CARTRIDGES\",\"SURVEILLANCE_CAMERAS\",\"GAME_CONSOLES\",\"SUSPENSION_CONTROL_ARM_BUSHINGS\",\"CUSHIONS\",\"PLANT_POTS_AND_PLANTERS\",\"CAMERA_BATTERIES\",\"SCHOOL_AND_OFFICE_PAPERS\",\"FACIAL_SKIN_CARE_PRODUCTS\",\"HARD_DRIVES_AND_SSDS\",\"BABY_DIAPERS\",\"DISHES_PLATES\",\"ELECTRIC_SAWS\",\"CAKE_TOPPERS\",\"DESKTOP_COMPUTERS\",\"CAR_STEREOS\",\"BOX_SPRING_AND_MATTRESS_SETS\",\"AUTOMOTIVE_DOORS\",\"FOOTBALL_BALLS\",\"BODY_SKIN_CARE_PRODUCTS\",\"ENGINE_VALVES\",\"SUITCASES\",\"SHOCK_MOUNT_INSOLATORS\",\"AUTOMOTIVE_SIDE_VIEW_MIRRORS\",\"KITCHEN_POTS\",\"DINING_TABLES\",\"BASS_GUITARS\",\"GAMEPADS_AND_JOYSTICKS\",\"BATHROOM_FAUCETS\",\"STARTERS\",\"MAKEUP_BRUSHES\",\"AUTOMOTIVE_SPRING_SUSPENSIONS\",\"MOTORCYCLE_HEADLIGHTS\",\"WINDOWS\",\"SAFETY_FOOTWEAR\",\"PAJAMAS\",\"ELECTRIC_PRESSURE_WASHERS\",\"PARTY_MASKS\",\"FISHING_RODS\",\"BLOUSES\",\"MEN_SWIMWEAR\",\"CAR_AC_CONDENSERS\",\"DOORS\",\"PANTIES\",\"LED_STAGE_LIGHTS\",\"HAIR_SHAMPOOS_AND_CONDITIONERS\",\"PLANTS\",\"DRESSES\",\"VEHICLE_SPEAKERS\",\"LATEX_ENAMEL_AND_ACRYLIC_PAINTS\",\"SWAY_BAR_LINKS\",\"VEHICLE_STICKERS\",\"ROLLER_SKATES\",\"GRAPHICS_CARDS\",\"BED_SHEETS\",\"TOILETRY_BAGS\",\"SOFAS\",\"DRUMS\",\"DRILL_BITS\",\"RINGS\",\"KEYBOARD_AND_MOUSE_KITS\",\"WALL_LIGHTS\",\"BABY_CLOTHING_SETS\",\"COOKIES_CUTTERS\",\"LINGERIE_SETS\",\"ESSENTIAL_OILS\",\"ANALOG_CAMERAS\",\"PENS\",\"CAMERA_LENSES\",\"STORAGE_WATER_HEATERS\",\"KITCHEN_RANGE_HOODS\",\"PENCIL_CASES\",\"BLANKETS\",\"LOAFERS_AND_OXFORDS\",\"FABRICS\",\"COMFORTERS\",\"MEMORY_CARDS\",\"FREEZERS\",\"KEYCHAINS\",\"WALLETS\",\"WHISKEYS\",\"REMOTE_CONTROL_TOY_VEHICLES\",\"SCULPTURES\",\"CAMERAS\",\"TABLE_AND_DESK_LAMPS\",\"DINING_CHAIRS\",\"BATHROOM_VANITIES\",\"ENGINE_CONTROL_MODULES\",\"AUTOMOTIVE_FRONT_BUMPERS\",\"WATER_RADIATORS\",\"DATA_CABLES_AND_ADAPTERS\",\"UKULELES\",\"PACKAGING_BOXES\",\"BEDS\",\"AUTOMOTIVE_FENDERS\",\"HAIR_TREATMENTS\",\"MARKERS_AND_HIGHLIGHTERS\",\"BABIES_FOOTWEAR\",\"PORCELAIN_TILES\",\"CLOTHING_PATCHES\",\"BUTTON_PINS\",\"HEADBOARDS\",\"SURFACES_PROTECTIVE_PAINTS\",\"ACOUSTIC_GUITARS\",\"BATHROOM_SINKS\",\"KITCHEN_CABINETS\",\"SUSPENSION_BALL_JOINTS\",\"THERMOSES\",\"CONCERT_TICKETS\",\"AIR_CONDITIONERS\",\"AUTOMOTIVE_OIL_FILTERS\",\"KITCHEN_MOLDS\",\"VIDEO_GAME_PREPAID_CARDS\",\"FLASHLIGHTS\",\"WALL_CLOCKS\",\"ENGINE_OILS\",\"FACE_MASKS\",\"CERAMIC_TILES\",\"DRONES\",\"SOLDERING_MACHINES\",\"AUTOMOTIVE_SHOCK_ABSORBERS\",\"AUDIO_AMPLIFIERS\",\"VEHICLE_BRAKE_DISCS\",\"PICTURE_FRAMES\",\"TV_AND_MONITOR_MOUNTS\",\"FLOOD_LIGHTS\",\"BOOTS\",\"WARDROBES\",\"AIRSOFT_GUNS\",\"FOOTBALL_JACKETS\",\"DJ_CONTROLLERS\",\"VESTS\",\"SOCKS\",\"BABY_PLAYARDS\",\"ADHESIVE_TAPES\",\"BRAS\",\"MOTORCYCLE_GLOVES\",\"MIRRORS\",\"STOOLS\",\"RACKS_AND_PINIONS\",\"OUTER_TIE_ROD_ENDS\",\"CIRCUIT_BREAKERS\",\"NETWORK_CABLES\",\"BABY_HIGH_CHAIRS\",\"NOTEBOOKS_AND_WRITING_PADS\",\"WASHING_MACHINES\",\"PORTABLE_CELLPHONE_CHARGERS\",\"MOTORCYCLE_BATTERIES\",\"WINDSHIELD_WIPERS\",\"TELEPHONES\",\"PUZZLES\",\"CLASSIC_CARS\",\"TV_STORAGE_UNITS\",\"DINING_SETS\",\"FOG_LIGHTS\",\"GAS_LIFT_SUPPORTS\",\"VEHICLE_LED_BULBS\",\"BATHROOM_FAUCET_SETS\",\"VIDEO_CAMERAS\",\"COFFEE_TABLES\",\"NETWORK_CARDS\",\"CRIBS\",\"ENGINE_BEARINGS\",\"WALLPAPERS\",\"ENGINE_GASKET_SETS\",\"MOUSE_PADS\",\"PC_KEYBOARDS\",\"SPORT_WATCHES\",\"ROUTERS\",\"CAR_ENGINE_CAMSHAFTS\",\"HOME_SHELVES\",\"POWER_GRINDERS\",\"WATER_PURIFIERS_FILTERS\",\"JUMPSUITS_AND_OVERALLS\",\"LAPTOP_LCD_SCREENS\",\"MIXERS\",\"ROOF_RACKS\",\"BABIES_FORMULA\",\"STATIONARY_BICYCLES\",\"PENCILS\",\"SPARK_PLUG_WIRESETS\",\"BABY_WALKERS\",\"TACTICAL_AND_SPORTING_KNIVES_AND_BLADES\",\"AUTOMOTIVE_AMPLIFIERS\",\"PENDRIVES\",\"DIGITAL_PORTABLE_MEDIA_PLAYERS\",\"MALE_UNDERWEAR\",\"LIVING_ROOM_SETS\",\"PILLOWS\",\"ENGINE_PISTONS\",\"MERCHANDISER_REFRIGERATORS\",\"DISTRIBUTION_KITS\",\"KEYBOARD_CONTROLLERS\",\"OUTDOOR_TABLES\",\"WATER_HEATERS\",\"SPORT_AND_BAZAAR_BOTTLES\",\"LAPTOP_BRIEFCASES\",\"CAMERA_TRIPODS\",\"FOLDERS_AND_EXPANDING_FILES\",\"ALL_IN_ONE\",\"ECT_SENSORS\",\"COMPLETE_SKATEBOARDS\",\"EMERGENCY_LIGHTS\",\"IRRIGATION_VALVES\",\"CALCULATORS\",\"STREAMING_MEDIA_DEVICES\",\"BASKETBALL_JERSEYS\",\"BLENDERS\",\"AM_FM_RADIOS\",\"BABY_BLANKETS\",\"INFLATABLE_POOLS\",\"FLOOR_LAMPS\",\"TURNTABLES\",\"IRONS\",\"ENGINE_OIL_PRESSURE_SENSORS\",\"CHAMPAGNES\",\"TREADMILLS\",\"ENGINE_CRANKSHAFT_PULLEYS\",\"ENGINE_INTAKE_HOSES\",\"AUTOMOTIVE_STEERING_WHEELS\",\"MOTORCYCLE_JERSEYS\",\"SANDER_MACHINES\",\"SAXOPHONES\"],\"xaxis\":\"x\",\"y\":[3093,3032,3032,3020,2961,2957,2928,2917,2911,2877,2853,2850,2846,2840,2834,2833,2821,2815,2810,2797,2793,2789,2778,2774,2765,2762,2761,2752,2751,2743,2742,2735,2734,2729,2727,2722,2717,2717,2714,2713,2709,2703,2693,2682,2680,2680,2679,2676,2673,2668,2662,2647,2643,2640,2638,2636,2629,2626,2626,2624,2622,2597,2596,2594,2587,2582,2577,2570,2568,2562,2559,2554,2547,2543,2541,2540,2539,2537,2536,2534,2531,2530,2529,2526,2523,2515,2508,2502,2494,2486,2486,2482,2480,2474,2471,2469,2466,2464,2462,2462,2460,2449,2447,2443,2440,2437,2436,2434,2433,2431,2429,2425,2414,2414,2409,2408,2407,2401,2395,2391,2390,2387,2386,2386,2384,2379,2377,2372,2372,2371,2363,2361,2360,2356,2355,2354,2352,2351,2351,2350,2349,2346,2340,2339,2332,2332,2330,2330,2326,2325,2324,2323,2319,2319,2317,2317,2313,2312,2305,2304,2303,2294,2294,2291,2290,2282,2280,2280,2278,2273,2271,2270,2268,2265,2264,2262,2252,2251,2248,2245,2240,2239,2236,2233,2233,2233,2228,2224,2217,2217,2215,2205,2204,2204,2203,2198,2188,2186,2184,2182,2176,2176,2174,2172,2164,2164,2164,2160,2157,2149,2147,2146,2140,2128,2124,2120,2118,2117,2115,2112,2111,2108,2102,2095,2088,2087,2087,2087,2086,2083,2080,2078,2077,2073,2072,2069,2069,2064,2059,2048,2046,2045,2045,2045,2043,2040,2039,2038,2037,2031,2031,2030,2030,2029,2020,2012,2009,2007,2007,2002,2002,1995,1990,1988,1985,1983,1983,1982,1982,1968,1962,1962,1961,1960,1952,1951,1948,1945,1937,1933,1916,1905,1904,1892,1885,1883,1878,1876,1873,1869,1864,1863,1854,1850,1848,1848,1833,1831,1828,1826,1823,1822,1809,1808,1806,1801,1796,1796,1794,1793,1787,1786,1774,1770,1757,1747,1734,1731,1731,1729,1729,1725,1720,1720,1713,1713,1692,1678,1672,1656,1637,1635,1632,1616,1615,1604,1599,1587,1577,1569,1561,1556,1555,1549],\"yaxis\":\"y\",\"type\":\"bar\"}],                        {\"template\":{\"data\":{\"histogram2dcontour\":[{\"type\":\"histogram2dcontour\",\"colorbar\":{\"outlinewidth\":0,\"ticks\":\"\"},\"colorscale\":[[0.0,\"#0d0887\"],[0.1111111111111111,\"#46039f\"],[0.2222222222222222,\"#7201a8\"],[0.3333333333333333,\"#9c179e\"],[0.4444444444444444,\"#bd3786\"],[0.5555555555555556,\"#d8576b\"],[0.6666666666666666,\"#ed7953\"],[0.7777777777777778,\"#fb9f3a\"],[0.8888888888888888,\"#fdca26\"],[1.0,\"#f0f921\"]]}],\"choropleth\":[{\"type\":\"choropleth\",\"colorbar\":{\"outlinewidth\":0,\"ticks\":\"\"}}],\"histogram2d\":[{\"type\":\"histogram2d\",\"colorbar\":{\"outlinewidth\":0,\"ticks\":\"\"},\"colorscale\":[[0.0,\"#0d0887\"],[0.1111111111111111,\"#46039f\"],[0.2222222222222222,\"#7201a8\"],[0.3333333333333333,\"#9c179e\"],[0.4444444444444444,\"#bd3786\"],[0.5555555555555556,\"#d8576b\"],[0.6666666666666666,\"#ed7953\"],[0.7777777777777778,\"#fb9f3a\"],[0.8888888888888888,\"#fdca26\"],[1.0,\"#f0f921\"]]}],\"heatmap\":[{\"type\":\"heatmap\",\"colorbar\":{\"outlinewidth\":0,\"ticks\":\"\"},\"colorscale\":[[0.0,\"#0d0887\"],[0.1111111111111111,\"#46039f\"],[0.2222222222222222,\"#7201a8\"],[0.3333333333333333,\"#9c179e\"],[0.4444444444444444,\"#bd3786\"],[0.5555555555555556,\"#d8576b\"],[0.6666666666666666,\"#ed7953\"],[0.7777777777777778,\"#fb9f3a\"],[0.8888888888888888,\"#fdca26\"],[1.0,\"#f0f921\"]]}],\"heatmapgl\":[{\"type\":\"heatmapgl\",\"colorbar\":{\"outlinewidth\":0,\"ticks\":\"\"},\"colorscale\":[[0.0,\"#0d0887\"],[0.1111111111111111,\"#46039f\"],[0.2222222222222222,\"#7201a8\"],[0.3333333333333333,\"#9c179e\"],[0.4444444444444444,\"#bd3786\"],[0.5555555555555556,\"#d8576b\"],[0.6666666666666666,\"#ed7953\"],[0.7777777777777778,\"#fb9f3a\"],[0.8888888888888888,\"#fdca26\"],[1.0,\"#f0f921\"]]}],\"contourcarpet\":[{\"type\":\"contourcarpet\",\"colorbar\":{\"outlinewidth\":0,\"ticks\":\"\"}}],\"contour\":[{\"type\":\"contour\",\"colorbar\":{\"outlinewidth\":0,\"ticks\":\"\"},\"colorscale\":[[0.0,\"#0d0887\"],[0.1111111111111111,\"#46039f\"],[0.2222222222222222,\"#7201a8\"],[0.3333333333333333,\"#9c179e\"],[0.4444444444444444,\"#bd3786\"],[0.5555555555555556,\"#d8576b\"],[0.6666666666666666,\"#ed7953\"],[0.7777777777777778,\"#fb9f3a\"],[0.8888888888888888,\"#fdca26\"],[1.0,\"#f0f921\"]]}],\"surface\":[{\"type\":\"surface\",\"colorbar\":{\"outlinewidth\":0,\"ticks\":\"\"},\"colorscale\":[[0.0,\"#0d0887\"],[0.1111111111111111,\"#46039f\"],[0.2222222222222222,\"#7201a8\"],[0.3333333333333333,\"#9c179e\"],[0.4444444444444444,\"#bd3786\"],[0.5555555555555556,\"#d8576b\"],[0.6666666666666666,\"#ed7953\"],[0.7777777777777778,\"#fb9f3a\"],[0.8888888888888888,\"#fdca26\"],[1.0,\"#f0f921\"]]}],\"mesh3d\":[{\"type\":\"mesh3d\",\"colorbar\":{\"outlinewidth\":0,\"ticks\":\"\"}}],\"scatter\":[{\"fillpattern\":{\"fillmode\":\"overlay\",\"size\":10,\"solidity\":0.2},\"type\":\"scatter\"}],\"parcoords\":[{\"type\":\"parcoords\",\"line\":{\"colorbar\":{\"outlinewidth\":0,\"ticks\":\"\"}}}],\"scatterpolargl\":[{\"type\":\"scatterpolargl\",\"marker\":{\"colorbar\":{\"outlinewidth\":0,\"ticks\":\"\"}}}],\"bar\":[{\"error_x\":{\"color\":\"#2a3f5f\"},\"error_y\":{\"color\":\"#2a3f5f\"},\"marker\":{\"line\":{\"color\":\"#E5ECF6\",\"width\":0.5},\"pattern\":{\"fillmode\":\"overlay\",\"size\":10,\"solidity\":0.2}},\"type\":\"bar\"}],\"scattergeo\":[{\"type\":\"scattergeo\",\"marker\":{\"colorbar\":{\"outlinewidth\":0,\"ticks\":\"\"}}}],\"scatterpolar\":[{\"type\":\"scatterpolar\",\"marker\":{\"colorbar\":{\"outlinewidth\":0,\"ticks\":\"\"}}}],\"histogram\":[{\"marker\":{\"pattern\":{\"fillmode\":\"overlay\",\"size\":10,\"solidity\":0.2}},\"type\":\"histogram\"}],\"scattergl\":[{\"type\":\"scattergl\",\"marker\":{\"colorbar\":{\"outlinewidth\":0,\"ticks\":\"\"}}}],\"scatter3d\":[{\"type\":\"scatter3d\",\"line\":{\"colorbar\":{\"outlinewidth\":0,\"ticks\":\"\"}},\"marker\":{\"colorbar\":{\"outlinewidth\":0,\"ticks\":\"\"}}}],\"scattermapbox\":[{\"type\":\"scattermapbox\",\"marker\":{\"colorbar\":{\"outlinewidth\":0,\"ticks\":\"\"}}}],\"scatterternary\":[{\"type\":\"scatterternary\",\"marker\":{\"colorbar\":{\"outlinewidth\":0,\"ticks\":\"\"}}}],\"scattercarpet\":[{\"type\":\"scattercarpet\",\"marker\":{\"colorbar\":{\"outlinewidth\":0,\"ticks\":\"\"}}}],\"carpet\":[{\"aaxis\":{\"endlinecolor\":\"#2a3f5f\",\"gridcolor\":\"white\",\"linecolor\":\"white\",\"minorgridcolor\":\"white\",\"startlinecolor\":\"#2a3f5f\"},\"baxis\":{\"endlinecolor\":\"#2a3f5f\",\"gridcolor\":\"white\",\"linecolor\":\"white\",\"minorgridcolor\":\"white\",\"startlinecolor\":\"#2a3f5f\"},\"type\":\"carpet\"}],\"table\":[{\"cells\":{\"fill\":{\"color\":\"#EBF0F8\"},\"line\":{\"color\":\"white\"}},\"header\":{\"fill\":{\"color\":\"#C8D4E3\"},\"line\":{\"color\":\"white\"}},\"type\":\"table\"}],\"barpolar\":[{\"marker\":{\"line\":{\"color\":\"#E5ECF6\",\"width\":0.5},\"pattern\":{\"fillmode\":\"overlay\",\"size\":10,\"solidity\":0.2}},\"type\":\"barpolar\"}],\"pie\":[{\"automargin\":true,\"type\":\"pie\"}]},\"layout\":{\"autotypenumbers\":\"strict\",\"colorway\":[\"#636efa\",\"#EF553B\",\"#00cc96\",\"#ab63fa\",\"#FFA15A\",\"#19d3f3\",\"#FF6692\",\"#B6E880\",\"#FF97FF\",\"#FECB52\"],\"font\":{\"color\":\"#2a3f5f\"},\"hovermode\":\"closest\",\"hoverlabel\":{\"align\":\"left\"},\"paper_bgcolor\":\"white\",\"plot_bgcolor\":\"#E5ECF6\",\"polar\":{\"bgcolor\":\"#E5ECF6\",\"angularaxis\":{\"gridcolor\":\"white\",\"linecolor\":\"white\",\"ticks\":\"\"},\"radialaxis\":{\"gridcolor\":\"white\",\"linecolor\":\"white\",\"ticks\":\"\"}},\"ternary\":{\"bgcolor\":\"#E5ECF6\",\"aaxis\":{\"gridcolor\":\"white\",\"linecolor\":\"white\",\"ticks\":\"\"},\"baxis\":{\"gridcolor\":\"white\",\"linecolor\":\"white\",\"ticks\":\"\"},\"caxis\":{\"gridcolor\":\"white\",\"linecolor\":\"white\",\"ticks\":\"\"}},\"coloraxis\":{\"colorbar\":{\"outlinewidth\":0,\"ticks\":\"\"}},\"colorscale\":{\"sequential\":[[0.0,\"#0d0887\"],[0.1111111111111111,\"#46039f\"],[0.2222222222222222,\"#7201a8\"],[0.3333333333333333,\"#9c179e\"],[0.4444444444444444,\"#bd3786\"],[0.5555555555555556,\"#d8576b\"],[0.6666666666666666,\"#ed7953\"],[0.7777777777777778,\"#fb9f3a\"],[0.8888888888888888,\"#fdca26\"],[1.0,\"#f0f921\"]],\"sequentialminus\":[[0.0,\"#0d0887\"],[0.1111111111111111,\"#46039f\"],[0.2222222222222222,\"#7201a8\"],[0.3333333333333333,\"#9c179e\"],[0.4444444444444444,\"#bd3786\"],[0.5555555555555556,\"#d8576b\"],[0.6666666666666666,\"#ed7953\"],[0.7777777777777778,\"#fb9f3a\"],[0.8888888888888888,\"#fdca26\"],[1.0,\"#f0f921\"]],\"diverging\":[[0,\"#8e0152\"],[0.1,\"#c51b7d\"],[0.2,\"#de77ae\"],[0.3,\"#f1b6da\"],[0.4,\"#fde0ef\"],[0.5,\"#f7f7f7\"],[0.6,\"#e6f5d0\"],[0.7,\"#b8e186\"],[0.8,\"#7fbc41\"],[0.9,\"#4d9221\"],[1,\"#276419\"]]},\"xaxis\":{\"gridcolor\":\"white\",\"linecolor\":\"white\",\"ticks\":\"\",\"title\":{\"standoff\":15},\"zerolinecolor\":\"white\",\"automargin\":true,\"zerolinewidth\":2},\"yaxis\":{\"gridcolor\":\"white\",\"linecolor\":\"white\",\"ticks\":\"\",\"title\":{\"standoff\":15},\"zerolinecolor\":\"white\",\"automargin\":true,\"zerolinewidth\":2},\"scene\":{\"xaxis\":{\"backgroundcolor\":\"#E5ECF6\",\"gridcolor\":\"white\",\"linecolor\":\"white\",\"showbackground\":true,\"ticks\":\"\",\"zerolinecolor\":\"white\",\"gridwidth\":2},\"yaxis\":{\"backgroundcolor\":\"#E5ECF6\",\"gridcolor\":\"white\",\"linecolor\":\"white\",\"showbackground\":true,\"ticks\":\"\",\"zerolinecolor\":\"white\",\"gridwidth\":2},\"zaxis\":{\"backgroundcolor\":\"#E5ECF6\",\"gridcolor\":\"white\",\"linecolor\":\"white\",\"showbackground\":true,\"ticks\":\"\",\"zerolinecolor\":\"white\",\"gridwidth\":2}},\"shapedefaults\":{\"line\":{\"color\":\"#2a3f5f\"}},\"annotationdefaults\":{\"arrowcolor\":\"#2a3f5f\",\"arrowhead\":0,\"arrowwidth\":1},\"geo\":{\"bgcolor\":\"white\",\"landcolor\":\"#E5ECF6\",\"subunitcolor\":\"white\",\"showland\":true,\"showlakes\":true,\"lakecolor\":\"white\"},\"title\":{\"x\":0.05},\"mapbox\":{\"style\":\"light\"}}},\"xaxis\":{\"anchor\":\"y\",\"domain\":[0.0,1.0],\"title\":{\"text\":\"category\"}},\"yaxis\":{\"anchor\":\"x\",\"domain\":[0.0,1.0],\"title\":{\"text\":\"title\"}},\"legend\":{\"tracegroupgap\":0},\"margin\":{\"t\":60},\"barmode\":\"relative\"},                        {\"responsive\": true}                    ).then(function(){\n",
       "                            \n",
       "var gd = document.getElementById('df196484-9fb7-462c-9d5e-8601ea614e32');\n",
       "var x = new MutationObserver(function (mutations, observer) {{\n",
       "        var display = window.getComputedStyle(gd).display;\n",
       "        if (!display || display === 'none') {{\n",
       "            console.log([gd, 'removed!']);\n",
       "            Plotly.purge(gd);\n",
       "            observer.disconnect();\n",
       "        }}\n",
       "}});\n",
       "\n",
       "// Listen for the removal of the full notebook cells\n",
       "var notebookContainer = gd.closest('#notebook-container');\n",
       "if (notebookContainer) {{\n",
       "    x.observe(notebookContainer, {childList: true});\n",
       "}}\n",
       "\n",
       "// Listen for the clearing of the current output cell\n",
       "var outputEl = gd.closest('.output');\n",
       "if (outputEl) {{\n",
       "    x.observe(outputEl, {childList: true});\n",
       "}}\n",
       "\n",
       "                        })                };                });            </script>        </div>"
      ]
     },
     "metadata": {},
     "output_type": "display_data"
    }
   ],
   "source": [
    "px.bar(count_df[count_df['title']>max(count_df['title'])/2],x='category',y='title')"
   ]
  },
  {
   "cell_type": "code",
   "execution_count": 26,
   "id": "d26a5cde",
   "metadata": {},
   "outputs": [],
   "source": [
    "class RawDataProcessor:\n",
    "    def __init__(self, \n",
    "                 dataset, \n",
    "                 ignore_header=True, \n",
    "                 filters=None, \n",
    "                 vocab_size=50000):\n",
    "        if filters:\n",
    "            self.filters = filters\n",
    "        else:\n",
    "            self.filters = [ #We set some filters\n",
    "                lambda s: s.lower(),\n",
    "                preprocessing.strip_tags,\n",
    "                preprocessing.strip_punctuation,\n",
    "                preprocessing.strip_multiple_whitespaces,\n",
    "                preprocessing.strip_numeric,\n",
    "                preprocessing.remove_stopwords,\n",
    "                preprocessing.strip_short,\n",
    "            ]\n",
    "\n",
    "        self.dictionary = corpora.Dictionary(\n",
    "            dataset[\"title\"].map(self._preprocess_string).tolist()\n",
    "        )\n",
    "        \n",
    "\n",
    "        self.dictionary.filter_extremes(no_below=2, no_above=1, keep_n=vocab_size)\n",
    "        self.dictionary.compactify()\n",
    "\n",
    "        self.dictionary.patch_with_special_tokens({\n",
    "            \"[PAD]\": 0,\n",
    "            \"[UNK]\": 1 \n",
    "        })\n",
    "        \n",
    "        self.idx_to_target = sorted(dataset[\"category\"].unique())\n",
    "        self.target_to_idx = {t: i for i, t in enumerate(self.idx_to_target)}\n",
    "        \n",
    "\n",
    "    def _preprocess_string(self, string):\n",
    "        return preprocessing.preprocess_string(string, filters=self.filters)\n",
    "\n",
    "    def _sentence_to_indices(self, sentence):\n",
    "        return self.dictionary.doc2idx(sentence, unknown_word_index=1)\n",
    "    \n",
    "    def encode_data(self, data):\n",
    "        return self._sentence_to_indices(self._preprocess_string(data))\n",
    "    \n",
    "    def encode_target(self, target):\n",
    "        return self.target_to_idx[target]\n",
    "    \n",
    "    def __call__(self, item):\n",
    "        #Encodeamos tanto los datos como los targets, diferenciandos los casos cuando son strings y cuando no\n",
    "        if isinstance(item[\"data\"], str): \n",
    "            data = self.encode_data(item[\"data\"])\n",
    "        else:\n",
    "            data = [self.encode_data(d) for d in item[\"data\"]]\n",
    "        \n",
    "        if isinstance(item[\"target\"], str):\n",
    "            target = self.encode_target(item[\"target\"])\n",
    "        else:\n",
    "            target = [self.encode_target(t) for t in item[\"target\"]]\n",
    "        \n",
    "        return {\n",
    "            \"data\": data,\n",
    "            \"target\": target\n",
    "        }"
   ]
  },
  {
   "cell_type": "code",
   "execution_count": 27,
   "id": "81cbd8fe",
   "metadata": {},
   "outputs": [],
   "source": [
    "class MyDataset(Dataset):\n",
    "    def __init__(self, dataset, transform):\n",
    "        self.dataset = dataset\n",
    "        self.transform = transform\n",
    "    \n",
    "    def __len__(self):\n",
    "        return self.dataset.shape[0]\n",
    "\n",
    "    def __getitem__(self, item):\n",
    "        if torch.is_tensor(item):\n",
    "            item = item.to_list()\n",
    "        \n",
    "        item = {\n",
    "            \"data\": self.dataset.loc[item, \"title\"],\n",
    "            \"target\": self.dataset.loc[item, \"category\"]\n",
    "        }\n",
    "        \n",
    "        if self.transform:\n",
    "            item = self.transform(item)\n",
    "        \n",
    "        return item"
   ]
  },
  {
   "cell_type": "code",
   "execution_count": 28,
   "id": "838e50b8",
   "metadata": {},
   "outputs": [
    {
     "name": "stdout",
     "output_type": "stream",
     "text": [
      "Datasets loaded with 2000000\n",
      "training elements and 2000000 test elements\n",
      "validation elements and 1223820 test elements\n",
      "test elements and 63680 test elements\n",
      "Sample train element:\n",
      "{'data': [50001, 2, 50000, 3], 'target': 188}\n"
     ]
    }
   ],
   "source": [
    "preprocess_train = RawDataProcessor(train_df_short)\n",
    "train_dataset = MyDataset(train_df_short, transform=preprocess_train)\n",
    "\n",
    "\n",
    "preprocess_validation = RawDataProcessor(validation_df)\n",
    "validation_dataset = MyDataset(validation_df, transform=preprocess_validation)\n",
    "\n",
    "\n",
    "preprocess_test = RawDataProcessor(test_df)\n",
    "test_dataset = MyDataset(test_df, transform=preprocess_test)\n",
    "\n",
    "print(f\"Datasets loaded with {len(train_dataset)}\")\n",
    "\n",
    "print(f\"training elements and {len(train_dataset)} test elements\")\n",
    "print(f\"validation elements and {len(validation_dataset)} test elements\")\n",
    "print(f\"test elements and {len(test_dataset)} test elements\")\n",
    "\n",
    "print(f\"Sample train element:\\n{train_dataset[0]}\")"
   ]
  },
  {
   "cell_type": "code",
   "execution_count": 29,
   "id": "3ab81711",
   "metadata": {},
   "outputs": [],
   "source": [
    "class PadSequences:\n",
    "    def __init__(self, pad_value=0, max_length=None, min_length=1):\n",
    "        assert max_length is None or min_length <= max_length\n",
    "        self.pad_value = pad_value\n",
    "        self.max_length = max_length\n",
    "        self.min_length = min_length\n",
    "\n",
    "    def __call__(self, items):\n",
    "        data, target = list(zip(*[(item[\"data\"], item[\"target\"]) for item in items]))\n",
    "        seq_lengths = [len(d) for d in data]\n",
    "\n",
    "        if self.max_length:\n",
    "            max_length = self.max_length\n",
    "            seq_lengths = [min(self.max_length, l) for l in seq_lengths]\n",
    "        else:\n",
    "            max_length = max(self.min_length, max(seq_lengths))\n",
    "\n",
    "        data = [d[:l] + [self.pad_value] * (max_length - l)\n",
    "                for d, l in zip(data, seq_lengths)]\n",
    "            \n",
    "        return {\n",
    "            \"data\": torch.LongTensor(data),\n",
    "            \"target\": torch.FloatTensor(target)\n",
    "        }"
   ]
  },
  {
   "cell_type": "code",
   "execution_count": 30,
   "id": "58356395",
   "metadata": {},
   "outputs": [],
   "source": [
    "pad_sequences = PadSequences()\n",
    "\n",
    "train_loader = DataLoader(train_dataset, batch_size=128, shuffle=True,collate_fn=pad_sequences, drop_last=False, num_workers=0)\n",
    "validation_loader = DataLoader(validation_dataset, batch_size=128, shuffle=True,collate_fn=pad_sequences, drop_last=False, num_workers=0)\n",
    "test_loader = DataLoader(test_dataset, batch_size=128, shuffle=False,collate_fn=pad_sequences, drop_last=False, num_workers=0)"
   ]
  },
  {
   "cell_type": "code",
   "execution_count": 32,
   "id": "f61720b6",
   "metadata": {},
   "outputs": [],
   "source": [
    "class MLPmodelo(nn.Module):\n",
    "    def __init__(self, \n",
    "                 pretrained_embeddings_path, \n",
    "                 dictionary,\n",
    "                 vector_size,\n",
    "                 freeze_embedings):\n",
    "        super().__init__()\n",
    "        embeddings_matrix = torch.randn(len(dictionary), vector_size)\n",
    "        embeddings_matrix[0] = torch.zeros(vector_size)\n",
    "        with bz2.open(pretrained_embeddings_path, \"rt\") as fh:\n",
    "            for line in fh:\n",
    "                word, vector = line.strip().split(None, 1)\n",
    "                if word in dictionary.token2id:\n",
    "                    embeddings_matrix[dictionary.token2id[word]] =\\\n",
    "                        torch.FloatTensor([float(n) for n in vector.split()])\n",
    "        self.embeddings = nn.Embedding.from_pretrained(embeddings_matrix,\n",
    "                                                       freeze=freeze_embedings,\n",
    "                                                       padding_idx=0)\n",
    "        \n",
    "        self.hidden1 = nn.Linear(vector_size, 256)\n",
    "        self.hidden2 = nn.Linear(256, 256)\n",
    "        self.hidden3 = nn.Linear(256, 256)\n",
    "        self.output = nn.Linear(256, 632)\n",
    "        self.vector_size = vector_size\n",
    "    \n",
    "    def forward(self, x):\n",
    "        x = self.embeddings(x)\n",
    "        x = torch.mean(x, dim=1)\n",
    "        x = F.relu(self.hidden1(x))\n",
    "        x = F.relu(self.hidden2(x))\n",
    "        x = F.relu(self.hidden3(x))\n",
    "        x = self.output(x)\n",
    "        \n",
    "        \n",
    "        return x"
   ]
  },
  {
   "cell_type": "code",
   "execution_count": 33,
   "id": "ef9b049c",
   "metadata": {},
   "outputs": [
    {
     "name": "stdout",
     "output_type": "stream",
     "text": [
      "cuda:0\n"
     ]
    }
   ],
   "source": [
    "device = torch.device(\"cuda:0\" if torch.cuda.is_available() else \"cpu\")\n",
    "print(device)"
   ]
  },
  {
   "cell_type": "code",
   "execution_count": 35,
   "id": "518a5537",
   "metadata": {},
   "outputs": [
    {
     "data": {
      "application/vnd.jupyter.widget-view+json": {
       "model_id": "b37077a8de4648d2ad39c4e04438946c",
       "version_major": 2,
       "version_minor": 0
      },
      "text/plain": [
       "  0%|          | 0/15625 [00:00<?, ?it/s]"
      ]
     },
     "metadata": {},
     "output_type": "display_data"
    },
    {
     "name": "stdout",
     "output_type": "stream",
     "text": [
      "2.973989295196533\n"
     ]
    },
    {
     "data": {
      "application/vnd.jupyter.widget-view+json": {
       "model_id": "4246a2c8832944a7b6801c3efe0f9920",
       "version_major": 2,
       "version_minor": 0
      },
      "text/plain": [
       "  0%|          | 0/9562 [00:00<?, ?it/s]"
      ]
     },
     "metadata": {},
     "output_type": "display_data"
    },
    {
     "data": {
      "application/vnd.jupyter.widget-view+json": {
       "model_id": "24d77630525c42868c9c333f0365544d",
       "version_major": 2,
       "version_minor": 0
      },
      "text/plain": [
       "  0%|          | 0/15625 [00:00<?, ?it/s]"
      ]
     },
     "metadata": {},
     "output_type": "display_data"
    },
    {
     "name": "stdout",
     "output_type": "stream",
     "text": [
      "1.9941034830856323\n"
     ]
    },
    {
     "data": {
      "application/vnd.jupyter.widget-view+json": {
       "model_id": "6da0488cdb9c4ac39045ce6216d4d8e3",
       "version_major": 2,
       "version_minor": 0
      },
      "text/plain": [
       "  0%|          | 0/9562 [00:00<?, ?it/s]"
      ]
     },
     "metadata": {},
     "output_type": "display_data"
    }
   ],
   "source": [
    "EPOCHS = 2\n",
    "\n",
    "\n",
    "with mlflow.start_run():\n",
    "    \n",
    "    mlflow.log_param(\"model_name\", \"MLPmodelo\")\n",
    "    mlflow.log_param(\"freeze_embedding\", True)\n",
    "    mlflow.log_params({\n",
    "        \"embedding_size\": 300,\n",
    "        \"hidden1_size\": 256,\n",
    "        \"hidden2_size\": 256,\n",
    "        \"hidden3_size\": 256\n",
    "    })\n",
    "    \n",
    "    model = MLPmodelo(\"./data/SBW-vectors-300-min5.txt.bz2\",preprocess_train.dictionary, 300, True)\n",
    "    model.to(device)\n",
    "    \n",
    "    loss = nn.CrossEntropyLoss()\n",
    "    \n",
    "    optimizer = optim.Adam(model.parameters(), lr=1e-3, weight_decay=1e-5)\n",
    "    \n",
    "    for epoch in range(EPOCHS):\n",
    "        \n",
    "        model.train()\n",
    "        running_loss = []\n",
    "        \n",
    "        for idx, batch in enumerate(tqdm(train_loader)):\n",
    "            \n",
    "            inputs = batch[\"data\"].to(device)\n",
    "            labels = batch[\"target\"].squeeze().long() #aqui si no le pongo .squeeze().long() da el siguiente error:\n",
    "            #\"nll_loss_forward_reduce_cuda_kernel_2d_index\" not implemented for 'Float'\n",
    "            labels = labels.to(device)\n",
    "            \n",
    "            optimizer.zero_grad()\n",
    "            output = model(inputs)\n",
    "            loss_value = loss(output,labels)\n",
    "            loss_value.backward()\n",
    "            optimizer.step()\n",
    "            running_loss.append(loss_value.item())           \n",
    "        \n",
    "        mlflow.log_metric(\"train_loss\", sum(running_loss) / len(running_loss), epoch)\n",
    "        print(sum(running_loss) / len(running_loss))\n",
    "        \n",
    "        \n",
    "        model.eval()\n",
    "        running_loss = []\n",
    "        targets = []\n",
    "        predictions = []\n",
    "        \n",
    "        for idx, batch in enumerate(tqdm(validation_loader)):\n",
    "                        \n",
    "            inputs1 = batch[\"data\"].to(device)\n",
    "            labels1 = batch[\"target\"].squeeze().long()\n",
    "            labels1 = labels1.to(device)\n",
    "            \n",
    "            output = model(inputs1)\n",
    "            running_loss.append(\n",
    "                loss(output, labels1).item()\n",
    "            )\n",
    "\n",
    "            _, predicted = torch.max(output.data, 1)\n",
    "\n",
    "            targets.extend(labels.cpu().numpy())\n",
    "            predictions.extend(predicted.cpu().numpy())\n",
    "\n",
    "            \n",
    "        mlflow.log_metric(\"val_loss\", sum(running_loss) / len(running_loss), epoch)\n",
    "        ##todo esto da el siguiente error:Found input variables with inconsistent numbers of samples: [1223936, 1223820]\n",
    "        #mlflow.log_metric(\"val_bal_acc\", balanced_accuracy_score(targets, predictions), epoch)\n",
    "        #mlflow.log_metric('f1',f1_score(targets, predictions, average='macro'))\n",
    "        #mlflow.log_metric('accuracy',accuracy_score(targets, predictions))"
   ]
  },
  {
   "cell_type": "code",
   "execution_count": 36,
   "id": "34be859b",
   "metadata": {},
   "outputs": [
    {
     "name": "stdout",
     "output_type": "stream",
     "text": [
      "MLPmodelo(\n",
      "  (embeddings): Embedding(50002, 300, padding_idx=0)\n",
      "  (hidden1): Linear(in_features=300, out_features=256, bias=True)\n",
      "  (hidden2): Linear(in_features=256, out_features=256, bias=True)\n",
      "  (hidden3): Linear(in_features=256, out_features=256, bias=True)\n",
      "  (output): Linear(in_features=256, out_features=632, bias=True)\n",
      ")\n"
     ]
    }
   ],
   "source": [
    "print(model)"
   ]
  },
  {
   "cell_type": "code",
   "execution_count": 37,
   "id": "bcf0f187",
   "metadata": {},
   "outputs": [
    {
     "data": {
      "text/html": [
       "<div>\n",
       "<style scoped>\n",
       "    .dataframe tbody tr th:only-of-type {\n",
       "        vertical-align: middle;\n",
       "    }\n",
       "\n",
       "    .dataframe tbody tr th {\n",
       "        vertical-align: top;\n",
       "    }\n",
       "\n",
       "    .dataframe thead th {\n",
       "        text-align: right;\n",
       "    }\n",
       "</style>\n",
       "<table border=\"1\" class=\"dataframe\">\n",
       "  <thead>\n",
       "    <tr style=\"text-align: right;\">\n",
       "      <th></th>\n",
       "      <th>run_id</th>\n",
       "      <th>experiment_id</th>\n",
       "      <th>status</th>\n",
       "      <th>artifact_uri</th>\n",
       "      <th>start_time</th>\n",
       "      <th>end_time</th>\n",
       "      <th>metrics.train_loss</th>\n",
       "      <th>metrics.val_loss</th>\n",
       "      <th>params.hidden3_size</th>\n",
       "      <th>params.hidden1_size</th>\n",
       "      <th>params.embedding_size</th>\n",
       "      <th>params.model_name</th>\n",
       "      <th>params.hidden2_size</th>\n",
       "      <th>params.freeze_embedding</th>\n",
       "      <th>tags.mlflow.user</th>\n",
       "      <th>tags.mlflow.source.name</th>\n",
       "      <th>tags.mlflow.source.type</th>\n",
       "    </tr>\n",
       "  </thead>\n",
       "  <tbody>\n",
       "    <tr>\n",
       "      <th>0</th>\n",
       "      <td>fc9e67ab7de642a5b371c7a1c9039378</td>\n",
       "      <td>6</td>\n",
       "      <td>FINISHED</td>\n",
       "      <td>file:///users/lguedez/AprendizajeProfundo_Alej...</td>\n",
       "      <td>2022-10-23 19:36:08.391000+00:00</td>\n",
       "      <td>2022-10-23 19:47:59.083000+00:00</td>\n",
       "      <td>1.994103</td>\n",
       "      <td>10.437089</td>\n",
       "      <td>256</td>\n",
       "      <td>256</td>\n",
       "      <td>300</td>\n",
       "      <td>MLPmodelo</td>\n",
       "      <td>256</td>\n",
       "      <td>True</td>\n",
       "      <td>lguedez</td>\n",
       "      <td>/users/lguedez/miniconda3/envs/deeplearning/li...</td>\n",
       "      <td>LOCAL</td>\n",
       "    </tr>\n",
       "    <tr>\n",
       "      <th>1</th>\n",
       "      <td>01f949e4adce44038ec9ce09050a0a32</td>\n",
       "      <td>6</td>\n",
       "      <td>FAILED</td>\n",
       "      <td>file:///users/lguedez/AprendizajeProfundo_Alej...</td>\n",
       "      <td>2022-10-23 19:29:35.936000+00:00</td>\n",
       "      <td>2022-10-23 19:32:22.444000+00:00</td>\n",
       "      <td>NaN</td>\n",
       "      <td>NaN</td>\n",
       "      <td>256</td>\n",
       "      <td>256</td>\n",
       "      <td>300</td>\n",
       "      <td>MLPmodelo</td>\n",
       "      <td>256</td>\n",
       "      <td>True</td>\n",
       "      <td>lguedez</td>\n",
       "      <td>/users/lguedez/miniconda3/envs/deeplearning/li...</td>\n",
       "      <td>LOCAL</td>\n",
       "    </tr>\n",
       "  </tbody>\n",
       "</table>\n",
       "</div>"
      ],
      "text/plain": [
       "                             run_id experiment_id    status  \\\n",
       "0  fc9e67ab7de642a5b371c7a1c9039378             6  FINISHED   \n",
       "1  01f949e4adce44038ec9ce09050a0a32             6    FAILED   \n",
       "\n",
       "                                        artifact_uri  \\\n",
       "0  file:///users/lguedez/AprendizajeProfundo_Alej...   \n",
       "1  file:///users/lguedez/AprendizajeProfundo_Alej...   \n",
       "\n",
       "                        start_time                         end_time  \\\n",
       "0 2022-10-23 19:36:08.391000+00:00 2022-10-23 19:47:59.083000+00:00   \n",
       "1 2022-10-23 19:29:35.936000+00:00 2022-10-23 19:32:22.444000+00:00   \n",
       "\n",
       "   metrics.train_loss  metrics.val_loss params.hidden3_size  \\\n",
       "0            1.994103         10.437089                 256   \n",
       "1                 NaN               NaN                 256   \n",
       "\n",
       "  params.hidden1_size params.embedding_size params.model_name  \\\n",
       "0                 256                   300         MLPmodelo   \n",
       "1                 256                   300         MLPmodelo   \n",
       "\n",
       "  params.hidden2_size params.freeze_embedding tags.mlflow.user  \\\n",
       "0                 256                    True          lguedez   \n",
       "1                 256                    True          lguedez   \n",
       "\n",
       "                             tags.mlflow.source.name tags.mlflow.source.type  \n",
       "0  /users/lguedez/miniconda3/envs/deeplearning/li...                   LOCAL  \n",
       "1  /users/lguedez/miniconda3/envs/deeplearning/li...                   LOCAL  "
      ]
     },
     "execution_count": 37,
     "metadata": {},
     "output_type": "execute_result"
    }
   ],
   "source": [
    "mlflow.search_runs()\n",
    "# mlflow.search_runs(experiment_ids='1', filter_string= 'metrics.score_iris > 0.1').head()"
   ]
  },
  {
   "cell_type": "code",
   "execution_count": 40,
   "id": "3d79cbf3",
   "metadata": {},
   "outputs": [],
   "source": [
    "EPOCHS = 2\n",
    "FILTERS_COUNT = 100\n",
    "FILTERS_LENGTH = [2, 3, 4]"
   ]
  },
  {
   "cell_type": "code",
   "execution_count": 41,
   "id": "48ad0779",
   "metadata": {},
   "outputs": [],
   "source": [
    "class NNClassifier(nn.Module):\n",
    "    def __init__(self, \n",
    "                 pretrained_embeddings_path, \n",
    "                 dictionary,\n",
    "                 vector_size,\n",
    "                 freeze_embedings):\n",
    "        n_labels = 632,\n",
    "        hidden_layers=[256, 128],\n",
    "        dropout=0.3\n",
    "        super().__init__()\n",
    "        embeddings_matrix = torch.randn(len(dictionary), vector_size)\n",
    "        embeddings_matrix[0] = torch.zeros(vector_size)\n",
    "        with bz2.open(pretrained_embeddings_path, \"rt\") as fh:\n",
    "            for line in fh:\n",
    "                word, vector = line.strip().split(None, 1)\n",
    "                if word in dictionary.token2id:\n",
    "                    embeddings_matrix[dictionary.token2id[word]] =\\\n",
    "                        torch.FloatTensor([float(n) for n in vector.split()])\n",
    "        self.embeddings = nn.Embedding.from_pretrained(embeddings_matrix,\n",
    "                                                       freeze=freeze_embedings,\n",
    "                                                       padding_idx=0)\n",
    "        self.convs = []\n",
    "        for filter_lenght in FILTERS_LENGTH:\n",
    "            self.convs.append(nn.Conv1d(vector_size, FILTERS_COUNT, filter_lenght))\n",
    "            self.convs = nn.ModuleList(self.convs)\n",
    "            self.fc = nn.Linear(FILTERS_COUNT * len(FILTERS_LENGTH), 128)\n",
    "            self.output = nn.Linear(128, 1)\n",
    "            self.vector_size = vector_size\n",
    "\n",
    "        @staticmethod\n",
    "        def conv_global_max_pool(x, conv):\n",
    "            return F.relu(conv(x).transpose(1, 2).max(1)[0])\n",
    "\n",
    "        def forward(self, x):\n",
    "            x = self.embeddings(x).transpose(1, 2)  # Conv1d takes (batch, channel, seq_len)\n",
    "            x = [self.conv_global_max_pool(x, conv) for conv in self.convs]\n",
    "            x = torch.cat(x, dim=1)\n",
    "            x = F.relu(self.fc(x))\n",
    "            x = torch.sigmoid(self.output(x))\n",
    "            return x"
   ]
  },
  {
   "cell_type": "code",
   "execution_count": 43,
   "id": "d6793ad6",
   "metadata": {},
   "outputs": [
    {
     "data": {
      "application/vnd.jupyter.widget-view+json": {
       "model_id": "325031318af645a0a15a11ca0c523b56",
       "version_major": 2,
       "version_minor": 0
      },
      "text/plain": [
       "  0%|          | 0/15625 [00:00<?, ?it/s]"
      ]
     },
     "metadata": {},
     "output_type": "display_data"
    },
    {
     "ename": "NotImplementedError",
     "evalue": "",
     "output_type": "error",
     "traceback": [
      "\u001b[0;31m---------------------------------------------------------------------------\u001b[0m",
      "\u001b[0;31mNotImplementedError\u001b[0m                       Traceback (most recent call last)",
      "\u001b[0;32m/tmp/ipykernel_1582189/316994972.py\u001b[0m in \u001b[0;36m<module>\u001b[0;34m\u001b[0m\n\u001b[1;32m     22\u001b[0m \u001b[0;34m\u001b[0m\u001b[0m\n\u001b[1;32m     23\u001b[0m             \u001b[0moptimizer\u001b[0m\u001b[0;34m.\u001b[0m\u001b[0mzero_grad\u001b[0m\u001b[0;34m(\u001b[0m\u001b[0;34m)\u001b[0m\u001b[0;34m\u001b[0m\u001b[0;34m\u001b[0m\u001b[0m\n\u001b[0;32m---> 24\u001b[0;31m             \u001b[0moutput\u001b[0m \u001b[0;34m=\u001b[0m \u001b[0mmodel\u001b[0m\u001b[0;34m(\u001b[0m\u001b[0minputs\u001b[0m\u001b[0;34m)\u001b[0m\u001b[0;34m\u001b[0m\u001b[0;34m\u001b[0m\u001b[0m\n\u001b[0m\u001b[1;32m     25\u001b[0m             \u001b[0mloss_value\u001b[0m \u001b[0;34m=\u001b[0m \u001b[0mloss\u001b[0m\u001b[0;34m(\u001b[0m\u001b[0moutput\u001b[0m\u001b[0;34m,\u001b[0m\u001b[0mlabels\u001b[0m\u001b[0;34m)\u001b[0m\u001b[0;34m\u001b[0m\u001b[0;34m\u001b[0m\u001b[0m\n\u001b[1;32m     26\u001b[0m             \u001b[0mloss_value\u001b[0m\u001b[0;34m.\u001b[0m\u001b[0mbackward\u001b[0m\u001b[0;34m(\u001b[0m\u001b[0;34m)\u001b[0m\u001b[0;34m\u001b[0m\u001b[0;34m\u001b[0m\u001b[0m\n",
      "\u001b[0;32m~/miniconda3/envs/deeplearning/lib/python3.9/site-packages/torch/nn/modules/module.py\u001b[0m in \u001b[0;36m_call_impl\u001b[0;34m(self, *input, **kwargs)\u001b[0m\n\u001b[1;32m   1100\u001b[0m         if not (self._backward_hooks or self._forward_hooks or self._forward_pre_hooks or _global_backward_hooks\n\u001b[1;32m   1101\u001b[0m                 or _global_forward_hooks or _global_forward_pre_hooks):\n\u001b[0;32m-> 1102\u001b[0;31m             \u001b[0;32mreturn\u001b[0m \u001b[0mforward_call\u001b[0m\u001b[0;34m(\u001b[0m\u001b[0;34m*\u001b[0m\u001b[0minput\u001b[0m\u001b[0;34m,\u001b[0m \u001b[0;34m**\u001b[0m\u001b[0mkwargs\u001b[0m\u001b[0;34m)\u001b[0m\u001b[0;34m\u001b[0m\u001b[0;34m\u001b[0m\u001b[0m\n\u001b[0m\u001b[1;32m   1103\u001b[0m         \u001b[0;31m# Do not call functions when jit is used\u001b[0m\u001b[0;34m\u001b[0m\u001b[0;34m\u001b[0m\u001b[0;34m\u001b[0m\u001b[0m\n\u001b[1;32m   1104\u001b[0m         \u001b[0mfull_backward_hooks\u001b[0m\u001b[0;34m,\u001b[0m \u001b[0mnon_full_backward_hooks\u001b[0m \u001b[0;34m=\u001b[0m \u001b[0;34m[\u001b[0m\u001b[0;34m]\u001b[0m\u001b[0;34m,\u001b[0m \u001b[0;34m[\u001b[0m\u001b[0;34m]\u001b[0m\u001b[0;34m\u001b[0m\u001b[0;34m\u001b[0m\u001b[0m\n",
      "\u001b[0;32m~/miniconda3/envs/deeplearning/lib/python3.9/site-packages/torch/nn/modules/module.py\u001b[0m in \u001b[0;36m_forward_unimplemented\u001b[0;34m(self, *input)\u001b[0m\n\u001b[1;32m    199\u001b[0m         \u001b[0mregistered\u001b[0m \u001b[0mhooks\u001b[0m \u001b[0;32mwhile\u001b[0m \u001b[0mthe\u001b[0m \u001b[0mlatter\u001b[0m \u001b[0msilently\u001b[0m \u001b[0mignores\u001b[0m \u001b[0mthem\u001b[0m\u001b[0;34m.\u001b[0m\u001b[0;34m\u001b[0m\u001b[0;34m\u001b[0m\u001b[0m\n\u001b[1;32m    200\u001b[0m     \"\"\"\n\u001b[0;32m--> 201\u001b[0;31m     \u001b[0;32mraise\u001b[0m \u001b[0mNotImplementedError\u001b[0m\u001b[0;34m\u001b[0m\u001b[0;34m\u001b[0m\u001b[0m\n\u001b[0m\u001b[1;32m    202\u001b[0m \u001b[0;34m\u001b[0m\u001b[0m\n\u001b[1;32m    203\u001b[0m \u001b[0;34m\u001b[0m\u001b[0m\n",
      "\u001b[0;31mNotImplementedError\u001b[0m: "
     ]
    }
   ],
   "source": [
    "mlflow.set_experiment(\"NNClassifier experiment\")\n",
    "\n",
    "with mlflow.start_run():\n",
    "    \n",
    "    model = NNClassifier(\"./data/SBW-vectors-300-min5.txt.bz2\",preprocess_train.dictionary, 300, True)\n",
    "    \n",
    "    model = model.to(device)\n",
    "    loss = nn.CrossEntropyLoss()\n",
    "    optimizer = optim.Adam(model.parameters(),lr=1e-3,weight_decay=1e-5)\n",
    "\n",
    "    for epoch in range(EPOCHS):\n",
    "        \n",
    "        model.train()\n",
    "        running_loss = []\n",
    "        \n",
    "        for idx, batch in enumerate(tqdm(train_loader)):\n",
    "            \n",
    "            inputs = batch[\"data\"].to(device)\n",
    "            labels = batch[\"target\"].squeeze().long() #aqui si no le pongo .squeeze().long() da el siguiente error:\n",
    "            #\"nll_loss_forward_reduce_cuda_kernel_2d_index\" not implemented for 'Float'\n",
    "            labels = labels.to(device)\n",
    "            \n",
    "            optimizer.zero_grad()\n",
    "            output = model(inputs)\n",
    "            loss_value = loss(output,labels)\n",
    "            loss_value.backward()\n",
    "            optimizer.step()\n",
    "            running_loss.append(loss_value.item())           \n",
    "        \n",
    "        mlflow.log_metric(\"train_loss\", sum(running_loss) / len(running_loss), epoch)\n",
    "        print(sum(running_loss) / len(running_loss))\n",
    "        \n",
    "            \n",
    "        model.eval()\n",
    "        running_loss = []\n",
    "        targets = []\n",
    "        predictions = []\n",
    "        \n",
    "        for idx, batch in enumerate(tqdm(validation_loader)):\n",
    "                        \n",
    "            inputs1 = batch[\"data\"].to(device)\n",
    "            labels1 = batch[\"target\"].squeeze().long()\n",
    "            labels1 = labels1.to(device)\n",
    "            \n",
    "            output = model(inputs1)\n",
    "            running_loss.append(\n",
    "                loss(output, labels1).item()\n",
    "            )\n",
    "\n",
    "            _, predicted = torch.max(output.data, 1)\n",
    "\n",
    "            targets.extend(labels.cpu().numpy())\n",
    "            predictions.extend(predicted.cpu().numpy())\n",
    "\n",
    "            \n",
    "        mlflow.log_metric(\"val_loss\", sum(running_loss) / len(running_loss), epoch) "
   ]
  }
 ],
 "metadata": {
  "kernelspec": {
   "display_name": "Python 3 (ipykernel)",
   "language": "python",
   "name": "python3"
  },
  "language_info": {
   "codemirror_mode": {
    "name": "ipython",
    "version": 3
   },
   "file_extension": ".py",
   "mimetype": "text/x-python",
   "name": "python",
   "nbconvert_exporter": "python",
   "pygments_lexer": "ipython3",
   "version": "3.9.5"
  }
 },
 "nbformat": 4,
 "nbformat_minor": 5
}
