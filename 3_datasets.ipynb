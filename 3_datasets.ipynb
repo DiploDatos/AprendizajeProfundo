{
 "cells": [
  {
   "cell_type": "markdown",
   "metadata": {
    "slideshow": {
     "slide_type": "slide"
    }
   },
   "source": [
    "# Manejo de Datos en PyTorch"
   ]
  },
  {
   "cell_type": "markdown",
   "metadata": {
    "slideshow": {
     "slide_type": "slide"
    }
   },
   "source": [
    "## Librerías"
   ]
  },
  {
   "cell_type": "code",
   "execution_count": 1,
   "metadata": {
    "slideshow": {
     "slide_type": "-"
    }
   },
   "outputs": [],
   "source": [
    "import csv\n",
    "import functools\n",
    "import gzip\n",
    "import numpy as np\n",
    "import pandas as pd\n",
    "import torch\n",
    "import json\n",
    "import tempfile\n",
    "import gzip\n",
    "import json\n",
    "\n",
    "from gensim.models import KeyedVectors\n",
    "from gensim.parsing import preprocessing\n",
    "from torch.utils.data import Dataset, DataLoader, IterableDataset"
   ]
  },
  {
   "cell_type": "markdown",
   "metadata": {
    "slideshow": {
     "slide_type": "slide"
    }
   },
   "source": [
    "## La clase Dataset\n",
    "\n",
    "La clase abstracta [`torch.utils.data.Dataset`](https://pytorch.org/docs/stable/data.html#torch.utils.data.Dataset) es la clase base para construir un dataset de PyTorch. Cualquier dataset personalizado debe heredar de dicha clase e implementar los siguientes métodos:\n",
    "\n",
    "- `__len__`: Para que `len(dataset)` devuelva el tamaño del conjunto de datos.\n",
    "- `__getitem__`: Para soportar indexado de manera que `dataset[i]` devuelva el elemento `i`. Es común que en ciertos casos se utilice este método para levantar el dato real (e.g. una imagen) mientras que lo que se guarde en el dataset sea sólo una referencia a dicho dato (e.g. un path a la imagen). De esta manera se evita cargar muchas imágenes en memoria, haciendo que sea menos demandante a nivel RAM."
   ]
  },
  {
   "cell_type": "code",
   "execution_count": 2,
   "metadata": {
    "slideshow": {
     "slide_type": "subslide"
    }
   },
   "outputs": [
    {
     "name": "stdout",
     "output_type": "stream",
     "text": [
      "Dataset loaded with 50000 elements\n",
      "Sample element:\n",
      "{'data': \"One of the other reviewers has mentioned that after watching just 1 Oz episode you'll be hooked. They are right, as this is exactly what happened with me.<br /><br />The first thing that struck me about Oz was its brutality and unflinching scenes of violence, which set in right from the word GO. Trust me, this is not a show for the faint hearted or timid. This show pulls no punches with regards to drugs, sex or violence. Its is hardcore, in the classic use of the word.<br /><br />It is called OZ as that is the nickname given to the Oswald Maximum Security State Penitentary. It focuses mainly on Emerald City, an experimental section of the prison where all the cells have glass fronts and face inwards, so privacy is not high on the agenda. Em City is home to many..Aryans, Muslims, gangstas, Latinos, Christians, Italians, Irish and more....so scuffles, death stares, dodgy dealings and shady agreements are never far away.<br /><br />I would say the main appeal of the show is due to the fact that it goes where other shows wouldn't dare. Forget pretty pictures painted for mainstream audiences, forget charm, forget romance...OZ doesn't mess around. The first episode I ever saw struck me as so nasty it was surreal, I couldn't say I was ready for it, but as I watched more, I developed a taste for Oz, and got accustomed to the high levels of graphic violence. Not just violence, but injustice (crooked guards who'll be sold out for a nickel, inmates who'll kill on order and get away with it, well mannered, middle class inmates being turned into prison bitches due to their lack of street skills or prison experience) Watching Oz, you may become comfortable with what is uncomfortable viewing....thats if you can get in touch with your darker side.\", 'target': 'positive'}\n"
     ]
    }
   ],
   "source": [
    "class IMDBReviewsDataset(Dataset):\n",
    "    def __init__(self, path, transform=None):\n",
    "        self.dataset = pd.read_csv(path)\n",
    "        self.transform = transform\n",
    "    \n",
    "    def __len__(self):\n",
    "        return self.dataset.shape[0]\n",
    "\n",
    "    def __getitem__(self, item):\n",
    "        if torch.is_tensor(item):\n",
    "            item = item.tolist()  # Deal with list of items instead of tensor\n",
    "        \n",
    "        item = {\n",
    "            \"data\": self.dataset.iloc[item][\"review\"],\n",
    "            \"target\": self.dataset.iloc[item][\"sentiment\"]\n",
    "        }\n",
    "\n",
    "        if self.transform:\n",
    "            item = self.transform(item)\n",
    "        \n",
    "        return item\n",
    "\n",
    "dataset = IMDBReviewsDataset(\"./data/imdb_reviews.csv.gz\")\n",
    "print(f\"Dataset loaded with {len(dataset)} elements\")\n",
    "print(f\"Sample element:\\n{dataset[0]}\")"
   ]
  },
  {
   "cell_type": "markdown",
   "metadata": {
    "slideshow": {
     "slide_type": "slide"
    }
   },
   "source": [
    "## Transformaciones\n",
    "\n",
    "El ejemplo anterior nos muestra el uso básico, pero claramente no podemos pasarle eso a una red neuronal, no puede manejar texto. Es para eso que tenemos que hacer algún tipo de transformación sobre los atributos (en este caso el único atributo es el texto). "
   ]
  },
  {
   "cell_type": "markdown",
   "metadata": {
    "slideshow": {
     "slide_type": "subslide"
    }
   },
   "source": [
    "### Normalización\n",
    "\n",
    "En particular, como vemos en el caso anterior, el texto no está normalizado, parte de las transformaciones pueden incluir realizar algún tipo de normalización. Para eso hagamos uso de [`gensim`](https://radimrehurek.com/gensim/index.html), en particular utilizaremos el módulo [`preprocessing`](https://radimrehurek.com/gensim/parsing/preprocessing.html#module-gensim.parsing.preprocessing) que se encargará de hacer varias normalizaciones por defecto"
   ]
  },
  {
   "cell_type": "code",
   "execution_count": 3,
   "metadata": {
    "slideshow": {
     "slide_type": "subslide"
    }
   },
   "outputs": [
    {
     "name": "stdout",
     "output_type": "stream",
     "text": [
      "{'data': ['reviewers', 'mentioned', 'watching', 'episode', 'hooked', 'right', 'exactly', 'happened', 'thing', 'struck', 'brutality', 'unflinching', 'scenes', 'violence', 'set', 'right', 'word', 'trust', 'faint', 'hearted', 'timid', 'pulls', 'punches', 'regards', 'drugs', 'sex', 'violence', 'hardcore', 'classic', 'use', 'word', 'called', 'nickname', 'given', 'oswald', 'maximum', 'security', 'state', 'penitentary', 'focuses', 'mainly', 'emerald', 'city', 'experimental', 'section', 'prison', 'cells', 'glass', 'fronts', 'face', 'inwards', 'privacy', 'high', 'agenda', 'city', 'home', 'aryans', 'muslims', 'gangstas', 'latinos', 'christians', 'italians', 'irish', 'scuffles', 'death', 'stares', 'dodgy', 'dealings', 'shady', 'agreements', 'far', 'away', 'main', 'appeal', 'fact', 'goes', 'shows', 'wouldn', 'dare', 'forget', 'pretty', 'pictures', 'painted', 'mainstream', 'audiences', 'forget', 'charm', 'forget', 'romance', 'mess', 'episode', 'saw', 'struck', 'nasty', 'surreal', 'couldn', 'ready', 'watched', 'developed', 'taste', 'got', 'accustomed', 'high', 'levels', 'graphic', 'violence', 'violence', 'injustice', 'crooked', 'guards', 'sold', 'nickel', 'inmates', 'kill', 'order', 'away', 'mannered', 'middle', 'class', 'inmates', 'turned', 'prison', 'bitches', 'lack', 'street', 'skills', 'prison', 'experience', 'watching', 'comfortable', 'uncomfortable', 'viewing', 'thats', 'touch', 'darker'], 'target': 1}\n"
     ]
    }
   ],
   "source": [
    "class TextPreprocess:\n",
    "    def __init__(self, filters=None):\n",
    "        if filters:\n",
    "            self.filters = filters\n",
    "        else:\n",
    "            self.filters = [\n",
    "                lambda s: s.lower(),\n",
    "                preprocessing.strip_tags,\n",
    "                preprocessing.strip_punctuation,\n",
    "                preprocessing.strip_multiple_whitespaces,\n",
    "                preprocessing.strip_numeric,\n",
    "                preprocessing.remove_stopwords,\n",
    "                preprocessing.strip_short,\n",
    "            ]\n",
    "        \n",
    "    def _preprocess_string(self, string):\n",
    "        return preprocessing.preprocess_string(string, filters=self.filters)\n",
    "\n",
    "    def _encode_target(self, target):\n",
    "        return 1 if target == \"positive\" else 0\n",
    "\n",
    "    def __call__(self, item):\n",
    "        if isinstance(item[\"data\"], str):\n",
    "            data = self._preprocess_string(item[\"data\"])\n",
    "        else:\n",
    "            data = [self._preprocess_string(d) for d in item[\"data\"]]\n",
    "        \n",
    "        if isinstance(item[\"target\"], str):\n",
    "            target = self._encode_target(item[\"target\"])\n",
    "        else:\n",
    "            target = [self._encode_target(t) for t in item[\"target\"]]\n",
    "        \n",
    "        return {\n",
    "            \"data\": data,\n",
    "            \"target\": target\n",
    "        }\n",
    "\n",
    "preprocess = TextPreprocess()\n",
    "print(preprocess(dataset[0]))"
   ]
  },
  {
   "cell_type": "markdown",
   "metadata": {
    "slideshow": {
     "slide_type": "subslide"
    }
   },
   "source": [
    "### Conversión a vectores\n",
    "\n",
    "Podemos continuar convertiendo el texto en una representación por vectores. Si bien hay muchas posibilidades (siendo la bolsa de palabras una de las más utilizadas), en general para Deep Learning se prefieren representaciones utilizando vectores contínuos, obtenidos por algún método del estilo de Word2Vec, Glove o FastText. Para este caso utilizaremos las representaciones de Glove de dimensión 50 que se dejaron para descargar en el [notebook 0](./0_set_up.ipynb)."
   ]
  },
  {
   "cell_type": "code",
   "execution_count": 4,
   "metadata": {
    "slideshow": {
     "slide_type": "subslide"
    }
   },
   "outputs": [
    {
     "data": {
      "text/plain": [
       "{'data': array([[-0.18105   , -0.79229999, -0.097616  , ...,  1.42859995,\n",
       "         -0.032471  ,  0.47235999],\n",
       "        [ 0.69395   ,  0.69261003, -0.21608   , ...,  0.2247    ,\n",
       "         -0.23197   ,  0.0062523 ],\n",
       "        [-0.0049087 ,  0.12611   ,  0.14056   , ..., -0.58464003,\n",
       "         -0.31830999,  0.31564   ],\n",
       "        ...,\n",
       "        [ 0.25435999, -0.44304001, -0.12524   , ...,  0.73352998,\n",
       "          0.026198  ,  0.30408001],\n",
       "        [-0.058468  ,  0.019087  ,  0.089056  , ..., -0.28176001,\n",
       "          0.045137  , -0.18802001],\n",
       "        [ 0.14443   ,  0.39103001, -0.93454999, ..., -0.71325999,\n",
       "         -0.54575998,  0.13952   ]]),\n",
       " 'target': 1}"
      ]
     },
     "execution_count": 4,
     "metadata": {},
     "output_type": "execute_result"
    }
   ],
   "source": [
    "class VectorizeText:\n",
    "    def __init__(self, glove_vectors_path):\n",
    "        self.glove_model = KeyedVectors.load_word2vec_format(glove_vectors_path,\n",
    "                                                             binary=False, no_header=True)\n",
    "        self.unkown_vector = np.random.randn(self.glove_model.vector_size)  # Random vector for unknown words\n",
    "    \n",
    "    def _get_vector(self, word):\n",
    "        if word in self.glove_model:\n",
    "            return self.glove_model[word]\n",
    "        else:\n",
    "            return self.unkown_vector\n",
    "    \n",
    "    def _get_vectors(self, sentence):\n",
    "        return np.vstack([self._get_vector(word) for word in sentence])\n",
    "    \n",
    "    def __call__(self, item):\n",
    "        review = []\n",
    "        if isinstance(item[\"data\"][0], str):\n",
    "            review = self._get_vectors(item[\"data\"])\n",
    "        else:\n",
    "            review = [self._get_vectors(d) for d in item[\"data\"]]\n",
    "\n",
    "        return {\n",
    "            \"data\": review,\n",
    "            \"target\": item[\"target\"]\n",
    "        }\n",
    "\n",
    "vectorizer = VectorizeText(\"./data/glove.6B.50d.txt.gz\")\n",
    "vectorizer(preprocess(dataset[0]))"
   ]
  },
  {
   "cell_type": "markdown",
   "metadata": {
    "slideshow": {
     "slide_type": "subslide"
    }
   },
   "source": [
    "### Combinación de vectores\n",
    "\n",
    "Si bien ahora estamos con una versión de los atributos que podría pasar por una red neuronal, hay un problema, las distintas reviews tienen largo distinto y como el algoritmo se entrena en lotes (*mini-batches*) estas requieren tener todas el mismo largo. Hay varias maneras de lidiar con esto, cada una con sus ventajas y desventajas. Dado que por ahora solo vimos perceptrón multicapa, que espera algo de tamaño fijo, una opción sencilla puede ser la de simplemente promediar los vectores de palabras."
   ]
  },
  {
   "cell_type": "code",
   "execution_count": 5,
   "metadata": {
    "slideshow": {
     "slide_type": "subslide"
    }
   },
   "outputs": [
    {
     "data": {
      "text/plain": [
       "{'data': array([ 1.04614057e-01,  3.10331633e-02, -1.07875598e-01, -2.80449603e-01,\n",
       "         2.81640180e-01,  5.81420739e-02, -5.70409407e-02, -3.98301383e-02,\n",
       "        -1.53635551e-01,  1.98029523e-01, -2.00678135e-01, -1.00644221e-01,\n",
       "        -1.31576950e-01,  3.42244484e-03,  2.85826096e-01,  4.04602732e-02,\n",
       "         3.21192367e-02, -9.04863921e-03, -1.20009918e-01, -2.48967753e-01,\n",
       "        -6.44631160e-02,  3.04501593e-01,  1.49181718e-01,  1.91396772e-01,\n",
       "         1.17939744e-01, -1.09844991e+00, -3.59090446e-01,  1.84178023e-01,\n",
       "         4.26812485e-01, -1.86753290e-01,  2.02260732e+00,  1.44810874e-01,\n",
       "        -4.59346306e-02, -3.99859739e-01, -7.59362426e-02,  1.00786318e-01,\n",
       "        -7.28972766e-02, -1.63161299e-01, -2.06314196e-01, -2.46684950e-01,\n",
       "        -1.45696838e-01,  7.73777179e-02,  4.77169609e-02,  2.68788287e-01,\n",
       "         1.11495559e-01, -1.21586939e-03,  8.44473832e-03, -1.61580419e-01,\n",
       "        -3.59275978e-02, -6.28511864e-02]),\n",
       " 'target': 1}"
      ]
     },
     "execution_count": 5,
     "metadata": {},
     "output_type": "execute_result"
    }
   ],
   "source": [
    "class WordVectorsAverage:\n",
    "    def __call__(self, item):\n",
    "        if item[\"data\"][0].ndim == 2:\n",
    "            data = np.vstack([np.mean(d, axis=0) for d in item[\"data\"]])\n",
    "        else:\n",
    "            data = np.mean(item[\"data\"], axis=0)\n",
    "        \n",
    "        return {\n",
    "            \"data\": data,\n",
    "            \"target\": item[\"target\"]\n",
    "        }\n",
    "\n",
    "vector_average = WordVectorsAverage()\n",
    "vector_average(vectorizer(preprocess(dataset[0])))"
   ]
  },
  {
   "cell_type": "markdown",
   "metadata": {
    "slideshow": {
     "slide_type": "subslide"
    }
   },
   "source": [
    "### Conversión de vectores a tensores\n",
    "\n",
    "En el paso final, debemos convertir nuestros datos de arrays de `numpy` a tensores de PyTorch."
   ]
  },
  {
   "cell_type": "code",
   "execution_count": 6,
   "metadata": {
    "slideshow": {
     "slide_type": "subslide"
    }
   },
   "outputs": [
    {
     "data": {
      "text/plain": [
       "{'data': tensor([ 1.0461e-01,  3.1033e-02, -1.0788e-01, -2.8045e-01,  2.8164e-01,\n",
       "          5.8142e-02, -5.7041e-02, -3.9830e-02, -1.5364e-01,  1.9803e-01,\n",
       "         -2.0068e-01, -1.0064e-01, -1.3158e-01,  3.4224e-03,  2.8583e-01,\n",
       "          4.0460e-02,  3.2119e-02, -9.0486e-03, -1.2001e-01, -2.4897e-01,\n",
       "         -6.4463e-02,  3.0450e-01,  1.4918e-01,  1.9140e-01,  1.1794e-01,\n",
       "         -1.0984e+00, -3.5909e-01,  1.8418e-01,  4.2681e-01, -1.8675e-01,\n",
       "          2.0226e+00,  1.4481e-01, -4.5935e-02, -3.9986e-01, -7.5936e-02,\n",
       "          1.0079e-01, -7.2897e-02, -1.6316e-01, -2.0631e-01, -2.4668e-01,\n",
       "         -1.4570e-01,  7.7378e-02,  4.7717e-02,  2.6879e-01,  1.1150e-01,\n",
       "         -1.2159e-03,  8.4447e-03, -1.6158e-01, -3.5928e-02, -6.2851e-02],\n",
       "        dtype=torch.float64),\n",
       " 'target': tensor(1)}"
      ]
     },
     "execution_count": 6,
     "metadata": {},
     "output_type": "execute_result"
    }
   ],
   "source": [
    "class ToTensor:\n",
    "    def __call__(self, item):\n",
    "        \"\"\"\n",
    "        This espects a single array.\n",
    "        \"\"\"\n",
    "        return {\n",
    "            \"data\": torch.from_numpy(item[\"data\"]),\n",
    "            \"target\": torch.tensor(item[\"target\"])\n",
    "        }\n",
    "\n",
    "to_tensor = ToTensor()\n",
    "to_tensor(vector_average(vectorizer(preprocess(dataset[0]))))"
   ]
  },
  {
   "cell_type": "markdown",
   "metadata": {
    "slideshow": {
     "slide_type": "subslide"
    }
   },
   "source": [
    "### Componiendo las transformaciones\n",
    "\n",
    "Para evitar tener que llamar a todas las funciones de transformación que querramos aplicar, para ello hacemos uso del parámetro `transform` que definimos en nuestro `Dataset` y un poco de ayuda de `functools`."
   ]
  },
  {
   "cell_type": "code",
   "execution_count": 7,
   "metadata": {
    "slideshow": {
     "slide_type": "subslide"
    }
   },
   "outputs": [
    {
     "name": "stdout",
     "output_type": "stream",
     "text": [
      "Dataset loaded with 50000 elements\n",
      "Sample element:\n",
      "{'data': tensor([ 1.0461e-01,  3.1033e-02, -1.0788e-01, -2.8045e-01,  2.8164e-01,\n",
      "         5.8142e-02, -5.7041e-02, -3.9830e-02, -1.5364e-01,  1.9803e-01,\n",
      "        -2.0068e-01, -1.0064e-01, -1.3158e-01,  3.4224e-03,  2.8583e-01,\n",
      "         4.0460e-02,  3.2119e-02, -9.0486e-03, -1.2001e-01, -2.4897e-01,\n",
      "        -6.4463e-02,  3.0450e-01,  1.4918e-01,  1.9140e-01,  1.1794e-01,\n",
      "        -1.0984e+00, -3.5909e-01,  1.8418e-01,  4.2681e-01, -1.8675e-01,\n",
      "         2.0226e+00,  1.4481e-01, -4.5935e-02, -3.9986e-01, -7.5936e-02,\n",
      "         1.0079e-01, -7.2897e-02, -1.6316e-01, -2.0631e-01, -2.4668e-01,\n",
      "        -1.4570e-01,  7.7378e-02,  4.7717e-02,  2.6879e-01,  1.1150e-01,\n",
      "        -1.2159e-03,  8.4447e-03, -1.6158e-01, -3.5928e-02, -6.2851e-02],\n",
      "       dtype=torch.float64), 'target': tensor(1)}\n"
     ]
    }
   ],
   "source": [
    "def compose(*functions):\n",
    "    return functools.reduce(lambda f, g: lambda x: g(f(x)), functions, lambda x: x)\n",
    "\n",
    "dataset = IMDBReviewsDataset(\"./data/imdb_reviews.csv.gz\",\n",
    "                             transform=compose(preprocess, vectorizer, vector_average, to_tensor))\n",
    "print(f\"Dataset loaded with {len(dataset)} elements\")\n",
    "print(f\"Sample element:\\n{dataset[0]}\")"
   ]
  },
  {
   "cell_type": "markdown",
   "metadata": {
    "slideshow": {
     "slide_type": "subslide"
    }
   },
   "source": [
    "### Iterando el dataset\n",
    "\n",
    "Ya tenemos nuestro conjunto de datos con sus respectivas transformaciones. ¿Para qué nos sirve esto? Una opción es simplemente iterar en el conjunto de datos de a un elemento. Esto es sencillo, simplemente se hace a través de un `for`."
   ]
  },
  {
   "cell_type": "code",
   "execution_count": 8,
   "metadata": {
    "slideshow": {
     "slide_type": "subslide"
    }
   },
   "outputs": [
    {
     "name": "stdout",
     "output_type": "stream",
     "text": [
      "tensor([ 1.0461e-01,  3.1033e-02, -1.0788e-01, -2.8045e-01,  2.8164e-01,\n",
      "         5.8142e-02, -5.7041e-02, -3.9830e-02, -1.5364e-01,  1.9803e-01,\n",
      "        -2.0068e-01, -1.0064e-01, -1.3158e-01,  3.4224e-03,  2.8583e-01,\n",
      "         4.0460e-02,  3.2119e-02, -9.0486e-03, -1.2001e-01, -2.4897e-01,\n",
      "        -6.4463e-02,  3.0450e-01,  1.4918e-01,  1.9140e-01,  1.1794e-01,\n",
      "        -1.0984e+00, -3.5909e-01,  1.8418e-01,  4.2681e-01, -1.8675e-01,\n",
      "         2.0226e+00,  1.4481e-01, -4.5935e-02, -3.9986e-01, -7.5936e-02,\n",
      "         1.0079e-01, -7.2897e-02, -1.6316e-01, -2.0631e-01, -2.4668e-01,\n",
      "        -1.4570e-01,  7.7378e-02,  4.7717e-02,  2.6879e-01,  1.1150e-01,\n",
      "        -1.2159e-03,  8.4447e-03, -1.6158e-01, -3.5928e-02, -6.2851e-02],\n",
      "       dtype=torch.float64)\n",
      "tensor(1)\n",
      "==================================================\n",
      "tensor([ 0.0808,  0.2028, -0.3832, -0.1337,  0.3752,  0.1792, -0.2609, -0.1271,\n",
      "        -0.1494,  0.3769, -0.0622,  0.2527, -0.1175,  0.1615,  0.2949, -0.0127,\n",
      "         0.1123,  0.1044, -0.1132, -0.3679,  0.0756,  0.3530,  0.0357,  0.0436,\n",
      "         0.4002, -0.8074, -0.5828,  0.1195,  0.3971, -0.1946,  2.0802, -0.1193,\n",
      "         0.1027, -0.4180,  0.0257,  0.3037, -0.0548,  0.2580, -0.2281, -0.3414,\n",
      "         0.1072,  0.1381, -0.1463,  0.0582, -0.0745,  0.0639,  0.2245, -0.1408,\n",
      "        -0.1794,  0.1970], dtype=torch.float64)\n",
      "tensor(1)\n",
      "==================================================\n",
      "tensor([ 0.1156,  0.1620, -0.2226, -0.2110,  0.4136,  0.2142, -0.2768, -0.1253,\n",
      "        -0.2487,  0.3100, -0.1870,  0.1175, -0.2071,  0.2026,  0.3963, -0.0145,\n",
      "         0.1064,  0.1892, -0.3575, -0.2874, -0.0762,  0.4070,  0.1601,  0.1652,\n",
      "         0.3301, -1.0604, -0.4467,  0.1917,  0.4583, -0.2003,  1.9967,  0.2179,\n",
      "         0.0460, -0.2379,  0.0279,  0.1072, -0.1289,  0.1671, -0.2856, -0.4432,\n",
      "        -0.0877,  0.1785, -0.0697,  0.0857,  0.1390,  0.0088,  0.0788, -0.3161,\n",
      "        -0.1101,  0.2739])\n",
      "tensor(1)\n",
      "==================================================\n"
     ]
    }
   ],
   "source": [
    "for idx, sample in enumerate(dataset):\n",
    "    print(sample[\"data\"])\n",
    "    print(sample[\"target\"])\n",
    "    print(\"=\" * 50)\n",
    "    \n",
    "    if idx == 2:\n",
    "        break"
   ]
  },
  {
   "cell_type": "markdown",
   "metadata": {
    "slideshow": {
     "slide_type": "slide"
    }
   },
   "source": [
    "## La clase Dataloader\n",
    "\n",
    "El problema con iterar de a un elemento es que estamos limitados al querer entrenar un modelo. Por empezar, los modelos de Deep Learning suelen ser más eficientes si se entrenan utilizando algún tipo de entrenamiento por *mini-batches*. Además, hay otras cosas como mezclar los elementos (*shuffling*) o cargar datos en paralelo vía distintos *multiprocess workers*. La clase [`torch.utils.data.DataLoader`](https://pytorch.org/docs/stable/data.html#torch.utils.data.DataLoader) precisamente se encarga de hacer eso por nosotros:"
   ]
  },
  {
   "cell_type": "code",
   "execution_count": 9,
   "metadata": {
    "slideshow": {
     "slide_type": "subslide"
    }
   },
   "outputs": [
    {
     "name": "stdout",
     "output_type": "stream",
     "text": [
      "0 torch.Size([4, 50]) torch.Size([4])\n",
      "1 torch.Size([4, 50]) torch.Size([4])\n",
      "2 torch.Size([4, 50]) torch.Size([4])\n",
      "tensor([[ 1.5914e-02,  4.0997e-01, -2.3978e-01, -1.5741e-01,  3.4977e-01,\n",
      "          9.8227e-02, -3.3254e-01, -7.2681e-02, -1.9208e-01,  4.0715e-01,\n",
      "         -2.7488e-01,  1.7061e-01, -2.5242e-01,  1.9161e-01,  4.8638e-01,\n",
      "         -1.2444e-01,  3.3351e-01,  9.0155e-02, -3.7323e-01, -4.4498e-01,\n",
      "          1.5132e-01,  3.8112e-01,  9.0314e-02,  1.1210e-01,  5.2052e-01,\n",
      "         -8.9548e-01, -7.0109e-01,  2.6786e-02,  3.1585e-01, -1.6027e-01,\n",
      "          2.2466e+00,  3.1990e-01,  1.9264e-01, -3.2628e-01, -2.2463e-02,\n",
      "          1.9148e-01, -1.3520e-02,  3.8459e-01, -1.7121e-01, -3.4719e-01,\n",
      "          6.5100e-02,  2.9173e-01, -1.7915e-01,  1.0934e-02, -8.7733e-02,\n",
      "          1.5263e-01,  6.0026e-02, -1.3312e-01, -1.2919e-01,  3.9585e-01],\n",
      "        [ 1.8362e-01,  2.0113e-01, -1.2918e-01, -1.4424e-01,  3.1084e-01,\n",
      "          1.3346e-01, -1.8407e-01, -5.6447e-02, -2.0273e-01,  3.3048e-01,\n",
      "         -1.9949e-01,  2.2851e-01, -2.4076e-01,  1.3784e-01,  4.7512e-01,\n",
      "          2.3025e-02,  8.7257e-02,  2.4975e-02, -1.7385e-01, -2.8294e-01,\n",
      "          7.9288e-02,  3.4145e-01,  1.4340e-01,  1.0219e-01,  4.3155e-01,\n",
      "         -1.1505e+00, -5.5101e-01,  3.7234e-02,  2.6462e-01, -2.1030e-01,\n",
      "          2.1228e+00,  1.1353e-01, -6.1721e-02, -3.2796e-01,  1.5573e-02,\n",
      "          1.6884e-02,  4.9535e-02, -4.6565e-03, -2.4084e-01, -3.2205e-01,\n",
      "         -1.5241e-01,  2.2999e-01, -1.3111e-01, -3.2666e-02,  1.2545e-01,\n",
      "         -6.4727e-02,  4.2097e-02, -2.0148e-01,  1.6239e-05,  3.2443e-01],\n",
      "        [ 2.1765e-01, -2.3935e-02, -1.9777e-01, -1.1034e-01,  1.8251e-01,\n",
      "          2.0734e-01, -1.1792e-01, -9.4697e-02, -3.6112e-02,  1.9395e-01,\n",
      "         -1.5762e-01,  1.5077e-01, -1.2215e-01,  1.4842e-01,  3.7537e-01,\n",
      "          2.4083e-02,  1.5388e-01,  9.7965e-02, -3.7303e-01, -3.1469e-01,\n",
      "         -2.0777e-02,  2.0517e-01,  2.2519e-01,  1.1224e-01,  3.3605e-01,\n",
      "         -9.7353e-01, -4.1319e-01,  2.0168e-01,  3.5873e-01, -2.5223e-01,\n",
      "          2.0583e+00,  5.9999e-02,  6.5097e-02, -2.9424e-01,  2.5720e-02,\n",
      "          1.7988e-01,  6.7628e-03, -7.1809e-03, -2.1444e-01, -2.9291e-01,\n",
      "         -1.8478e-01,  1.6991e-01, -2.2352e-03,  1.6216e-01,  8.9278e-03,\n",
      "          1.3587e-02,  1.7194e-01, -1.7541e-01, -1.0222e-02,  1.1866e-01],\n",
      "        [ 1.7316e-01,  5.4752e-02, -1.4682e-01, -1.1194e-01,  1.6953e-01,\n",
      "         -2.4158e-02, -3.0510e-01, -1.9059e-01, -1.7718e-01,  2.5141e-01,\n",
      "         -1.7451e-01,  1.5332e-01, -3.2758e-01,  1.7958e-01,  4.8842e-01,\n",
      "         -5.4299e-02,  2.8580e-02,  7.2197e-02, -2.9037e-01, -7.5840e-02,\n",
      "          2.1435e-01,  2.8027e-01,  1.3219e-01,  3.7973e-02,  2.5021e-01,\n",
      "         -1.1209e+00, -5.7513e-01, -5.7283e-02,  2.9721e-02, -7.4465e-02,\n",
      "          2.2372e+00, -1.5252e-02, -1.1664e-01, -3.8910e-01, -1.5299e-01,\n",
      "          1.0945e-01,  3.4350e-02, -8.9362e-02, -4.3522e-01, -3.0911e-01,\n",
      "         -1.5811e-01,  2.3353e-01, -2.4658e-01, -1.7234e-01, -1.7122e-01,\n",
      "          4.0140e-02, -3.3210e-02, -1.1801e-01, -2.0583e-01,  1.2755e-01]])\n",
      "tensor([1, 1, 0, 1])\n"
     ]
    }
   ],
   "source": [
    "dataloader = DataLoader(\n",
    "    dataset,\n",
    "    batch_size=4,\n",
    "    shuffle=True,\n",
    "    num_workers=2\n",
    ")\n",
    "\n",
    "for i_batch, sample_batched in enumerate(dataloader):\n",
    "    print(i_batch, \n",
    "          sample_batched['data'].size(),\n",
    "          sample_batched['target'].size())\n",
    "\n",
    "    if i_batch == 2:\n",
    "        print(sample_batched[\"data\"])\n",
    "        print(sample_batched[\"target\"])\n",
    "        break"
   ]
  },
  {
   "cell_type": "markdown",
   "metadata": {
    "slideshow": {
     "slide_type": "slide"
    }
   },
   "source": [
    "## La clase IterableDataset\n",
    "\n",
    "El método preferido para trabajar con conjuntos de datos en PyTorch es `torch.utils.data.Dataset`. En general, hacer uso inteligente del método `__getitem__`, e.g. usándolo para cargar imágenes a medida que sean necesitadas y no al instanciar el dataset, es la mejor manera de trabajar con un conjunto de datos. En particular, de esta forma es mucho más fácil hacer *shuffling* de los datos y demás. No obstante, no siempre esto es posible, muchas veces el conjunto de datos es demasiado grande para levantarlo en memoria (aunque sólo levantemos referencias). Para esos casos, PyTorch ofrece la clase [`torch.utils.data.IterableDataset`](https://pytorch.org/docs/stable/data.html#torch.utils.data.IterableDataset), en este caso el único método que es requerido implementar es `__iter__`."
   ]
  },
  {
   "cell_type": "code",
   "execution_count": 10,
   "metadata": {
    "slideshow": {
     "slide_type": "subslide"
    }
   },
   "outputs": [
    {
     "name": "stdout",
     "output_type": "stream",
     "text": [
      "Sample batch:\n",
      "{'data': ['Casita Muñecas Barbies Pintadas', 'Neceser Cromado Holográfico ', 'Funda Asiento A Medida D20 Chevrolet', 'Embrague Ford Focus One 1.8 8v Td (90cv) Desde 01-99'], 'target': ['DOLLHOUSES', 'TOILETRY_BAGS', 'CAR_SEAT_COVERS', 'AUTOMOTIVE_CLUTCH_KITS']}\n"
     ]
    }
   ],
   "source": [
    "class MeLiChallengeDataset(IterableDataset):\n",
    "    def __init__(self, path, transform=None):\n",
    "        self.dataset_path = path\n",
    "        self.transform = transform\n",
    "\n",
    "    def __iter__(self):\n",
    "        with gzip.open(self.dataset_path, \"rt\") as fh:\n",
    "            for l in fh:\n",
    "                data = json.loads(l)\n",
    "                item = {\n",
    "                    \"data\": data['title'],\n",
    "                    \"target\": data['category']\n",
    "                }\n",
    "                \n",
    "                if self.transform:\n",
    "                    yield self.transform(item)\n",
    "                else:\n",
    "                    yield item\n",
    "\n",
    "dataset = MeLiChallengeDataset(\"./data/meli-challenge-2019/spanish.train.jsonl.gz\")\n",
    "dataloader = DataLoader(dataset, batch_size=4, shuffle=False, num_workers=0)\n",
    "dataiter = iter(dataloader)\n",
    "print(f\"Sample batch:\\n{dataiter.next()}\")"
   ]
  }
 ],
 "metadata": {
  "celltoolbar": "Slideshow",
  "kernelspec": {
   "display_name": "Python 3 (ipykernel)",
   "language": "python",
   "name": "python3"
  },
  "language_info": {
   "codemirror_mode": {
    "name": "ipython",
    "version": 3
   },
   "file_extension": ".py",
   "mimetype": "text/x-python",
   "name": "python",
   "nbconvert_exporter": "python",
   "pygments_lexer": "ipython3",
   "version": "3.10.6"
  },
  "rise": {
   "scroll": true
  }
 },
 "nbformat": 4,
 "nbformat_minor": 4
}
