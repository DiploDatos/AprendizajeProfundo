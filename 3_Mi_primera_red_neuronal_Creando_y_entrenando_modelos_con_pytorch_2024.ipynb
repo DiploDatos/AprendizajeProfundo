{
  "nbformat": 4,
  "nbformat_minor": 0,
  "metadata": {
    "colab": {
      "provenance": [],
      "toc_visible": true,
      "include_colab_link": true
    },
    "kernelspec": {
      "name": "python3",
      "display_name": "Python 3"
    },
    "language_info": {
      "name": "python"
    }
  },
  "cells": [
    {
      "cell_type": "markdown",
      "metadata": {
        "id": "view-in-github",
        "colab_type": "text"
      },
      "source": [
        "<a href=\"https://colab.research.google.com/github/DiploDatos/AprendizajeProfundo/blob/add_2024_content/3_Mi_primera_red_neuronal_Creando_y_entrenando_modelos_con_pytorch_2024.ipynb\" target=\"_parent\"><img src=\"https://colab.research.google.com/assets/colab-badge.svg\" alt=\"Open In Colab\"/></a>"
      ]
    },
    {
      "cell_type": "markdown",
      "source": [
        "# Creando y entrenando modelos con Pytorch"
      ],
      "metadata": {
        "id": "cJcFfBNW2Yxt"
      }
    },
    {
      "cell_type": "markdown",
      "source": [
        "En esta notebook  veremos:\n",
        "- Modelo de Pytorch Simple\n",
        "  - Creación\n",
        "  - Entrenamiento\n",
        "  - Evaluación\n",
        "  - Guardar y recuperar modelos.\n",
        "  - Diferentes tipos de optimizadores."
      ],
      "metadata": {
        "id": "0s0hSWOwKzM5"
      }
    },
    {
      "cell_type": "code",
      "source": [
        "# %%capture sirve para no mostrar todas las instalaciones que está haciendo.\n",
        "# Si bien es un comando que está bueno, hay que tener cuidado ya que si alguna instalación no funciona, no nos enteramos.\n",
        "# Consejo: Ejecutar una vez las instalaciones SIN el capture, luego cuando estemos\n",
        "# seguros que todo funciona, le agregamos el capture para dejar más limpia la notebook.\n",
        "%%capture\n",
        "!pip install torch\n",
        "!pip install torchvision\n",
        "!pip install torchsummary"
      ],
      "metadata": {
        "id": "waJhNHrigOuE"
      },
      "execution_count": 1,
      "outputs": []
    },
    {
      "cell_type": "code",
      "source": [
        "import numpy as np\n",
        "import pandas as pd\n",
        "import torch\n",
        "import tqdm\n",
        "\n",
        "import matplotlib.pyplot as plt\n",
        "import torch.nn as nn\n",
        "import torch.nn.functional as F\n",
        "\n",
        "from sklearn import datasets\n",
        "from sklearn.model_selection import train_test_split"
      ],
      "metadata": {
        "id": "uOGSe4wWkdP1"
      },
      "execution_count": 2,
      "outputs": []
    },
    {
      "cell_type": "code",
      "source": [
        "seed = 14"
      ],
      "metadata": {
        "id": "vtPN19tKLVBO"
      },
      "execution_count": 3,
      "outputs": []
    },
    {
      "cell_type": "markdown",
      "source": [
        "## Información útil sobre los imports\n",
        "\n",
        "1. [**torch.nn:**](https://pytorch.org/docs/stable/nn.html) Es un módulo en PyTorch que proporciona un conjunto de clases y funciones para definir, construir y entrenar redes neuronales. Facilita la creación y configuración de modelos de aprendizaje profundo.\n",
        "\n",
        "2. [**torch.nn.functional:**](https://pytorch.org/docs/stable/nn.functional.html#) es un módulo en PyTorch que proporciona funciones de operaciones y transformaciones específicas de redes neuronales que se utilizan comúnmente en el desarrollo de modelos de aprendizaje profundo. Se enfoca en operaciones y funciones que no tienen estados ni parámetros entrenables (por ejemplo funciones de activación).\n"
      ],
      "metadata": {
        "id": "gXXn9K2K6r10"
      }
    },
    {
      "cell_type": "markdown",
      "source": [
        "## Modelo de Pytorch Simple\n",
        "\n",
        "La introducción previa de Programación Orientada a Objetos es muy importante al momento definir un modelo de Pytorch:\n",
        "\n",
        "1. Todo modelo de Pytorch debe heredar propiedades y comportamientos de la clase **`nn.Module`** de pytorch. Por lo tanto, cada modelo que definamos es una clase en sí con atributos y métodos.\n",
        "2. Dentro de los atributos que definimos se encuentra principalmente el \"esqueleto\" de nuestra red:\n",
        "  - Cantidad de entradas,\n",
        "  - cantidad de capas ocultas,\n",
        "  - dimensión de la salida, etc.\n",
        "3. Dentro de los métodos se encuentran principalmente el foward pass y el backpropagation."
      ],
      "metadata": {
        "id": "veh6HZFMj51y"
      }
    },
    {
      "cell_type": "markdown",
      "source": [
        "Vamos a crear un modelo simple utilizando el conocido dataset de iris de scikit-learn. Este dataset tiene 4 features de entrada:\n",
        "- `sepal length`,\n",
        "- `sepal width`,\n",
        "- `petal length` y\n",
        "- `petal width`\n",
        "\n",
        "y es un problema de clasificación con 3 clases:\n",
        "  - `Setosa` (0),\n",
        "  - `Versicolor` (1) y\n",
        "  - `Virginica` (2).\n"
      ],
      "metadata": {
        "id": "qB6tzWYv7I6i"
      }
    },
    {
      "cell_type": "markdown",
      "source": [
        "### Descargamos el dataset de iris"
      ],
      "metadata": {
        "id": "qYzcb6JoEWA2"
      }
    },
    {
      "cell_type": "code",
      "source": [
        "iris = datasets.load_iris()\n",
        "\n",
        "# Veamos que forma tiene:\n",
        "# np.c_ es una función de numpy que  para concatenar arrays\n",
        "iris_df = pd.DataFrame(data= np.c_[iris['data'], iris['target']],\n",
        "                     columns= iris['feature_names'] + ['target'])\n",
        "iris_df.head()"
      ],
      "metadata": {
        "colab": {
          "base_uri": "https://localhost:8080/",
          "height": 206
        },
        "id": "gkbR45c99eD1",
        "outputId": "0b7b8390-8321-47ff-9877-daafbde5866f"
      },
      "execution_count": 4,
      "outputs": [
        {
          "output_type": "execute_result",
          "data": {
            "text/plain": [
              "   sepal length (cm)  sepal width (cm)  petal length (cm)  petal width (cm)  \\\n",
              "0                5.1               3.5                1.4               0.2   \n",
              "1                4.9               3.0                1.4               0.2   \n",
              "2                4.7               3.2                1.3               0.2   \n",
              "3                4.6               3.1                1.5               0.2   \n",
              "4                5.0               3.6                1.4               0.2   \n",
              "\n",
              "   target  \n",
              "0     0.0  \n",
              "1     0.0  \n",
              "2     0.0  \n",
              "3     0.0  \n",
              "4     0.0  "
            ],
            "text/html": [
              "\n",
              "  <div id=\"df-58d50844-3901-4ce4-a203-7ddbb59105ba\" class=\"colab-df-container\">\n",
              "    <div>\n",
              "<style scoped>\n",
              "    .dataframe tbody tr th:only-of-type {\n",
              "        vertical-align: middle;\n",
              "    }\n",
              "\n",
              "    .dataframe tbody tr th {\n",
              "        vertical-align: top;\n",
              "    }\n",
              "\n",
              "    .dataframe thead th {\n",
              "        text-align: right;\n",
              "    }\n",
              "</style>\n",
              "<table border=\"1\" class=\"dataframe\">\n",
              "  <thead>\n",
              "    <tr style=\"text-align: right;\">\n",
              "      <th></th>\n",
              "      <th>sepal length (cm)</th>\n",
              "      <th>sepal width (cm)</th>\n",
              "      <th>petal length (cm)</th>\n",
              "      <th>petal width (cm)</th>\n",
              "      <th>target</th>\n",
              "    </tr>\n",
              "  </thead>\n",
              "  <tbody>\n",
              "    <tr>\n",
              "      <th>0</th>\n",
              "      <td>5.1</td>\n",
              "      <td>3.5</td>\n",
              "      <td>1.4</td>\n",
              "      <td>0.2</td>\n",
              "      <td>0.0</td>\n",
              "    </tr>\n",
              "    <tr>\n",
              "      <th>1</th>\n",
              "      <td>4.9</td>\n",
              "      <td>3.0</td>\n",
              "      <td>1.4</td>\n",
              "      <td>0.2</td>\n",
              "      <td>0.0</td>\n",
              "    </tr>\n",
              "    <tr>\n",
              "      <th>2</th>\n",
              "      <td>4.7</td>\n",
              "      <td>3.2</td>\n",
              "      <td>1.3</td>\n",
              "      <td>0.2</td>\n",
              "      <td>0.0</td>\n",
              "    </tr>\n",
              "    <tr>\n",
              "      <th>3</th>\n",
              "      <td>4.6</td>\n",
              "      <td>3.1</td>\n",
              "      <td>1.5</td>\n",
              "      <td>0.2</td>\n",
              "      <td>0.0</td>\n",
              "    </tr>\n",
              "    <tr>\n",
              "      <th>4</th>\n",
              "      <td>5.0</td>\n",
              "      <td>3.6</td>\n",
              "      <td>1.4</td>\n",
              "      <td>0.2</td>\n",
              "      <td>0.0</td>\n",
              "    </tr>\n",
              "  </tbody>\n",
              "</table>\n",
              "</div>\n",
              "    <div class=\"colab-df-buttons\">\n",
              "\n",
              "  <div class=\"colab-df-container\">\n",
              "    <button class=\"colab-df-convert\" onclick=\"convertToInteractive('df-58d50844-3901-4ce4-a203-7ddbb59105ba')\"\n",
              "            title=\"Convert this dataframe to an interactive table.\"\n",
              "            style=\"display:none;\">\n",
              "\n",
              "  <svg xmlns=\"http://www.w3.org/2000/svg\" height=\"24px\" viewBox=\"0 -960 960 960\">\n",
              "    <path d=\"M120-120v-720h720v720H120Zm60-500h600v-160H180v160Zm220 220h160v-160H400v160Zm0 220h160v-160H400v160ZM180-400h160v-160H180v160Zm440 0h160v-160H620v160ZM180-180h160v-160H180v160Zm440 0h160v-160H620v160Z\"/>\n",
              "  </svg>\n",
              "    </button>\n",
              "\n",
              "  <style>\n",
              "    .colab-df-container {\n",
              "      display:flex;\n",
              "      gap: 12px;\n",
              "    }\n",
              "\n",
              "    .colab-df-convert {\n",
              "      background-color: #E8F0FE;\n",
              "      border: none;\n",
              "      border-radius: 50%;\n",
              "      cursor: pointer;\n",
              "      display: none;\n",
              "      fill: #1967D2;\n",
              "      height: 32px;\n",
              "      padding: 0 0 0 0;\n",
              "      width: 32px;\n",
              "    }\n",
              "\n",
              "    .colab-df-convert:hover {\n",
              "      background-color: #E2EBFA;\n",
              "      box-shadow: 0px 1px 2px rgba(60, 64, 67, 0.3), 0px 1px 3px 1px rgba(60, 64, 67, 0.15);\n",
              "      fill: #174EA6;\n",
              "    }\n",
              "\n",
              "    .colab-df-buttons div {\n",
              "      margin-bottom: 4px;\n",
              "    }\n",
              "\n",
              "    [theme=dark] .colab-df-convert {\n",
              "      background-color: #3B4455;\n",
              "      fill: #D2E3FC;\n",
              "    }\n",
              "\n",
              "    [theme=dark] .colab-df-convert:hover {\n",
              "      background-color: #434B5C;\n",
              "      box-shadow: 0px 1px 3px 1px rgba(0, 0, 0, 0.15);\n",
              "      filter: drop-shadow(0px 1px 2px rgba(0, 0, 0, 0.3));\n",
              "      fill: #FFFFFF;\n",
              "    }\n",
              "  </style>\n",
              "\n",
              "    <script>\n",
              "      const buttonEl =\n",
              "        document.querySelector('#df-58d50844-3901-4ce4-a203-7ddbb59105ba button.colab-df-convert');\n",
              "      buttonEl.style.display =\n",
              "        google.colab.kernel.accessAllowed ? 'block' : 'none';\n",
              "\n",
              "      async function convertToInteractive(key) {\n",
              "        const element = document.querySelector('#df-58d50844-3901-4ce4-a203-7ddbb59105ba');\n",
              "        const dataTable =\n",
              "          await google.colab.kernel.invokeFunction('convertToInteractive',\n",
              "                                                    [key], {});\n",
              "        if (!dataTable) return;\n",
              "\n",
              "        const docLinkHtml = 'Like what you see? Visit the ' +\n",
              "          '<a target=\"_blank\" href=https://colab.research.google.com/notebooks/data_table.ipynb>data table notebook</a>'\n",
              "          + ' to learn more about interactive tables.';\n",
              "        element.innerHTML = '';\n",
              "        dataTable['output_type'] = 'display_data';\n",
              "        await google.colab.output.renderOutput(dataTable, element);\n",
              "        const docLink = document.createElement('div');\n",
              "        docLink.innerHTML = docLinkHtml;\n",
              "        element.appendChild(docLink);\n",
              "      }\n",
              "    </script>\n",
              "  </div>\n",
              "\n",
              "\n",
              "<div id=\"df-e37a9903-0409-4068-988d-643a63206ab4\">\n",
              "  <button class=\"colab-df-quickchart\" onclick=\"quickchart('df-e37a9903-0409-4068-988d-643a63206ab4')\"\n",
              "            title=\"Suggest charts\"\n",
              "            style=\"display:none;\">\n",
              "\n",
              "<svg xmlns=\"http://www.w3.org/2000/svg\" height=\"24px\"viewBox=\"0 0 24 24\"\n",
              "     width=\"24px\">\n",
              "    <g>\n",
              "        <path d=\"M19 3H5c-1.1 0-2 .9-2 2v14c0 1.1.9 2 2 2h14c1.1 0 2-.9 2-2V5c0-1.1-.9-2-2-2zM9 17H7v-7h2v7zm4 0h-2V7h2v10zm4 0h-2v-4h2v4z\"/>\n",
              "    </g>\n",
              "</svg>\n",
              "  </button>\n",
              "\n",
              "<style>\n",
              "  .colab-df-quickchart {\n",
              "      --bg-color: #E8F0FE;\n",
              "      --fill-color: #1967D2;\n",
              "      --hover-bg-color: #E2EBFA;\n",
              "      --hover-fill-color: #174EA6;\n",
              "      --disabled-fill-color: #AAA;\n",
              "      --disabled-bg-color: #DDD;\n",
              "  }\n",
              "\n",
              "  [theme=dark] .colab-df-quickchart {\n",
              "      --bg-color: #3B4455;\n",
              "      --fill-color: #D2E3FC;\n",
              "      --hover-bg-color: #434B5C;\n",
              "      --hover-fill-color: #FFFFFF;\n",
              "      --disabled-bg-color: #3B4455;\n",
              "      --disabled-fill-color: #666;\n",
              "  }\n",
              "\n",
              "  .colab-df-quickchart {\n",
              "    background-color: var(--bg-color);\n",
              "    border: none;\n",
              "    border-radius: 50%;\n",
              "    cursor: pointer;\n",
              "    display: none;\n",
              "    fill: var(--fill-color);\n",
              "    height: 32px;\n",
              "    padding: 0;\n",
              "    width: 32px;\n",
              "  }\n",
              "\n",
              "  .colab-df-quickchart:hover {\n",
              "    background-color: var(--hover-bg-color);\n",
              "    box-shadow: 0 1px 2px rgba(60, 64, 67, 0.3), 0 1px 3px 1px rgba(60, 64, 67, 0.15);\n",
              "    fill: var(--button-hover-fill-color);\n",
              "  }\n",
              "\n",
              "  .colab-df-quickchart-complete:disabled,\n",
              "  .colab-df-quickchart-complete:disabled:hover {\n",
              "    background-color: var(--disabled-bg-color);\n",
              "    fill: var(--disabled-fill-color);\n",
              "    box-shadow: none;\n",
              "  }\n",
              "\n",
              "  .colab-df-spinner {\n",
              "    border: 2px solid var(--fill-color);\n",
              "    border-color: transparent;\n",
              "    border-bottom-color: var(--fill-color);\n",
              "    animation:\n",
              "      spin 1s steps(1) infinite;\n",
              "  }\n",
              "\n",
              "  @keyframes spin {\n",
              "    0% {\n",
              "      border-color: transparent;\n",
              "      border-bottom-color: var(--fill-color);\n",
              "      border-left-color: var(--fill-color);\n",
              "    }\n",
              "    20% {\n",
              "      border-color: transparent;\n",
              "      border-left-color: var(--fill-color);\n",
              "      border-top-color: var(--fill-color);\n",
              "    }\n",
              "    30% {\n",
              "      border-color: transparent;\n",
              "      border-left-color: var(--fill-color);\n",
              "      border-top-color: var(--fill-color);\n",
              "      border-right-color: var(--fill-color);\n",
              "    }\n",
              "    40% {\n",
              "      border-color: transparent;\n",
              "      border-right-color: var(--fill-color);\n",
              "      border-top-color: var(--fill-color);\n",
              "    }\n",
              "    60% {\n",
              "      border-color: transparent;\n",
              "      border-right-color: var(--fill-color);\n",
              "    }\n",
              "    80% {\n",
              "      border-color: transparent;\n",
              "      border-right-color: var(--fill-color);\n",
              "      border-bottom-color: var(--fill-color);\n",
              "    }\n",
              "    90% {\n",
              "      border-color: transparent;\n",
              "      border-bottom-color: var(--fill-color);\n",
              "    }\n",
              "  }\n",
              "</style>\n",
              "\n",
              "  <script>\n",
              "    async function quickchart(key) {\n",
              "      const quickchartButtonEl =\n",
              "        document.querySelector('#' + key + ' button');\n",
              "      quickchartButtonEl.disabled = true;  // To prevent multiple clicks.\n",
              "      quickchartButtonEl.classList.add('colab-df-spinner');\n",
              "      try {\n",
              "        const charts = await google.colab.kernel.invokeFunction(\n",
              "            'suggestCharts', [key], {});\n",
              "      } catch (error) {\n",
              "        console.error('Error during call to suggestCharts:', error);\n",
              "      }\n",
              "      quickchartButtonEl.classList.remove('colab-df-spinner');\n",
              "      quickchartButtonEl.classList.add('colab-df-quickchart-complete');\n",
              "    }\n",
              "    (() => {\n",
              "      let quickchartButtonEl =\n",
              "        document.querySelector('#df-e37a9903-0409-4068-988d-643a63206ab4 button');\n",
              "      quickchartButtonEl.style.display =\n",
              "        google.colab.kernel.accessAllowed ? 'block' : 'none';\n",
              "    })();\n",
              "  </script>\n",
              "</div>\n",
              "\n",
              "    </div>\n",
              "  </div>\n"
            ],
            "application/vnd.google.colaboratory.intrinsic+json": {
              "type": "dataframe",
              "variable_name": "iris_df",
              "summary": "{\n  \"name\": \"iris_df\",\n  \"rows\": 150,\n  \"fields\": [\n    {\n      \"column\": \"sepal length (cm)\",\n      \"properties\": {\n        \"dtype\": \"number\",\n        \"std\": 0.828066127977863,\n        \"min\": 4.3,\n        \"max\": 7.9,\n        \"num_unique_values\": 35,\n        \"samples\": [\n          6.2,\n          4.5,\n          5.6\n        ],\n        \"semantic_type\": \"\",\n        \"description\": \"\"\n      }\n    },\n    {\n      \"column\": \"sepal width (cm)\",\n      \"properties\": {\n        \"dtype\": \"number\",\n        \"std\": 0.4358662849366982,\n        \"min\": 2.0,\n        \"max\": 4.4,\n        \"num_unique_values\": 23,\n        \"samples\": [\n          2.3,\n          4.0,\n          3.5\n        ],\n        \"semantic_type\": \"\",\n        \"description\": \"\"\n      }\n    },\n    {\n      \"column\": \"petal length (cm)\",\n      \"properties\": {\n        \"dtype\": \"number\",\n        \"std\": 1.7652982332594662,\n        \"min\": 1.0,\n        \"max\": 6.9,\n        \"num_unique_values\": 43,\n        \"samples\": [\n          6.7,\n          3.8,\n          3.7\n        ],\n        \"semantic_type\": \"\",\n        \"description\": \"\"\n      }\n    },\n    {\n      \"column\": \"petal width (cm)\",\n      \"properties\": {\n        \"dtype\": \"number\",\n        \"std\": 0.7622376689603465,\n        \"min\": 0.1,\n        \"max\": 2.5,\n        \"num_unique_values\": 22,\n        \"samples\": [\n          0.2,\n          1.2,\n          1.3\n        ],\n        \"semantic_type\": \"\",\n        \"description\": \"\"\n      }\n    },\n    {\n      \"column\": \"target\",\n      \"properties\": {\n        \"dtype\": \"number\",\n        \"std\": 0.8192319205190405,\n        \"min\": 0.0,\n        \"max\": 2.0,\n        \"num_unique_values\": 3,\n        \"samples\": [\n          0.0,\n          1.0,\n          2.0\n        ],\n        \"semantic_type\": \"\",\n        \"description\": \"\"\n      }\n    }\n  ]\n}"
            }
          },
          "metadata": {},
          "execution_count": 4
        }
      ]
    },
    {
      "cell_type": "code",
      "source": [
        "# Separar X e y\n",
        "X = iris_df.drop('target',axis=1).values\n",
        "y = iris_df['target'].values"
      ],
      "metadata": {
        "id": "WSzrFXWS_W2B"
      },
      "execution_count": 5,
      "outputs": []
    },
    {
      "cell_type": "code",
      "source": [
        "# Dividir el conjunto de datos en conjuntos de entrenamiento, validación y test\n",
        "X_train, X_temp, y_train, y_temp = train_test_split(X, y, test_size=0.3, random_state=seed)\n",
        "X_val, X_test, y_val, y_test = train_test_split(X_temp, y_temp, test_size=0.5, random_state=seed)\n"
      ],
      "metadata": {
        "id": "cTiEMXUiBebl"
      },
      "execution_count": 6,
      "outputs": []
    },
    {
      "cell_type": "code",
      "source": [
        "# Convertir los datos en tensores de PyTorch\n",
        "X_train = torch.Tensor(X_train)  # con Tensor, especificamos que es float\n",
        "y_train = torch.LongTensor(y_train)  # con LongTensor, especificamos que es int\n",
        "\n",
        "X_val = torch.Tensor(X_val)\n",
        "y_val = torch.LongTensor(y_val)\n",
        "\n",
        "X_test = torch.Tensor(X_test)\n",
        "y_test = torch.LongTensor(y_test)\n"
      ],
      "metadata": {
        "id": "dpcbNtybB5-M"
      },
      "execution_count": 7,
      "outputs": []
    },
    {
      "cell_type": "markdown",
      "source": [
        "### Definimos el modelo"
      ],
      "metadata": {
        "id": "eqzGQj2TEuya"
      }
    },
    {
      "cell_type": "code",
      "source": [
        "class MyFirstPytorchModel(nn.Module):\n",
        "    def __init__(self,\n",
        "                 input_features = 4, # Cantidad de features de entrada\n",
        "                 hidden_layer_1 = 8, # Cantidad de neuronas de la primera capa oculta\n",
        "                 hidden_layer_2 = 9, # Cantidad de neuronas de la segunda capa oculta\n",
        "                 output_features = 3 # Dimensión de la salida: ¿Cuántas clases quiero predecir?\n",
        "                 ):\n",
        "        super().__init__() # Llama al método __init__ de la clase nn.Module\n",
        "        # Generamos una red con 3 capas lineales (la última es de salida)\n",
        "        self.fully_connected_1 = nn.Linear(input_features, hidden_layer_1)\n",
        "        self.fully_connected_2 = nn.Linear(hidden_layer_1, hidden_layer_2)\n",
        "        self.output = nn.Linear(hidden_layer_2, output_features)\n",
        "\n",
        "    # Foward pass\n",
        "    def forward(self, x):\n",
        "      # defino cómo se va a transformar la entrada\n",
        "      x = F.relu(self.fully_connected_1(x))\n",
        "      x = F.relu(self.fully_connected_2(x))\n",
        "      x = self.output(x)\n",
        "      return x"
      ],
      "metadata": {
        "id": "KT-OqkwMDR-C"
      },
      "execution_count": 8,
      "outputs": []
    },
    {
      "cell_type": "markdown",
      "source": [
        "**Nota:**\n",
        "\n",
        "- **`super().__init__`** llama al método `__init__()` de la clase padre (en este caso `nn.Module`), permitiendo que la inicialización de la clase padre se ejecute antes de que la subclase (en este caso `MyFirstPytorchModel`) realice su propia inicialización."
      ],
      "metadata": {
        "id": "RzxE_1XRMxM7"
      }
    },
    {
      "cell_type": "markdown",
      "source": [
        "**Documentación útil:**\n",
        "- [torch.nn.CrossEntropyLoss](https://pytorch.org/docs/stable/generated/torch.nn.CrossEntropyLoss.html)\n",
        "- [torch.optim.Adam](https://pytorch.org/docs/stable/generated/torch.optim.Adam.html#torch.optim.Adam)"
      ],
      "metadata": {
        "id": "AymSIjtAUg0F"
      }
    },
    {
      "cell_type": "code",
      "source": [
        "# Para hacer que el entrenamiento sea reproducible\n",
        "torch.manual_seed(seed)\n",
        "\n",
        "model     = MyFirstPytorchModel() #Instanciamos la clase\n",
        "# En el caso de nn.CrossEntropyLoss() la función softmax ya está implicitamente incluida por pytorch\n",
        "criterion = nn.CrossEntropyLoss() # Función de loss para problemas multiclase\n",
        "optimizer = torch.optim.Adam(model.parameters(), lr = 0.1) # Definimos el optimizador\n",
        "model.parameters"
      ],
      "metadata": {
        "colab": {
          "base_uri": "https://localhost:8080/",
          "height": 187
        },
        "id": "C3MOTcQwCrql",
        "outputId": "a1174740-6a6b-4558-c50b-12c1ec455e7f"
      },
      "execution_count": 9,
      "outputs": [
        {
          "output_type": "execute_result",
          "data": {
            "text/plain": [
              "<bound method Module.parameters of MyFirstPytorchModel(\n",
              "  (fully_connected_1): Linear(in_features=4, out_features=8, bias=True)\n",
              "  (fully_connected_2): Linear(in_features=8, out_features=9, bias=True)\n",
              "  (output): Linear(in_features=9, out_features=3, bias=True)\n",
              ")>"
            ],
            "text/html": [
              "<div style=\"max-width:800px; border: 1px solid var(--colab-border-color);\"><style>\n",
              "      pre.function-repr-contents {\n",
              "        overflow-x: auto;\n",
              "        padding: 8px 12px;\n",
              "        max-height: 500px;\n",
              "      }\n",
              "\n",
              "      pre.function-repr-contents.function-repr-contents-collapsed {\n",
              "        cursor: pointer;\n",
              "        max-height: 100px;\n",
              "      }\n",
              "    </style>\n",
              "    <pre style=\"white-space: initial; background:\n",
              "         var(--colab-secondary-surface-color); padding: 8px 12px;\n",
              "         border-bottom: 1px solid var(--colab-border-color);\"><b>torch.nn.modules.module.Module.parameters</b><br/>def parameters(recurse: bool=True) -&gt; Iterator[Parameter]</pre><pre class=\"function-repr-contents function-repr-contents-collapsed\" style=\"\"><a class=\"filepath\" style=\"display:none\" href=\"#\">/usr/local/lib/python3.10/dist-packages/torch/nn/modules/module.py</a>Return an iterator over module parameters.\n",
              "\n",
              "This is typically passed to an optimizer.\n",
              "\n",
              "Args:\n",
              "    recurse (bool): if True, then yields parameters of this module\n",
              "        and all submodules. Otherwise, yields only parameters that\n",
              "        are direct members of this module.\n",
              "\n",
              "Yields:\n",
              "    Parameter: module parameter\n",
              "\n",
              "Example::\n",
              "\n",
              "    &gt;&gt;&gt; # xdoctest: +SKIP(&quot;undefined vars&quot;)\n",
              "    &gt;&gt;&gt; for param in model.parameters():\n",
              "    &gt;&gt;&gt;     print(type(param), param.size())\n",
              "    &lt;class &#x27;torch.Tensor&#x27;&gt; (20L,)\n",
              "    &lt;class &#x27;torch.Tensor&#x27;&gt; (20L, 1L, 5L, 5L)</pre>\n",
              "      <script>\n",
              "      if (google.colab.kernel.accessAllowed && google.colab.files && google.colab.files.view) {\n",
              "        for (const element of document.querySelectorAll('.filepath')) {\n",
              "          element.style.display = 'block'\n",
              "          element.onclick = (event) => {\n",
              "            event.preventDefault();\n",
              "            event.stopPropagation();\n",
              "            google.colab.files.view(element.textContent, 2233);\n",
              "          };\n",
              "        }\n",
              "      }\n",
              "      for (const element of document.querySelectorAll('.function-repr-contents')) {\n",
              "        element.onclick = (event) => {\n",
              "          event.preventDefault();\n",
              "          event.stopPropagation();\n",
              "          element.classList.toggle('function-repr-contents-collapsed');\n",
              "        };\n",
              "      }\n",
              "      </script>\n",
              "      </div>"
            ]
          },
          "metadata": {},
          "execution_count": 9
        }
      ]
    },
    {
      "cell_type": "markdown",
      "source": [
        "**Documentación útil:**\n",
        "\n",
        "- [`torch.no_grad`](https://pytorch.org/docs/stable/generated/torch.no_grad.html): Desactiva el cálculo de los gradientes. Puede tener varios usos pero en este caso el principal es, teniendo el modelo ya entrenado, evaluar en un conjunto nuevo para ver la predicción. En este caso, los pesos de la red ya fueron aprendidos."
      ],
      "metadata": {
        "id": "4EuvcQbh-UpQ"
      }
    },
    {
      "cell_type": "code",
      "source": [
        "#epoch = Un entrenamiento sobre todo el dataset\n",
        "epochs = 100\n",
        "\n",
        "train_losses = []\n",
        "val_losses = []\n",
        "\n",
        "for epoch in tqdm.trange(epochs):\n",
        "    epoch+=1\n",
        "\n",
        "    # optimizer.zero_grad() setea todos los gradientes en cero, sino se acumulan\n",
        "    # y estariamos usando valores de gradiente que ya usamos previamente\n",
        "    optimizer.zero_grad()\n",
        "    # Foward pass y obtener la prediccion\n",
        "    y_pred = model.forward(X_train)\n",
        "\n",
        "    # Calcular la loss de cada epoca\n",
        "    loss_train = criterion(y_pred, y_train)\n",
        "\n",
        "    loss_train.backward()  # backward() calcula los gradientes de las operaciones realizadas\n",
        "    optimizer.step()  # realiza paso de optimización, actualizando todos los parametros del modelo (pesos y biases)\n",
        "\n",
        "    train_losses.append(loss_train.item())\n",
        "\n",
        "    # No queremos imprimir los resultados de las 100 epocas asi que podemos poner una condicion\n",
        "    if epoch%10 == 1:\n",
        "       print(f'epoch: {epoch:2}  loss: {loss_train.item():10.8f}')\n",
        "\n",
        "    with torch.no_grad():  # dentro del with impedimos se procesen gradientes para evaluar\n",
        "        # Foward pass y obtener la prediccion\n",
        "        y_pred_val = model.forward(X_val)\n",
        "\n",
        "        # Calcular la loss de cada epoca\n",
        "        loss_val = criterion(y_pred_val, y_val)\n",
        "        val_losses.append(loss_val.item())\n"
      ],
      "metadata": {
        "colab": {
          "base_uri": "https://localhost:8080/"
        },
        "id": "EwLHmJxSpB4h",
        "outputId": "256b34b8-b5c1-4df3-dc6b-b4a6caec4320"
      },
      "execution_count": 10,
      "outputs": [
        {
          "output_type": "stream",
          "name": "stderr",
          "text": [
            " 28%|██▊       | 28/100 [00:00<00:00, 143.54it/s]"
          ]
        },
        {
          "output_type": "stream",
          "name": "stdout",
          "text": [
            "epoch:  1  loss: 1.09474826\n",
            "epoch: 11  loss: 0.28536552\n",
            "epoch: 21  loss: 0.12064412\n",
            "epoch: 31  loss: 0.08891094"
          ]
        },
        {
          "output_type": "stream",
          "name": "stderr",
          "text": [
            "\r 45%|████▌     | 45/100 [00:00<00:00, 150.13it/s]"
          ]
        },
        {
          "output_type": "stream",
          "name": "stdout",
          "text": [
            "\n",
            "epoch: 41  loss: 0.08548603\n",
            "epoch: 51  loss: 0.07803762\n"
          ]
        },
        {
          "output_type": "stream",
          "name": "stderr",
          "text": [
            " 90%|█████████ | 90/100 [00:00<00:00, 143.23it/s]"
          ]
        },
        {
          "output_type": "stream",
          "name": "stdout",
          "text": [
            "epoch: 61  loss: 0.07238930\n",
            "epoch: 71  loss: 0.06782731\n",
            "epoch: 81  loss: 0.06596272\n",
            "epoch: 91  loss: 0.06442944\n"
          ]
        },
        {
          "output_type": "stream",
          "name": "stderr",
          "text": [
            "\r100%|██████████| 100/100 [00:00<00:00, 143.01it/s]\n"
          ]
        }
      ]
    },
    {
      "cell_type": "code",
      "source": [
        "plt.title('Función de Loss a lo largo las épocas')\n",
        "plt.plot(train_losses, label='Training loss')\n",
        "plt.plot(val_losses, label='Validation loss')\n",
        "plt.ylabel('Loss')\n",
        "plt.xlabel('epoch')\n",
        "plt.legend()\n",
        "plt.show()"
      ],
      "metadata": {
        "colab": {
          "base_uri": "https://localhost:8080/",
          "height": 472
        },
        "id": "tpOmJ_2wpq6-",
        "outputId": "09a90d11-9331-4b49-eff1-db40faec3378"
      },
      "execution_count": 11,
      "outputs": [
        {
          "output_type": "display_data",
          "data": {
            "text/plain": [
              "<Figure size 640x480 with 1 Axes>"
            ],
            "image/png": "[encoded data removed]"
          },
          "metadata": {}
        }
      ]
    },
    {
      "cell_type": "markdown",
      "source": [
        "### Evaluamos el modelo"
      ],
      "metadata": {
        "id": "GeWeNrxYOO08"
      }
    },
    {
      "cell_type": "code",
      "source": [
        "# Evaluamos el modelo en el conjunto de validación\n",
        "with torch.no_grad():\n",
        "    y_pred = model.forward(X_val)  # Hacemos una inferencia sobre el conjunto de datos\n",
        "    loss = criterion(y_pred, y_val)\n",
        "print(f'Valor de Loss en el conjunto de validación: {loss:.8f}')"
      ],
      "metadata": {
        "colab": {
          "base_uri": "https://localhost:8080/"
        },
        "id": "Z-3Ri4iFKg29",
        "outputId": "69496b87-f275-4d27-cd90-875ae1315d7e"
      },
      "execution_count": 12,
      "outputs": [
        {
          "output_type": "stream",
          "name": "stdout",
          "text": [
            "Valor de Loss en el conjunto de validación: 0.00520135\n"
          ]
        }
      ]
    },
    {
      "cell_type": "markdown",
      "source": [
        "**Ejercicio:** En este caso solo hicimos una prueba con 100 épocas, ¿que pasaría si agregamos/sacamos épocas? El ejercicio consiste en probar diferentes configuraciones de épocas y quedarse con la que consideren más adecuada. Una vez que se hayan decidido probar el resultado final en el conjunto de test que definimos arriba (recuerden que el conjunto de test se utiliza una sola vez)."
      ],
      "metadata": {
        "id": "P3V5nLeoD3MH"
      }
    },
    {
      "cell_type": "code",
      "source": [
        "## Este es un ejemplo visual donde comparamos ejemplo, el valor predicho con la pertenencia a la clase.\n",
        "\n",
        "correct = 0\n",
        "with torch.no_grad():\n",
        "    for i,data in enumerate(X_val):\n",
        "        y_pred = model.forward(data)\n",
        "\n",
        "        # Mientras más alto es el valor más alta es la probabilidad de que pertenezca a la clase\n",
        "        print(f'Ejemplo {i+1:2}.) {str(y_pred):38}  {y_val[i]}')\n",
        "\n",
        "        if y_pred.argmax().item() == y_val[i]:\n",
        "            correct += 1\n",
        "print(f'\\n{correct} out of {len(y_val)} = {100*correct/len(y_val):.2f}% correct')"
      ],
      "metadata": {
        "colab": {
          "base_uri": "https://localhost:8080/"
        },
        "id": "9PW3_xQjNbCn",
        "outputId": "2ba45328-e45f-4b70-be4f-996d42b74c52"
      },
      "execution_count": 13,
      "outputs": [
        {
          "output_type": "stream",
          "name": "stdout",
          "text": [
            "Ejemplo  1.) tensor([-9.1017,  4.2634, -4.6722])     1\n",
            "Ejemplo  2.) tensor([ 18.3230,   1.1823, -22.5088])  0\n",
            "Ejemplo  3.) tensor([ 20.0544,   0.6699, -23.4931])  0\n",
            "Ejemplo  4.) tensor([ 15.4738,   1.5249, -19.8096])  0\n",
            "Ejemplo  5.) tensor([-9.3940,  3.9568, -4.1068])     1\n",
            "Ejemplo  6.) tensor([-5.6320,  4.4984, -5.8759])     1\n",
            "Ejemplo  7.) tensor([-22.5894,   0.7971,   5.4438])  2\n",
            "Ejemplo  8.) tensor([-24.2313,  -0.3200,   8.1761])  2\n",
            "Ejemplo  9.) tensor([ 2.4541e+01, -3.5940e-03, -2.7532e+01])  0\n",
            "Ejemplo 10.) tensor([-10.3721,   3.6153,  -3.0839])  1\n",
            "Ejemplo 11.) tensor([-12.1129,   3.4009,  -2.1979])  1\n",
            "Ejemplo 12.) tensor([-26.0888,  -0.0517,   8.1493])  2\n",
            "Ejemplo 13.) tensor([ 18.2501,   0.8233, -21.6893])  0\n",
            "Ejemplo 14.) tensor([ 16.2425,   1.2798, -20.2366])  0\n",
            "Ejemplo 15.) tensor([-18.6494,   0.5985,   4.9422])  2\n",
            "Ejemplo 16.) tensor([-12.1940,   2.7023,  -0.9272])  1\n",
            "Ejemplo 17.) tensor([-19.5524,   1.2385,   4.0647])  2\n",
            "Ejemplo 18.) tensor([-7.9062,  3.9300, -4.3600])     1\n",
            "Ejemplo 19.) tensor([ 18.3410,   0.9651, -22.1052])  0\n",
            "Ejemplo 20.) tensor([-23.2327,   0.3258,   6.5406])  2\n",
            "Ejemplo 21.) tensor([ 16.1271,   1.5313, -20.5792])  0\n",
            "Ejemplo 22.) tensor([-5.2852,  4.7296, -6.5018])     1\n",
            "\n",
            "22 out of 22 = 100.00% correct\n"
          ]
        }
      ]
    },
    {
      "cell_type": "markdown",
      "source": [
        "### Guardamos el modelo"
      ],
      "metadata": {
        "id": "lM1BYAUXVPyz"
      }
    },
    {
      "cell_type": "code",
      "source": [
        "# model.state_dict() guarda los pesos y los parametros del modelo\n",
        "# La extension .pt es una convencion, también se suele usar .pth (son abreviaturas de pytorch)\n",
        "torch.save(model.state_dict(), 'IrisDatasetModel.pt')"
      ],
      "metadata": {
        "id": "kaoxrZ7gOfd7"
      },
      "execution_count": 14,
      "outputs": []
    },
    {
      "cell_type": "code",
      "source": [
        "new_model = MyFirstPytorchModel()\n",
        "# load_state_dict se utiliza para cargar los parametros entrenados del modelo\n",
        "# Es muy importante que el momento que se quiere cargar coincida con la arquitectura del modelo definido\n",
        "new_model.load_state_dict(torch.load('IrisDatasetModel.pt'))\n",
        "# Poner un modelo en \"modo evaluacion\" implica desactivar cualquier tipo de\n",
        "# optimización relacionada con el entrenamiento (dropout, normalizacion por lotes, actualizacion de pesos, etx)\n",
        "new_model.eval()"
      ],
      "metadata": {
        "colab": {
          "base_uri": "https://localhost:8080/"
        },
        "id": "BCj9C7pOTng1",
        "outputId": "a0893adf-a924-4d69-b30e-2e4c3e9374a0"
      },
      "execution_count": 15,
      "outputs": [
        {
          "output_type": "stream",
          "name": "stderr",
          "text": [
            "<ipython-input-15-bf4eb98d6421>:4: FutureWarning: You are using `torch.load` with `weights_only=False` (the current default value), which uses the default pickle module implicitly. It is possible to construct malicious pickle data which will execute arbitrary code during unpickling (See https://github.com/pytorch/pytorch/blob/main/SECURITY.md#untrusted-models for more details). In a future release, the default value for `weights_only` will be flipped to `True`. This limits the functions that could be executed during unpickling. Arbitrary objects will no longer be allowed to be loaded via this mode unless they are explicitly allowlisted by the user via `torch.serialization.add_safe_globals`. We recommend you start setting `weights_only=True` for any use case where you don't have full control of the loaded file. Please open an issue on GitHub for any issues related to this experimental feature.\n",
            "  new_model.load_state_dict(torch.load('IrisDatasetModel.pt'))\n"
          ]
        },
        {
          "output_type": "execute_result",
          "data": {
            "text/plain": [
              "MyFirstPytorchModel(\n",
              "  (fully_connected_1): Linear(in_features=4, out_features=8, bias=True)\n",
              "  (fully_connected_2): Linear(in_features=8, out_features=9, bias=True)\n",
              "  (output): Linear(in_features=9, out_features=3, bias=True)\n",
              ")"
            ]
          },
          "metadata": {},
          "execution_count": 15
        }
      ]
    },
    {
      "cell_type": "markdown",
      "source": [
        "### Evaluemos el modelo en un ejemplo concreto"
      ],
      "metadata": {
        "id": "ZM2mo1SODFZO"
      }
    },
    {
      "cell_type": "code",
      "source": [
        "# Definimos un tensor \"aleatorio\"\n",
        "mystery_iris = torch.tensor([5.6,0,2.2,0.5])"
      ],
      "metadata": {
        "id": "6n-WEJ2GTwJh"
      },
      "execution_count": 16,
      "outputs": []
    },
    {
      "cell_type": "code",
      "source": [
        "# Dado el tensor que definimos veamos \"donde queria situado\" graficamente\n",
        "fig, axes = plt.subplots(nrows=2, ncols=2, figsize=(10,7))\n",
        "fig.tight_layout()\n",
        "\n",
        "plots = [(0,1),(2,3),(0,2),(1,3)]\n",
        "colors = ['b', 'r', 'g']\n",
        "labels = ['Iris setosa','Iris virginica','Iris versicolor','Mystery iris']\n",
        "\n",
        "for i, ax in enumerate(axes.flat):\n",
        "    for j in range(3):\n",
        "        x = iris_df.columns[plots[i][0]]\n",
        "        y = iris_df.columns[plots[i][1]]\n",
        "        ax.scatter(iris_df[iris_df['target']==j][x], iris_df[iris_df['target']==j][y], color=colors[j])\n",
        "        ax.set(xlabel=x, ylabel=y)\n",
        "\n",
        "    # Add a plot for our mystery iris:\n",
        "    ax.scatter(mystery_iris[plots[i][0]],mystery_iris[plots[i][1]], color='y')\n",
        "\n",
        "fig.legend(labels=labels, loc=3, bbox_to_anchor=(1.0,0.85))\n",
        "plt.show()"
      ],
      "metadata": {
        "colab": {
          "base_uri": "https://localhost:8080/",
          "height": 700
        },
        "id": "5nDunNmwUjFS",
        "outputId": "85243f67-5962-41d6-b401-45ed27ccdba8"
      },
      "execution_count": 17,
      "outputs": [
        {
          "output_type": "display_data",
          "data": {
            "text/plain": [
              "<Figure size 1000x700 with 4 Axes>"
            ],
            "image/png": "[encoded data removed]"
          },
          "metadata": {}
        }
      ]
    },
    {
      "cell_type": "code",
      "source": [
        "with torch.no_grad():\n",
        "    print(new_model(mystery_iris))\n",
        "    print()\n",
        "    print(labels[new_model(mystery_iris).argmax()])"
      ],
      "metadata": {
        "colab": {
          "base_uri": "https://localhost:8080/"
        },
        "id": "AyY8zrscUTK5",
        "outputId": "83e37cf5-9081-4045-a87e-f92e1d53ae21"
      },
      "execution_count": 18,
      "outputs": [
        {
          "output_type": "stream",
          "name": "stdout",
          "text": [
            "tensor([-3.8862,  4.6323, -6.9775])\n",
            "\n",
            "Iris virginica\n"
          ]
        }
      ]
    },
    {
      "cell_type": "markdown",
      "source": [
        "**Ejercicio:** Prueben diferentes valores en el tensor y jueguen!"
      ],
      "metadata": {
        "id": "S96ilZOsUvvn"
      }
    },
    {
      "cell_type": "code",
      "source": [],
      "metadata": {
        "id": "hhsV-Xk5UZ4J"
      },
      "execution_count": 18,
      "outputs": []
    }
  ]
}