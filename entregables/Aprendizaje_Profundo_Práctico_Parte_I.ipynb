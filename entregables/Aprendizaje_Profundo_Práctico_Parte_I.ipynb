{
 "cells": [
  {
   "cell_type": "markdown",
   "metadata": {
    "id": "yE-FKAMPlWFr"
   },
   "source": [
    "# Aprendizaje Profundo - Práctico (Parte I)\n",
    "\n",
    "Equipo: Mariana Pereyra - Adrián Zelaya\n",
    "\n",
    "____\n",
    "\n",
    "Algunas consideraciones a tener en cuenta para estructurar el trabajo:\n",
    "\n",
    "1. Hacer un preprocesamiento de los datos (¿Cómo vamos a representar los datos de entrada y las categorías?).\n",
    "2. Tener un manejador del dataset (alguna clase o función que nos divida los datos en batches).\n",
    "3. Crear una clase para el modelo que se pueda instanciar con diferentes hiperparámetros\n",
    "4. Hacer logs de entrenamiento (reportar tiempo transcurrido, iteraciones/s, loss, accuracy, etc.). Usar MLFlow.\n",
    "5. Hacer un gráfico de la función de loss a lo largo de las epochs. MLFlow también puede generar la gráfica.\n",
    "6. Reportar performance en el conjunto de test con el mejor modelo entrenado. La métrica para reportar será balanced accuracy."
   ]
  },
  {
   "cell_type": "markdown",
   "metadata": {
    "id": "R0cBwuyDydRL"
   },
   "source": [
    "## Objetivo\n",
    "\n",
    "En este práctico implementaremos una red neuronal simple (MLP) que asigne una categoría dado un título.\n",
    "\n"
   ]
  },
  {
   "cell_type": "markdown",
   "metadata": {
    "id": "rN_dSjFulWFv"
   },
   "source": [
    "### Descarga de datos \n",
    "\n",
    "\n"
   ]
  },
  {
   "cell_type": "markdown",
   "metadata": {
    "id": "MHqY4svlsojZ"
   },
   "source": [
    "Definimos el entorno de trabajo: local o Google Colab. En el caso del último, procedemos a montarlo."
   ]
  },
  {
   "cell_type": "code",
   "execution_count": 28,
   "metadata": {
    "colab": {
     "base_uri": "https://localhost:8080/"
    },
    "id": "uzb-ckFLtdxf",
    "outputId": "acd87eed-e3c4-41ca-cdce-99a7adedca25"
   },
   "outputs": [],
   "source": [
    "try:\n",
    "    from google.colab import drive \n",
    "    drive.mount('/content/drive')\n",
    "    DATA_PATH = \"/content/drive/MyDrive/Diplomatura/Aprendizaje Profundo\"\n",
    "    MLFLOW_PATH = \"/content/mlruns\"\n",
    "except:\n",
    "    DATA_PATH = \"data\"\n",
    "    MLFLOW_PATH = \"mlruns\"\n",
    "    \n",
    "MLFLOW_PATH_ZIP =  MLFLOW_PATH + \".zip\""
   ]
  },
  {
   "cell_type": "markdown",
   "metadata": {
    "id": "EtjDogApCTzP"
   },
   "source": [
    "Descargamos los datos localmente usando los siguientes comandos:\n",
    "\n",
    "```\n",
    "!curl -L https://cs.famaf.unc.edu.ar/\\~ccardellino/resources/diplodatos/meli-challenge-2019.tar.bz2 -o ./data/meli-challenge-2019.tar.bz2\n",
    "!tar jxvf ./data/meli-challenge-2019.tar.bz2 -C ./data/\n",
    "```\n",
    "\n",
    "Luego los dividimos en train y test utilizando la siguiente [notebook](https://github.com/DiploDatos/AprendizajeProfundo/blob/master/experiment/preprocess_meli_data.ipynb).\n",
    "\n",
    "Adicionalmente, descargamos el embedding preentrenado de Glove:\n",
    "\n",
    "```\n",
    "!curl -L https://cs.famaf.unc.edu.ar/\\~ccardellino/resources/diplodatos/glove.6B.50d.txt.gz -o glove.6B.50d.txt.gz\n",
    "```\n",
    "\n",
    "Finalmente subimos estos archivos a una carpeta de drive para utilizarlos desde Google Colab.\n"
   ]
  },
  {
   "cell_type": "markdown",
   "metadata": {
    "id": "lB_580RhgWjP"
   },
   "source": [
    "### Librerías"
   ]
  },
  {
   "cell_type": "markdown",
   "metadata": {
    "id": "bo8XqeYruEbg"
   },
   "source": [
    "Instalamos/actualizamos las siguientes librerías, por las dudas no estén actualizadas/instaladas en Colab:"
   ]
  },
  {
   "cell_type": "code",
   "execution_count": 2,
   "metadata": {
    "colab": {
     "base_uri": "https://localhost:8080/"
    },
    "id": "tpGnYpSMuNOG",
    "outputId": "4b827384-93a6-4c30-e9dd-d7d3814d0b9f"
   },
   "outputs": [
    {
     "name": "stdout",
     "output_type": "stream",
     "text": [
      "Requirement already satisfied: gensim in /home/adrian/PycharmProjects/AprendizajeProfundo/venv/lib/python3.10/site-packages (4.2.0)\n",
      "Requirement already satisfied: scipy>=0.18.1 in /home/adrian/PycharmProjects/AprendizajeProfundo/venv/lib/python3.10/site-packages (from gensim) (1.8.1)\n",
      "Requirement already satisfied: numpy>=1.17.0 in /home/adrian/PycharmProjects/AprendizajeProfundo/venv/lib/python3.10/site-packages (from gensim) (1.23.3)\n",
      "Requirement already satisfied: smart-open>=1.8.1 in /home/adrian/PycharmProjects/AprendizajeProfundo/venv/lib/python3.10/site-packages (from gensim) (6.1.0)\n",
      "Requirement already satisfied: mlflow in /home/adrian/PycharmProjects/AprendizajeProfundo/venv/lib/python3.10/site-packages (1.28.0)\n",
      "Requirement already satisfied: protobuf<5,>=3.12.0 in /home/adrian/PycharmProjects/AprendizajeProfundo/venv/lib/python3.10/site-packages (from mlflow) (3.19.6)\n",
      "Requirement already satisfied: cloudpickle<3 in /home/adrian/PycharmProjects/AprendizajeProfundo/venv/lib/python3.10/site-packages (from mlflow) (2.2.0)\n",
      "Requirement already satisfied: packaging<22 in /app/lib/python3.10/site-packages (from mlflow) (21.3)\n",
      "Requirement already satisfied: prometheus-flask-exporter<1 in /home/adrian/PycharmProjects/AprendizajeProfundo/venv/lib/python3.10/site-packages (from mlflow) (0.20.3)\n",
      "Requirement already satisfied: numpy<2 in /home/adrian/PycharmProjects/AprendizajeProfundo/venv/lib/python3.10/site-packages (from mlflow) (1.23.3)\n",
      "Requirement already satisfied: gitpython<4,>=2.1.0 in /home/adrian/PycharmProjects/AprendizajeProfundo/venv/lib/python3.10/site-packages (from mlflow) (3.1.27)\n",
      "Requirement already satisfied: pandas<2 in /home/adrian/PycharmProjects/AprendizajeProfundo/venv/lib/python3.10/site-packages (from mlflow) (1.4.4)\n",
      "Collecting importlib-metadata!=4.7.0,<5,>=3.7.0\n",
      "  Using cached importlib_metadata-4.13.0-py3-none-any.whl (23 kB)\n",
      "Requirement already satisfied: click<9,>=7.0 in /home/adrian/PycharmProjects/AprendizajeProfundo/venv/lib/python3.10/site-packages (from mlflow) (8.1.3)\n",
      "Requirement already satisfied: docker<6,>=4.0.0 in /home/adrian/PycharmProjects/AprendizajeProfundo/venv/lib/python3.10/site-packages (from mlflow) (5.0.3)\n",
      "Requirement already satisfied: Flask<3 in /home/adrian/PycharmProjects/AprendizajeProfundo/venv/lib/python3.10/site-packages (from mlflow) (2.2.2)\n",
      "Requirement already satisfied: databricks-cli<1,>=0.8.7 in /home/adrian/PycharmProjects/AprendizajeProfundo/venv/lib/python3.10/site-packages (from mlflow) (0.17.3)\n",
      "Requirement already satisfied: alembic<2 in /home/adrian/PycharmProjects/AprendizajeProfundo/venv/lib/python3.10/site-packages (from mlflow) (1.8.1)\n",
      "Requirement already satisfied: sqlalchemy<2,>=1.4.0 in /home/adrian/PycharmProjects/AprendizajeProfundo/venv/lib/python3.10/site-packages (from mlflow) (1.4.41)\n",
      "Requirement already satisfied: querystring-parser<2 in /home/adrian/PycharmProjects/AprendizajeProfundo/venv/lib/python3.10/site-packages (from mlflow) (1.2.4)\n",
      "Requirement already satisfied: requests<3,>=2.17.3 in /app/lib/python3.10/site-packages (from mlflow) (2.28.1)\n",
      "Requirement already satisfied: entrypoints<1 in /home/adrian/PycharmProjects/AprendizajeProfundo/venv/lib/python3.10/site-packages (from mlflow) (0.4)\n",
      "Requirement already satisfied: gunicorn<21 in /home/adrian/PycharmProjects/AprendizajeProfundo/venv/lib/python3.10/site-packages (from mlflow) (20.1.0)\n",
      "Requirement already satisfied: sqlparse<1,>=0.4.0 in /home/adrian/PycharmProjects/AprendizajeProfundo/venv/lib/python3.10/site-packages (from mlflow) (0.4.2)\n",
      "Requirement already satisfied: pyyaml<7,>=5.1 in /home/adrian/PycharmProjects/AprendizajeProfundo/venv/lib/python3.10/site-packages (from mlflow) (6.0)\n",
      "Requirement already satisfied: pytz<2023 in /home/adrian/PycharmProjects/AprendizajeProfundo/venv/lib/python3.10/site-packages (from mlflow) (2022.2.1)\n",
      "Requirement already satisfied: scipy<2 in /home/adrian/PycharmProjects/AprendizajeProfundo/venv/lib/python3.10/site-packages (from mlflow) (1.8.1)\n",
      "Requirement already satisfied: Mako in /home/adrian/PycharmProjects/AprendizajeProfundo/venv/lib/python3.10/site-packages (from alembic<2->mlflow) (1.2.2)\n",
      "Requirement already satisfied: tabulate>=0.7.7 in /home/adrian/PycharmProjects/AprendizajeProfundo/venv/lib/python3.10/site-packages (from databricks-cli<1,>=0.8.7->mlflow) (0.8.10)\n",
      "Requirement already satisfied: pyjwt>=1.7.0 in /home/adrian/PycharmProjects/AprendizajeProfundo/venv/lib/python3.10/site-packages (from databricks-cli<1,>=0.8.7->mlflow) (2.4.0)\n",
      "Requirement already satisfied: oauthlib>=3.1.0 in /home/adrian/PycharmProjects/AprendizajeProfundo/venv/lib/python3.10/site-packages (from databricks-cli<1,>=0.8.7->mlflow) (3.2.1)\n",
      "Requirement already satisfied: six>=1.10.0 in /home/adrian/PycharmProjects/AprendizajeProfundo/venv/lib/python3.10/site-packages (from databricks-cli<1,>=0.8.7->mlflow) (1.16.0)\n",
      "Requirement already satisfied: websocket-client>=0.32.0 in /home/adrian/PycharmProjects/AprendizajeProfundo/venv/lib/python3.10/site-packages (from docker<6,>=4.0.0->mlflow) (1.4.1)\n",
      "Requirement already satisfied: itsdangerous>=2.0 in /home/adrian/PycharmProjects/AprendizajeProfundo/venv/lib/python3.10/site-packages (from Flask<3->mlflow) (2.1.2)\n",
      "Requirement already satisfied: Jinja2>=3.0 in /home/adrian/PycharmProjects/AprendizajeProfundo/venv/lib/python3.10/site-packages (from Flask<3->mlflow) (3.1.2)\n",
      "Requirement already satisfied: Werkzeug>=2.2.2 in /home/adrian/PycharmProjects/AprendizajeProfundo/venv/lib/python3.10/site-packages (from Flask<3->mlflow) (2.2.2)\n",
      "Requirement already satisfied: gitdb<5,>=4.0.1 in /home/adrian/PycharmProjects/AprendizajeProfundo/venv/lib/python3.10/site-packages (from gitpython<4,>=2.1.0->mlflow) (4.0.9)\n",
      "Requirement already satisfied: setuptools>=3.0 in /home/adrian/PycharmProjects/AprendizajeProfundo/venv/lib/python3.10/site-packages (from gunicorn<21->mlflow) (60.2.0)\n",
      "Requirement already satisfied: zipp>=0.5 in /app/lib/python3.10/site-packages (from importlib-metadata!=4.7.0,<5,>=3.7.0->mlflow) (3.10.0)\n",
      "Requirement already satisfied: pyparsing!=3.0.5,>=2.0.2 in /app/lib/python3.10/site-packages (from packaging<22->mlflow) (3.0.9)\n",
      "Requirement already satisfied: python-dateutil>=2.8.1 in /home/adrian/PycharmProjects/AprendizajeProfundo/venv/lib/python3.10/site-packages (from pandas<2->mlflow) (2.8.2)\n",
      "Requirement already satisfied: prometheus-client in /home/adrian/PycharmProjects/AprendizajeProfundo/venv/lib/python3.10/site-packages (from prometheus-flask-exporter<1->mlflow) (0.14.1)\n",
      "Requirement already satisfied: certifi>=2017.4.17 in /app/lib/python3.10/site-packages (from requests<3,>=2.17.3->mlflow) (2022.9.24)\n",
      "Requirement already satisfied: idna<4,>=2.5 in /app/lib/python3.10/site-packages (from requests<3,>=2.17.3->mlflow) (3.4)\n",
      "Requirement already satisfied: urllib3<1.27,>=1.21.1 in /app/lib/python3.10/site-packages (from requests<3,>=2.17.3->mlflow) (1.26.12)\n",
      "Requirement already satisfied: charset-normalizer<3,>=2 in /app/lib/python3.10/site-packages (from requests<3,>=2.17.3->mlflow) (2.1.1)\n",
      "Requirement already satisfied: greenlet!=0.4.17 in /home/adrian/PycharmProjects/AprendizajeProfundo/venv/lib/python3.10/site-packages (from sqlalchemy<2,>=1.4.0->mlflow) (1.1.3)\n",
      "Requirement already satisfied: smmap<6,>=3.0.1 in /home/adrian/PycharmProjects/AprendizajeProfundo/venv/lib/python3.10/site-packages (from gitdb<5,>=4.0.1->gitpython<4,>=2.1.0->mlflow) (5.0.0)\n",
      "Requirement already satisfied: MarkupSafe>=2.0 in /home/adrian/PycharmProjects/AprendizajeProfundo/venv/lib/python3.10/site-packages (from Jinja2>=3.0->Flask<3->mlflow) (2.1.1)\n",
      "Installing collected packages: importlib-metadata\n",
      "  Attempting uninstall: importlib-metadata\n",
      "    Found existing installation: importlib-metadata 5.0.0\n",
      "    Not uninstalling importlib-metadata at /app/lib/python3.10/site-packages, outside environment /home/adrian/PycharmProjects/AprendizajeProfundo/venv\n",
      "    Can't uninstall 'importlib-metadata'. No files were found to uninstall.\n",
      "Successfully installed importlib-metadata-4.13.0\n"
     ]
    }
   ],
   "source": [
    "!pip install gensim --upgrade \n",
    "!pip install mlflow "
   ]
  },
  {
   "cell_type": "markdown",
   "metadata": {
    "id": "9tREtYNV2tgw"
   },
   "source": [
    "Importamos las librerías necesarias para nuestro análisis:"
   ]
  },
  {
   "cell_type": "code",
   "execution_count": 3,
   "metadata": {
    "id": "PhX0iO4ilWFw"
   },
   "outputs": [],
   "source": [
    "import os\n",
    "import csv\n",
    "import functools\n",
    "import json\n",
    "import gzip\n",
    "import tempfile\n",
    "from tqdm.notebook import tqdm, trange\n",
    "import mlflow\n",
    "import numpy as np\n",
    "import pandas as pd\n",
    "\n",
    "import torch\n",
    "import torch.optim as optim\n",
    "import torch.nn as nn\n",
    "import torch.nn.functional as F\n",
    "from torch.utils.data import Dataset, DataLoader\n",
    "\n",
    "from gensim import corpora\n",
    "from gensim.parsing import preprocessing\n",
    "from gensim.models import KeyedVectors\n",
    "from sklearn.metrics import balanced_accuracy_score"
   ]
  },
  {
   "cell_type": "markdown",
   "metadata": {
    "id": "1dxXwf9c3h77"
   },
   "source": [
    "Chequeamos si hay GPU disponible:"
   ]
  },
  {
   "cell_type": "code",
   "execution_count": 4,
   "metadata": {
    "colab": {
     "base_uri": "https://localhost:8080/"
    },
    "id": "8Fp3xNfTX3PM",
    "outputId": "a0291d56-7c21-415d-d31c-15e655d3f718"
   },
   "outputs": [
    {
     "name": "stdout",
     "output_type": "stream",
     "text": [
      "False\n"
     ]
    }
   ],
   "source": [
    "use_cuda = torch.cuda.is_available()\n",
    "print(use_cuda)\n",
    "device = torch.device('cuda') if use_cuda else torch.device('cpu')"
   ]
  },
  {
   "cell_type": "markdown",
   "metadata": {
    "id": "HBTX6HOa3pg8"
   },
   "source": [
    "Actualizamos los paths de los datasets:"
   ]
  },
  {
   "cell_type": "code",
   "execution_count": 5,
   "metadata": {
    "id": "bpOmFleDt0KQ"
   },
   "outputs": [],
   "source": [
    "path_meli_train = os.path.join(DATA_PATH, \"meli-challenge-2019\", \"spanish.train.jsonl.gz\")\n",
    "path_meli_test = os.path.join(DATA_PATH, \"meli-challenge-2019\", \"spanish.test.jsonl.gz\")\n",
    "path_glove = os.path.join(DATA_PATH, \"glove.6B.50d.txt.gz\")"
   ]
  },
  {
   "cell_type": "markdown",
   "metadata": {
    "id": "8sUqaqdElWFx"
   },
   "source": [
    "## Dataset\n",
    "\n",
    "Nos basaremos en el dataset del MeLi Data Challenge 2019 para trabajar en el problema de clasificación de texto de este práctico.\n",
    "\n",
    "El dataset contiene información acerca de los títulos de publicaciones, categorías de las mismas, información de idioma y confiabilidad de la anotación. Cuenta con anotaciones de títulos para 632 categorías distintas.\n",
    "\n",
    "El dataset también cuenta con una partición de test que está compuesta de 636,680 de ejemplos con las mismas categorías (aunque no necesariamente la misma distribución).\n",
    "\n",
    "También hay datos en idioma portugués, aunque para este práctico nos centraremos solamente en el idioma español."
   ]
  },
  {
   "cell_type": "markdown",
   "metadata": {
    "id": "xUoaY6VH0vcG"
   },
   "source": [
    "Para trabajar con el conjuntos de datos en PyTorch se podría utilizar la clase  IterableDataset. Esta elección se debe a que esta clase permite trabajar más eficientemente con un conjunto de datos grade, como es el caso del MeLi Challenge. Pero por cuestiones de simplicidad usaremos Dataset."
   ]
  },
  {
   "cell_type": "code",
   "execution_count": 6,
   "metadata": {
    "id": "Vl4fjBwQlWFy"
   },
   "outputs": [],
   "source": [
    "class MeLiChallengeDataset(Dataset):\n",
    "    def __init__(self, dataset, transform=None):\n",
    "        self.dataset = dataset\n",
    "        self.transform = transform\n",
    "    \n",
    "    def __len__(self):\n",
    "        return self.dataset.shape[0]\n",
    "\n",
    "    def __getitem__(self, item):\n",
    "        if torch.is_tensor(item):\n",
    "            item = item.to_list()\n",
    "        \n",
    "        item = {\n",
    "            \"data\": self.dataset.loc[item, \"title\"],\n",
    "            \"target\": self.dataset.loc[item, \"category\"]\n",
    "        }\n",
    "        \n",
    "        if self.transform:\n",
    "            item = self.transform(item)\n",
    "        \n",
    "        return item"
   ]
  },
  {
   "cell_type": "markdown",
   "metadata": {
    "id": "38NqQ_zuJ8X8"
   },
   "source": [
    "Inspeccionamos la data de train usando Pandas"
   ]
  },
  {
   "cell_type": "code",
   "execution_count": 7,
   "metadata": {
    "colab": {
     "base_uri": "https://localhost:8080/",
     "height": 528
    },
    "id": "WgxG1uGNDYWs",
    "outputId": "63c9ec97-8aa3-48f4-ee5f-43e9cc5948f4"
   },
   "outputs": [
    {
     "data": {
      "text/html": [
       "<div>\n",
       "<style scoped>\n",
       "    .dataframe tbody tr th:only-of-type {\n",
       "        vertical-align: middle;\n",
       "    }\n",
       "\n",
       "    .dataframe tbody tr th {\n",
       "        vertical-align: top;\n",
       "    }\n",
       "\n",
       "    .dataframe thead th {\n",
       "        text-align: right;\n",
       "    }\n",
       "</style>\n",
       "<table border=\"1\" class=\"dataframe\">\n",
       "  <thead>\n",
       "    <tr style=\"text-align: right;\">\n",
       "      <th></th>\n",
       "      <th>language</th>\n",
       "      <th>label_quality</th>\n",
       "      <th>title</th>\n",
       "      <th>category</th>\n",
       "      <th>split</th>\n",
       "      <th>tokenized_title</th>\n",
       "      <th>data</th>\n",
       "      <th>target</th>\n",
       "      <th>n_labels</th>\n",
       "      <th>size</th>\n",
       "    </tr>\n",
       "  </thead>\n",
       "  <tbody>\n",
       "    <tr>\n",
       "      <th>0</th>\n",
       "      <td>spanish</td>\n",
       "      <td>reliable</td>\n",
       "      <td>Casita Muñecas Barbies Pintadas</td>\n",
       "      <td>DOLLHOUSES</td>\n",
       "      <td>train</td>\n",
       "      <td>[casita, muñecas, barbies, pintadas]</td>\n",
       "      <td>[50001, 2, 50000, 3]</td>\n",
       "      <td>0</td>\n",
       "      <td>632</td>\n",
       "      <td>4895280</td>\n",
       "    </tr>\n",
       "    <tr>\n",
       "      <th>1</th>\n",
       "      <td>spanish</td>\n",
       "      <td>unreliable</td>\n",
       "      <td>Neceser Cromado Holográfico</td>\n",
       "      <td>TOILETRY_BAGS</td>\n",
       "      <td>train</td>\n",
       "      <td>[neceser, cromado, holográfico]</td>\n",
       "      <td>[6, 4, 5]</td>\n",
       "      <td>1</td>\n",
       "      <td>632</td>\n",
       "      <td>4895280</td>\n",
       "    </tr>\n",
       "    <tr>\n",
       "      <th>2</th>\n",
       "      <td>spanish</td>\n",
       "      <td>unreliable</td>\n",
       "      <td>Funda Asiento A Medida D20 Chevrolet</td>\n",
       "      <td>CAR_SEAT_COVERS</td>\n",
       "      <td>train</td>\n",
       "      <td>[funda, asiento, medida, chevrolet]</td>\n",
       "      <td>[9, 7, 10, 8]</td>\n",
       "      <td>2</td>\n",
       "      <td>632</td>\n",
       "      <td>4895280</td>\n",
       "    </tr>\n",
       "    <tr>\n",
       "      <th>3</th>\n",
       "      <td>spanish</td>\n",
       "      <td>unreliable</td>\n",
       "      <td>Embrague Ford Focus One 1.8 8v Td (90cv) Desde...</td>\n",
       "      <td>AUTOMOTIVE_CLUTCH_KITS</td>\n",
       "      <td>train</td>\n",
       "      <td>[embrague, ford, focus, one]</td>\n",
       "      <td>[11, 13, 12, 14]</td>\n",
       "      <td>3</td>\n",
       "      <td>632</td>\n",
       "      <td>4895280</td>\n",
       "    </tr>\n",
       "    <tr>\n",
       "      <th>4</th>\n",
       "      <td>spanish</td>\n",
       "      <td>unreliable</td>\n",
       "      <td>Bateria Panasonic Dmwbcf10 Lumix Dmc-fx60n Dmc...</td>\n",
       "      <td>CAMERA_BATTERIES</td>\n",
       "      <td>train</td>\n",
       "      <td>[bateria, panasonic, dmwbcf, lumix, dmc, fxn, ...</td>\n",
       "      <td>[15, 19, 17, 18, 16, 1, 1, 1]</td>\n",
       "      <td>4</td>\n",
       "      <td>632</td>\n",
       "      <td>4895280</td>\n",
       "    </tr>\n",
       "  </tbody>\n",
       "</table>\n",
       "</div>"
      ],
      "text/plain": [
       "  language label_quality                                              title  \\\n",
       "0  spanish      reliable                    Casita Muñecas Barbies Pintadas   \n",
       "1  spanish    unreliable                       Neceser Cromado Holográfico    \n",
       "2  spanish    unreliable               Funda Asiento A Medida D20 Chevrolet   \n",
       "3  spanish    unreliable  Embrague Ford Focus One 1.8 8v Td (90cv) Desde...   \n",
       "4  spanish    unreliable  Bateria Panasonic Dmwbcf10 Lumix Dmc-fx60n Dmc...   \n",
       "\n",
       "                 category  split  \\\n",
       "0              DOLLHOUSES  train   \n",
       "1           TOILETRY_BAGS  train   \n",
       "2         CAR_SEAT_COVERS  train   \n",
       "3  AUTOMOTIVE_CLUTCH_KITS  train   \n",
       "4        CAMERA_BATTERIES  train   \n",
       "\n",
       "                                     tokenized_title  \\\n",
       "0               [casita, muñecas, barbies, pintadas]   \n",
       "1                    [neceser, cromado, holográfico]   \n",
       "2                [funda, asiento, medida, chevrolet]   \n",
       "3                       [embrague, ford, focus, one]   \n",
       "4  [bateria, panasonic, dmwbcf, lumix, dmc, fxn, ...   \n",
       "\n",
       "                            data  target  n_labels     size  \n",
       "0           [50001, 2, 50000, 3]       0       632  4895280  \n",
       "1                      [6, 4, 5]       1       632  4895280  \n",
       "2                  [9, 7, 10, 8]       2       632  4895280  \n",
       "3               [11, 13, 12, 14]       3       632  4895280  \n",
       "4  [15, 19, 17, 18, 16, 1, 1, 1]       4       632  4895280  "
      ]
     },
     "execution_count": 7,
     "metadata": {},
     "output_type": "execute_result"
    }
   ],
   "source": [
    "train_df = pd.concat([x for x in pd.read_json(path_meli_train, lines=True, chunksize=100000)], ignore_index=True)\n",
    "train_df.head()"
   ]
  },
  {
   "cell_type": "code",
   "execution_count": 8,
   "metadata": {
    "colab": {
     "base_uri": "https://localhost:8080/"
    },
    "id": "BlabanLEphyL",
    "outputId": "c4829238-8680-46ac-9d80-d71c7504fc55"
   },
   "outputs": [
    {
     "name": "stdout",
     "output_type": "stream",
     "text": [
      "Hay 387237 registros que tienen etiquetas confiables y 4508043 registros que no, es decir un 8.59% tiene etiquetas confiables.\n"
     ]
    }
   ],
   "source": [
    "unreliable = train_df.label_quality.value_counts()[0]\n",
    "reliable = train_df.label_quality.value_counts()[1]\n",
    "\n",
    "print(f\"Hay {reliable} registros que tienen etiquetas confiables y {unreliable} registros que no, es decir un {round(reliable/unreliable*100,2)}% tiene etiquetas confiables.\")"
   ]
  },
  {
   "cell_type": "code",
   "execution_count": 9,
   "metadata": {
    "colab": {
     "base_uri": "https://localhost:8080/",
     "height": 395
    },
    "id": "1g1wOdVHIjOe",
    "outputId": "c400e62b-c430-49fd-c8d3-450013509d20"
   },
   "outputs": [
    {
     "data": {
      "text/html": [
       "<div>\n",
       "<style scoped>\n",
       "    .dataframe tbody tr th:only-of-type {\n",
       "        vertical-align: middle;\n",
       "    }\n",
       "\n",
       "    .dataframe tbody tr th {\n",
       "        vertical-align: top;\n",
       "    }\n",
       "\n",
       "    .dataframe thead th {\n",
       "        text-align: right;\n",
       "    }\n",
       "</style>\n",
       "<table border=\"1\" class=\"dataframe\">\n",
       "  <thead>\n",
       "    <tr style=\"text-align: right;\">\n",
       "      <th></th>\n",
       "      <th>title</th>\n",
       "    </tr>\n",
       "  </thead>\n",
       "  <tbody>\n",
       "    <tr>\n",
       "      <th>0</th>\n",
       "      <td>Casita Muñecas Barbies Pintadas</td>\n",
       "    </tr>\n",
       "    <tr>\n",
       "      <th>1</th>\n",
       "      <td>Neceser Cromado Holográfico</td>\n",
       "    </tr>\n",
       "    <tr>\n",
       "      <th>2</th>\n",
       "      <td>Funda Asiento A Medida D20 Chevrolet</td>\n",
       "    </tr>\n",
       "    <tr>\n",
       "      <th>3</th>\n",
       "      <td>Embrague Ford Focus One 1.8 8v Td (90cv) Desde...</td>\n",
       "    </tr>\n",
       "    <tr>\n",
       "      <th>4</th>\n",
       "      <td>Bateria Panasonic Dmwbcf10 Lumix Dmc-fx60n Dmc...</td>\n",
       "    </tr>\n",
       "  </tbody>\n",
       "</table>\n",
       "</div>"
      ],
      "text/plain": [
       "                                               title\n",
       "0                    Casita Muñecas Barbies Pintadas\n",
       "1                       Neceser Cromado Holográfico \n",
       "2               Funda Asiento A Medida D20 Chevrolet\n",
       "3  Embrague Ford Focus One 1.8 8v Td (90cv) Desde...\n",
       "4  Bateria Panasonic Dmwbcf10 Lumix Dmc-fx60n Dmc..."
      ]
     },
     "metadata": {},
     "output_type": "display_data"
    },
    {
     "data": {
      "text/html": [
       "<div>\n",
       "<style scoped>\n",
       "    .dataframe tbody tr th:only-of-type {\n",
       "        vertical-align: middle;\n",
       "    }\n",
       "\n",
       "    .dataframe tbody tr th {\n",
       "        vertical-align: top;\n",
       "    }\n",
       "\n",
       "    .dataframe thead th {\n",
       "        text-align: right;\n",
       "    }\n",
       "</style>\n",
       "<table border=\"1\" class=\"dataframe\">\n",
       "  <thead>\n",
       "    <tr style=\"text-align: right;\">\n",
       "      <th></th>\n",
       "      <th>category</th>\n",
       "    </tr>\n",
       "  </thead>\n",
       "  <tbody>\n",
       "    <tr>\n",
       "      <th>0</th>\n",
       "      <td>DOLLHOUSES</td>\n",
       "    </tr>\n",
       "    <tr>\n",
       "      <th>1</th>\n",
       "      <td>TOILETRY_BAGS</td>\n",
       "    </tr>\n",
       "    <tr>\n",
       "      <th>2</th>\n",
       "      <td>CAR_SEAT_COVERS</td>\n",
       "    </tr>\n",
       "    <tr>\n",
       "      <th>3</th>\n",
       "      <td>AUTOMOTIVE_CLUTCH_KITS</td>\n",
       "    </tr>\n",
       "    <tr>\n",
       "      <th>4</th>\n",
       "      <td>CAMERA_BATTERIES</td>\n",
       "    </tr>\n",
       "  </tbody>\n",
       "</table>\n",
       "</div>"
      ],
      "text/plain": [
       "                 category\n",
       "0              DOLLHOUSES\n",
       "1           TOILETRY_BAGS\n",
       "2         CAR_SEAT_COVERS\n",
       "3  AUTOMOTIVE_CLUTCH_KITS\n",
       "4        CAMERA_BATTERIES"
      ]
     },
     "metadata": {},
     "output_type": "display_data"
    }
   ],
   "source": [
    "X_train, y_train = train_df[['title']], train_df[['category']]\n",
    "\n",
    "display(X_train.head())\n",
    "\n",
    "display(y_train.head())"
   ]
  },
  {
   "cell_type": "markdown",
   "metadata": {
    "id": "eObIuQe3KQOr"
   },
   "source": [
    "Inspeccionamos la data de Test"
   ]
  },
  {
   "cell_type": "code",
   "execution_count": 10,
   "metadata": {
    "colab": {
     "base_uri": "https://localhost:8080/",
     "height": 493
    },
    "id": "3kVugbNLKSgU",
    "outputId": "b1fb3772-170e-45ec-c37d-738b002a36a3"
   },
   "outputs": [
    {
     "data": {
      "text/html": [
       "<div>\n",
       "<style scoped>\n",
       "    .dataframe tbody tr th:only-of-type {\n",
       "        vertical-align: middle;\n",
       "    }\n",
       "\n",
       "    .dataframe tbody tr th {\n",
       "        vertical-align: top;\n",
       "    }\n",
       "\n",
       "    .dataframe thead th {\n",
       "        text-align: right;\n",
       "    }\n",
       "</style>\n",
       "<table border=\"1\" class=\"dataframe\">\n",
       "  <thead>\n",
       "    <tr style=\"text-align: right;\">\n",
       "      <th></th>\n",
       "      <th>language</th>\n",
       "      <th>label_quality</th>\n",
       "      <th>title</th>\n",
       "      <th>category</th>\n",
       "      <th>split</th>\n",
       "      <th>tokenized_title</th>\n",
       "      <th>data</th>\n",
       "      <th>target</th>\n",
       "      <th>n_labels</th>\n",
       "      <th>size</th>\n",
       "    </tr>\n",
       "  </thead>\n",
       "  <tbody>\n",
       "    <tr>\n",
       "      <th>0</th>\n",
       "      <td>spanish</td>\n",
       "      <td>reliable</td>\n",
       "      <td>Mochilas Maternales Bolsos Bebe Simil Cuero Ma...</td>\n",
       "      <td>DIAPER_BAGS</td>\n",
       "      <td>test</td>\n",
       "      <td>[mochilas, maternales, bolsos, bebe, simil, cu...</td>\n",
       "      <td>[5650, 5271, 5268, 915, 2724, 375, 37363]</td>\n",
       "      <td>318</td>\n",
       "      <td>632</td>\n",
       "      <td>63680</td>\n",
       "    </tr>\n",
       "    <tr>\n",
       "      <th>1</th>\n",
       "      <td>spanish</td>\n",
       "      <td>reliable</td>\n",
       "      <td>Bolso Maternal/bebe Incluye Cambiador + Correa...</td>\n",
       "      <td>DIAPER_BAGS</td>\n",
       "      <td>test</td>\n",
       "      <td>[bolso, maternal, bebe, incluye, cambiador, co...</td>\n",
       "      <td>[502, 2742, 915, 3031, 2740, 1840, 4635]</td>\n",
       "      <td>318</td>\n",
       "      <td>632</td>\n",
       "      <td>63680</td>\n",
       "    </tr>\n",
       "    <tr>\n",
       "      <th>2</th>\n",
       "      <td>spanish</td>\n",
       "      <td>reliable</td>\n",
       "      <td>Mochila Maternal Land  + Gancho Envio Gratis-cc</td>\n",
       "      <td>DIAPER_BAGS</td>\n",
       "      <td>test</td>\n",
       "      <td>[mochila, maternal, land, gancho, envio, gratis]</td>\n",
       "      <td>[337, 2742, 2741, 3303, 211, 1429]</td>\n",
       "      <td>318</td>\n",
       "      <td>632</td>\n",
       "      <td>63680</td>\n",
       "    </tr>\n",
       "    <tr>\n",
       "      <th>3</th>\n",
       "      <td>spanish</td>\n",
       "      <td>reliable</td>\n",
       "      <td>Bolso Maternal Moderno Con Cambiador Y Correa ...</td>\n",
       "      <td>DIAPER_BAGS</td>\n",
       "      <td>test</td>\n",
       "      <td>[bolso, maternal, moderno, cambiador, correa, ...</td>\n",
       "      <td>[502, 2742, 2983, 2740, 1840, 476, 2990]</td>\n",
       "      <td>318</td>\n",
       "      <td>632</td>\n",
       "      <td>63680</td>\n",
       "    </tr>\n",
       "    <tr>\n",
       "      <th>4</th>\n",
       "      <td>spanish</td>\n",
       "      <td>reliable</td>\n",
       "      <td>Bolso Maternal Moderno Con Cambiador Y Correa ...</td>\n",
       "      <td>DIAPER_BAGS</td>\n",
       "      <td>test</td>\n",
       "      <td>[bolso, maternal, moderno, cambiador, correa, ...</td>\n",
       "      <td>[502, 2742, 2983, 2740, 1840, 4635]</td>\n",
       "      <td>318</td>\n",
       "      <td>632</td>\n",
       "      <td>63680</td>\n",
       "    </tr>\n",
       "  </tbody>\n",
       "</table>\n",
       "</div>"
      ],
      "text/plain": [
       "  language label_quality                                              title  \\\n",
       "0  spanish      reliable  Mochilas Maternales Bolsos Bebe Simil Cuero Ma...   \n",
       "1  spanish      reliable  Bolso Maternal/bebe Incluye Cambiador + Correa...   \n",
       "2  spanish      reliable    Mochila Maternal Land  + Gancho Envio Gratis-cc   \n",
       "3  spanish      reliable  Bolso Maternal Moderno Con Cambiador Y Correa ...   \n",
       "4  spanish      reliable  Bolso Maternal Moderno Con Cambiador Y Correa ...   \n",
       "\n",
       "      category split                                    tokenized_title  \\\n",
       "0  DIAPER_BAGS  test  [mochilas, maternales, bolsos, bebe, simil, cu...   \n",
       "1  DIAPER_BAGS  test  [bolso, maternal, bebe, incluye, cambiador, co...   \n",
       "2  DIAPER_BAGS  test   [mochila, maternal, land, gancho, envio, gratis]   \n",
       "3  DIAPER_BAGS  test  [bolso, maternal, moderno, cambiador, correa, ...   \n",
       "4  DIAPER_BAGS  test  [bolso, maternal, moderno, cambiador, correa, ...   \n",
       "\n",
       "                                        data  target  n_labels   size  \n",
       "0  [5650, 5271, 5268, 915, 2724, 375, 37363]     318       632  63680  \n",
       "1   [502, 2742, 915, 3031, 2740, 1840, 4635]     318       632  63680  \n",
       "2         [337, 2742, 2741, 3303, 211, 1429]     318       632  63680  \n",
       "3   [502, 2742, 2983, 2740, 1840, 476, 2990]     318       632  63680  \n",
       "4        [502, 2742, 2983, 2740, 1840, 4635]     318       632  63680  "
      ]
     },
     "execution_count": 10,
     "metadata": {},
     "output_type": "execute_result"
    }
   ],
   "source": [
    "test_df = pd.concat([x for x in pd.read_json(path_meli_test, lines=True, chunksize=100000)], ignore_index=True)\n",
    "test_df.head()"
   ]
  },
  {
   "cell_type": "code",
   "execution_count": 11,
   "metadata": {
    "colab": {
     "base_uri": "https://localhost:8080/",
     "height": 395
    },
    "id": "RUbI4w4eKbOg",
    "outputId": "3370ecdb-e728-4552-be42-eab5ea18286d"
   },
   "outputs": [
    {
     "data": {
      "text/html": [
       "<div>\n",
       "<style scoped>\n",
       "    .dataframe tbody tr th:only-of-type {\n",
       "        vertical-align: middle;\n",
       "    }\n",
       "\n",
       "    .dataframe tbody tr th {\n",
       "        vertical-align: top;\n",
       "    }\n",
       "\n",
       "    .dataframe thead th {\n",
       "        text-align: right;\n",
       "    }\n",
       "</style>\n",
       "<table border=\"1\" class=\"dataframe\">\n",
       "  <thead>\n",
       "    <tr style=\"text-align: right;\">\n",
       "      <th></th>\n",
       "      <th>title</th>\n",
       "    </tr>\n",
       "  </thead>\n",
       "  <tbody>\n",
       "    <tr>\n",
       "      <th>0</th>\n",
       "      <td>Mochilas Maternales Bolsos Bebe Simil Cuero Ma...</td>\n",
       "    </tr>\n",
       "    <tr>\n",
       "      <th>1</th>\n",
       "      <td>Bolso Maternal/bebe Incluye Cambiador + Correa...</td>\n",
       "    </tr>\n",
       "    <tr>\n",
       "      <th>2</th>\n",
       "      <td>Mochila Maternal Land  + Gancho Envio Gratis-cc</td>\n",
       "    </tr>\n",
       "    <tr>\n",
       "      <th>3</th>\n",
       "      <td>Bolso Maternal Moderno Con Cambiador Y Correa ...</td>\n",
       "    </tr>\n",
       "    <tr>\n",
       "      <th>4</th>\n",
       "      <td>Bolso Maternal Moderno Con Cambiador Y Correa ...</td>\n",
       "    </tr>\n",
       "  </tbody>\n",
       "</table>\n",
       "</div>"
      ],
      "text/plain": [
       "                                               title\n",
       "0  Mochilas Maternales Bolsos Bebe Simil Cuero Ma...\n",
       "1  Bolso Maternal/bebe Incluye Cambiador + Correa...\n",
       "2    Mochila Maternal Land  + Gancho Envio Gratis-cc\n",
       "3  Bolso Maternal Moderno Con Cambiador Y Correa ...\n",
       "4  Bolso Maternal Moderno Con Cambiador Y Correa ..."
      ]
     },
     "metadata": {},
     "output_type": "display_data"
    },
    {
     "data": {
      "text/html": [
       "<div>\n",
       "<style scoped>\n",
       "    .dataframe tbody tr th:only-of-type {\n",
       "        vertical-align: middle;\n",
       "    }\n",
       "\n",
       "    .dataframe tbody tr th {\n",
       "        vertical-align: top;\n",
       "    }\n",
       "\n",
       "    .dataframe thead th {\n",
       "        text-align: right;\n",
       "    }\n",
       "</style>\n",
       "<table border=\"1\" class=\"dataframe\">\n",
       "  <thead>\n",
       "    <tr style=\"text-align: right;\">\n",
       "      <th></th>\n",
       "      <th>category</th>\n",
       "    </tr>\n",
       "  </thead>\n",
       "  <tbody>\n",
       "    <tr>\n",
       "      <th>0</th>\n",
       "      <td>DIAPER_BAGS</td>\n",
       "    </tr>\n",
       "    <tr>\n",
       "      <th>1</th>\n",
       "      <td>DIAPER_BAGS</td>\n",
       "    </tr>\n",
       "    <tr>\n",
       "      <th>2</th>\n",
       "      <td>DIAPER_BAGS</td>\n",
       "    </tr>\n",
       "    <tr>\n",
       "      <th>3</th>\n",
       "      <td>DIAPER_BAGS</td>\n",
       "    </tr>\n",
       "    <tr>\n",
       "      <th>4</th>\n",
       "      <td>DIAPER_BAGS</td>\n",
       "    </tr>\n",
       "  </tbody>\n",
       "</table>\n",
       "</div>"
      ],
      "text/plain": [
       "      category\n",
       "0  DIAPER_BAGS\n",
       "1  DIAPER_BAGS\n",
       "2  DIAPER_BAGS\n",
       "3  DIAPER_BAGS\n",
       "4  DIAPER_BAGS"
      ]
     },
     "metadata": {},
     "output_type": "display_data"
    }
   ],
   "source": [
    "X_test, y_test = test_df[['title']], test_df[['category']]\n",
    "\n",
    "display(X_test.head())\n",
    "display(y_test.head())"
   ]
  },
  {
   "cell_type": "markdown",
   "metadata": {
    "id": "m5cQ0ln6K89z"
   },
   "source": [
    "Chequeamos que las categorías en train y test sean las mismas:"
   ]
  },
  {
   "cell_type": "code",
   "execution_count": 12,
   "metadata": {
    "id": "RB9FX80RR4Iv"
   },
   "outputs": [],
   "source": [
    "n_categories = len(y_train.category.unique())"
   ]
  },
  {
   "cell_type": "code",
   "execution_count": 13,
   "metadata": {
    "colab": {
     "base_uri": "https://localhost:8080/"
    },
    "id": "E3618aSYLDLI",
    "outputId": "3d42954c-3545-47c6-ad12-db03569c72b7"
   },
   "outputs": [
    {
     "data": {
      "text/plain": [
       "632"
      ]
     },
     "execution_count": 13,
     "metadata": {},
     "output_type": "execute_result"
    }
   ],
   "source": [
    "len(y_train.category.unique())"
   ]
  },
  {
   "cell_type": "code",
   "execution_count": 14,
   "metadata": {
    "colab": {
     "base_uri": "https://localhost:8080/"
    },
    "id": "7aX9AxqGLMWh",
    "outputId": "0f69789a-7a34-4351-da2a-7a04c72d4790"
   },
   "outputs": [
    {
     "data": {
      "text/plain": [
       "632"
      ]
     },
     "execution_count": 14,
     "metadata": {},
     "output_type": "execute_result"
    }
   ],
   "source": [
    "len(y_test.category.unique())"
   ]
  },
  {
   "cell_type": "code",
   "execution_count": 15,
   "metadata": {
    "colab": {
     "base_uri": "https://localhost:8080/"
    },
    "id": "pn_Ix5fBLTsM",
    "outputId": "deff83f5-cc7f-4372-83ed-46b450139e09"
   },
   "outputs": [
    {
     "data": {
      "text/plain": [
       "632"
      ]
     },
     "execution_count": 15,
     "metadata": {},
     "output_type": "execute_result"
    }
   ],
   "source": [
    "len(set(y_train.category.unique()).intersection(set(y_test.category.unique())))"
   ]
  },
  {
   "cell_type": "markdown",
   "metadata": {
    "id": "nEPiJJ_qlWFy"
   },
   "source": [
    "## Preprocesamiento\n",
    "\n",
    "Vamos a utilizar el siguiente procesador, visto en clase ([notebook 4](link)). Este se encargará de preprocesar el texto (i.e. normalizarlo) y transformará las palabras en índices de un diccionario para luego poder pasar una secuencia de palabras para buscar en la matriz de embeddings y así permitir mayor manipulación de los embeddings (en lugar de utilizar embeddings fijos).\n",
    "\n",
    "Vamos a estar trabajando con la librería [gensim](https://pypi.org/project/gensim/) previamente importada para el procesamiento del lenguaje natural.\n",
    "\n",
    "En cuanto los pasos de preprocesamiento realizados, permiten uniformizar el texto de la mejor manera posible y contemplan lo siguiente:\n",
    "\n",
    "*   Pasar el texto a minúsculas (lower case).\n",
    "*   Remover tags de HTML que puedan estar embebidas en el texto.\n",
    "*   Remover símbolos de puntuación.\n",
    "*   Limpiar espacios: remover espacios múltiples y espacios en exceso al inicio o al final del texto ('title').\n",
    "*   Remover valores numéricos.\n",
    "*   Remover stopwords."
   ]
  },
  {
   "cell_type": "code",
   "execution_count": 16,
   "metadata": {
    "id": "vmh3pqlflWFz"
   },
   "outputs": [],
   "source": [
    "class RawDataProcessor:\n",
    "    def __init__(self, \n",
    "                 dataset, \n",
    "                 ignore_header=True, \n",
    "                 filters=None, \n",
    "                 vocab_size=50000):\n",
    "        if filters:\n",
    "            self.filters = filters\n",
    "        else:\n",
    "            self.filters = [\n",
    "                lambda s: s.lower(),\n",
    "                preprocessing.strip_tags,\n",
    "                preprocessing.strip_punctuation,\n",
    "                preprocessing.strip_multiple_whitespaces,\n",
    "                preprocessing.strip_numeric,\n",
    "                preprocessing.remove_stopwords,\n",
    "                preprocessing.strip_short,\n",
    "            ]\n",
    "        \n",
    "        # Create dictionary based on all the reviews (with corresponding preprocessing)\n",
    "        # https://radimrehurek.com/gensim/corpora/dictionary.html\n",
    "        self.dictionary = corpora.Dictionary(\n",
    "            dataset[\"title\"].map(self._preprocess_string).tolist()\n",
    "        )\n",
    "        # Filter the dictionary with extremos words\n",
    "        # https://tedboy.github.io/nlps/generated/generated/gensim.corpora.Dictionary.filter_extremes.html?highlight=filter_extrem\n",
    " #       self.dictionary.filter_extremes(no_below=2, no_above=1, keep_n=vocab_size)\n",
    "        \n",
    "        # Make the indices continuous after some words have been removed\n",
    "        # https://tedboy.github.io/nlps/generated/generated/gensim.corpora.Dictionary.compactify.html\n",
    "        self.dictionary.compactify()\n",
    "        \n",
    "\n",
    "        self.idx_to_target = sorted(dataset[\"category\"].unique())\n",
    "        self.target_to_idx = {t: i for i, t in enumerate(self.idx_to_target)}\n",
    "\n",
    "\n",
    "    def _preprocess_string(self, string):\n",
    "        # https://radimrehurek.com/gensim/parsing/preprocessing.html#gensim.parsing.preprocessing.preprocess_string:~:text=gensim.parsing.preprocessing.preprocess_string\n",
    "        return preprocessing.preprocess_string(string, filters=self.filters)\n",
    "\n",
    "    def _sentence_to_indices(self, sentence):\n",
    "      # https://radimrehurek.com/gensim/corpora/dictionary.html#:~:text=doc2idx(document,via%20unknown_word_index.\n",
    "        return self.dictionary.doc2idx(sentence, unknown_word_index=1)\n",
    "    \n",
    "    def encode_data(self, data):\n",
    "        return self._sentence_to_indices(self._preprocess_string(data))\n",
    "    \n",
    "    def encode_target(self, target):\n",
    "        return self.target_to_idx[target]\n",
    "    \n",
    "    def __call__(self, item):\n",
    "        if isinstance(item[\"data\"], str):\n",
    "            data = self.encode_data(item[\"data\"])\n",
    "        else:\n",
    "            data = [self.encode_data(d) for d in item[\"data\"]]\n",
    "        \n",
    "        if isinstance(item[\"target\"], str):\n",
    "            target = self.encode_target(item[\"target\"])\n",
    "        else:\n",
    "            target = [self.encode_target(t) for t in item[\"target\"]]\n",
    "        \n",
    "        return {\n",
    "            \"data\": data,\n",
    "            \"target\": target\n",
    "        }"
   ]
  },
  {
   "cell_type": "markdown",
   "metadata": {
    "id": "mYyDGXQYlWF1"
   },
   "source": [
    "## Lectura de datos\n",
    "\n",
    "Leemos los datos del MeLiChallenge para utilizarlos en el entrenamiento y evaluación del modelo. En este caso no es necesario dividirlos entre test y training, ya que los mismos ya se encuentran divididos como tal desde los archivos de entrada."
   ]
  },
  {
   "cell_type": "code",
   "execution_count": 17,
   "metadata": {
    "colab": {
     "base_uri": "https://localhost:8080/"
    },
    "id": "cAoItVk-lWF2",
    "outputId": "0d30fe99-8c6d-41c2-de15-b72736170144"
   },
   "outputs": [
    {
     "name": "stdout",
     "output_type": "stream",
     "text": [
      "Datasets loaded with 4895280 training elements and 63680 test elements\n",
      "Sample train element:\n",
      "{'data': [1, 2, 0, 3], 'target': 188}\n"
     ]
    }
   ],
   "source": [
    "preprocess_train = RawDataProcessor(train_df)\n",
    "train_dataset = MeLiChallengeDataset(train_df, transform=preprocess_train)\n",
    "\n",
    "preprocess_test = RawDataProcessor(test_df)\n",
    "test_dataset = MeLiChallengeDataset(test_df, transform=preprocess_test)\n",
    "\n",
    "print(f\"Datasets loaded with {len(train_dataset)} training elements and {len(test_dataset)} test elements\")\n",
    "print(f\"Sample train element:\\n{train_dataset[0]}\")"
   ]
  },
  {
   "cell_type": "markdown",
   "metadata": {
    "id": "Gk0jiZSXlWF3"
   },
   "source": [
    "## Collation function\n",
    "\n",
    "Como en este caso trabajamos con secuencias de palabras (representadas por sus índices en un vocabulario), cuando queremos buscar un *batch* de datos, el `DataLoader` de PyTorch espera que los datos del *batch* tengan la misma dimensión (para poder llevarlos todos a un tensor de dimensión fija). Esto lo podemos lograr mediante el parámetro de `collate_fn`. En particular, esta función se encarga de tomar varios elementos de un `Dataset` y combinarlos de manera que puedan ser devueltos como un tensor de PyTorch.\n",
    "\n",
    "En nuestro caso, como se vio en clase, definimos un módulo `PadSequences` que toma un valor mínimo, opcionalmente un valor máximo y un valor de relleno (*pad*) y dada una lista de secuencias, devuelve un tensor con *padding* sobre dichas secuencias."
   ]
  },
  {
   "cell_type": "code",
   "execution_count": 18,
   "metadata": {
    "id": "1y7OrMIZlWF3"
   },
   "outputs": [],
   "source": [
    "class PadSequences:\n",
    "    def __init__(self, pad_value=0, max_length=None, min_length=1):\n",
    "        assert max_length is None or min_length <= max_length\n",
    "        self.pad_value = pad_value\n",
    "        self.max_length = max_length\n",
    "        self.min_length = min_length\n",
    "\n",
    "    def __call__(self, items):\n",
    "        data, target = list(zip(*[(item[\"data\"], item[\"target\"]) for item in items]))\n",
    "        seq_lengths = [len(d) for d in data]\n",
    "\n",
    "        if self.max_length:\n",
    "            max_length = self.max_length\n",
    "            seq_lengths = [min(self.max_length, l) for l in seq_lengths]\n",
    "        else:\n",
    "            max_length = max(self.min_length, max(seq_lengths))\n",
    "\n",
    "        data = [d[:l] + [self.pad_value] * (max_length - l)\n",
    "                for d, l in zip(data, seq_lengths)]\n",
    "            \n",
    "        return {\n",
    "            \"data\": torch.LongTensor(data),\n",
    "            \"target\": torch.LongTensor(target)\n",
    "        }"
   ]
  },
  {
   "cell_type": "markdown",
   "metadata": {
    "id": "ffTIjXIIlWF3"
   },
   "source": [
    "## DataLoaders\n",
    "\n",
    "Ya habiendo definido nuestros conjuntos de datos y nuestra `collation_fn`, podemos definir nuestros `DataLoader`, uno para entrenamiento y otro para evaluación. \n",
    "\n",
    "Notar que `shuffle = False` para el caso del loader de evaluación, dado que no queremos mezclar los valores de evaluación cada vez que evaluamos porque al evaluar mediante *mini-batchs* nos puede generar inconsistencias."
   ]
  },
  {
   "cell_type": "code",
   "execution_count": 19,
   "metadata": {
    "id": "_nDbLYnwlWF4",
    "scrolled": true
   },
   "outputs": [],
   "source": [
    "pad_sequences = PadSequences()\n",
    "train_loader = DataLoader(train_dataset, batch_size=128, shuffle=True,\n",
    "                          collate_fn=pad_sequences, drop_last=False)\n",
    "test_loader = DataLoader(test_dataset, batch_size=128, shuffle=False,\n",
    "                         collate_fn=pad_sequences, drop_last=False)"
   ]
  },
  {
   "cell_type": "markdown",
   "metadata": {
    "id": "IuuULUMKlWF4"
   },
   "source": [
    "## El modelo de clasificación\n",
    "\n",
    "Para clasificación utilizaremos un perceptrón multicapa de dos capas ocultas, como se vio en clase. \n",
    "\n",
    "El tamaño de las distintas capas ocultas y la capa de salida son parámetros del modelo. \n",
    "\n",
    "En particular, tenemos la capa de `Embeddings` que es rellenada con los valores de embeddings preentrenados (los de Glove en este caso). \n",
    "\n",
    "En el caso de la capa de salida, se asume que el número de nodos se corresponde con el número de categorías posibles, en este caso 632. Los valores de salida son continuos (y van de 0 a 1). Luego, para determinar la clase predicha por el modelo, por fuera de la arquitectura de la red neuronal tomamos el máximo de todos los valores de salida y asignamos al nodo con el valor máximo un 1, y al resto 0 (ver sección de MLflow)."
   ]
  },
  {
   "cell_type": "code",
   "execution_count": 20,
   "metadata": {
    "id": "-DGxcn3ulWF4"
   },
   "outputs": [],
   "source": [
    "import torch.nn.functional as F\n",
    "\n",
    "class MeLiChallengeClassifier(nn.Module):\n",
    "    def __init__(self, \n",
    "                 pretrained_embeddings_path, \n",
    "                 dictionary,\n",
    "                 vector_size,\n",
    "                 freeze_embedings,\n",
    "                 output_size,\n",
    "                 hidden1_size,\n",
    "                 hidden2_size):\n",
    "        super().__init__()\n",
    "        embeddings_matrix = torch.randn(len(dictionary), vector_size)\n",
    "        embeddings_matrix[0] = torch.zeros(vector_size)\n",
    "        with gzip.open(pretrained_embeddings_path, \"rt\") as fh:\n",
    "            for line in fh:\n",
    "                word, vector = line.strip().split(None, 1)\n",
    "                if word in dictionary.token2id:\n",
    "                    embeddings_matrix[dictionary.token2id[word]] =\\\n",
    "                        torch.FloatTensor([float(n) for n in vector.split()])\n",
    "        self.embeddings = nn.Embedding.from_pretrained(embeddings_matrix,\n",
    "                                                       freeze=freeze_embedings,\n",
    "                                                       padding_idx=0)\n",
    "        self.hidden1 = nn.Linear(vector_size, hidden1_size)\n",
    "        self.hidden2 = nn.Linear(hidden1_size, hidden2_size)\n",
    "        self.output = nn.Linear(hidden2_size, output_size)\n",
    "        self.vector_size = vector_size\n",
    "    \n",
    "    def forward(self, x):\n",
    "        x = self.embeddings(x)\n",
    "        x = torch.mean(x, dim=1)\n",
    "        x = F.relu(self.hidden1(x))\n",
    "        x = F.relu(self.hidden2(x))\n",
    "        x =  torch.sigmoid(self.output(x))\n",
    "        return x"
   ]
  },
  {
   "cell_type": "markdown",
   "metadata": {
    "id": "YP5SzP2QlWF5"
   },
   "source": [
    "## Experimento de MLflow\n",
    "\n",
    "Utilizamos MLflow para hacer un mejor seguimiento del experimento y registramos la siguiente información: parámetros, métricas, error y artefactos (resultados de la predicción).\n",
    "\n",
    "Seteamos los parámetros de antemano e hicimos las siguientes modificaciones respecto a la versión vista en clases:\n",
    "\n",
    "*   Utilizamos `balanced accuracy` como la métrica de evaluación, a modo de prevenir la influencia de desbalances en la distribución de clases en los datos\n",
    "*   Utilizamos Cross Entropy Loss dado que se trata de un problema de clasificación multi-clase\n",
    "*   Agregamos un paso previo a la evaluación de las predicciones, que toma el valor máximo de la capa de salida (output layer) y asigna 1 al nodo que tiene el valor máximo y 0 en los otros casos. De este modo nos aseguramos de que haya una sola clase como output."
   ]
  },
  {
   "cell_type": "code",
   "execution_count": 21,
   "metadata": {
    "id": "tVGFQzOkRplR"
   },
   "outputs": [],
   "source": [
    "embedding_size = 50\n",
    "hidden1_size = 128*5\n",
    "hidden2_size = 128*5\n",
    "output_size = n_categories"
   ]
  },
  {
   "cell_type": "code",
   "execution_count": 22,
   "metadata": {
    "colab": {
     "base_uri": "https://localhost:8080/",
     "height": 217,
     "referenced_widgets": [
      "8d9db4cd2cfa41e78ba8a5604a1a3ba4",
      "7ddc7186adaf4c71935dc2fe3da41238",
      "6f31a8b3275c43039e136d1d525f4e10",
      "0f5b0284033a4fb390a6e88ec979f3e2",
      "6f58c9cd27da40f1943ae6a7a5283527",
      "1f7122a2fd034707a0e528f2210bcae1",
      "7e2c4ec259d04c1089ab42106578f2d6",
      "df8614b524ef44a496845c29657e4f6f",
      "f5e754d3121140b2b2fa44d7746b4688",
      "e16a0d6c537e4ac991b2901aee2a3e6d",
      "2fdacd3276694e6fab0a4d6c0b8495fb",
      "c69774f03e4c4a6192841e4c7ddb8cae",
      "518fdc0350fd4fe881a3539d2af9e359",
      "bfe06c681f30420a8adf3ca264f1428f",
      "1c3a45972b2c4781ac8103c63dfd218d",
      "7dd7d201a7ba45c1bff6cd33c8c0edc2",
      "0184f3ac17bb488290478a3412aba4ee",
      "51e530bd87dd4a05861d628a5ad08625",
      "8145be9dfeba4ae29a4cdc89854b89f9",
      "bcce78dc41e5475da21348ab2484bea1",
      "e8ad374d0c0c46c5b612e22a44774358",
      "9375131e72724c50973c22535540d59f",
      "9b882df7cc8848798a0057bec0f759d3",
      "275ee49a1f81470a91b5a4f1cdf834b1",
      "006d39c7237246429ab1d95f758defd2",
      "2b0bde3557e941cfa1caf246339dc98f",
      "20c54410288c4993b8805d28033f1c9d",
      "54ef591b3bbe4588a2f9f93796b6dfa2",
      "8df241b055374e6fb347235445970524",
      "6c5e7b055ba74e1eb64dd65050d8a1be",
      "7d700ed5da1744f48b13a8b8633d9548",
      "67df93826895428ba46349631151649c",
      "ebe619bafbf348a8adf4e7451bc96330",
      "925a7e1a0c1f46719b61912a5b79852b",
      "b4325aa14ce94aafb4c9ccb3367c099b",
      "c12ec99bdf27400ab0e87f1fa8ea78ba",
      "e1b5867e412046f38a2b758f81baedfd",
      "452a1d7547684732befbf2a6e35f84e4",
      "1faf411b6ee74b89b7896c715b71e559",
      "52fc2d04cebc4779b853bc46c79742f2",
      "4e0366bd31914903b7102a34702761b5",
      "1a48aad4ccd84d8e9fc6118403154c51",
      "53715d83239d4d708e4281bea1516d1e",
      "aee65b35c5214309a617ffaea8e97f14"
     ]
    },
    "id": "ATF0NzLclWF5",
    "outputId": "0a9852d3-c285-4784-d75a-d80cbfcab013"
   },
   "outputs": [
    {
     "name": "stderr",
     "output_type": "stream",
     "text": [
      "/run/user/1000/app/com.jetbrains.PyCharm-Community/ipykernel_920319/2135066365.py:1: FutureWarning: The pandas.datetime class is deprecated and will be removed from pandas in a future version. Import from datetime module instead.\n",
      "  EXPERIMENT = f\"deep_learning_MLP_experiment_{pd.datetime.now().strftime('%Y-%m-%dT%H%M%S')}\"\n"
     ]
    },
    {
     "data": {
      "application/vnd.jupyter.widget-view+json": {
       "model_id": "476cab5fea8d4d6b8d73b94daf893ffc",
       "version_major": 2,
       "version_minor": 0
      },
      "text/plain": [
       "  0%|          | 0/3 [00:00<?, ?it/s]"
      ]
     },
     "metadata": {},
     "output_type": "display_data"
    },
    {
     "data": {
      "application/vnd.jupyter.widget-view+json": {
       "model_id": "2c619e721a314164bac6d48fa99fa6ee",
       "version_major": 2,
       "version_minor": 0
      },
      "text/plain": [
       "  0%|          | 0/38245 [00:00<?, ?it/s]"
      ]
     },
     "metadata": {},
     "output_type": "display_data"
    },
    {
     "data": {
      "application/vnd.jupyter.widget-view+json": {
       "model_id": "844635afada44e21966f5e9dde9e51b0",
       "version_major": 2,
       "version_minor": 0
      },
      "text/plain": [
       "  0%|          | 0/498 [00:00<?, ?it/s]"
      ]
     },
     "metadata": {},
     "output_type": "display_data"
    },
    {
     "name": "stdout",
     "output_type": "stream",
     "text": [
      "0.0014819387785376772\n"
     ]
    },
    {
     "data": {
      "application/vnd.jupyter.widget-view+json": {
       "model_id": "6efc58dc69254824b295bf70b6829faf",
       "version_major": 2,
       "version_minor": 0
      },
      "text/plain": [
       "  0%|          | 0/38245 [00:00<?, ?it/s]"
      ]
     },
     "metadata": {},
     "output_type": "display_data"
    },
    {
     "data": {
      "application/vnd.jupyter.widget-view+json": {
       "model_id": "e12738e616a04d999f4c5517a9721c13",
       "version_major": 2,
       "version_minor": 0
      },
      "text/plain": [
       "  0%|          | 0/498 [00:00<?, ?it/s]"
      ]
     },
     "metadata": {},
     "output_type": "display_data"
    },
    {
     "name": "stdout",
     "output_type": "stream",
     "text": [
      "0.0017898512540640192\n"
     ]
    },
    {
     "data": {
      "application/vnd.jupyter.widget-view+json": {
       "model_id": "649f2f1a996a4c04bd9c02a984872e0f",
       "version_major": 2,
       "version_minor": 0
      },
      "text/plain": [
       "  0%|          | 0/38245 [00:00<?, ?it/s]"
      ]
     },
     "metadata": {},
     "output_type": "display_data"
    },
    {
     "data": {
      "application/vnd.jupyter.widget-view+json": {
       "model_id": "88d96cf3335f4b2ca0242e57734cd4f4",
       "version_major": 2,
       "version_minor": 0
      },
      "text/plain": [
       "  0%|          | 0/498 [00:00<?, ?it/s]"
      ]
     },
     "metadata": {},
     "output_type": "display_data"
    },
    {
     "name": "stdout",
     "output_type": "stream",
     "text": [
      "0.002244646838377341\n"
     ]
    },
    {
     "data": {
      "application/vnd.jupyter.widget-view+json": {
       "model_id": "26db91b3d3bb4deeb9f98588a16d4534",
       "version_major": 2,
       "version_minor": 0
      },
      "text/plain": [
       "  0%|          | 0/498 [00:00<?, ?it/s]"
      ]
     },
     "metadata": {},
     "output_type": "display_data"
    }
   ],
   "source": [
    "EXPERIMENT = f\"deep_learning_MLP_experiment_{pd.datetime.now().strftime('%Y-%m-%dT%H%M%S')}\"\n",
    "\n",
    "mlflow.create_experiment(EXPERIMENT)\n",
    "\n",
    "with mlflow.start_run():\n",
    "    mlflow.log_param(\"model_name\", \"mlp\")\n",
    "    mlflow.log_param(\"freeze_embedding\", True)\n",
    "    mlflow.log_params({\n",
    "        \"embedding_size\": embedding_size,\n",
    "        \"hidden1_size\": hidden1_size,\n",
    "        \"hidden2_size\": hidden2_size\n",
    "    })\n",
    "    model = MeLiChallengeClassifier(path_glove,\n",
    "                                    preprocess_train.dictionary,\n",
    "                                    embedding_size,\n",
    "                                    True,\n",
    "                                    output_size,\n",
    "                                    hidden1_size,\n",
    "                                    hidden2_size)\n",
    "    loss = nn.CrossEntropyLoss() # Usamos Cross Entropy Loss al tratarse de un multi-class classification problem\n",
    "    optimizer = optim.Adam(model.parameters(), lr=1e-3, weight_decay=1e-5)\n",
    "    for epoch in trange(3):\n",
    "        model.train()\n",
    "        running_loss = []\n",
    "        for idx, batch in enumerate(tqdm(train_loader)):\n",
    "            optimizer.zero_grad()\n",
    "            output = model(batch[\"data\"])\n",
    "            loss_value = loss(output, batch[\"target\"])\n",
    "            loss_value.backward()\n",
    "            optimizer.step()\n",
    "            running_loss.append(loss_value.item())        \n",
    "        mlflow.log_metric(\"train_loss\", sum(running_loss) / len(running_loss), epoch)\n",
    "        \n",
    "        model.eval()\n",
    "        running_loss = []\n",
    "        targets = []\n",
    "        predictions = []\n",
    "        for batch in tqdm(test_loader):\n",
    "            output = model(batch[\"data\"])\n",
    "            running_loss.append(\n",
    "                loss(output, batch[\"target\"]).item()\n",
    "            )\n",
    "            targets.extend(batch[\"target\"].numpy())\n",
    "            # Tomamos el índice del valor máximo para cada predicción\n",
    "            x = np.argmax(output.squeeze().detach().numpy(), axis=1)\n",
    "            predictions.extend(x)\n",
    "        mlflow.log_metric(\"test_loss\", sum(running_loss) / len(running_loss), epoch)\n",
    "        mlflow.log_metric(\"test_balanced_accuracy\", balanced_accuracy_score(targets, predictions), epoch)\n",
    "        print(balanced_accuracy_score(targets, predictions))\n",
    "    \n",
    "    with tempfile.TemporaryDirectory() as tmpdirname:\n",
    "        targets = []\n",
    "        predictions = []\n",
    "        for batch in tqdm(test_loader):\n",
    "            output = model(batch[\"data\"])\n",
    "            targets.extend(batch[\"target\"].numpy())\n",
    "            predictions.extend(output.squeeze().detach().numpy())\n",
    "        pd.DataFrame({\"prediction\": predictions, \"target\": targets}).to_csv(\n",
    "            f\"{tmpdirname}/predictions.csv.gz\", index=False\n",
    "        )\n",
    "        mlflow.log_artifact(f\"{tmpdirname}/predictions.csv.gz\")"
   ]
  },
  {
   "cell_type": "markdown",
   "metadata": {
    "id": "1DGuXVgXC5m-"
   },
   "source": [
    "Zipeamos la carpeta mlruns para poder descargarla"
   ]
  },
  {
   "cell_type": "code",
   "execution_count": 30,
   "metadata": {
    "id": "7ZF6QbNKC996"
   },
   "outputs": [
    {
     "name": "stdout",
     "output_type": "stream",
     "text": [
      "  adding: mlruns/ (stored 0%)\n",
      "  adding: mlruns/0/ (stored 0%)\n",
      "  adding: mlruns/0/meta.yaml (deflated 18%)\n",
      "  adding: mlruns/0/a836cf14ac7042e6aea367231f403db7/ (stored 0%)\n",
      "  adding: mlruns/0/a836cf14ac7042e6aea367231f403db7/meta.yaml (deflated 42%)\n",
      "  adding: mlruns/0/a836cf14ac7042e6aea367231f403db7/metrics/ (stored 0%)\n",
      "  adding: mlruns/0/a836cf14ac7042e6aea367231f403db7/metrics/test_balanced_accuracy (deflated 37%)\n",
      "  adding: mlruns/0/a836cf14ac7042e6aea367231f403db7/metrics/test_loss (deflated 33%)\n",
      "  adding: mlruns/0/a836cf14ac7042e6aea367231f403db7/metrics/train_loss (deflated 34%)\n",
      "  adding: mlruns/0/a836cf14ac7042e6aea367231f403db7/params/ (stored 0%)\n",
      "  adding: mlruns/0/a836cf14ac7042e6aea367231f403db7/params/model_name (stored 0%)\n",
      "  adding: mlruns/0/a836cf14ac7042e6aea367231f403db7/params/hidden1_size (stored 0%)\n",
      "  adding: mlruns/0/a836cf14ac7042e6aea367231f403db7/params/hidden2_size (stored 0%)\n",
      "  adding: mlruns/0/a836cf14ac7042e6aea367231f403db7/params/embedding_size (stored 0%)\n",
      "  adding: mlruns/0/a836cf14ac7042e6aea367231f403db7/params/freeze_embedding (stored 0%)\n",
      "  adding: mlruns/0/a836cf14ac7042e6aea367231f403db7/artifacts/ (stored 0%)\n",
      "  adding: mlruns/0/a836cf14ac7042e6aea367231f403db7/artifacts/predictions.csv.gz (deflated 0%)\n",
      "  adding: mlruns/0/a836cf14ac7042e6aea367231f403db7/tags/ (stored 0%)\n",
      "  adding: mlruns/0/a836cf14ac7042e6aea367231f403db7/tags/mlflow.user (stored 0%)\n",
      "  adding: mlruns/0/a836cf14ac7042e6aea367231f403db7/tags/mlflow.source.type (stored 0%)\n",
      "  adding: mlruns/0/a836cf14ac7042e6aea367231f403db7/tags/mlflow.source.name (deflated 12%)\n",
      "  adding: mlruns/0/a836cf14ac7042e6aea367231f403db7/tags/mlflow.source.git.commit (deflated 3%)\n",
      "  adding: mlruns/5/ (stored 0%)\n",
      "  adding: mlruns/5/meta.yaml (deflated 20%)\n",
      "  adding: mlruns/3/ (stored 0%)\n",
      "  adding: mlruns/3/meta.yaml (deflated 18%)\n",
      "  adding: mlruns/1/ (stored 0%)\n",
      "  adding: mlruns/1/meta.yaml (deflated 21%)\n",
      "  adding: mlruns/1/3f38c30bce1b4809bfa9d6b367da450a/ (stored 0%)\n",
      "  adding: mlruns/1/3f38c30bce1b4809bfa9d6b367da450a/meta.yaml (deflated 43%)\n",
      "  adding: mlruns/1/3f38c30bce1b4809bfa9d6b367da450a/metrics/ (stored 0%)\n",
      "  adding: mlruns/1/3f38c30bce1b4809bfa9d6b367da450a/params/ (stored 0%)\n",
      "  adding: mlruns/1/3f38c30bce1b4809bfa9d6b367da450a/params/model_name (stored 0%)\n",
      "  adding: mlruns/1/3f38c30bce1b4809bfa9d6b367da450a/params/hidden1_size (stored 0%)\n",
      "  adding: mlruns/1/3f38c30bce1b4809bfa9d6b367da450a/params/hidden2_size (stored 0%)\n",
      "  adding: mlruns/1/3f38c30bce1b4809bfa9d6b367da450a/params/embedding_size (stored 0%)\n",
      "  adding: mlruns/1/3f38c30bce1b4809bfa9d6b367da450a/params/freeze_embedding (stored 0%)\n",
      "  adding: mlruns/1/3f38c30bce1b4809bfa9d6b367da450a/artifacts/ (stored 0%)\n",
      "  adding: mlruns/1/3f38c30bce1b4809bfa9d6b367da450a/tags/ (stored 0%)\n",
      "  adding: mlruns/1/3f38c30bce1b4809bfa9d6b367da450a/tags/mlflow.user (stored 0%)\n",
      "  adding: mlruns/1/3f38c30bce1b4809bfa9d6b367da450a/tags/mlflow.source.type (stored 0%)\n",
      "  adding: mlruns/1/3f38c30bce1b4809bfa9d6b367da450a/tags/mlflow.source.name (deflated 12%)\n",
      "  adding: mlruns/1/3f38c30bce1b4809bfa9d6b367da450a/tags/mlflow.source.git.commit (deflated 3%)\n",
      "  adding: mlruns/1/c9c97c0054e642049fdda2f43c9add5b/ (stored 0%)\n",
      "  adding: mlruns/1/c9c97c0054e642049fdda2f43c9add5b/meta.yaml (deflated 43%)\n",
      "  adding: mlruns/1/c9c97c0054e642049fdda2f43c9add5b/metrics/ (stored 0%)\n",
      "  adding: mlruns/1/c9c97c0054e642049fdda2f43c9add5b/params/ (stored 0%)\n",
      "  adding: mlruns/1/c9c97c0054e642049fdda2f43c9add5b/params/model_name (stored 0%)\n",
      "  adding: mlruns/1/c9c97c0054e642049fdda2f43c9add5b/params/hidden1_size (stored 0%)\n",
      "  adding: mlruns/1/c9c97c0054e642049fdda2f43c9add5b/params/hidden2_size (stored 0%)\n",
      "  adding: mlruns/1/c9c97c0054e642049fdda2f43c9add5b/params/embedding_size (stored 0%)\n",
      "  adding: mlruns/1/c9c97c0054e642049fdda2f43c9add5b/params/freeze_embedding (stored 0%)\n",
      "  adding: mlruns/1/c9c97c0054e642049fdda2f43c9add5b/artifacts/ (stored 0%)\n",
      "  adding: mlruns/1/c9c97c0054e642049fdda2f43c9add5b/tags/ (stored 0%)\n",
      "  adding: mlruns/1/c9c97c0054e642049fdda2f43c9add5b/tags/mlflow.user (stored 0%)\n",
      "  adding: mlruns/1/c9c97c0054e642049fdda2f43c9add5b/tags/mlflow.source.type (stored 0%)\n",
      "  adding: mlruns/1/c9c97c0054e642049fdda2f43c9add5b/tags/mlflow.source.name (deflated 12%)\n",
      "  adding: mlruns/1/c9c97c0054e642049fdda2f43c9add5b/tags/mlflow.source.git.commit (deflated 3%)\n",
      "  adding: mlruns/1/57f3001847e148d4b4d145f479789f56/ (stored 0%)\n",
      "  adding: mlruns/1/57f3001847e148d4b4d145f479789f56/meta.yaml (deflated 42%)\n",
      "  adding: mlruns/1/57f3001847e148d4b4d145f479789f56/metrics/ (stored 0%)\n",
      "  adding: mlruns/1/57f3001847e148d4b4d145f479789f56/metrics/test_balanced_accuracy (deflated 36%)\n",
      "  adding: mlruns/1/57f3001847e148d4b4d145f479789f56/metrics/test_loss (deflated 33%)\n",
      "  adding: mlruns/1/57f3001847e148d4b4d145f479789f56/metrics/train_loss (deflated 34%)\n",
      "  adding: mlruns/1/57f3001847e148d4b4d145f479789f56/params/ (stored 0%)\n",
      "  adding: mlruns/1/57f3001847e148d4b4d145f479789f56/params/model_name (stored 0%)\n",
      "  adding: mlruns/1/57f3001847e148d4b4d145f479789f56/params/hidden1_size (stored 0%)\n",
      "  adding: mlruns/1/57f3001847e148d4b4d145f479789f56/params/hidden2_size (stored 0%)\n",
      "  adding: mlruns/1/57f3001847e148d4b4d145f479789f56/params/embedding_size (stored 0%)\n",
      "  adding: mlruns/1/57f3001847e148d4b4d145f479789f56/params/freeze_embedding (stored 0%)\n",
      "  adding: mlruns/1/57f3001847e148d4b4d145f479789f56/artifacts/ (stored 0%)\n",
      "  adding: mlruns/1/57f3001847e148d4b4d145f479789f56/artifacts/predictions.csv.gz (deflated 0%)\n",
      "  adding: mlruns/1/57f3001847e148d4b4d145f479789f56/tags/ (stored 0%)\n",
      "  adding: mlruns/1/57f3001847e148d4b4d145f479789f56/tags/mlflow.user (stored 0%)\n",
      "  adding: mlruns/1/57f3001847e148d4b4d145f479789f56/tags/mlflow.source.type (stored 0%)\n",
      "  adding: mlruns/1/57f3001847e148d4b4d145f479789f56/tags/mlflow.source.name (deflated 12%)\n",
      "  adding: mlruns/1/57f3001847e148d4b4d145f479789f56/tags/mlflow.source.git.commit (deflated 3%)\n",
      "  adding: mlruns/2/ (stored 0%)\n",
      "  adding: mlruns/2/meta.yaml (deflated 21%)\n",
      "  adding: mlruns/2/38d8306341324c2c9b740ece011419c6/ (stored 0%)\n",
      "  adding: mlruns/2/38d8306341324c2c9b740ece011419c6/meta.yaml (deflated 42%)\n",
      "  adding: mlruns/2/38d8306341324c2c9b740ece011419c6/metrics/ (stored 0%)\n",
      "  adding: mlruns/2/38d8306341324c2c9b740ece011419c6/metrics/test_balanced_accuracy (deflated 38%)\n",
      "  adding: mlruns/2/38d8306341324c2c9b740ece011419c6/metrics/test_loss (deflated 34%)\n",
      "  adding: mlruns/2/38d8306341324c2c9b740ece011419c6/metrics/train_loss (deflated 34%)\n",
      "  adding: mlruns/2/38d8306341324c2c9b740ece011419c6/params/ (stored 0%)\n",
      "  adding: mlruns/2/38d8306341324c2c9b740ece011419c6/params/model_name (stored 0%)\n",
      "  adding: mlruns/2/38d8306341324c2c9b740ece011419c6/params/hidden1_size (stored 0%)\n",
      "  adding: mlruns/2/38d8306341324c2c9b740ece011419c6/params/hidden2_size (stored 0%)\n",
      "  adding: mlruns/2/38d8306341324c2c9b740ece011419c6/params/embedding_size (stored 0%)\n",
      "  adding: mlruns/2/38d8306341324c2c9b740ece011419c6/params/freeze_embedding (stored 0%)\n",
      "  adding: mlruns/2/38d8306341324c2c9b740ece011419c6/artifacts/ (stored 0%)\n",
      "  adding: mlruns/2/38d8306341324c2c9b740ece011419c6/artifacts/predictions.csv.gz (deflated 0%)\n",
      "  adding: mlruns/2/38d8306341324c2c9b740ece011419c6/tags/ (stored 0%)\n",
      "  adding: mlruns/2/38d8306341324c2c9b740ece011419c6/tags/mlflow.user (stored 0%)\n",
      "  adding: mlruns/2/38d8306341324c2c9b740ece011419c6/tags/mlflow.source.type (stored 0%)\n",
      "  adding: mlruns/2/38d8306341324c2c9b740ece011419c6/tags/mlflow.source.name (deflated 12%)\n",
      "  adding: mlruns/2/38d8306341324c2c9b740ece011419c6/tags/mlflow.source.git.commit (deflated 3%)\n",
      "  adding: mlruns/8/ (stored 0%)\n",
      "  adding: mlruns/8/1f43073b3d8e48bfbdcd32095a62805a/ (stored 0%)\n",
      "  adding: mlruns/8/1f43073b3d8e48bfbdcd32095a62805a/meta.yaml (deflated 42%)\n",
      "  adding: mlruns/8/1f43073b3d8e48bfbdcd32095a62805a/metrics/ (stored 0%)\n",
      "  adding: mlruns/8/1f43073b3d8e48bfbdcd32095a62805a/metrics/test_balanced_accuracy (deflated 38%)\n",
      "  adding: mlruns/8/1f43073b3d8e48bfbdcd32095a62805a/metrics/test_loss (deflated 36%)\n",
      "  adding: mlruns/8/1f43073b3d8e48bfbdcd32095a62805a/metrics/train_loss (deflated 32%)\n",
      "  adding: mlruns/8/1f43073b3d8e48bfbdcd32095a62805a/params/ (stored 0%)\n",
      "  adding: mlruns/8/1f43073b3d8e48bfbdcd32095a62805a/params/model_name (stored 0%)\n",
      "  adding: mlruns/8/1f43073b3d8e48bfbdcd32095a62805a/params/hidden1_size (stored 0%)\n",
      "  adding: mlruns/8/1f43073b3d8e48bfbdcd32095a62805a/params/hidden2_size (stored 0%)\n",
      "  adding: mlruns/8/1f43073b3d8e48bfbdcd32095a62805a/params/embedding_size (stored 0%)\n",
      "  adding: mlruns/8/1f43073b3d8e48bfbdcd32095a62805a/params/freeze_embedding (stored 0%)\n",
      "  adding: mlruns/8/1f43073b3d8e48bfbdcd32095a62805a/artifacts/ (stored 0%)\n"
     ]
    },
    {
     "name": "stdout",
     "output_type": "stream",
     "text": [
      "  adding: mlruns/8/1f43073b3d8e48bfbdcd32095a62805a/artifacts/predictions.csv.gz (deflated 0%)\n",
      "  adding: mlruns/8/1f43073b3d8e48bfbdcd32095a62805a/tags/ (stored 0%)\n",
      "  adding: mlruns/8/1f43073b3d8e48bfbdcd32095a62805a/tags/mlflow.user (stored 0%)\n",
      "  adding: mlruns/8/1f43073b3d8e48bfbdcd32095a62805a/tags/mlflow.source.type (stored 0%)\n",
      "  adding: mlruns/8/1f43073b3d8e48bfbdcd32095a62805a/tags/mlflow.source.name (deflated 12%)\n",
      "  adding: mlruns/8/1f43073b3d8e48bfbdcd32095a62805a/tags/mlflow.source.git.commit (deflated 3%)\n",
      "  adding: mlruns/8/meta.yaml (deflated 19%)\n",
      "  adding: mlruns/9/ (stored 0%)\n",
      "  adding: mlruns/9/meta.yaml (deflated 18%)\n",
      "  adding: mlruns/6/ (stored 0%)\n",
      "  adding: mlruns/6/meta.yaml (deflated 20%)\n",
      "  adding: mlruns/.trash/ (stored 0%)\n",
      "  adding: mlruns/10/ (stored 0%)\n",
      "  adding: mlruns/10/meta.yaml (deflated 19%)\n",
      "  adding: mlruns/4/ (stored 0%)\n",
      "  adding: mlruns/4/meta.yaml (deflated 19%)\n",
      "  adding: mlruns/7/ (stored 0%)\n",
      "  adding: mlruns/7/meta.yaml (deflated 20%)\n",
      "  adding: mlruns/7/00a319e1119141eb8d4c30527077550b/ (stored 0%)\n",
      "  adding: mlruns/7/00a319e1119141eb8d4c30527077550b/meta.yaml (deflated 42%)\n",
      "  adding: mlruns/7/00a319e1119141eb8d4c30527077550b/metrics/ (stored 0%)\n",
      "  adding: mlruns/7/00a319e1119141eb8d4c30527077550b/metrics/test_balanced_accuracy (deflated 38%)\n",
      "  adding: mlruns/7/00a319e1119141eb8d4c30527077550b/metrics/test_loss (deflated 34%)\n",
      "  adding: mlruns/7/00a319e1119141eb8d4c30527077550b/metrics/train_loss (deflated 32%)\n",
      "  adding: mlruns/7/00a319e1119141eb8d4c30527077550b/params/ (stored 0%)\n",
      "  adding: mlruns/7/00a319e1119141eb8d4c30527077550b/params/model_name (stored 0%)\n",
      "  adding: mlruns/7/00a319e1119141eb8d4c30527077550b/params/hidden1_size (stored 0%)\n",
      "  adding: mlruns/7/00a319e1119141eb8d4c30527077550b/params/hidden2_size (stored 0%)\n",
      "  adding: mlruns/7/00a319e1119141eb8d4c30527077550b/params/embedding_size (stored 0%)\n",
      "  adding: mlruns/7/00a319e1119141eb8d4c30527077550b/params/freeze_embedding (stored 0%)\n",
      "  adding: mlruns/7/00a319e1119141eb8d4c30527077550b/artifacts/ (stored 0%)\n",
      "  adding: mlruns/7/00a319e1119141eb8d4c30527077550b/artifacts/predictions.csv.gz (deflated 0%)\n",
      "  adding: mlruns/7/00a319e1119141eb8d4c30527077550b/tags/ (stored 0%)\n",
      "  adding: mlruns/7/00a319e1119141eb8d4c30527077550b/tags/mlflow.user (stored 0%)\n",
      "  adding: mlruns/7/00a319e1119141eb8d4c30527077550b/tags/mlflow.source.type (stored 0%)\n",
      "  adding: mlruns/7/00a319e1119141eb8d4c30527077550b/tags/mlflow.source.name (deflated 12%)\n",
      "  adding: mlruns/7/00a319e1119141eb8d4c30527077550b/tags/mlflow.source.git.commit (deflated 3%)\n"
     ]
    }
   ],
   "source": [
    "if os.path.isfile(MLFLOW_PATH_ZIP):\n",
    "    os.remove(MLFLOW_PATH_ZIP)\n",
    "\n",
    "!zip -r {MLFLOW_PATH_ZIP} {MLFLOW_PATH}"
   ]
  },
  {
   "cell_type": "code",
   "execution_count": 31,
   "metadata": {
    "id": "sbLESzYIDHGg"
   },
   "outputs": [
    {
     "name": "stdout",
     "output_type": "stream",
     "text": [
      "Running a Jupyter notebook.\n"
     ]
    }
   ],
   "source": [
    "try:\n",
    "    from google.colab import files\n",
    "    files.download(MLFLOW_PATH_ZIP)\n",
    "except:\n",
    "    print(\"Running a Jupyter notebook.\")"
   ]
  },
  {
   "cell_type": "markdown",
   "metadata": {
    "id": "4noWCRf8jdSo"
   },
   "source": [
    "## Conclusiones"
   ]
  },
  {
   "cell_type": "markdown",
   "metadata": {
    "id": "RtM0kB-jzFYB"
   },
   "source": [
    "Para este trabajo utilizamos de base los modelos, datasets, data loaders y funciones vistos en clase, pero realizando modificaciones necesarias para ajustarlas a este problema en particular, como mencionamos en las secciones anteriores.\n",
    "\n",
    "Los resultados obtenidos tuvieron un bajo balanced accuracy. En parte esto tiene que ver con la calidad de las etiquetas, ya que sólo un bajo porcentaje de los registros tiene una etiqueta confiable (~8.5%). A esto se suma que el número de etiquetas a predecir es muy alto (632), por lo cual necesitaríamos un volumen importante de datos con buena calidad de etiquetas.\n",
    "\n",
    "Por otro lado, dada la alta dimensionalidad del problema: usamos embeddings de texto y además hay una alta cantidad de outputs del modelo, uno por cada categoría/etiqueta a predecir, lo adecuado sería aplicar una arquitectura más compleja que la utilizada dado que probablemente no puede generalizar bien debido a las limitaciones propias de este tipo de modelo (MLP).\n",
    "\n",
    "Como ya mencionamos, nuestro modelo necesita ser mejorado, ya sea cambiando de arquitectura o a través de la variación de hiperparámetros. Como pasos a seguir, podríamos probar con distintos hiperparámetros hasta obtener un modelo óptimo, e.g. haciendo un gridsearch o utilizando alguna librería como Optuna/Hyperopt. En línea con esto también se podría cambiar la arquitectura, aumentando la cantidad de capas y/o el número de nodos para probar si mejora el modelo, dado que probamos con una cantidad mínima de los mismos (2 capas y 640 nodos por capa) en pos de mantener los tiempos de ejecución en rangos razonables (<3-4 horas). Esto debería estar acompañado de un chequeo/mejora de la calidad de los datos para ver mejoras significativas en los resultados.\n",
    "\n",
    "Haciendo un análisis del error, vemos que tanto para el set de entrenamiento como el set de evaluación se sigue un comportamiento \"esperado\" ya que disminuye a medida que avanzan los epochs, lo cual indica que el modelo está \"aprendiendo\". No obstante, en ambos casos no queda claro si las curvas podrían seguir descendiendo o si están prontas a estabilizarse, por lo que aumentando el número de epochs sería una forma de verificarlo. Esto último implica un mayor tiempo de entrenamiento."
   ]
  },
  {
   "cell_type": "markdown",
   "metadata": {
    "id": "KT-alS3fzJB5"
   },
   "source": [
    "<center><h2><b>Train Loss</b><h2></center>"
   ]
  },
  {
   "cell_type": "markdown",
   "metadata": {
    "id": "6eFNJW5IkA1b"
   },
   "source": [
    "![train_loss_MLP_epochs.png](data:image/png;base64,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)"
   ]
  },
  {
   "cell_type": "markdown",
   "metadata": {
    "id": "4pvNHfB3oZFG"
   },
   "source": [
    "<center><h2><b>Test Loss</b><h2></center>"
   ]
  },
  {
   "cell_type": "markdown",
   "metadata": {
    "id": "7LV3E71koddt"
   },
   "source": [
    "![test_loss_MLP_epochs.png](data:image/png;base64,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)"
   ]
  }
 ],
 "metadata": {
  "accelerator": "GPU",
  "celltoolbar": "Slideshow",
  "colab": {
   "provenance": []
  },
  "gpuClass": "standard",
  "kernelspec": {
   "display_name": "Python 3 (ipykernel)",
   "language": "python",
   "name": "python3"
  },
  "language_info": {
   "codemirror_mode": {
    "name": "ipython",
    "version": 3
   },
   "file_extension": ".py",
   "mimetype": "text/x-python",
   "name": "python",
   "nbconvert_exporter": "python",
   "pygments_lexer": "ipython3",
   "version": "3.10.6"
  },
  "rise": {
   "scroll": true
  },
  "widgets": {
   "application/vnd.jupyter.widget-state+json": {
    "006d39c7237246429ab1d95f758defd2": {
     "model_module": "@jupyter-widgets/controls",
     "model_module_version": "1.5.0",
     "model_name": "FloatProgressModel",
     "state": {
      "_dom_classes": [],
      "_model_module": "@jupyter-widgets/controls",
      "_model_module_version": "1.5.0",
      "_model_name": "FloatProgressModel",
      "_view_count": null,
      "_view_module": "@jupyter-widgets/controls",
      "_view_module_version": "1.5.0",
      "_view_name": "ProgressView",
      "bar_style": "success",
      "description": "",
      "description_tooltip": null,
      "layout": "IPY_MODEL_6c5e7b055ba74e1eb64dd65050d8a1be",
      "max": 498,
      "min": 0,
      "orientation": "horizontal",
      "style": "IPY_MODEL_7d700ed5da1744f48b13a8b8633d9548",
      "value": 498
     }
    },
    "0184f3ac17bb488290478a3412aba4ee": {
     "model_module": "@jupyter-widgets/base",
     "model_module_version": "1.2.0",
     "model_name": "LayoutModel",
     "state": {
      "_model_module": "@jupyter-widgets/base",
      "_model_module_version": "1.2.0",
      "_model_name": "LayoutModel",
      "_view_count": null,
      "_view_module": "@jupyter-widgets/base",
      "_view_module_version": "1.2.0",
      "_view_name": "LayoutView",
      "align_content": null,
      "align_items": null,
      "align_self": null,
      "border": null,
      "bottom": null,
      "display": null,
      "flex": null,
      "flex_flow": null,
      "grid_area": null,
      "grid_auto_columns": null,
      "grid_auto_flow": null,
      "grid_auto_rows": null,
      "grid_column": null,
      "grid_gap": null,
      "grid_row": null,
      "grid_template_areas": null,
      "grid_template_columns": null,
      "grid_template_rows": null,
      "height": null,
      "justify_content": null,
      "justify_items": null,
      "left": null,
      "margin": null,
      "max_height": null,
      "max_width": null,
      "min_height": null,
      "min_width": null,
      "object_fit": null,
      "object_position": null,
      "order": null,
      "overflow": null,
      "overflow_x": null,
      "overflow_y": null,
      "padding": null,
      "right": null,
      "top": null,
      "visibility": null,
      "width": null
     }
    },
    "0f5b0284033a4fb390a6e88ec979f3e2": {
     "model_module": "@jupyter-widgets/controls",
     "model_module_version": "1.5.0",
     "model_name": "HTMLModel",
     "state": {
      "_dom_classes": [],
      "_model_module": "@jupyter-widgets/controls",
      "_model_module_version": "1.5.0",
      "_model_name": "HTMLModel",
      "_view_count": null,
      "_view_module": "@jupyter-widgets/controls",
      "_view_module_version": "1.5.0",
      "_view_name": "HTMLView",
      "description": "",
      "description_tooltip": null,
      "layout": "IPY_MODEL_e16a0d6c537e4ac991b2901aee2a3e6d",
      "placeholder": "​",
      "style": "IPY_MODEL_2fdacd3276694e6fab0a4d6c0b8495fb",
      "value": " 1/3 [2:04:34&lt;4:09:08, 7474.09s/it]"
     }
    },
    "1a48aad4ccd84d8e9fc6118403154c51": {
     "model_module": "@jupyter-widgets/controls",
     "model_module_version": "1.5.0",
     "model_name": "ProgressStyleModel",
     "state": {
      "_model_module": "@jupyter-widgets/controls",
      "_model_module_version": "1.5.0",
      "_model_name": "ProgressStyleModel",
      "_view_count": null,
      "_view_module": "@jupyter-widgets/base",
      "_view_module_version": "1.2.0",
      "_view_name": "StyleView",
      "bar_color": null,
      "description_width": ""
     }
    },
    "1c3a45972b2c4781ac8103c63dfd218d": {
     "model_module": "@jupyter-widgets/controls",
     "model_module_version": "1.5.0",
     "model_name": "HTMLModel",
     "state": {
      "_dom_classes": [],
      "_model_module": "@jupyter-widgets/controls",
      "_model_module_version": "1.5.0",
      "_model_name": "HTMLModel",
      "_view_count": null,
      "_view_module": "@jupyter-widgets/controls",
      "_view_module_version": "1.5.0",
      "_view_name": "HTMLView",
      "description": "",
      "description_tooltip": null,
      "layout": "IPY_MODEL_e8ad374d0c0c46c5b612e22a44774358",
      "placeholder": "​",
      "style": "IPY_MODEL_9375131e72724c50973c22535540d59f",
      "value": " 38245/38245 [2:04:03&lt;00:00,  3.99it/s]"
     }
    },
    "1f7122a2fd034707a0e528f2210bcae1": {
     "model_module": "@jupyter-widgets/base",
     "model_module_version": "1.2.0",
     "model_name": "LayoutModel",
     "state": {
      "_model_module": "@jupyter-widgets/base",
      "_model_module_version": "1.2.0",
      "_model_name": "LayoutModel",
      "_view_count": null,
      "_view_module": "@jupyter-widgets/base",
      "_view_module_version": "1.2.0",
      "_view_name": "LayoutView",
      "align_content": null,
      "align_items": null,
      "align_self": null,
      "border": null,
      "bottom": null,
      "display": null,
      "flex": null,
      "flex_flow": null,
      "grid_area": null,
      "grid_auto_columns": null,
      "grid_auto_flow": null,
      "grid_auto_rows": null,
      "grid_column": null,
      "grid_gap": null,
      "grid_row": null,
      "grid_template_areas": null,
      "grid_template_columns": null,
      "grid_template_rows": null,
      "height": null,
      "justify_content": null,
      "justify_items": null,
      "left": null,
      "margin": null,
      "max_height": null,
      "max_width": null,
      "min_height": null,
      "min_width": null,
      "object_fit": null,
      "object_position": null,
      "order": null,
      "overflow": null,
      "overflow_x": null,
      "overflow_y": null,
      "padding": null,
      "right": null,
      "top": null,
      "visibility": null,
      "width": null
     }
    },
    "1faf411b6ee74b89b7896c715b71e559": {
     "model_module": "@jupyter-widgets/base",
     "model_module_version": "1.2.0",
     "model_name": "LayoutModel",
     "state": {
      "_model_module": "@jupyter-widgets/base",
      "_model_module_version": "1.2.0",
      "_model_name": "LayoutModel",
      "_view_count": null,
      "_view_module": "@jupyter-widgets/base",
      "_view_module_version": "1.2.0",
      "_view_name": "LayoutView",
      "align_content": null,
      "align_items": null,
      "align_self": null,
      "border": null,
      "bottom": null,
      "display": null,
      "flex": null,
      "flex_flow": null,
      "grid_area": null,
      "grid_auto_columns": null,
      "grid_auto_flow": null,
      "grid_auto_rows": null,
      "grid_column": null,
      "grid_gap": null,
      "grid_row": null,
      "grid_template_areas": null,
      "grid_template_columns": null,
      "grid_template_rows": null,
      "height": null,
      "justify_content": null,
      "justify_items": null,
      "left": null,
      "margin": null,
      "max_height": null,
      "max_width": null,
      "min_height": null,
      "min_width": null,
      "object_fit": null,
      "object_position": null,
      "order": null,
      "overflow": null,
      "overflow_x": null,
      "overflow_y": null,
      "padding": null,
      "right": null,
      "top": null,
      "visibility": null,
      "width": null
     }
    },
    "20c54410288c4993b8805d28033f1c9d": {
     "model_module": "@jupyter-widgets/base",
     "model_module_version": "1.2.0",
     "model_name": "LayoutModel",
     "state": {
      "_model_module": "@jupyter-widgets/base",
      "_model_module_version": "1.2.0",
      "_model_name": "LayoutModel",
      "_view_count": null,
      "_view_module": "@jupyter-widgets/base",
      "_view_module_version": "1.2.0",
      "_view_name": "LayoutView",
      "align_content": null,
      "align_items": null,
      "align_self": null,
      "border": null,
      "bottom": null,
      "display": null,
      "flex": null,
      "flex_flow": null,
      "grid_area": null,
      "grid_auto_columns": null,
      "grid_auto_flow": null,
      "grid_auto_rows": null,
      "grid_column": null,
      "grid_gap": null,
      "grid_row": null,
      "grid_template_areas": null,
      "grid_template_columns": null,
      "grid_template_rows": null,
      "height": null,
      "justify_content": null,
      "justify_items": null,
      "left": null,
      "margin": null,
      "max_height": null,
      "max_width": null,
      "min_height": null,
      "min_width": null,
      "object_fit": null,
      "object_position": null,
      "order": null,
      "overflow": null,
      "overflow_x": null,
      "overflow_y": null,
      "padding": null,
      "right": null,
      "top": null,
      "visibility": null,
      "width": null
     }
    },
    "275ee49a1f81470a91b5a4f1cdf834b1": {
     "model_module": "@jupyter-widgets/controls",
     "model_module_version": "1.5.0",
     "model_name": "HTMLModel",
     "state": {
      "_dom_classes": [],
      "_model_module": "@jupyter-widgets/controls",
      "_model_module_version": "1.5.0",
      "_model_name": "HTMLModel",
      "_view_count": null,
      "_view_module": "@jupyter-widgets/controls",
      "_view_module_version": "1.5.0",
      "_view_name": "HTMLView",
      "description": "",
      "description_tooltip": null,
      "layout": "IPY_MODEL_54ef591b3bbe4588a2f9f93796b6dfa2",
      "placeholder": "​",
      "style": "IPY_MODEL_8df241b055374e6fb347235445970524",
      "value": "100%"
     }
    },
    "2b0bde3557e941cfa1caf246339dc98f": {
     "model_module": "@jupyter-widgets/controls",
     "model_module_version": "1.5.0",
     "model_name": "HTMLModel",
     "state": {
      "_dom_classes": [],
      "_model_module": "@jupyter-widgets/controls",
      "_model_module_version": "1.5.0",
      "_model_name": "HTMLModel",
      "_view_count": null,
      "_view_module": "@jupyter-widgets/controls",
      "_view_module_version": "1.5.0",
      "_view_name": "HTMLView",
      "description": "",
      "description_tooltip": null,
      "layout": "IPY_MODEL_67df93826895428ba46349631151649c",
      "placeholder": "​",
      "style": "IPY_MODEL_ebe619bafbf348a8adf4e7451bc96330",
      "value": " 498/498 [00:30&lt;00:00, 16.50it/s]"
     }
    },
    "2fdacd3276694e6fab0a4d6c0b8495fb": {
     "model_module": "@jupyter-widgets/controls",
     "model_module_version": "1.5.0",
     "model_name": "DescriptionStyleModel",
     "state": {
      "_model_module": "@jupyter-widgets/controls",
      "_model_module_version": "1.5.0",
      "_model_name": "DescriptionStyleModel",
      "_view_count": null,
      "_view_module": "@jupyter-widgets/base",
      "_view_module_version": "1.2.0",
      "_view_name": "StyleView",
      "description_width": ""
     }
    },
    "452a1d7547684732befbf2a6e35f84e4": {
     "model_module": "@jupyter-widgets/base",
     "model_module_version": "1.2.0",
     "model_name": "LayoutModel",
     "state": {
      "_model_module": "@jupyter-widgets/base",
      "_model_module_version": "1.2.0",
      "_model_name": "LayoutModel",
      "_view_count": null,
      "_view_module": "@jupyter-widgets/base",
      "_view_module_version": "1.2.0",
      "_view_name": "LayoutView",
      "align_content": null,
      "align_items": null,
      "align_self": null,
      "border": null,
      "bottom": null,
      "display": null,
      "flex": null,
      "flex_flow": null,
      "grid_area": null,
      "grid_auto_columns": null,
      "grid_auto_flow": null,
      "grid_auto_rows": null,
      "grid_column": null,
      "grid_gap": null,
      "grid_row": null,
      "grid_template_areas": null,
      "grid_template_columns": null,
      "grid_template_rows": null,
      "height": null,
      "justify_content": null,
      "justify_items": null,
      "left": null,
      "margin": null,
      "max_height": null,
      "max_width": null,
      "min_height": null,
      "min_width": null,
      "object_fit": null,
      "object_position": null,
      "order": null,
      "overflow": null,
      "overflow_x": null,
      "overflow_y": null,
      "padding": null,
      "right": null,
      "top": null,
      "visibility": null,
      "width": null
     }
    },
    "4e0366bd31914903b7102a34702761b5": {
     "model_module": "@jupyter-widgets/base",
     "model_module_version": "1.2.0",
     "model_name": "LayoutModel",
     "state": {
      "_model_module": "@jupyter-widgets/base",
      "_model_module_version": "1.2.0",
      "_model_name": "LayoutModel",
      "_view_count": null,
      "_view_module": "@jupyter-widgets/base",
      "_view_module_version": "1.2.0",
      "_view_name": "LayoutView",
      "align_content": null,
      "align_items": null,
      "align_self": null,
      "border": null,
      "bottom": null,
      "display": null,
      "flex": null,
      "flex_flow": null,
      "grid_area": null,
      "grid_auto_columns": null,
      "grid_auto_flow": null,
      "grid_auto_rows": null,
      "grid_column": null,
      "grid_gap": null,
      "grid_row": null,
      "grid_template_areas": null,
      "grid_template_columns": null,
      "grid_template_rows": null,
      "height": null,
      "justify_content": null,
      "justify_items": null,
      "left": null,
      "margin": null,
      "max_height": null,
      "max_width": null,
      "min_height": null,
      "min_width": null,
      "object_fit": null,
      "object_position": null,
      "order": null,
      "overflow": null,
      "overflow_x": null,
      "overflow_y": null,
      "padding": null,
      "right": null,
      "top": null,
      "visibility": null,
      "width": null
     }
    },
    "518fdc0350fd4fe881a3539d2af9e359": {
     "model_module": "@jupyter-widgets/controls",
     "model_module_version": "1.5.0",
     "model_name": "HTMLModel",
     "state": {
      "_dom_classes": [],
      "_model_module": "@jupyter-widgets/controls",
      "_model_module_version": "1.5.0",
      "_model_name": "HTMLModel",
      "_view_count": null,
      "_view_module": "@jupyter-widgets/controls",
      "_view_module_version": "1.5.0",
      "_view_name": "HTMLView",
      "description": "",
      "description_tooltip": null,
      "layout": "IPY_MODEL_0184f3ac17bb488290478a3412aba4ee",
      "placeholder": "​",
      "style": "IPY_MODEL_51e530bd87dd4a05861d628a5ad08625",
      "value": "100%"
     }
    },
    "51e530bd87dd4a05861d628a5ad08625": {
     "model_module": "@jupyter-widgets/controls",
     "model_module_version": "1.5.0",
     "model_name": "DescriptionStyleModel",
     "state": {
      "_model_module": "@jupyter-widgets/controls",
      "_model_module_version": "1.5.0",
      "_model_name": "DescriptionStyleModel",
      "_view_count": null,
      "_view_module": "@jupyter-widgets/base",
      "_view_module_version": "1.2.0",
      "_view_name": "StyleView",
      "description_width": ""
     }
    },
    "52fc2d04cebc4779b853bc46c79742f2": {
     "model_module": "@jupyter-widgets/controls",
     "model_module_version": "1.5.0",
     "model_name": "DescriptionStyleModel",
     "state": {
      "_model_module": "@jupyter-widgets/controls",
      "_model_module_version": "1.5.0",
      "_model_name": "DescriptionStyleModel",
      "_view_count": null,
      "_view_module": "@jupyter-widgets/base",
      "_view_module_version": "1.2.0",
      "_view_name": "StyleView",
      "description_width": ""
     }
    },
    "53715d83239d4d708e4281bea1516d1e": {
     "model_module": "@jupyter-widgets/base",
     "model_module_version": "1.2.0",
     "model_name": "LayoutModel",
     "state": {
      "_model_module": "@jupyter-widgets/base",
      "_model_module_version": "1.2.0",
      "_model_name": "LayoutModel",
      "_view_count": null,
      "_view_module": "@jupyter-widgets/base",
      "_view_module_version": "1.2.0",
      "_view_name": "LayoutView",
      "align_content": null,
      "align_items": null,
      "align_self": null,
      "border": null,
      "bottom": null,
      "display": null,
      "flex": null,
      "flex_flow": null,
      "grid_area": null,
      "grid_auto_columns": null,
      "grid_auto_flow": null,
      "grid_auto_rows": null,
      "grid_column": null,
      "grid_gap": null,
      "grid_row": null,
      "grid_template_areas": null,
      "grid_template_columns": null,
      "grid_template_rows": null,
      "height": null,
      "justify_content": null,
      "justify_items": null,
      "left": null,
      "margin": null,
      "max_height": null,
      "max_width": null,
      "min_height": null,
      "min_width": null,
      "object_fit": null,
      "object_position": null,
      "order": null,
      "overflow": null,
      "overflow_x": null,
      "overflow_y": null,
      "padding": null,
      "right": null,
      "top": null,
      "visibility": null,
      "width": null
     }
    },
    "54ef591b3bbe4588a2f9f93796b6dfa2": {
     "model_module": "@jupyter-widgets/base",
     "model_module_version": "1.2.0",
     "model_name": "LayoutModel",
     "state": {
      "_model_module": "@jupyter-widgets/base",
      "_model_module_version": "1.2.0",
      "_model_name": "LayoutModel",
      "_view_count": null,
      "_view_module": "@jupyter-widgets/base",
      "_view_module_version": "1.2.0",
      "_view_name": "LayoutView",
      "align_content": null,
      "align_items": null,
      "align_self": null,
      "border": null,
      "bottom": null,
      "display": null,
      "flex": null,
      "flex_flow": null,
      "grid_area": null,
      "grid_auto_columns": null,
      "grid_auto_flow": null,
      "grid_auto_rows": null,
      "grid_column": null,
      "grid_gap": null,
      "grid_row": null,
      "grid_template_areas": null,
      "grid_template_columns": null,
      "grid_template_rows": null,
      "height": null,
      "justify_content": null,
      "justify_items": null,
      "left": null,
      "margin": null,
      "max_height": null,
      "max_width": null,
      "min_height": null,
      "min_width": null,
      "object_fit": null,
      "object_position": null,
      "order": null,
      "overflow": null,
      "overflow_x": null,
      "overflow_y": null,
      "padding": null,
      "right": null,
      "top": null,
      "visibility": null,
      "width": null
     }
    },
    "67df93826895428ba46349631151649c": {
     "model_module": "@jupyter-widgets/base",
     "model_module_version": "1.2.0",
     "model_name": "LayoutModel",
     "state": {
      "_model_module": "@jupyter-widgets/base",
      "_model_module_version": "1.2.0",
      "_model_name": "LayoutModel",
      "_view_count": null,
      "_view_module": "@jupyter-widgets/base",
      "_view_module_version": "1.2.0",
      "_view_name": "LayoutView",
      "align_content": null,
      "align_items": null,
      "align_self": null,
      "border": null,
      "bottom": null,
      "display": null,
      "flex": null,
      "flex_flow": null,
      "grid_area": null,
      "grid_auto_columns": null,
      "grid_auto_flow": null,
      "grid_auto_rows": null,
      "grid_column": null,
      "grid_gap": null,
      "grid_row": null,
      "grid_template_areas": null,
      "grid_template_columns": null,
      "grid_template_rows": null,
      "height": null,
      "justify_content": null,
      "justify_items": null,
      "left": null,
      "margin": null,
      "max_height": null,
      "max_width": null,
      "min_height": null,
      "min_width": null,
      "object_fit": null,
      "object_position": null,
      "order": null,
      "overflow": null,
      "overflow_x": null,
      "overflow_y": null,
      "padding": null,
      "right": null,
      "top": null,
      "visibility": null,
      "width": null
     }
    },
    "6c5e7b055ba74e1eb64dd65050d8a1be": {
     "model_module": "@jupyter-widgets/base",
     "model_module_version": "1.2.0",
     "model_name": "LayoutModel",
     "state": {
      "_model_module": "@jupyter-widgets/base",
      "_model_module_version": "1.2.0",
      "_model_name": "LayoutModel",
      "_view_count": null,
      "_view_module": "@jupyter-widgets/base",
      "_view_module_version": "1.2.0",
      "_view_name": "LayoutView",
      "align_content": null,
      "align_items": null,
      "align_self": null,
      "border": null,
      "bottom": null,
      "display": null,
      "flex": null,
      "flex_flow": null,
      "grid_area": null,
      "grid_auto_columns": null,
      "grid_auto_flow": null,
      "grid_auto_rows": null,
      "grid_column": null,
      "grid_gap": null,
      "grid_row": null,
      "grid_template_areas": null,
      "grid_template_columns": null,
      "grid_template_rows": null,
      "height": null,
      "justify_content": null,
      "justify_items": null,
      "left": null,
      "margin": null,
      "max_height": null,
      "max_width": null,
      "min_height": null,
      "min_width": null,
      "object_fit": null,
      "object_position": null,
      "order": null,
      "overflow": null,
      "overflow_x": null,
      "overflow_y": null,
      "padding": null,
      "right": null,
      "top": null,
      "visibility": null,
      "width": null
     }
    },
    "6f31a8b3275c43039e136d1d525f4e10": {
     "model_module": "@jupyter-widgets/controls",
     "model_module_version": "1.5.0",
     "model_name": "FloatProgressModel",
     "state": {
      "_dom_classes": [],
      "_model_module": "@jupyter-widgets/controls",
      "_model_module_version": "1.5.0",
      "_model_name": "FloatProgressModel",
      "_view_count": null,
      "_view_module": "@jupyter-widgets/controls",
      "_view_module_version": "1.5.0",
      "_view_name": "ProgressView",
      "bar_style": "",
      "description": "",
      "description_tooltip": null,
      "layout": "IPY_MODEL_df8614b524ef44a496845c29657e4f6f",
      "max": 3,
      "min": 0,
      "orientation": "horizontal",
      "style": "IPY_MODEL_f5e754d3121140b2b2fa44d7746b4688",
      "value": 1
     }
    },
    "6f58c9cd27da40f1943ae6a7a5283527": {
     "model_module": "@jupyter-widgets/base",
     "model_module_version": "1.2.0",
     "model_name": "LayoutModel",
     "state": {
      "_model_module": "@jupyter-widgets/base",
      "_model_module_version": "1.2.0",
      "_model_name": "LayoutModel",
      "_view_count": null,
      "_view_module": "@jupyter-widgets/base",
      "_view_module_version": "1.2.0",
      "_view_name": "LayoutView",
      "align_content": null,
      "align_items": null,
      "align_self": null,
      "border": null,
      "bottom": null,
      "display": null,
      "flex": null,
      "flex_flow": null,
      "grid_area": null,
      "grid_auto_columns": null,
      "grid_auto_flow": null,
      "grid_auto_rows": null,
      "grid_column": null,
      "grid_gap": null,
      "grid_row": null,
      "grid_template_areas": null,
      "grid_template_columns": null,
      "grid_template_rows": null,
      "height": null,
      "justify_content": null,
      "justify_items": null,
      "left": null,
      "margin": null,
      "max_height": null,
      "max_width": null,
      "min_height": null,
      "min_width": null,
      "object_fit": null,
      "object_position": null,
      "order": null,
      "overflow": null,
      "overflow_x": null,
      "overflow_y": null,
      "padding": null,
      "right": null,
      "top": null,
      "visibility": null,
      "width": null
     }
    },
    "7d700ed5da1744f48b13a8b8633d9548": {
     "model_module": "@jupyter-widgets/controls",
     "model_module_version": "1.5.0",
     "model_name": "ProgressStyleModel",
     "state": {
      "_model_module": "@jupyter-widgets/controls",
      "_model_module_version": "1.5.0",
      "_model_name": "ProgressStyleModel",
      "_view_count": null,
      "_view_module": "@jupyter-widgets/base",
      "_view_module_version": "1.2.0",
      "_view_name": "StyleView",
      "bar_color": null,
      "description_width": ""
     }
    },
    "7dd7d201a7ba45c1bff6cd33c8c0edc2": {
     "model_module": "@jupyter-widgets/base",
     "model_module_version": "1.2.0",
     "model_name": "LayoutModel",
     "state": {
      "_model_module": "@jupyter-widgets/base",
      "_model_module_version": "1.2.0",
      "_model_name": "LayoutModel",
      "_view_count": null,
      "_view_module": "@jupyter-widgets/base",
      "_view_module_version": "1.2.0",
      "_view_name": "LayoutView",
      "align_content": null,
      "align_items": null,
      "align_self": null,
      "border": null,
      "bottom": null,
      "display": null,
      "flex": null,
      "flex_flow": null,
      "grid_area": null,
      "grid_auto_columns": null,
      "grid_auto_flow": null,
      "grid_auto_rows": null,
      "grid_column": null,
      "grid_gap": null,
      "grid_row": null,
      "grid_template_areas": null,
      "grid_template_columns": null,
      "grid_template_rows": null,
      "height": null,
      "justify_content": null,
      "justify_items": null,
      "left": null,
      "margin": null,
      "max_height": null,
      "max_width": null,
      "min_height": null,
      "min_width": null,
      "object_fit": null,
      "object_position": null,
      "order": null,
      "overflow": null,
      "overflow_x": null,
      "overflow_y": null,
      "padding": null,
      "right": null,
      "top": null,
      "visibility": null,
      "width": null
     }
    },
    "7ddc7186adaf4c71935dc2fe3da41238": {
     "model_module": "@jupyter-widgets/controls",
     "model_module_version": "1.5.0",
     "model_name": "HTMLModel",
     "state": {
      "_dom_classes": [],
      "_model_module": "@jupyter-widgets/controls",
      "_model_module_version": "1.5.0",
      "_model_name": "HTMLModel",
      "_view_count": null,
      "_view_module": "@jupyter-widgets/controls",
      "_view_module_version": "1.5.0",
      "_view_name": "HTMLView",
      "description": "",
      "description_tooltip": null,
      "layout": "IPY_MODEL_1f7122a2fd034707a0e528f2210bcae1",
      "placeholder": "​",
      "style": "IPY_MODEL_7e2c4ec259d04c1089ab42106578f2d6",
      "value": " 33%"
     }
    },
    "7e2c4ec259d04c1089ab42106578f2d6": {
     "model_module": "@jupyter-widgets/controls",
     "model_module_version": "1.5.0",
     "model_name": "DescriptionStyleModel",
     "state": {
      "_model_module": "@jupyter-widgets/controls",
      "_model_module_version": "1.5.0",
      "_model_name": "DescriptionStyleModel",
      "_view_count": null,
      "_view_module": "@jupyter-widgets/base",
      "_view_module_version": "1.2.0",
      "_view_name": "StyleView",
      "description_width": ""
     }
    },
    "8145be9dfeba4ae29a4cdc89854b89f9": {
     "model_module": "@jupyter-widgets/base",
     "model_module_version": "1.2.0",
     "model_name": "LayoutModel",
     "state": {
      "_model_module": "@jupyter-widgets/base",
      "_model_module_version": "1.2.0",
      "_model_name": "LayoutModel",
      "_view_count": null,
      "_view_module": "@jupyter-widgets/base",
      "_view_module_version": "1.2.0",
      "_view_name": "LayoutView",
      "align_content": null,
      "align_items": null,
      "align_self": null,
      "border": null,
      "bottom": null,
      "display": null,
      "flex": null,
      "flex_flow": null,
      "grid_area": null,
      "grid_auto_columns": null,
      "grid_auto_flow": null,
      "grid_auto_rows": null,
      "grid_column": null,
      "grid_gap": null,
      "grid_row": null,
      "grid_template_areas": null,
      "grid_template_columns": null,
      "grid_template_rows": null,
      "height": null,
      "justify_content": null,
      "justify_items": null,
      "left": null,
      "margin": null,
      "max_height": null,
      "max_width": null,
      "min_height": null,
      "min_width": null,
      "object_fit": null,
      "object_position": null,
      "order": null,
      "overflow": null,
      "overflow_x": null,
      "overflow_y": null,
      "padding": null,
      "right": null,
      "top": null,
      "visibility": null,
      "width": null
     }
    },
    "8d9db4cd2cfa41e78ba8a5604a1a3ba4": {
     "model_module": "@jupyter-widgets/controls",
     "model_module_version": "1.5.0",
     "model_name": "HBoxModel",
     "state": {
      "_dom_classes": [],
      "_model_module": "@jupyter-widgets/controls",
      "_model_module_version": "1.5.0",
      "_model_name": "HBoxModel",
      "_view_count": null,
      "_view_module": "@jupyter-widgets/controls",
      "_view_module_version": "1.5.0",
      "_view_name": "HBoxView",
      "box_style": "",
      "children": [
       "IPY_MODEL_7ddc7186adaf4c71935dc2fe3da41238",
       "IPY_MODEL_6f31a8b3275c43039e136d1d525f4e10",
       "IPY_MODEL_0f5b0284033a4fb390a6e88ec979f3e2"
      ],
      "layout": "IPY_MODEL_6f58c9cd27da40f1943ae6a7a5283527"
     }
    },
    "8df241b055374e6fb347235445970524": {
     "model_module": "@jupyter-widgets/controls",
     "model_module_version": "1.5.0",
     "model_name": "DescriptionStyleModel",
     "state": {
      "_model_module": "@jupyter-widgets/controls",
      "_model_module_version": "1.5.0",
      "_model_name": "DescriptionStyleModel",
      "_view_count": null,
      "_view_module": "@jupyter-widgets/base",
      "_view_module_version": "1.2.0",
      "_view_name": "StyleView",
      "description_width": ""
     }
    },
    "925a7e1a0c1f46719b61912a5b79852b": {
     "model_module": "@jupyter-widgets/controls",
     "model_module_version": "1.5.0",
     "model_name": "HBoxModel",
     "state": {
      "_dom_classes": [],
      "_model_module": "@jupyter-widgets/controls",
      "_model_module_version": "1.5.0",
      "_model_name": "HBoxModel",
      "_view_count": null,
      "_view_module": "@jupyter-widgets/controls",
      "_view_module_version": "1.5.0",
      "_view_name": "HBoxView",
      "box_style": "",
      "children": [
       "IPY_MODEL_b4325aa14ce94aafb4c9ccb3367c099b",
       "IPY_MODEL_c12ec99bdf27400ab0e87f1fa8ea78ba",
       "IPY_MODEL_e1b5867e412046f38a2b758f81baedfd"
      ],
      "layout": "IPY_MODEL_452a1d7547684732befbf2a6e35f84e4"
     }
    },
    "9375131e72724c50973c22535540d59f": {
     "model_module": "@jupyter-widgets/controls",
     "model_module_version": "1.5.0",
     "model_name": "DescriptionStyleModel",
     "state": {
      "_model_module": "@jupyter-widgets/controls",
      "_model_module_version": "1.5.0",
      "_model_name": "DescriptionStyleModel",
      "_view_count": null,
      "_view_module": "@jupyter-widgets/base",
      "_view_module_version": "1.2.0",
      "_view_name": "StyleView",
      "description_width": ""
     }
    },
    "9b882df7cc8848798a0057bec0f759d3": {
     "model_module": "@jupyter-widgets/controls",
     "model_module_version": "1.5.0",
     "model_name": "HBoxModel",
     "state": {
      "_dom_classes": [],
      "_model_module": "@jupyter-widgets/controls",
      "_model_module_version": "1.5.0",
      "_model_name": "HBoxModel",
      "_view_count": null,
      "_view_module": "@jupyter-widgets/controls",
      "_view_module_version": "1.5.0",
      "_view_name": "HBoxView",
      "box_style": "",
      "children": [
       "IPY_MODEL_275ee49a1f81470a91b5a4f1cdf834b1",
       "IPY_MODEL_006d39c7237246429ab1d95f758defd2",
       "IPY_MODEL_2b0bde3557e941cfa1caf246339dc98f"
      ],
      "layout": "IPY_MODEL_20c54410288c4993b8805d28033f1c9d"
     }
    },
    "aee65b35c5214309a617ffaea8e97f14": {
     "model_module": "@jupyter-widgets/controls",
     "model_module_version": "1.5.0",
     "model_name": "DescriptionStyleModel",
     "state": {
      "_model_module": "@jupyter-widgets/controls",
      "_model_module_version": "1.5.0",
      "_model_name": "DescriptionStyleModel",
      "_view_count": null,
      "_view_module": "@jupyter-widgets/base",
      "_view_module_version": "1.2.0",
      "_view_name": "StyleView",
      "description_width": ""
     }
    },
    "b4325aa14ce94aafb4c9ccb3367c099b": {
     "model_module": "@jupyter-widgets/controls",
     "model_module_version": "1.5.0",
     "model_name": "HTMLModel",
     "state": {
      "_dom_classes": [],
      "_model_module": "@jupyter-widgets/controls",
      "_model_module_version": "1.5.0",
      "_model_name": "HTMLModel",
      "_view_count": null,
      "_view_module": "@jupyter-widgets/controls",
      "_view_module_version": "1.5.0",
      "_view_name": "HTMLView",
      "description": "",
      "description_tooltip": null,
      "layout": "IPY_MODEL_1faf411b6ee74b89b7896c715b71e559",
      "placeholder": "​",
      "style": "IPY_MODEL_52fc2d04cebc4779b853bc46c79742f2",
      "value": "  0%"
     }
    },
    "bcce78dc41e5475da21348ab2484bea1": {
     "model_module": "@jupyter-widgets/controls",
     "model_module_version": "1.5.0",
     "model_name": "ProgressStyleModel",
     "state": {
      "_model_module": "@jupyter-widgets/controls",
      "_model_module_version": "1.5.0",
      "_model_name": "ProgressStyleModel",
      "_view_count": null,
      "_view_module": "@jupyter-widgets/base",
      "_view_module_version": "1.2.0",
      "_view_name": "StyleView",
      "bar_color": null,
      "description_width": ""
     }
    },
    "bfe06c681f30420a8adf3ca264f1428f": {
     "model_module": "@jupyter-widgets/controls",
     "model_module_version": "1.5.0",
     "model_name": "FloatProgressModel",
     "state": {
      "_dom_classes": [],
      "_model_module": "@jupyter-widgets/controls",
      "_model_module_version": "1.5.0",
      "_model_name": "FloatProgressModel",
      "_view_count": null,
      "_view_module": "@jupyter-widgets/controls",
      "_view_module_version": "1.5.0",
      "_view_name": "ProgressView",
      "bar_style": "success",
      "description": "",
      "description_tooltip": null,
      "layout": "IPY_MODEL_8145be9dfeba4ae29a4cdc89854b89f9",
      "max": 38245,
      "min": 0,
      "orientation": "horizontal",
      "style": "IPY_MODEL_bcce78dc41e5475da21348ab2484bea1",
      "value": 38245
     }
    },
    "c12ec99bdf27400ab0e87f1fa8ea78ba": {
     "model_module": "@jupyter-widgets/controls",
     "model_module_version": "1.5.0",
     "model_name": "FloatProgressModel",
     "state": {
      "_dom_classes": [],
      "_model_module": "@jupyter-widgets/controls",
      "_model_module_version": "1.5.0",
      "_model_name": "FloatProgressModel",
      "_view_count": null,
      "_view_module": "@jupyter-widgets/controls",
      "_view_module_version": "1.5.0",
      "_view_name": "ProgressView",
      "bar_style": "",
      "description": "",
      "description_tooltip": null,
      "layout": "IPY_MODEL_4e0366bd31914903b7102a34702761b5",
      "max": 38245,
      "min": 0,
      "orientation": "horizontal",
      "style": "IPY_MODEL_1a48aad4ccd84d8e9fc6118403154c51",
      "value": 166
     }
    },
    "c69774f03e4c4a6192841e4c7ddb8cae": {
     "model_module": "@jupyter-widgets/controls",
     "model_module_version": "1.5.0",
     "model_name": "HBoxModel",
     "state": {
      "_dom_classes": [],
      "_model_module": "@jupyter-widgets/controls",
      "_model_module_version": "1.5.0",
      "_model_name": "HBoxModel",
      "_view_count": null,
      "_view_module": "@jupyter-widgets/controls",
      "_view_module_version": "1.5.0",
      "_view_name": "HBoxView",
      "box_style": "",
      "children": [
       "IPY_MODEL_518fdc0350fd4fe881a3539d2af9e359",
       "IPY_MODEL_bfe06c681f30420a8adf3ca264f1428f",
       "IPY_MODEL_1c3a45972b2c4781ac8103c63dfd218d"
      ],
      "layout": "IPY_MODEL_7dd7d201a7ba45c1bff6cd33c8c0edc2"
     }
    },
    "df8614b524ef44a496845c29657e4f6f": {
     "model_module": "@jupyter-widgets/base",
     "model_module_version": "1.2.0",
     "model_name": "LayoutModel",
     "state": {
      "_model_module": "@jupyter-widgets/base",
      "_model_module_version": "1.2.0",
      "_model_name": "LayoutModel",
      "_view_count": null,
      "_view_module": "@jupyter-widgets/base",
      "_view_module_version": "1.2.0",
      "_view_name": "LayoutView",
      "align_content": null,
      "align_items": null,
      "align_self": null,
      "border": null,
      "bottom": null,
      "display": null,
      "flex": null,
      "flex_flow": null,
      "grid_area": null,
      "grid_auto_columns": null,
      "grid_auto_flow": null,
      "grid_auto_rows": null,
      "grid_column": null,
      "grid_gap": null,
      "grid_row": null,
      "grid_template_areas": null,
      "grid_template_columns": null,
      "grid_template_rows": null,
      "height": null,
      "justify_content": null,
      "justify_items": null,
      "left": null,
      "margin": null,
      "max_height": null,
      "max_width": null,
      "min_height": null,
      "min_width": null,
      "object_fit": null,
      "object_position": null,
      "order": null,
      "overflow": null,
      "overflow_x": null,
      "overflow_y": null,
      "padding": null,
      "right": null,
      "top": null,
      "visibility": null,
      "width": null
     }
    },
    "e16a0d6c537e4ac991b2901aee2a3e6d": {
     "model_module": "@jupyter-widgets/base",
     "model_module_version": "1.2.0",
     "model_name": "LayoutModel",
     "state": {
      "_model_module": "@jupyter-widgets/base",
      "_model_module_version": "1.2.0",
      "_model_name": "LayoutModel",
      "_view_count": null,
      "_view_module": "@jupyter-widgets/base",
      "_view_module_version": "1.2.0",
      "_view_name": "LayoutView",
      "align_content": null,
      "align_items": null,
      "align_self": null,
      "border": null,
      "bottom": null,
      "display": null,
      "flex": null,
      "flex_flow": null,
      "grid_area": null,
      "grid_auto_columns": null,
      "grid_auto_flow": null,
      "grid_auto_rows": null,
      "grid_column": null,
      "grid_gap": null,
      "grid_row": null,
      "grid_template_areas": null,
      "grid_template_columns": null,
      "grid_template_rows": null,
      "height": null,
      "justify_content": null,
      "justify_items": null,
      "left": null,
      "margin": null,
      "max_height": null,
      "max_width": null,
      "min_height": null,
      "min_width": null,
      "object_fit": null,
      "object_position": null,
      "order": null,
      "overflow": null,
      "overflow_x": null,
      "overflow_y": null,
      "padding": null,
      "right": null,
      "top": null,
      "visibility": null,
      "width": null
     }
    },
    "e1b5867e412046f38a2b758f81baedfd": {
     "model_module": "@jupyter-widgets/controls",
     "model_module_version": "1.5.0",
     "model_name": "HTMLModel",
     "state": {
      "_dom_classes": [],
      "_model_module": "@jupyter-widgets/controls",
      "_model_module_version": "1.5.0",
      "_model_name": "HTMLModel",
      "_view_count": null,
      "_view_module": "@jupyter-widgets/controls",
      "_view_module_version": "1.5.0",
      "_view_name": "HTMLView",
      "description": "",
      "description_tooltip": null,
      "layout": "IPY_MODEL_53715d83239d4d708e4281bea1516d1e",
      "placeholder": "​",
      "style": "IPY_MODEL_aee65b35c5214309a617ffaea8e97f14",
      "value": " 166/38245 [00:26&lt;1:38:27,  6.45it/s]"
     }
    },
    "e8ad374d0c0c46c5b612e22a44774358": {
     "model_module": "@jupyter-widgets/base",
     "model_module_version": "1.2.0",
     "model_name": "LayoutModel",
     "state": {
      "_model_module": "@jupyter-widgets/base",
      "_model_module_version": "1.2.0",
      "_model_name": "LayoutModel",
      "_view_count": null,
      "_view_module": "@jupyter-widgets/base",
      "_view_module_version": "1.2.0",
      "_view_name": "LayoutView",
      "align_content": null,
      "align_items": null,
      "align_self": null,
      "border": null,
      "bottom": null,
      "display": null,
      "flex": null,
      "flex_flow": null,
      "grid_area": null,
      "grid_auto_columns": null,
      "grid_auto_flow": null,
      "grid_auto_rows": null,
      "grid_column": null,
      "grid_gap": null,
      "grid_row": null,
      "grid_template_areas": null,
      "grid_template_columns": null,
      "grid_template_rows": null,
      "height": null,
      "justify_content": null,
      "justify_items": null,
      "left": null,
      "margin": null,
      "max_height": null,
      "max_width": null,
      "min_height": null,
      "min_width": null,
      "object_fit": null,
      "object_position": null,
      "order": null,
      "overflow": null,
      "overflow_x": null,
      "overflow_y": null,
      "padding": null,
      "right": null,
      "top": null,
      "visibility": null,
      "width": null
     }
    },
    "ebe619bafbf348a8adf4e7451bc96330": {
     "model_module": "@jupyter-widgets/controls",
     "model_module_version": "1.5.0",
     "model_name": "DescriptionStyleModel",
     "state": {
      "_model_module": "@jupyter-widgets/controls",
      "_model_module_version": "1.5.0",
      "_model_name": "DescriptionStyleModel",
      "_view_count": null,
      "_view_module": "@jupyter-widgets/base",
      "_view_module_version": "1.2.0",
      "_view_name": "StyleView",
      "description_width": ""
     }
    },
    "f5e754d3121140b2b2fa44d7746b4688": {
     "model_module": "@jupyter-widgets/controls",
     "model_module_version": "1.5.0",
     "model_name": "ProgressStyleModel",
     "state": {
      "_model_module": "@jupyter-widgets/controls",
      "_model_module_version": "1.5.0",
      "_model_name": "ProgressStyleModel",
      "_view_count": null,
      "_view_module": "@jupyter-widgets/base",
      "_view_module_version": "1.2.0",
      "_view_name": "StyleView",
      "bar_color": null,
      "description_width": ""
     }
    }
   }
  }
 },
 "nbformat": 4,
 "nbformat_minor": 1
}
